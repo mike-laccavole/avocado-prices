{
 "cells": [
  {
   "cell_type": "markdown",
   "metadata": {},
   "source": [
    "# Project 4: Avocado Price Models and Predictions"
   ]
  },
  {
   "cell_type": "markdown",
   "metadata": {},
   "source": [
    "### Step 1: Define the Problem\n",
    "\n",
    "Avocados taste so good, but they're just so pricey! What is someone to do? Ignore their diminishing investment contributions at the expense of their morning avocado toast? Kick their haas habit? Or would it be wisest to uproot their lives and move to the city in the country with the cheapest avocado prices? Using 3 years of historical avocado sales data provided generously by the Haas Avocado Board, we'll set out to predict avocado prices across the country. This way, we'll determine which city (or cities) will be the best to move to for the guacamole that'll hurt our wallet the least."
   ]
  },
  {
   "cell_type": "markdown",
   "metadata": {},
   "source": [
    "### Step 2: Gather the data"
   ]
  },
  {
   "cell_type": "markdown",
   "metadata": {},
   "source": [
    "###### 2.01 : Make necessary imports"
   ]
  },
  {
   "cell_type": "code",
   "execution_count": 2,
   "metadata": {},
   "outputs": [],
   "source": [
    "# Import pandas and numpy\n",
    "\n",
    "import pandas as pd\n",
    "import numpy as np"
   ]
  },
  {
   "cell_type": "code",
   "execution_count": 3,
   "metadata": {},
   "outputs": [],
   "source": [
    "# Read in avocado csv as a dataframe, assign it to a variable\n",
    "\n",
    "avocados = pd.read_csv('avocado.csv')"
   ]
  },
  {
   "cell_type": "markdown",
   "metadata": {},
   "source": [
    "### Step 3: Explore the data"
   ]
  },
  {
   "cell_type": "markdown",
   "metadata": {},
   "source": [
    "###### 3.01: Make necessary imports"
   ]
  },
  {
   "cell_type": "code",
   "execution_count": 4,
   "metadata": {},
   "outputs": [],
   "source": [
    "# Import seaborn and matplotlib\n",
    "\n",
    "import seaborn as sns\n",
    "import matplotlib.pyplot as plt"
   ]
  },
  {
   "cell_type": "markdown",
   "metadata": {},
   "source": [
    "###### 3.02 Check shape of dataframe"
   ]
  },
  {
   "cell_type": "code",
   "execution_count": 5,
   "metadata": {},
   "outputs": [
    {
     "data": {
      "text/plain": [
       "(18249, 14)"
      ]
     },
     "execution_count": 5,
     "metadata": {},
     "output_type": "execute_result"
    }
   ],
   "source": [
    "# Check out the shape of the dataframe\n",
    "avocados.shape\n",
    "\n",
    "# 14 columns and 18,429 data entries"
   ]
  },
  {
   "cell_type": "markdown",
   "metadata": {},
   "source": [
    "###### 3.03 Check out first few rows"
   ]
  },
  {
   "cell_type": "code",
   "execution_count": 6,
   "metadata": {},
   "outputs": [
    {
     "data": {
      "text/html": [
       "<div>\n",
       "<style scoped>\n",
       "    .dataframe tbody tr th:only-of-type {\n",
       "        vertical-align: middle;\n",
       "    }\n",
       "\n",
       "    .dataframe tbody tr th {\n",
       "        vertical-align: top;\n",
       "    }\n",
       "\n",
       "    .dataframe thead th {\n",
       "        text-align: right;\n",
       "    }\n",
       "</style>\n",
       "<table border=\"1\" class=\"dataframe\">\n",
       "  <thead>\n",
       "    <tr style=\"text-align: right;\">\n",
       "      <th></th>\n",
       "      <th>Unnamed: 0</th>\n",
       "      <th>Date</th>\n",
       "      <th>AveragePrice</th>\n",
       "      <th>Total Volume</th>\n",
       "      <th>4046</th>\n",
       "      <th>4225</th>\n",
       "      <th>4770</th>\n",
       "      <th>Total Bags</th>\n",
       "      <th>Small Bags</th>\n",
       "      <th>Large Bags</th>\n",
       "      <th>XLarge Bags</th>\n",
       "      <th>type</th>\n",
       "      <th>year</th>\n",
       "      <th>region</th>\n",
       "    </tr>\n",
       "  </thead>\n",
       "  <tbody>\n",
       "    <tr>\n",
       "      <th>0</th>\n",
       "      <td>0</td>\n",
       "      <td>2015-12-27</td>\n",
       "      <td>1.33</td>\n",
       "      <td>64236.62</td>\n",
       "      <td>1036.74</td>\n",
       "      <td>54454.85</td>\n",
       "      <td>48.16</td>\n",
       "      <td>8696.87</td>\n",
       "      <td>8603.62</td>\n",
       "      <td>93.25</td>\n",
       "      <td>0.0</td>\n",
       "      <td>conventional</td>\n",
       "      <td>2015</td>\n",
       "      <td>Albany</td>\n",
       "    </tr>\n",
       "    <tr>\n",
       "      <th>1</th>\n",
       "      <td>1</td>\n",
       "      <td>2015-12-20</td>\n",
       "      <td>1.35</td>\n",
       "      <td>54876.98</td>\n",
       "      <td>674.28</td>\n",
       "      <td>44638.81</td>\n",
       "      <td>58.33</td>\n",
       "      <td>9505.56</td>\n",
       "      <td>9408.07</td>\n",
       "      <td>97.49</td>\n",
       "      <td>0.0</td>\n",
       "      <td>conventional</td>\n",
       "      <td>2015</td>\n",
       "      <td>Albany</td>\n",
       "    </tr>\n",
       "    <tr>\n",
       "      <th>2</th>\n",
       "      <td>2</td>\n",
       "      <td>2015-12-13</td>\n",
       "      <td>0.93</td>\n",
       "      <td>118220.22</td>\n",
       "      <td>794.70</td>\n",
       "      <td>109149.67</td>\n",
       "      <td>130.50</td>\n",
       "      <td>8145.35</td>\n",
       "      <td>8042.21</td>\n",
       "      <td>103.14</td>\n",
       "      <td>0.0</td>\n",
       "      <td>conventional</td>\n",
       "      <td>2015</td>\n",
       "      <td>Albany</td>\n",
       "    </tr>\n",
       "    <tr>\n",
       "      <th>3</th>\n",
       "      <td>3</td>\n",
       "      <td>2015-12-06</td>\n",
       "      <td>1.08</td>\n",
       "      <td>78992.15</td>\n",
       "      <td>1132.00</td>\n",
       "      <td>71976.41</td>\n",
       "      <td>72.58</td>\n",
       "      <td>5811.16</td>\n",
       "      <td>5677.40</td>\n",
       "      <td>133.76</td>\n",
       "      <td>0.0</td>\n",
       "      <td>conventional</td>\n",
       "      <td>2015</td>\n",
       "      <td>Albany</td>\n",
       "    </tr>\n",
       "    <tr>\n",
       "      <th>4</th>\n",
       "      <td>4</td>\n",
       "      <td>2015-11-29</td>\n",
       "      <td>1.28</td>\n",
       "      <td>51039.60</td>\n",
       "      <td>941.48</td>\n",
       "      <td>43838.39</td>\n",
       "      <td>75.78</td>\n",
       "      <td>6183.95</td>\n",
       "      <td>5986.26</td>\n",
       "      <td>197.69</td>\n",
       "      <td>0.0</td>\n",
       "      <td>conventional</td>\n",
       "      <td>2015</td>\n",
       "      <td>Albany</td>\n",
       "    </tr>\n",
       "  </tbody>\n",
       "</table>\n",
       "</div>"
      ],
      "text/plain": [
       "   Unnamed: 0        Date  AveragePrice  Total Volume     4046       4225  \\\n",
       "0           0  2015-12-27          1.33      64236.62  1036.74   54454.85   \n",
       "1           1  2015-12-20          1.35      54876.98   674.28   44638.81   \n",
       "2           2  2015-12-13          0.93     118220.22   794.70  109149.67   \n",
       "3           3  2015-12-06          1.08      78992.15  1132.00   71976.41   \n",
       "4           4  2015-11-29          1.28      51039.60   941.48   43838.39   \n",
       "\n",
       "     4770  Total Bags  Small Bags  Large Bags  XLarge Bags          type  \\\n",
       "0   48.16     8696.87     8603.62       93.25          0.0  conventional   \n",
       "1   58.33     9505.56     9408.07       97.49          0.0  conventional   \n",
       "2  130.50     8145.35     8042.21      103.14          0.0  conventional   \n",
       "3   72.58     5811.16     5677.40      133.76          0.0  conventional   \n",
       "4   75.78     6183.95     5986.26      197.69          0.0  conventional   \n",
       "\n",
       "   year  region  \n",
       "0  2015  Albany  \n",
       "1  2015  Albany  \n",
       "2  2015  Albany  \n",
       "3  2015  Albany  \n",
       "4  2015  Albany  "
      ]
     },
     "execution_count": 6,
     "metadata": {},
     "output_type": "execute_result"
    }
   ],
   "source": [
    "# Check out the first few rows\n",
    "avocados.head()"
   ]
  },
  {
   "cell_type": "markdown",
   "metadata": {},
   "source": [
    "###### 3.04 Check the column names"
   ]
  },
  {
   "cell_type": "code",
   "execution_count": 7,
   "metadata": {},
   "outputs": [
    {
     "data": {
      "text/plain": [
       "Index(['Unnamed: 0', 'Date', 'AveragePrice', 'Total Volume', '4046', '4225',\n",
       "       '4770', 'Total Bags', 'Small Bags', 'Large Bags', 'XLarge Bags', 'type',\n",
       "       'year', 'region'],\n",
       "      dtype='object')"
      ]
     },
     "execution_count": 7,
     "metadata": {},
     "output_type": "execute_result"
    }
   ],
   "source": [
    "# What are the 14 columns that we have?\n",
    "avocados.columns"
   ]
  },
  {
   "cell_type": "markdown",
   "metadata": {},
   "source": [
    "###### 3.05 Create a data dictionary"
   ]
  },
  {
   "cell_type": "markdown",
   "metadata": {},
   "source": [
    "|Column name|Description|\n",
    "|---|---|\n",
    "|**Unnamed 0**|Simply a reference column that can be dropped|\n",
    "|**Date**|Date of the observed transaction|\n",
    "|**AveragePrice**|The average price of a single avocado in the noted transaction|\n",
    "|**Total Volume**|Total Number of avocados sold|\n",
    "|**4046**|Total number of avocados with PLU 4046 sold|\n",
    "|**4225**|Total number of avocados with PLU 4225 sold|\n",
    "|**4770**|Total number of avocados with PLU 4770 sold|\n",
    "|**Total Bags**|Total number of bags sold (a sum of columns Small Bags, Large Bags, and XLarge Bags)|\n",
    "|**Small Bags**|Number of small bags sold|\n",
    "|**Large Bags**|Number of large bags sold|\n",
    "|**XLarge Bags**|Number of extra large bags sold|\n",
    "|**type**|One of two values, either 'conventional' or 'organic'|\n",
    "|**year**|Year of the recorded transaction|\n",
    "|**region**|The city or region of the observation|\n",
    "\n",
    "A few additonal notes on this dataframe:\n",
    "\n",
    "1. This dataset represents 3 years of retail scan data for National retail volume (units) and price from 2015 - 2018.\n",
    "2. Retail scan data comes directly from retailers’ cash registers based on actual retail sales of Hass avocados. \n",
    "3. Multi-outlet reporting includes an aggregation of the following channels: grocery, mass, club, drug, dollar and military. \n",
    "4. The Average Price (of avocados) in the dataset reflects a per unit (per avocado) cost, even when multiple units (avocados) are sold in bags. \n",
    "5. The Product Lookup codes (PLU’s) in the table are only for Hass avocados. Other varieties of avocados (e.g. greenskins) are not included in this table."
   ]
  },
  {
   "cell_type": "markdown",
   "metadata": {},
   "source": [
    "###### 3.06 Check for null values"
   ]
  },
  {
   "cell_type": "code",
   "execution_count": 8,
   "metadata": {},
   "outputs": [
    {
     "data": {
      "text/plain": [
       "Unnamed: 0      0\n",
       "Date            0\n",
       "AveragePrice    0\n",
       "Total Volume    0\n",
       "4046            0\n",
       "4225            0\n",
       "4770            0\n",
       "Total Bags      0\n",
       "Small Bags      0\n",
       "Large Bags      0\n",
       "XLarge Bags     0\n",
       "type            0\n",
       "year            0\n",
       "region          0\n",
       "dtype: int64"
      ]
     },
     "execution_count": 8,
     "metadata": {},
     "output_type": "execute_result"
    }
   ],
   "source": [
    "# No nulls! Joy!\n",
    "avocados.isnull().sum()"
   ]
  },
  {
   "cell_type": "markdown",
   "metadata": {},
   "source": [
    "###### 3.07 What type of data is in each column?\n"
   ]
  },
  {
   "cell_type": "code",
   "execution_count": 9,
   "metadata": {},
   "outputs": [
    {
     "data": {
      "text/plain": [
       "Unnamed: 0        int64\n",
       "Date             object\n",
       "AveragePrice    float64\n",
       "Total Volume    float64\n",
       "4046            float64\n",
       "4225            float64\n",
       "4770            float64\n",
       "Total Bags      float64\n",
       "Small Bags      float64\n",
       "Large Bags      float64\n",
       "XLarge Bags     float64\n",
       "type             object\n",
       "year              int64\n",
       "region           object\n",
       "dtype: object"
      ]
     },
     "execution_count": 9,
     "metadata": {},
     "output_type": "execute_result"
    }
   ],
   "source": [
    "avocados.dtypes"
   ]
  },
  {
   "cell_type": "markdown",
   "metadata": {},
   "source": [
    "###### 3.08 Fix column headings"
   ]
  },
  {
   "cell_type": "code",
   "execution_count": 10,
   "metadata": {},
   "outputs": [],
   "source": [
    "# Lowercase the column names\n",
    "avocados.columns = avocados.columns.str.lower()"
   ]
  },
  {
   "cell_type": "code",
   "execution_count": 11,
   "metadata": {},
   "outputs": [],
   "source": [
    "# Remove spaces from 4 columns: Total Volume, Small Bags, Large Bags, XLarge Bags\n",
    "avocados.rename(columns = {'total volume' : 'total_volume' , 'small bags' : 'small_bags',\n",
    "                           'large bags' : 'large_bags', 'xlarge bags': 'xlarge_bags',\n",
    "                           'total bags' : 'total_bags', 'averageprice' : 'average_price'}, \n",
    "                            inplace = True)"
   ]
  },
  {
   "cell_type": "markdown",
   "metadata": {},
   "source": [
    "###### 3.09 Explore each column individually. What's the mean? Standard deviation? How do values range? Show a boxplot, bar chart, or histogram where appropriate"
   ]
  },
  {
   "cell_type": "code",
   "execution_count": 12,
   "metadata": {},
   "outputs": [
    {
     "data": {
      "text/plain": [
       "Index(['unnamed: 0', 'date', 'average_price', 'total_volume', '4046', '4225',\n",
       "       '4770', 'total_bags', 'small_bags', 'large_bags', 'xlarge_bags', 'type',\n",
       "       'year', 'region'],\n",
       "      dtype='object')"
      ]
     },
     "execution_count": 12,
     "metadata": {},
     "output_type": "execute_result"
    }
   ],
   "source": [
    "# Display column names\n",
    "\n",
    "avocados.columns"
   ]
  },
  {
   "cell_type": "markdown",
   "metadata": {},
   "source": [
    "**Do a quick pairplot**"
   ]
  },
  {
   "cell_type": "code",
   "execution_count": 38,
   "metadata": {
    "scrolled": false
   },
   "outputs": [
    {
     "data": {
      "image/png": "[encoded data removed]",
      "text/plain": [
       "<Figure size 1440x180 with 8 Axes>"
      ]
     },
     "metadata": {
      "needs_background": "light"
     },
     "output_type": "display_data"
    }
   ],
   "source": [
    "# Visualize what linear relationships might exist with numeric data\n",
    "\n",
    "sns.pairplot(avocados, x_vars = ['total_volume', '4046', '4225', '4770', 'small_bags',\n",
    "                                 'large_bags', 'xlarge_bags', 'total_bags'], \n",
    "                                 y_vars=['average_price']);"
   ]
  },
  {
   "cell_type": "markdown",
   "metadata": {},
   "source": [
    "Linearity is nowhere to be found here."
   ]
  },
  {
   "cell_type": "markdown",
   "metadata": {},
   "source": [
    "**Unnamed: 0**"
   ]
  },
  {
   "cell_type": "code",
   "execution_count": 13,
   "metadata": {},
   "outputs": [],
   "source": [
    "# Drop Unnamed 0 column\n",
    "avocados.drop(columns=['unnamed: 0'], inplace=True)"
   ]
  },
  {
   "cell_type": "markdown",
   "metadata": {},
   "source": [
    "**Date**"
   ]
  },
  {
   "cell_type": "code",
   "execution_count": 14,
   "metadata": {},
   "outputs": [
    {
     "data": {
      "text/plain": [
       "count          18249\n",
       "unique           169\n",
       "top       2015-01-18\n",
       "freq             108\n",
       "Name: date, dtype: object"
      ]
     },
     "execution_count": 14,
     "metadata": {},
     "output_type": "execute_result"
    }
   ],
   "source": [
    "# Date column\n",
    "avocados['date'].describe()\n",
    "\n",
    "# There are 18,249 entries, only 169 of which are unique values"
   ]
  },
  {
   "cell_type": "markdown",
   "metadata": {},
   "source": [
    "**Average Price**"
   ]
  },
  {
   "cell_type": "code",
   "execution_count": 15,
   "metadata": {},
   "outputs": [
    {
     "data": {
      "text/plain": [
       "count    18249.000000\n",
       "mean         1.405978\n",
       "std          0.402677\n",
       "min          0.440000\n",
       "25%          1.100000\n",
       "50%          1.370000\n",
       "75%          1.660000\n",
       "max          3.250000\n",
       "Name: average_price, dtype: float64"
      ]
     },
     "execution_count": 15,
     "metadata": {},
     "output_type": "execute_result"
    }
   ],
   "source": [
    "# Average price figures\n",
    "avocados['average_price'].describe()\n",
    "\n",
    "# On average, a single avocado costs $1.40\n",
    "# The standard deviation of avocado prices\n",
    "# The minimum observed per avocado price is $0.44\n",
    "# The maximum avocado price recorded is $3.25"
   ]
  },
  {
   "cell_type": "code",
   "execution_count": 16,
   "metadata": {},
   "outputs": [
    {
     "data": {
      "image/png": "[encoded data removed]",
      "text/plain": [
       "<Figure size 432x288 with 1 Axes>"
      ]
     },
     "metadata": {
      "needs_background": "light"
     },
     "output_type": "display_data"
    }
   ],
   "source": [
    "# Show the distribution of average prices using a histogram\n",
    "plt.hist(avocados['average_price'])\n",
    "plt.xlabel('Average Price', fontsize = 15);\n",
    "plt.vlines(x = np.mean(avocados['average_price']),\n",
    "                 ymin = 0,\n",
    "                 ymax = 5000,\n",
    "                 color = 'red');\n"
   ]
  },
  {
   "cell_type": "markdown",
   "metadata": {},
   "source": [
    "**Total Volume**"
   ]
  },
  {
   "cell_type": "code",
   "execution_count": 17,
   "metadata": {},
   "outputs": [
    {
     "data": {
      "text/plain": [
       "count    1.824900e+04\n",
       "mean     8.506440e+05\n",
       "std      3.453545e+06\n",
       "min      8.456000e+01\n",
       "25%      1.083858e+04\n",
       "50%      1.073768e+05\n",
       "75%      4.329623e+05\n",
       "max      6.250565e+07\n",
       "Name: total_volume, dtype: float64"
      ]
     },
     "execution_count": 17,
     "metadata": {},
     "output_type": "execute_result"
    }
   ],
   "source": [
    "# Total volume\n",
    "avocados['total_volume'].describe()\n",
    "\n",
    "# Average total volume is 850,644 avocados\n",
    "# Standard deviation of 3.45 million\n",
    "# Minimum volume is 84\n",
    "# Maximum volume is 62.5 million"
   ]
  },
  {
   "cell_type": "code",
   "execution_count": 18,
   "metadata": {},
   "outputs": [
    {
     "data": {
      "image/png": "[encoded data removed]",
      "text/plain": [
       "<Figure size 432x288 with 1 Axes>"
      ]
     },
     "metadata": {
      "needs_background": "light"
     },
     "output_type": "display_data"
    }
   ],
   "source": [
    "# Show the distribution of total volume using a histogram\n",
    "plt.hist(avocados['total_volume'])\n",
    "plt.xlabel('Total Volume', fontsize = 15)\n",
    "plt.vlines(x = np.mean(avocados['total_volume']),\n",
    "                 ymin = 0,\n",
    "                 ymax = 18000,\n",
    "                 color = 'red');"
   ]
  },
  {
   "cell_type": "markdown",
   "metadata": {},
   "source": [
    "**What are the regions/cities that account for these extreme outliers?**"
   ]
  },
  {
   "cell_type": "code",
   "execution_count": 19,
   "metadata": {},
   "outputs": [
    {
     "data": {
      "text/plain": [
       "array(['California', 'GreatLakes', 'LosAngeles', 'Midsouth', 'Northeast',\n",
       "       'SouthCentral', 'Southeast', 'TotalUS', 'West', 'Plains'],\n",
       "      dtype=object)"
      ]
     },
     "execution_count": 19,
     "metadata": {},
     "output_type": "execute_result"
    }
   ],
   "source": [
    "avocados[avocados['total_volume'] > 3_000_000]['region'].unique()"
   ]
  },
  {
   "cell_type": "markdown",
   "metadata": {},
   "source": [
    "**Product Code 4046**"
   ]
  },
  {
   "cell_type": "code",
   "execution_count": 20,
   "metadata": {},
   "outputs": [
    {
     "data": {
      "text/plain": [
       "count    1.824900e+04\n",
       "mean     2.930084e+05\n",
       "std      1.264989e+06\n",
       "min      0.000000e+00\n",
       "25%      8.540700e+02\n",
       "50%      8.645300e+03\n",
       "75%      1.110202e+05\n",
       "max      2.274362e+07\n",
       "Name: 4046, dtype: float64"
      ]
     },
     "execution_count": 20,
     "metadata": {},
     "output_type": "execute_result"
    }
   ],
   "source": [
    "# Product code 4046\n",
    "avocados['4046'].describe()\n",
    "\n",
    "# Mean number of 4046 avocados sold is 293,000\n",
    "# Standard deviation is 1.26 million avocados\n",
    "# Minimum is 0\n",
    "# Maximum is 22.74 million"
   ]
  },
  {
   "cell_type": "code",
   "execution_count": 21,
   "metadata": {},
   "outputs": [
    {
     "data": {
      "image/png": "[encoded data removed]",
      "text/plain": [
       "<Figure size 432x288 with 1 Axes>"
      ]
     },
     "metadata": {
      "needs_background": "light"
     },
     "output_type": "display_data"
    }
   ],
   "source": [
    "# Show the distribution of 4046 sales using a histogram\n",
    "plt.hist(avocados['4046'])\n",
    "plt.xlabel('Product Code 4046', fontsize = 15)\n",
    "plt.vlines(x = np.mean(avocados['4046']),\n",
    "                 ymin = 0,\n",
    "                 ymax = 18000,\n",
    "                 color = 'red');"
   ]
  },
  {
   "cell_type": "markdown",
   "metadata": {},
   "source": [
    "**Product Code 4225**"
   ]
  },
  {
   "cell_type": "code",
   "execution_count": 22,
   "metadata": {},
   "outputs": [
    {
     "data": {
      "text/plain": [
       "count    1.824900e+04\n",
       "mean     2.951546e+05\n",
       "std      1.204120e+06\n",
       "min      0.000000e+00\n",
       "25%      3.008780e+03\n",
       "50%      2.906102e+04\n",
       "75%      1.502069e+05\n",
       "max      2.047057e+07\n",
       "Name: 4225, dtype: float64"
      ]
     },
     "execution_count": 22,
     "metadata": {},
     "output_type": "execute_result"
    }
   ],
   "source": [
    "# Product code 4225\n",
    "avocados['4225'].describe()\n",
    "\n",
    "# Mean number of 4225 avocados sold is 295,000\n",
    "# Standard deviation is 1.20 million\n",
    "# Minimum is 0\n",
    "# Maximum is 20.47 million"
   ]
  },
  {
   "cell_type": "code",
   "execution_count": 23,
   "metadata": {},
   "outputs": [
    {
     "data": {
      "image/png": "[encoded data removed]",
      "text/plain": [
       "<Figure size 432x288 with 1 Axes>"
      ]
     },
     "metadata": {
      "needs_background": "light"
     },
     "output_type": "display_data"
    }
   ],
   "source": [
    "# Show the distribution of 4225 sales using a histogram\n",
    "plt.hist(avocados['4225'])\n",
    "plt.xlabel('Product Code 4225', fontsize = 15)\n",
    "plt.vlines(x = np.mean(avocados['4225']),\n",
    "                 ymin = 0,\n",
    "                 ymax = 18000,\n",
    "                 color = 'red');"
   ]
  },
  {
   "cell_type": "markdown",
   "metadata": {},
   "source": [
    "**Product Code 4770**"
   ]
  },
  {
   "cell_type": "code",
   "execution_count": 24,
   "metadata": {},
   "outputs": [
    {
     "data": {
      "text/plain": [
       "count    1.824900e+04\n",
       "mean     2.283974e+04\n",
       "std      1.074641e+05\n",
       "min      0.000000e+00\n",
       "25%      0.000000e+00\n",
       "50%      1.849900e+02\n",
       "75%      6.243420e+03\n",
       "max      2.546439e+06\n",
       "Name: 4770, dtype: float64"
      ]
     },
     "execution_count": 24,
     "metadata": {},
     "output_type": "execute_result"
    }
   ],
   "source": [
    "# Product code 4770\n",
    "avocados['4770'].describe()\n",
    "\n",
    "# Mean number of 4770 avocados sold is 22,839\n",
    "# Standard Deviation is 107,464 avocados\n",
    "# Minimum is 0\n",
    "# Maximum is 2.55 million"
   ]
  },
  {
   "cell_type": "code",
   "execution_count": 25,
   "metadata": {},
   "outputs": [
    {
     "data": {
      "image/png": "[encoded data removed]",
      "text/plain": [
       "<Figure size 432x288 with 1 Axes>"
      ]
     },
     "metadata": {
      "needs_background": "light"
     },
     "output_type": "display_data"
    }
   ],
   "source": [
    "# Show the distribution of 4770 sales using a histogram\n",
    "plt.hist(avocados['4770'])\n",
    "plt.xlabel('Product Code 4770', fontsize = 15)\n",
    "plt.vlines(x = np.mean(avocados['4770']),\n",
    "                 ymin = 0,\n",
    "                 ymax = 18000,\n",
    "                 color = 'red');"
   ]
  },
  {
   "cell_type": "markdown",
   "metadata": {},
   "source": [
    "**Total Bags**"
   ]
  },
  {
   "cell_type": "code",
   "execution_count": 26,
   "metadata": {},
   "outputs": [
    {
     "data": {
      "text/plain": [
       "count    1.824900e+04\n",
       "mean     2.396392e+05\n",
       "std      9.862424e+05\n",
       "min      0.000000e+00\n",
       "25%      5.088640e+03\n",
       "50%      3.974383e+04\n",
       "75%      1.107834e+05\n",
       "max      1.937313e+07\n",
       "Name: total_bags, dtype: float64"
      ]
     },
     "execution_count": 26,
     "metadata": {},
     "output_type": "execute_result"
    }
   ],
   "source": [
    "# Total Bags Sales\n",
    "avocados['total_bags'].describe()\n",
    "\n",
    "# Mean number of bags is 239,639\n",
    "# Standard deviation is 986,242\n",
    "# Mimnimum bags sold is 0\n",
    "# Maximum bags sold is 19.37 million"
   ]
  },
  {
   "cell_type": "code",
   "execution_count": 27,
   "metadata": {},
   "outputs": [
    {
     "data": {
      "image/png": "[encoded data removed]",
      "text/plain": [
       "<Figure size 432x288 with 1 Axes>"
      ]
     },
     "metadata": {
      "needs_background": "light"
     },
     "output_type": "display_data"
    }
   ],
   "source": [
    "# Show the distribution of total bags sold using a histogram\n",
    "plt.hist(avocados['total_bags'])\n",
    "plt.xlabel('Total Bags', fontsize = 15)\n",
    "plt.vlines(x = np.mean(avocados['total_bags']),\n",
    "                 ymin = 0,\n",
    "                 ymax = 18000,\n",
    "                 color = 'red');"
   ]
  },
  {
   "cell_type": "markdown",
   "metadata": {},
   "source": [
    "**Small bags**"
   ]
  },
  {
   "cell_type": "code",
   "execution_count": 28,
   "metadata": {},
   "outputs": [
    {
     "data": {
      "text/plain": [
       "count    1.824900e+04\n",
       "mean     1.821947e+05\n",
       "std      7.461785e+05\n",
       "min      0.000000e+00\n",
       "25%      2.849420e+03\n",
       "50%      2.636282e+04\n",
       "75%      8.333767e+04\n",
       "max      1.338459e+07\n",
       "Name: small_bags, dtype: float64"
      ]
     },
     "execution_count": 28,
     "metadata": {},
     "output_type": "execute_result"
    }
   ],
   "source": [
    "# Small Bag sales\n",
    "avocados['small_bags'].describe()\n",
    "\n",
    "# Mean: 182,194 bags\n",
    "# Standard Deviation: 746,179\n",
    "# Min: 0\n",
    "# Max: 13.38 million"
   ]
  },
  {
   "cell_type": "code",
   "execution_count": 29,
   "metadata": {},
   "outputs": [
    {
     "data": {
      "image/png": "[encoded data removed]",
      "text/plain": [
       "<Figure size 432x288 with 1 Axes>"
      ]
     },
     "metadata": {
      "needs_background": "light"
     },
     "output_type": "display_data"
    }
   ],
   "source": [
    "# Show the distribution of small bags sold using a histogram\n",
    "plt.hist(avocados['small_bags'])\n",
    "plt.xlabel('Small Bags', fontsize = 15)\n",
    "plt.vlines(x = np.mean(avocados['small_bags']),\n",
    "                 ymin = 0,\n",
    "                 ymax = 18000,\n",
    "                 color = 'red');"
   ]
  },
  {
   "cell_type": "markdown",
   "metadata": {},
   "source": [
    "**Large Bags**"
   ]
  },
  {
   "cell_type": "code",
   "execution_count": 30,
   "metadata": {},
   "outputs": [
    {
     "data": {
      "text/plain": [
       "count    1.824900e+04\n",
       "mean     5.433809e+04\n",
       "std      2.439660e+05\n",
       "min      0.000000e+00\n",
       "25%      1.274700e+02\n",
       "50%      2.647710e+03\n",
       "75%      2.202925e+04\n",
       "max      5.719097e+06\n",
       "Name: large_bags, dtype: float64"
      ]
     },
     "execution_count": 30,
     "metadata": {},
     "output_type": "execute_result"
    }
   ],
   "source": [
    "# Describe features of Large Bags\n",
    "avocados['large_bags'].describe()\n",
    "\n",
    "# Mean: 54,338\n",
    "# Standard Deviation: 243,966\n",
    "# Min: 0\n",
    "# Max: 5.72 million"
   ]
  },
  {
   "cell_type": "code",
   "execution_count": 31,
   "metadata": {},
   "outputs": [
    {
     "data": {
      "image/png": "[encoded data removed]",
      "text/plain": [
       "<Figure size 432x288 with 1 Axes>"
      ]
     },
     "metadata": {
      "needs_background": "light"
     },
     "output_type": "display_data"
    }
   ],
   "source": [
    "# Show the distribution of large bags sold using a histogram\n",
    "plt.hist(avocados['large_bags'])\n",
    "plt.xlabel('Large Bags', fontsize = 15)\n",
    "plt.vlines(x = np.mean(avocados['large_bags']),\n",
    "                 ymin = 0,\n",
    "                 ymax = 18000,\n",
    "                 color = 'red');"
   ]
  },
  {
   "cell_type": "markdown",
   "metadata": {},
   "source": [
    "**Extra Large Bags**"
   ]
  },
  {
   "cell_type": "code",
   "execution_count": 32,
   "metadata": {},
   "outputs": [
    {
     "data": {
      "text/plain": [
       "count     18249.000000\n",
       "mean       3106.426507\n",
       "std       17692.894652\n",
       "min           0.000000\n",
       "25%           0.000000\n",
       "50%           0.000000\n",
       "75%         132.500000\n",
       "max      551693.650000\n",
       "Name: xlarge_bags, dtype: float64"
      ]
     },
     "execution_count": 32,
     "metadata": {},
     "output_type": "execute_result"
    }
   ],
   "source": [
    "# Describe features of Extra Large Bags\n",
    "avocados['xlarge_bags'].describe()\n",
    "\n",
    "# Mean: 3,106\n",
    "# Standard Deviation: 17,692\n",
    "# Min: 0\n",
    "# Max: 551,693"
   ]
  },
  {
   "cell_type": "code",
   "execution_count": 33,
   "metadata": {
    "scrolled": false
   },
   "outputs": [
    {
     "data": {
      "image/png": "[encoded data removed]",
      "text/plain": [
       "<Figure size 432x288 with 1 Axes>"
      ]
     },
     "metadata": {
      "needs_background": "light"
     },
     "output_type": "display_data"
    }
   ],
   "source": [
    "# Show the distribution of extra large bags sold using a histogram\n",
    "plt.hist(avocados['xlarge_bags'])\n",
    "plt.xlabel('Extra Large Bags', fontsize = 15)\n",
    "plt.vlines(x = np.mean(avocados['xlarge_bags']),\n",
    "                 ymin = 0,\n",
    "                 ymax = 18000,\n",
    "                 color = 'red');"
   ]
  },
  {
   "cell_type": "markdown",
   "metadata": {},
   "source": [
    "**Year**"
   ]
  },
  {
   "cell_type": "code",
   "execution_count": 34,
   "metadata": {},
   "outputs": [
    {
     "data": {
      "text/plain": [
       "count    18249.000000\n",
       "mean      2016.147899\n",
       "std          0.939938\n",
       "min       2015.000000\n",
       "25%       2015.000000\n",
       "50%       2016.000000\n",
       "75%       2017.000000\n",
       "max       2018.000000\n",
       "Name: year, dtype: float64"
      ]
     },
     "execution_count": 34,
     "metadata": {},
     "output_type": "execute_result"
    }
   ],
   "source": [
    "avocados['year'].describe()\n",
    "\n",
    "# Mean is 2016\n",
    "# Standard Deviatio is 0.94\n",
    "# Min is 2015\n",
    "# Max is 2018"
   ]
  },
  {
   "cell_type": "code",
   "execution_count": 34,
   "metadata": {
    "scrolled": true
   },
   "outputs": [
    {
     "data": {
      "image/png": "[encoded data removed]",
      "text/plain": [
       "<Figure size 432x288 with 1 Axes>"
      ]
     },
     "metadata": {
      "needs_background": "light"
     },
     "output_type": "display_data"
    }
   ],
   "source": [
    "# Visualize the column 'year' using a boxplot\n",
    "\n",
    "sns.boxplot(avocados['year'])\n",
    "plt.xlabel('Year', fontsize = 15)\n",
    "plt.vlines(x = np.mean(avocados['year']),\n",
    "                 ymin = -1,\n",
    "                 ymax = 1,\n",
    "                 color = 'red');"
   ]
  },
  {
   "cell_type": "markdown",
   "metadata": {},
   "source": [
    "###### 3.11: Feature Engineering\n",
    "\n",
    "The three columns 'type', 'region' and 'date' are objects that can't have be incorporated into a model until we've quantified them.\n",
    "\n",
    "**Plan**: Dummify 'type' and 'region', convert the 'date' column to 'month' and dummify that as well."
   ]
  },
  {
   "cell_type": "markdown",
   "metadata": {},
   "source": [
    "**Type**"
   ]
  },
  {
   "cell_type": "code",
   "execution_count": 37,
   "metadata": {},
   "outputs": [],
   "source": [
    "# Get dummies for column 'type'\n",
    "# In column type_organic, 0 = Conventional, 1 = Organic\n",
    "type_dummies = pd.get_dummies(avocados[['type']], drop_first = True)\n",
    "\n",
    "\n",
    "# Add new column to dataframe avocados, then drop column 'type'\n",
    "avocados = pd.concat([avocados, type_dummies], axis = 1, join = 'outer')\n",
    "avocados.drop(columns=['type'], inplace = True)"
   ]
  },
  {
   "cell_type": "markdown",
   "metadata": {},
   "source": [
    "**Region**"
   ]
  },
  {
   "cell_type": "code",
   "execution_count": 38,
   "metadata": {},
   "outputs": [
    {
     "data": {
      "text/plain": [
       "HartfordSpringfield    338\n",
       "RaleighGreensboro      338\n",
       "Spokane                338\n",
       "Midsouth               338\n",
       "Columbus               338\n",
       "Detroit                338\n",
       "Indianapolis           338\n",
       "Philadelphia           338\n",
       "LosAngeles             338\n",
       "Chicago                338\n",
       "SanFrancisco           338\n",
       "Boise                  338\n",
       "PhoenixTucson          338\n",
       "LasVegas               338\n",
       "DallasFtWorth          338\n",
       "Boston                 338\n",
       "Atlanta                338\n",
       "Sacramento             338\n",
       "Pittsburgh             338\n",
       "Syracuse               338\n",
       "StLouis                338\n",
       "Louisville             338\n",
       "GrandRapids            338\n",
       "HarrisburgScranton     338\n",
       "Northeast              338\n",
       "Tampa                  338\n",
       "SouthCentral           338\n",
       "Orlando                338\n",
       "Jacksonville           338\n",
       "Roanoke                338\n",
       "NorthernNewEngland     338\n",
       "MiamiFtLauderdale      338\n",
       "Portland               338\n",
       "Southeast              338\n",
       "Nashville              338\n",
       "California             338\n",
       "NewOrleansMobile       338\n",
       "CincinnatiDayton       338\n",
       "Denver                 338\n",
       "RichmondNorfolk        338\n",
       "Houston                338\n",
       "SanDiego               338\n",
       "GreatLakes             338\n",
       "SouthCarolina          338\n",
       "NewYork                338\n",
       "Seattle                338\n",
       "Charlotte              338\n",
       "West                   338\n",
       "Albany                 338\n",
       "BaltimoreWashington    338\n",
       "BuffaloRochester       338\n",
       "Plains                 338\n",
       "TotalUS                338\n",
       "WestTexNewMexico       335\n",
       "Name: region, dtype: int64"
      ]
     },
     "execution_count": 38,
     "metadata": {},
     "output_type": "execute_result"
    }
   ],
   "source": [
    "# How many unique values are there for the column 'region' ?\n",
    "\n",
    "avocados['region'].value_counts()\n",
    "\n",
    "# There are 54 unique regions/cities"
   ]
  },
  {
   "cell_type": "code",
   "execution_count": 39,
   "metadata": {},
   "outputs": [
    {
     "data": {
      "text/html": [
       "<div>\n",
       "<style scoped>\n",
       "    .dataframe tbody tr th:only-of-type {\n",
       "        vertical-align: middle;\n",
       "    }\n",
       "\n",
       "    .dataframe tbody tr th {\n",
       "        vertical-align: top;\n",
       "    }\n",
       "\n",
       "    .dataframe thead th {\n",
       "        text-align: right;\n",
       "    }\n",
       "</style>\n",
       "<table border=\"1\" class=\"dataframe\">\n",
       "  <thead>\n",
       "    <tr style=\"text-align: right;\">\n",
       "      <th></th>\n",
       "      <th>date</th>\n",
       "      <th>average_price</th>\n",
       "      <th>total_volume</th>\n",
       "      <th>4046</th>\n",
       "      <th>4225</th>\n",
       "      <th>4770</th>\n",
       "      <th>total_bags</th>\n",
       "      <th>small_bags</th>\n",
       "      <th>large_bags</th>\n",
       "      <th>xlarge_bags</th>\n",
       "      <th>year</th>\n",
       "      <th>region</th>\n",
       "      <th>type_organic</th>\n",
       "    </tr>\n",
       "  </thead>\n",
       "  <tbody>\n",
       "    <tr>\n",
       "      <th>2652</th>\n",
       "      <td>2015-12-27</td>\n",
       "      <td>0.95</td>\n",
       "      <td>27297983.67</td>\n",
       "      <td>9626901.09</td>\n",
       "      <td>10197890.05</td>\n",
       "      <td>1184340.09</td>\n",
       "      <td>6288852.44</td>\n",
       "      <td>4850404.09</td>\n",
       "      <td>1252626.31</td>\n",
       "      <td>185822.04</td>\n",
       "      <td>2015</td>\n",
       "      <td>TotalUS</td>\n",
       "      <td>0</td>\n",
       "    </tr>\n",
       "    <tr>\n",
       "      <th>2653</th>\n",
       "      <td>2015-12-20</td>\n",
       "      <td>0.98</td>\n",
       "      <td>25083647.17</td>\n",
       "      <td>8710021.76</td>\n",
       "      <td>9329861.85</td>\n",
       "      <td>1201020.01</td>\n",
       "      <td>5842743.55</td>\n",
       "      <td>4618389.66</td>\n",
       "      <td>1025048.77</td>\n",
       "      <td>199305.12</td>\n",
       "      <td>2015</td>\n",
       "      <td>TotalUS</td>\n",
       "      <td>0</td>\n",
       "    </tr>\n",
       "    <tr>\n",
       "      <th>2654</th>\n",
       "      <td>2015-12-13</td>\n",
       "      <td>0.93</td>\n",
       "      <td>28041335.38</td>\n",
       "      <td>9855053.66</td>\n",
       "      <td>10805838.91</td>\n",
       "      <td>1016163.17</td>\n",
       "      <td>6364279.64</td>\n",
       "      <td>4964462.13</td>\n",
       "      <td>1371440.28</td>\n",
       "      <td>28377.23</td>\n",
       "      <td>2015</td>\n",
       "      <td>TotalUS</td>\n",
       "      <td>0</td>\n",
       "    </tr>\n",
       "    <tr>\n",
       "      <th>2655</th>\n",
       "      <td>2015-12-06</td>\n",
       "      <td>0.89</td>\n",
       "      <td>28800396.57</td>\n",
       "      <td>9405464.36</td>\n",
       "      <td>12160838.62</td>\n",
       "      <td>931830.63</td>\n",
       "      <td>6302262.96</td>\n",
       "      <td>5005077.36</td>\n",
       "      <td>1233956.21</td>\n",
       "      <td>63229.39</td>\n",
       "      <td>2015</td>\n",
       "      <td>TotalUS</td>\n",
       "      <td>0</td>\n",
       "    </tr>\n",
       "    <tr>\n",
       "      <th>2656</th>\n",
       "      <td>2015-11-29</td>\n",
       "      <td>0.99</td>\n",
       "      <td>22617999.38</td>\n",
       "      <td>8094803.56</td>\n",
       "      <td>9003178.41</td>\n",
       "      <td>731008.41</td>\n",
       "      <td>4789009.00</td>\n",
       "      <td>3901953.04</td>\n",
       "      <td>856560.34</td>\n",
       "      <td>30495.62</td>\n",
       "      <td>2015</td>\n",
       "      <td>TotalUS</td>\n",
       "      <td>0</td>\n",
       "    </tr>\n",
       "    <tr>\n",
       "      <th>...</th>\n",
       "      <td>...</td>\n",
       "      <td>...</td>\n",
       "      <td>...</td>\n",
       "      <td>...</td>\n",
       "      <td>...</td>\n",
       "      <td>...</td>\n",
       "      <td>...</td>\n",
       "      <td>...</td>\n",
       "      <td>...</td>\n",
       "      <td>...</td>\n",
       "      <td>...</td>\n",
       "      <td>...</td>\n",
       "      <td>...</td>\n",
       "    </tr>\n",
       "    <tr>\n",
       "      <th>18220</th>\n",
       "      <td>2018-02-04</td>\n",
       "      <td>1.53</td>\n",
       "      <td>1384683.41</td>\n",
       "      <td>117922.52</td>\n",
       "      <td>287724.61</td>\n",
       "      <td>1703.52</td>\n",
       "      <td>977084.84</td>\n",
       "      <td>774695.74</td>\n",
       "      <td>201878.69</td>\n",
       "      <td>510.41</td>\n",
       "      <td>2018</td>\n",
       "      <td>TotalUS</td>\n",
       "      <td>1</td>\n",
       "    </tr>\n",
       "    <tr>\n",
       "      <th>18221</th>\n",
       "      <td>2018-01-28</td>\n",
       "      <td>1.61</td>\n",
       "      <td>1336979.09</td>\n",
       "      <td>118616.17</td>\n",
       "      <td>280080.34</td>\n",
       "      <td>1270.61</td>\n",
       "      <td>936859.49</td>\n",
       "      <td>796104.27</td>\n",
       "      <td>140652.84</td>\n",
       "      <td>102.38</td>\n",
       "      <td>2018</td>\n",
       "      <td>TotalUS</td>\n",
       "      <td>1</td>\n",
       "    </tr>\n",
       "    <tr>\n",
       "      <th>18222</th>\n",
       "      <td>2018-01-21</td>\n",
       "      <td>1.63</td>\n",
       "      <td>1283987.65</td>\n",
       "      <td>108705.28</td>\n",
       "      <td>259172.13</td>\n",
       "      <td>1490.02</td>\n",
       "      <td>914409.26</td>\n",
       "      <td>710654.40</td>\n",
       "      <td>203526.59</td>\n",
       "      <td>228.27</td>\n",
       "      <td>2018</td>\n",
       "      <td>TotalUS</td>\n",
       "      <td>1</td>\n",
       "    </tr>\n",
       "    <tr>\n",
       "      <th>18223</th>\n",
       "      <td>2018-01-14</td>\n",
       "      <td>1.59</td>\n",
       "      <td>1476651.08</td>\n",
       "      <td>145680.62</td>\n",
       "      <td>323669.83</td>\n",
       "      <td>1580.01</td>\n",
       "      <td>1005593.78</td>\n",
       "      <td>858772.69</td>\n",
       "      <td>146808.97</td>\n",
       "      <td>12.12</td>\n",
       "      <td>2018</td>\n",
       "      <td>TotalUS</td>\n",
       "      <td>1</td>\n",
       "    </tr>\n",
       "    <tr>\n",
       "      <th>18224</th>\n",
       "      <td>2018-01-07</td>\n",
       "      <td>1.51</td>\n",
       "      <td>1517332.70</td>\n",
       "      <td>129541.43</td>\n",
       "      <td>296490.29</td>\n",
       "      <td>1289.07</td>\n",
       "      <td>1089861.24</td>\n",
       "      <td>915452.78</td>\n",
       "      <td>174381.57</td>\n",
       "      <td>26.89</td>\n",
       "      <td>2018</td>\n",
       "      <td>TotalUS</td>\n",
       "      <td>1</td>\n",
       "    </tr>\n",
       "  </tbody>\n",
       "</table>\n",
       "<p>338 rows × 13 columns</p>\n",
       "</div>"
      ],
      "text/plain": [
       "             date  average_price  total_volume        4046         4225  \\\n",
       "2652   2015-12-27           0.95   27297983.67  9626901.09  10197890.05   \n",
       "2653   2015-12-20           0.98   25083647.17  8710021.76   9329861.85   \n",
       "2654   2015-12-13           0.93   28041335.38  9855053.66  10805838.91   \n",
       "2655   2015-12-06           0.89   28800396.57  9405464.36  12160838.62   \n",
       "2656   2015-11-29           0.99   22617999.38  8094803.56   9003178.41   \n",
       "...           ...            ...           ...         ...          ...   \n",
       "18220  2018-02-04           1.53    1384683.41   117922.52    287724.61   \n",
       "18221  2018-01-28           1.61    1336979.09   118616.17    280080.34   \n",
       "18222  2018-01-21           1.63    1283987.65   108705.28    259172.13   \n",
       "18223  2018-01-14           1.59    1476651.08   145680.62    323669.83   \n",
       "18224  2018-01-07           1.51    1517332.70   129541.43    296490.29   \n",
       "\n",
       "             4770  total_bags  small_bags  large_bags  xlarge_bags  year  \\\n",
       "2652   1184340.09  6288852.44  4850404.09  1252626.31    185822.04  2015   \n",
       "2653   1201020.01  5842743.55  4618389.66  1025048.77    199305.12  2015   \n",
       "2654   1016163.17  6364279.64  4964462.13  1371440.28     28377.23  2015   \n",
       "2655    931830.63  6302262.96  5005077.36  1233956.21     63229.39  2015   \n",
       "2656    731008.41  4789009.00  3901953.04   856560.34     30495.62  2015   \n",
       "...           ...         ...         ...         ...          ...   ...   \n",
       "18220     1703.52   977084.84   774695.74   201878.69       510.41  2018   \n",
       "18221     1270.61   936859.49   796104.27   140652.84       102.38  2018   \n",
       "18222     1490.02   914409.26   710654.40   203526.59       228.27  2018   \n",
       "18223     1580.01  1005593.78   858772.69   146808.97        12.12  2018   \n",
       "18224     1289.07  1089861.24   915452.78   174381.57        26.89  2018   \n",
       "\n",
       "        region  type_organic  \n",
       "2652   TotalUS             0  \n",
       "2653   TotalUS             0  \n",
       "2654   TotalUS             0  \n",
       "2655   TotalUS             0  \n",
       "2656   TotalUS             0  \n",
       "...        ...           ...  \n",
       "18220  TotalUS             1  \n",
       "18221  TotalUS             1  \n",
       "18222  TotalUS             1  \n",
       "18223  TotalUS             1  \n",
       "18224  TotalUS             1  \n",
       "\n",
       "[338 rows x 13 columns]"
      ]
     },
     "execution_count": 39,
     "metadata": {},
     "output_type": "execute_result"
    }
   ],
   "source": [
    "# Is the region 'TotalUS' important or not?\n",
    "avocados[avocados['region'] == 'TotalUS']"
   ]
  },
  {
   "cell_type": "code",
   "execution_count": 40,
   "metadata": {},
   "outputs": [
    {
     "data": {
      "text/plain": [
       "9097     62505646.52\n",
       "8366     61034457.10\n",
       "5506     52288697.89\n",
       "8353     47293921.60\n",
       "5493     46324529.70\n",
       "            ...     \n",
       "11792      515240.82\n",
       "11781      514112.96\n",
       "11784      511347.26\n",
       "11782      507830.81\n",
       "11791      501814.87\n",
       "Name: total_volume, Length: 338, dtype: float64"
      ]
     },
     "execution_count": 40,
     "metadata": {},
     "output_type": "execute_result"
    }
   ],
   "source": [
    "# Is the region 'TotalUS' important or not?\n",
    "avocados[avocados['region'] == 'TotalUS']['total_volume'].sort_values(ascending=False)\n",
    "\n",
    "# So these are where the outliers are coming from...let's drop them"
   ]
  },
  {
   "cell_type": "code",
   "execution_count": 41,
   "metadata": {},
   "outputs": [],
   "source": [
    "# Based on 'region' = TotalUS criteria, set this dataframe equal to a variable to prep for dropping\n",
    "total_us = avocados[avocados['region'] == 'TotalUS']\n",
    "\n",
    "# Now drop it\n",
    "avocados.drop(total_us.index, inplace=True)"
   ]
  },
  {
   "cell_type": "code",
   "execution_count": 42,
   "metadata": {},
   "outputs": [],
   "source": [
    "# Now that we've dropped these rows, we can dummify the 'region' column\n",
    "region_dummies = pd.get_dummies(avocados[['region']], drop_first = True)\n",
    "\n",
    "# Add the dummy variables and drop the column 'region'\n",
    "avocados = pd.concat([avocados, region_dummies], axis = 1, join = 'outer')\n",
    "avocados.drop(columns=['region'], inplace = True)"
   ]
  },
  {
   "cell_type": "markdown",
   "metadata": {},
   "source": [
    "**Date**"
   ]
  },
  {
   "cell_type": "code",
   "execution_count": 43,
   "metadata": {},
   "outputs": [],
   "source": [
    "months = []\n",
    "\n",
    "for i in avocados['date']:\n",
    "    month = i[5:7]\n",
    "    if month == '12':\n",
    "        dec = 'dec'\n",
    "        months.append(dec)\n",
    "    elif month == '11':\n",
    "        nov = 'nov'\n",
    "        months.append(nov)\n",
    "    elif month == '10':\n",
    "        octo = 'octo'\n",
    "        months.append(octo)\n",
    "    elif month == '09':\n",
    "        sept = 'sept'\n",
    "        months.append(sept)\n",
    "    elif month == '08':\n",
    "        aug = 'aug'\n",
    "        months.append(aug)\n",
    "    elif month == '07':\n",
    "        july = 'july'\n",
    "        months.append(july)\n",
    "    elif month == '06':\n",
    "        june = 'june'\n",
    "        months.append(june)\n",
    "    elif month == '05':\n",
    "        may = 'may'\n",
    "        months.append(may)\n",
    "    elif month == '04':\n",
    "        april = 'april'\n",
    "        months.append(april)\n",
    "    elif month == '03':\n",
    "        march = 'march'\n",
    "        months.append(march)\n",
    "    elif month == '02':\n",
    "        feb = 'feb'\n",
    "        months.append(feb)\n",
    "    elif month == '01':\n",
    "        jan = 'jan'\n",
    "        months.append(jan)\n",
    "    else:\n",
    "        print(month)"
   ]
  },
  {
   "cell_type": "code",
   "execution_count": 44,
   "metadata": {},
   "outputs": [
    {
     "data": {
      "text/plain": [
       "['dec',\n",
       " 'dec',\n",
       " 'dec',\n",
       " 'dec',\n",
       " 'nov',\n",
       " 'nov',\n",
       " 'nov',\n",
       " 'nov',\n",
       " 'nov',\n",
       " 'octo',\n",
       " 'octo',\n",
       " 'octo',\n",
       " 'octo',\n",
       " 'sept',\n",
       " 'sept',\n",
       " 'sept',\n",
       " 'sept',\n",
       " 'aug',\n",
       " 'aug',\n",
       " 'aug']"
      ]
     },
     "execution_count": 44,
     "metadata": {},
     "output_type": "execute_result"
    }
   ],
   "source": [
    "# Check if above if statement worked\n",
    "months[0:20]"
   ]
  },
  {
   "cell_type": "code",
   "execution_count": 45,
   "metadata": {},
   "outputs": [
    {
     "data": {
      "text/plain": [
       "0        dec\n",
       "1        dec\n",
       "2        dec\n",
       "3        dec\n",
       "4        nov\n",
       "        ... \n",
       "18244    feb\n",
       "18245    jan\n",
       "18246    jan\n",
       "18247    jan\n",
       "18248    jan\n",
       "Name: month, Length: 17911, dtype: object"
      ]
     },
     "execution_count": 45,
     "metadata": {},
     "output_type": "execute_result"
    }
   ],
   "source": [
    "# Add list to dataframe 'avocados' as a new column\n",
    "avocados['month'] = months\n",
    "avocados['month']"
   ]
  },
  {
   "cell_type": "code",
   "execution_count": 46,
   "metadata": {},
   "outputs": [],
   "source": [
    "# Dummify the months\n",
    "month_dummies = pd.get_dummies(avocados[['month']], drop_first = True)\n",
    "\n",
    "# Add the dummy variables and drop the columns 'month' and 'date'\n",
    "avocados = pd.concat([avocados, month_dummies], axis = 1, join = 'outer')\n",
    "avocados.drop(columns=['month', 'date'], inplace = True)"
   ]
  },
  {
   "cell_type": "markdown",
   "metadata": {},
   "source": [
    " "
   ]
  },
  {
   "cell_type": "markdown",
   "metadata": {},
   "source": [
    " "
   ]
  },
  {
   "cell_type": "markdown",
   "metadata": {},
   "source": [
    " "
   ]
  },
  {
   "cell_type": "markdown",
   "metadata": {},
   "source": [
    "\n",
    "\n",
    "\n",
    "\n",
    "\n",
    "\n",
    "###### 3.12 : Check regression coeficients to see what best predictors of Average Sale Price might be"
   ]
  },
  {
   "cell_type": "code",
   "execution_count": 48,
   "metadata": {},
   "outputs": [
    {
     "data": {
      "image/png": "[encoded data removed]",
      "text/plain": [
       "<Figure size 1080x1080 with 2 Axes>"
      ]
     },
     "metadata": {
      "needs_background": "light"
     },
     "output_type": "display_data"
    }
   ],
   "source": [
    "# To make it easier to view, let's do the same thing measuring each variable only against average sale price.\n",
    "\n",
    "plt.figure(figsize = (15, 15))\n",
    "sns.heatmap(avocados.corr()[['average_price']].sort_values('average_price'), cmap = 'coolwarm',\n",
    "            annot = True);"
   ]
  },
  {
   "cell_type": "markdown",
   "metadata": {},
   "source": [
    "**Export dataframe**"
   ]
  },
  {
   "cell_type": "code",
   "execution_count": 49,
   "metadata": {},
   "outputs": [],
   "source": [
    "avocados.to_csv('cleaned_and_feature_engineered_avocados.csv')"
   ]
  },
  {
   "cell_type": "markdown",
   "metadata": {},
   "source": [
    "### Step 4: Model the data"
   ]
  },
  {
   "cell_type": "markdown",
   "metadata": {},
   "source": [
    "###### 4.01: Linear Regression"
   ]
  },
  {
   "cell_type": "code",
   "execution_count": 50,
   "metadata": {},
   "outputs": [],
   "source": [
    "# Make necessary imports\n",
    "from sklearn.linear_model import LinearRegression\n",
    "from sklearn.model_selection import train_test_split, cross_val_score"
   ]
  },
  {
   "cell_type": "code",
   "execution_count": 51,
   "metadata": {},
   "outputs": [],
   "source": [
    "# Instantiate Linear Regression Model\n",
    "lr = LinearRegression()"
   ]
  },
  {
   "cell_type": "code",
   "execution_count": 52,
   "metadata": {},
   "outputs": [],
   "source": [
    "# Create X and y variables\n",
    "X = avocados.drop(columns=['average_price'])\n",
    "y = avocados['average_price']"
   ]
  },
  {
   "cell_type": "code",
   "execution_count": 53,
   "metadata": {},
   "outputs": [],
   "source": [
    "# Train test split\n",
    "X_train, X_test, y_train, y_test = train_test_split(X, y, random_state=42)"
   ]
  },
  {
   "cell_type": "code",
   "execution_count": 55,
   "metadata": {},
   "outputs": [
    {
     "data": {
      "text/plain": [
       "0.6230743365075557"
      ]
     },
     "execution_count": 55,
     "metadata": {},
     "output_type": "execute_result"
    }
   ],
   "source": [
    "# Cross-val score \n",
    "# This score of 0.62 isn't great\n",
    "cross_val_score(lr, X_train, y_train, cv=5).mean()"
   ]
  },
  {
   "cell_type": "code",
   "execution_count": 56,
   "metadata": {},
   "outputs": [
    {
     "data": {
      "text/plain": [
       "LinearRegression(copy_X=True, fit_intercept=True, n_jobs=None, normalize=False)"
      ]
     },
     "execution_count": 56,
     "metadata": {},
     "output_type": "execute_result"
    }
   ],
   "source": [
    "# Fit model\n",
    "lr.fit(X_train, y_train)"
   ]
  },
  {
   "cell_type": "code",
   "execution_count": 57,
   "metadata": {},
   "outputs": [
    {
     "data": {
      "text/plain": [
       "0.6268408048934113"
      ]
     },
     "execution_count": 57,
     "metadata": {},
     "output_type": "execute_result"
    }
   ],
   "source": [
    "# Train score\n",
    "lr.score(X_train, y_train)"
   ]
  },
  {
   "cell_type": "code",
   "execution_count": 66,
   "metadata": {},
   "outputs": [
    {
     "data": {
      "text/plain": [
       "0.6274665681749202"
      ]
     },
     "execution_count": 66,
     "metadata": {},
     "output_type": "execute_result"
    }
   ],
   "source": [
    "# Test score\n",
    "# Doesn't deviate much from train score and cross val score\n",
    "lr.score(X_test, y_test)"
   ]
  },
  {
   "cell_type": "code",
   "execution_count": 58,
   "metadata": {},
   "outputs": [],
   "source": [
    "# Make predictions\n",
    "preds_lr = lr.predict(X_test)"
   ]
  },
  {
   "cell_type": "code",
   "execution_count": 59,
   "metadata": {},
   "outputs": [],
   "source": [
    "# Calculate residuals\n",
    "resids_lr = preds_lr - y_test"
   ]
  },
  {
   "cell_type": "code",
   "execution_count": 60,
   "metadata": {},
   "outputs": [
    {
     "data": {
      "image/png": "[encoded data removed]",
      "text/plain": [
       "<Figure size 432x288 with 1 Axes>"
      ]
     },
     "metadata": {
      "needs_background": "light"
     },
     "output_type": "display_data"
    }
   ],
   "source": [
    "# Plot residuals \n",
    "plt.hist(resids_lr);"
   ]
  },
  {
   "cell_type": "markdown",
   "metadata": {},
   "source": [
    "###### 4.02 Do the same linear regression fit with the log of y"
   ]
  },
  {
   "cell_type": "code",
   "execution_count": 64,
   "metadata": {},
   "outputs": [],
   "source": [
    "# Instantiate Linear Regression Model\n",
    "lr_log = LinearRegression()"
   ]
  },
  {
   "cell_type": "code",
   "execution_count": 62,
   "metadata": {},
   "outputs": [],
   "source": [
    "# Create a set of y values that are the log of the y values\n",
    "\n",
    "X_lr_log = avocados.drop(columns=['average_price'])\n",
    "y_lr_log = np.log(avocados['average_price'])"
   ]
  },
  {
   "cell_type": "code",
   "execution_count": 63,
   "metadata": {},
   "outputs": [],
   "source": [
    "# Train test split\n",
    "X_train_lr_log, X_test_lr_log, y_train_lr_log, y_test_lr_log = train_test_split(X_lr_log,\n",
    "                                                                                y_lr_log)"
   ]
  },
  {
   "cell_type": "code",
   "execution_count": 65,
   "metadata": {},
   "outputs": [
    {
     "data": {
      "text/plain": [
       "0.6448808745851169"
      ]
     },
     "execution_count": 65,
     "metadata": {},
     "output_type": "execute_result"
    }
   ],
   "source": [
    "# Cross val score\n",
    "# Barely better than it was previously\n",
    "cross_val_score(lr, X_train_lr_log, y_train_lr_log, cv=5).mean()"
   ]
  },
  {
   "cell_type": "code",
   "execution_count": 69,
   "metadata": {},
   "outputs": [
    {
     "data": {
      "text/plain": [
       "LinearRegression(copy_X=True, fit_intercept=True, n_jobs=None, normalize=False)"
      ]
     },
     "execution_count": 69,
     "metadata": {},
     "output_type": "execute_result"
    }
   ],
   "source": [
    "# Fit the model\n",
    "lr_log.fit(X_train_lr_log, y_train_lr_log)"
   ]
  },
  {
   "cell_type": "code",
   "execution_count": 70,
   "metadata": {},
   "outputs": [
    {
     "data": {
      "text/plain": [
       "0.6485821578019043"
      ]
     },
     "execution_count": 70,
     "metadata": {},
     "output_type": "execute_result"
    }
   ],
   "source": [
    "# Train score\n",
    "lr_log.score(X_train_lr_log, y_train_lr_log)"
   ]
  },
  {
   "cell_type": "code",
   "execution_count": 71,
   "metadata": {},
   "outputs": [
    {
     "data": {
      "text/plain": [
       "0.6306087354874945"
      ]
     },
     "execution_count": 71,
     "metadata": {},
     "output_type": "execute_result"
    }
   ],
   "source": [
    "# Test score\n",
    "# Still similar to train and cross val scores \n",
    "lr_log.score(X_test_lr_log, y_test_lr_log)"
   ]
  },
  {
   "cell_type": "code",
   "execution_count": 72,
   "metadata": {},
   "outputs": [],
   "source": [
    "# Make predictions\n",
    "preds_lr_log = lr.predict(X_test_lr_log)"
   ]
  },
  {
   "cell_type": "code",
   "execution_count": 73,
   "metadata": {},
   "outputs": [],
   "source": [
    "# Calculate residuals\n",
    "resids_lr_log = preds_lr_log - y_test_lr_log"
   ]
  },
  {
   "cell_type": "code",
   "execution_count": 74,
   "metadata": {},
   "outputs": [
    {
     "data": {
      "image/png": "[encoded data removed]",
      "text/plain": [
       "<Figure size 432x288 with 1 Axes>"
      ]
     },
     "metadata": {
      "needs_background": "light"
     },
     "output_type": "display_data"
    }
   ],
   "source": [
    "# Plot residuals \n",
    "plt.hist(resids_lr_log);"
   ]
  },
  {
   "cell_type": "markdown",
   "metadata": {},
   "source": [
    "###### 4.03 Try fitting LASSO Regression"
   ]
  },
  {
   "cell_type": "code",
   "execution_count": 75,
   "metadata": {},
   "outputs": [],
   "source": [
    "# Make necessary imports\n",
    "from sklearn.linear_model import Lasso, LassoCV"
   ]
  },
  {
   "cell_type": "code",
   "execution_count": 76,
   "metadata": {},
   "outputs": [
    {
     "name": "stderr",
     "output_type": "stream",
     "text": [
      "/Users/michaellaccavole/opt/anaconda3/lib/python3.7/site-packages/sklearn/linear_model/_coordinate_descent.py:472: ConvergenceWarning: Objective did not converge. You might want to increase the number of iterations. Duality gap: 259.76265807857976, tolerance: 0.17676387954680828\n",
      "  tol, rng, random, positive)\n",
      "/Users/michaellaccavole/opt/anaconda3/lib/python3.7/site-packages/sklearn/linear_model/_coordinate_descent.py:472: ConvergenceWarning: Objective did not converge. You might want to increase the number of iterations. Duality gap: 218.07508156965332, tolerance: 0.17676387954680828\n",
      "  tol, rng, random, positive)\n",
      "/Users/michaellaccavole/opt/anaconda3/lib/python3.7/site-packages/sklearn/linear_model/_coordinate_descent.py:472: ConvergenceWarning: Objective did not converge. You might want to increase the number of iterations. Duality gap: 155.51871813714808, tolerance: 0.17676387954680828\n",
      "  tol, rng, random, positive)\n",
      "/Users/michaellaccavole/opt/anaconda3/lib/python3.7/site-packages/sklearn/linear_model/_coordinate_descent.py:472: ConvergenceWarning: Objective did not converge. You might want to increase the number of iterations. Duality gap: 77.576849533972, tolerance: 0.17676387954680828\n",
      "  tol, rng, random, positive)\n",
      "/Users/michaellaccavole/opt/anaconda3/lib/python3.7/site-packages/sklearn/linear_model/_coordinate_descent.py:472: ConvergenceWarning: Objective did not converge. You might want to increase the number of iterations. Duality gap: 77.29826474273045, tolerance: 0.17676387954680828\n",
      "  tol, rng, random, positive)\n",
      "/Users/michaellaccavole/opt/anaconda3/lib/python3.7/site-packages/sklearn/linear_model/_coordinate_descent.py:472: ConvergenceWarning: Objective did not converge. You might want to increase the number of iterations. Duality gap: 75.96982169371563, tolerance: 0.17676387954680828\n",
      "  tol, rng, random, positive)\n",
      "/Users/michaellaccavole/opt/anaconda3/lib/python3.7/site-packages/sklearn/linear_model/_coordinate_descent.py:472: ConvergenceWarning: Objective did not converge. You might want to increase the number of iterations. Duality gap: 74.00144971456416, tolerance: 0.17676387954680828\n",
      "  tol, rng, random, positive)\n",
      "/Users/michaellaccavole/opt/anaconda3/lib/python3.7/site-packages/sklearn/linear_model/_coordinate_descent.py:472: ConvergenceWarning: Objective did not converge. You might want to increase the number of iterations. Duality gap: 163.48932900031787, tolerance: 0.17676387954680828\n",
      "  tol, rng, random, positive)\n",
      "/Users/michaellaccavole/opt/anaconda3/lib/python3.7/site-packages/sklearn/linear_model/_coordinate_descent.py:472: ConvergenceWarning: Objective did not converge. You might want to increase the number of iterations. Duality gap: 307.6619484483029, tolerance: 0.17676387954680828\n",
      "  tol, rng, random, positive)\n",
      "/Users/michaellaccavole/opt/anaconda3/lib/python3.7/site-packages/sklearn/linear_model/_coordinate_descent.py:472: ConvergenceWarning: Objective did not converge. You might want to increase the number of iterations. Duality gap: 389.1694875236401, tolerance: 0.17676387954680828\n",
      "  tol, rng, random, positive)\n",
      "/Users/michaellaccavole/opt/anaconda3/lib/python3.7/site-packages/sklearn/linear_model/_coordinate_descent.py:472: ConvergenceWarning: Objective did not converge. You might want to increase the number of iterations. Duality gap: 437.4510028937125, tolerance: 0.17676387954680828\n",
      "  tol, rng, random, positive)\n",
      "/Users/michaellaccavole/opt/anaconda3/lib/python3.7/site-packages/sklearn/linear_model/_coordinate_descent.py:472: ConvergenceWarning: Objective did not converge. You might want to increase the number of iterations. Duality gap: 467.3915837674761, tolerance: 0.17676387954680828\n",
      "  tol, rng, random, positive)\n",
      "/Users/michaellaccavole/opt/anaconda3/lib/python3.7/site-packages/sklearn/linear_model/_coordinate_descent.py:472: ConvergenceWarning: Objective did not converge. You might want to increase the number of iterations. Duality gap: 486.55293004551197, tolerance: 0.17676387954680828\n",
      "  tol, rng, random, positive)\n",
      "/Users/michaellaccavole/opt/anaconda3/lib/python3.7/site-packages/sklearn/linear_model/_coordinate_descent.py:472: ConvergenceWarning: Objective did not converge. You might want to increase the number of iterations. Duality gap: 499.0825879783302, tolerance: 0.17676387954680828\n",
      "  tol, rng, random, positive)\n",
      "/Users/michaellaccavole/opt/anaconda3/lib/python3.7/site-packages/sklearn/linear_model/_coordinate_descent.py:472: ConvergenceWarning: Objective did not converge. You might want to increase the number of iterations. Duality gap: 507.6902640884749, tolerance: 0.17676387954680828\n",
      "  tol, rng, random, positive)\n",
      "/Users/michaellaccavole/opt/anaconda3/lib/python3.7/site-packages/sklearn/linear_model/_coordinate_descent.py:472: ConvergenceWarning: Objective did not converge. You might want to increase the number of iterations. Duality gap: 512.954811759022, tolerance: 0.17676387954680828\n",
      "  tol, rng, random, positive)\n",
      "/Users/michaellaccavole/opt/anaconda3/lib/python3.7/site-packages/sklearn/linear_model/_coordinate_descent.py:472: ConvergenceWarning: Objective did not converge. You might want to increase the number of iterations. Duality gap: 515.5335744196132, tolerance: 0.17676387954680828\n",
      "  tol, rng, random, positive)\n",
      "/Users/michaellaccavole/opt/anaconda3/lib/python3.7/site-packages/sklearn/linear_model/_coordinate_descent.py:472: ConvergenceWarning: Objective did not converge. You might want to increase the number of iterations. Duality gap: 516.112781500487, tolerance: 0.17676387954680828\n",
      "  tol, rng, random, positive)\n",
      "/Users/michaellaccavole/opt/anaconda3/lib/python3.7/site-packages/sklearn/linear_model/_coordinate_descent.py:472: ConvergenceWarning: Objective did not converge. You might want to increase the number of iterations. Duality gap: 514.958267341015, tolerance: 0.17676387954680828\n",
      "  tol, rng, random, positive)\n",
      "/Users/michaellaccavole/opt/anaconda3/lib/python3.7/site-packages/sklearn/linear_model/_coordinate_descent.py:472: ConvergenceWarning: Objective did not converge. You might want to increase the number of iterations. Duality gap: 511.9473476613241, tolerance: 0.17676387954680828\n",
      "  tol, rng, random, positive)\n",
      "/Users/michaellaccavole/opt/anaconda3/lib/python3.7/site-packages/sklearn/linear_model/_coordinate_descent.py:472: ConvergenceWarning: Objective did not converge. You might want to increase the number of iterations. Duality gap: 507.54929511236026, tolerance: 0.17676387954680828\n",
      "  tol, rng, random, positive)\n",
      "/Users/michaellaccavole/opt/anaconda3/lib/python3.7/site-packages/sklearn/linear_model/_coordinate_descent.py:472: ConvergenceWarning: Objective did not converge. You might want to increase the number of iterations. Duality gap: 501.79812365639896, tolerance: 0.17676387954680828\n",
      "  tol, rng, random, positive)\n",
      "/Users/michaellaccavole/opt/anaconda3/lib/python3.7/site-packages/sklearn/linear_model/_coordinate_descent.py:472: ConvergenceWarning: Objective did not converge. You might want to increase the number of iterations. Duality gap: 494.97515321645125, tolerance: 0.17676387954680828\n",
      "  tol, rng, random, positive)\n",
      "/Users/michaellaccavole/opt/anaconda3/lib/python3.7/site-packages/sklearn/linear_model/_coordinate_descent.py:472: ConvergenceWarning: Objective did not converge. You might want to increase the number of iterations. Duality gap: 487.26079879321657, tolerance: 0.17676387954680828\n",
      "  tol, rng, random, positive)\n",
      "/Users/michaellaccavole/opt/anaconda3/lib/python3.7/site-packages/sklearn/linear_model/_coordinate_descent.py:472: ConvergenceWarning: Objective did not converge. You might want to increase the number of iterations. Duality gap: 478.92085311213714, tolerance: 0.17676387954680828\n",
      "  tol, rng, random, positive)\n",
      "/Users/michaellaccavole/opt/anaconda3/lib/python3.7/site-packages/sklearn/linear_model/_coordinate_descent.py:472: ConvergenceWarning: Objective did not converge. You might want to increase the number of iterations. Duality gap: 470.17655366143015, tolerance: 0.17676387954680828\n",
      "  tol, rng, random, positive)\n",
      "/Users/michaellaccavole/opt/anaconda3/lib/python3.7/site-packages/sklearn/linear_model/_coordinate_descent.py:472: ConvergenceWarning: Objective did not converge. You might want to increase the number of iterations. Duality gap: 460.94696587904616, tolerance: 0.17676387954680828\n",
      "  tol, rng, random, positive)\n",
      "/Users/michaellaccavole/opt/anaconda3/lib/python3.7/site-packages/sklearn/linear_model/_coordinate_descent.py:472: ConvergenceWarning: Objective did not converge. You might want to increase the number of iterations. Duality gap: 451.4124937491588, tolerance: 0.17676387954680828\n",
      "  tol, rng, random, positive)\n",
      "/Users/michaellaccavole/opt/anaconda3/lib/python3.7/site-packages/sklearn/linear_model/_coordinate_descent.py:472: ConvergenceWarning: Objective did not converge. You might want to increase the number of iterations. Duality gap: 441.47723573737505, tolerance: 0.17676387954680828\n",
      "  tol, rng, random, positive)\n",
      "/Users/michaellaccavole/opt/anaconda3/lib/python3.7/site-packages/sklearn/linear_model/_coordinate_descent.py:472: ConvergenceWarning: Objective did not converge. You might want to increase the number of iterations. Duality gap: 431.68763403323106, tolerance: 0.17676387954680828\n",
      "  tol, rng, random, positive)\n",
      "/Users/michaellaccavole/opt/anaconda3/lib/python3.7/site-packages/sklearn/linear_model/_coordinate_descent.py:472: ConvergenceWarning: Objective did not converge. You might want to increase the number of iterations. Duality gap: 422.2179357164222, tolerance: 0.17676387954680828\n",
      "  tol, rng, random, positive)\n",
      "/Users/michaellaccavole/opt/anaconda3/lib/python3.7/site-packages/sklearn/linear_model/_coordinate_descent.py:472: ConvergenceWarning: Objective did not converge. You might want to increase the number of iterations. Duality gap: 413.11741665522476, tolerance: 0.17676387954680828\n",
      "  tol, rng, random, positive)\n",
      "/Users/michaellaccavole/opt/anaconda3/lib/python3.7/site-packages/sklearn/linear_model/_coordinate_descent.py:472: ConvergenceWarning: Objective did not converge. You might want to increase the number of iterations. Duality gap: 404.5193336994889, tolerance: 0.17676387954680828\n",
      "  tol, rng, random, positive)\n",
      "/Users/michaellaccavole/opt/anaconda3/lib/python3.7/site-packages/sklearn/linear_model/_coordinate_descent.py:472: ConvergenceWarning: Objective did not converge. You might want to increase the number of iterations. Duality gap: 254.26815542702934, tolerance: 0.17439884425925928\n",
      "  tol, rng, random, positive)\n",
      "/Users/michaellaccavole/opt/anaconda3/lib/python3.7/site-packages/sklearn/linear_model/_coordinate_descent.py:472: ConvergenceWarning: Objective did not converge. You might want to increase the number of iterations. Duality gap: 201.31334110598402, tolerance: 0.17439884425925928\n",
      "  tol, rng, random, positive)\n",
      "/Users/michaellaccavole/opt/anaconda3/lib/python3.7/site-packages/sklearn/linear_model/_coordinate_descent.py:472: ConvergenceWarning: Objective did not converge. You might want to increase the number of iterations. Duality gap: 121.1105710621415, tolerance: 0.17439884425925928\n",
      "  tol, rng, random, positive)\n",
      "/Users/michaellaccavole/opt/anaconda3/lib/python3.7/site-packages/sklearn/linear_model/_coordinate_descent.py:472: ConvergenceWarning: Objective did not converge. You might want to increase the number of iterations. Duality gap: 75.5279188683354, tolerance: 0.17439884425925928\n",
      "  tol, rng, random, positive)\n",
      "/Users/michaellaccavole/opt/anaconda3/lib/python3.7/site-packages/sklearn/linear_model/_coordinate_descent.py:472: ConvergenceWarning: Objective did not converge. You might want to increase the number of iterations. Duality gap: 75.28120221912343, tolerance: 0.17439884425925928\n",
      "  tol, rng, random, positive)\n"
     ]
    },
    {
     "name": "stderr",
     "output_type": "stream",
     "text": [
      "/Users/michaellaccavole/opt/anaconda3/lib/python3.7/site-packages/sklearn/linear_model/_coordinate_descent.py:472: ConvergenceWarning: Objective did not converge. You might want to increase the number of iterations. Duality gap: 73.98680232794754, tolerance: 0.17439884425925928\n",
      "  tol, rng, random, positive)\n",
      "/Users/michaellaccavole/opt/anaconda3/lib/python3.7/site-packages/sklearn/linear_model/_coordinate_descent.py:472: ConvergenceWarning: Objective did not converge. You might want to increase the number of iterations. Duality gap: 112.93059988163145, tolerance: 0.17439884425925928\n",
      "  tol, rng, random, positive)\n",
      "/Users/michaellaccavole/opt/anaconda3/lib/python3.7/site-packages/sklearn/linear_model/_coordinate_descent.py:472: ConvergenceWarning: Objective did not converge. You might want to increase the number of iterations. Duality gap: 248.5578742046231, tolerance: 0.17439884425925928\n",
      "  tol, rng, random, positive)\n",
      "/Users/michaellaccavole/opt/anaconda3/lib/python3.7/site-packages/sklearn/linear_model/_coordinate_descent.py:472: ConvergenceWarning: Objective did not converge. You might want to increase the number of iterations. Duality gap: 360.8192971745129, tolerance: 0.17439884425925928\n",
      "  tol, rng, random, positive)\n",
      "/Users/michaellaccavole/opt/anaconda3/lib/python3.7/site-packages/sklearn/linear_model/_coordinate_descent.py:472: ConvergenceWarning: Objective did not converge. You might want to increase the number of iterations. Duality gap: 423.4131093455665, tolerance: 0.17439884425925928\n",
      "  tol, rng, random, positive)\n",
      "/Users/michaellaccavole/opt/anaconda3/lib/python3.7/site-packages/sklearn/linear_model/_coordinate_descent.py:472: ConvergenceWarning: Objective did not converge. You might want to increase the number of iterations. Duality gap: 460.37592055031905, tolerance: 0.17439884425925928\n",
      "  tol, rng, random, positive)\n",
      "/Users/michaellaccavole/opt/anaconda3/lib/python3.7/site-packages/sklearn/linear_model/_coordinate_descent.py:472: ConvergenceWarning: Objective did not converge. You might want to increase the number of iterations. Duality gap: 483.0842059658568, tolerance: 0.17439884425925928\n",
      "  tol, rng, random, positive)\n",
      "/Users/michaellaccavole/opt/anaconda3/lib/python3.7/site-packages/sklearn/linear_model/_coordinate_descent.py:472: ConvergenceWarning: Objective did not converge. You might want to increase the number of iterations. Duality gap: 497.357196836974, tolerance: 0.17439884425925928\n",
      "  tol, rng, random, positive)\n",
      "/Users/michaellaccavole/opt/anaconda3/lib/python3.7/site-packages/sklearn/linear_model/_coordinate_descent.py:472: ConvergenceWarning: Objective did not converge. You might want to increase the number of iterations. Duality gap: 506.41311814943, tolerance: 0.17439884425925928\n",
      "  tol, rng, random, positive)\n",
      "/Users/michaellaccavole/opt/anaconda3/lib/python3.7/site-packages/sklearn/linear_model/_coordinate_descent.py:472: ConvergenceWarning: Objective did not converge. You might want to increase the number of iterations. Duality gap: 512.5734582814696, tolerance: 0.17439884425925928\n",
      "  tol, rng, random, positive)\n",
      "/Users/michaellaccavole/opt/anaconda3/lib/python3.7/site-packages/sklearn/linear_model/_coordinate_descent.py:472: ConvergenceWarning: Objective did not converge. You might want to increase the number of iterations. Duality gap: 516.0246783837008, tolerance: 0.17439884425925928\n",
      "  tol, rng, random, positive)\n",
      "/Users/michaellaccavole/opt/anaconda3/lib/python3.7/site-packages/sklearn/linear_model/_coordinate_descent.py:472: ConvergenceWarning: Objective did not converge. You might want to increase the number of iterations. Duality gap: 522.3020187988108, tolerance: 0.17439884425925928\n",
      "  tol, rng, random, positive)\n",
      "/Users/michaellaccavole/opt/anaconda3/lib/python3.7/site-packages/sklearn/linear_model/_coordinate_descent.py:472: ConvergenceWarning: Objective did not converge. You might want to increase the number of iterations. Duality gap: 519.9686823589878, tolerance: 0.17439884425925928\n",
      "  tol, rng, random, positive)\n",
      "/Users/michaellaccavole/opt/anaconda3/lib/python3.7/site-packages/sklearn/linear_model/_coordinate_descent.py:472: ConvergenceWarning: Objective did not converge. You might want to increase the number of iterations. Duality gap: 516.7310450199383, tolerance: 0.17439884425925928\n",
      "  tol, rng, random, positive)\n",
      "/Users/michaellaccavole/opt/anaconda3/lib/python3.7/site-packages/sklearn/linear_model/_coordinate_descent.py:472: ConvergenceWarning: Objective did not converge. You might want to increase the number of iterations. Duality gap: 510.5008752009687, tolerance: 0.17439884425925928\n",
      "  tol, rng, random, positive)\n",
      "/Users/michaellaccavole/opt/anaconda3/lib/python3.7/site-packages/sklearn/linear_model/_coordinate_descent.py:472: ConvergenceWarning: Objective did not converge. You might want to increase the number of iterations. Duality gap: 506.7138621905774, tolerance: 0.17439884425925928\n",
      "  tol, rng, random, positive)\n",
      "/Users/michaellaccavole/opt/anaconda3/lib/python3.7/site-packages/sklearn/linear_model/_coordinate_descent.py:472: ConvergenceWarning: Objective did not converge. You might want to increase the number of iterations. Duality gap: 499.28361234254044, tolerance: 0.17439884425925928\n",
      "  tol, rng, random, positive)\n",
      "/Users/michaellaccavole/opt/anaconda3/lib/python3.7/site-packages/sklearn/linear_model/_coordinate_descent.py:472: ConvergenceWarning: Objective did not converge. You might want to increase the number of iterations. Duality gap: 492.1412916558877, tolerance: 0.17439884425925928\n",
      "  tol, rng, random, positive)\n",
      "/Users/michaellaccavole/opt/anaconda3/lib/python3.7/site-packages/sklearn/linear_model/_coordinate_descent.py:472: ConvergenceWarning: Objective did not converge. You might want to increase the number of iterations. Duality gap: 484.8617926347891, tolerance: 0.17439884425925928\n",
      "  tol, rng, random, positive)\n",
      "/Users/michaellaccavole/opt/anaconda3/lib/python3.7/site-packages/sklearn/linear_model/_coordinate_descent.py:472: ConvergenceWarning: Objective did not converge. You might want to increase the number of iterations. Duality gap: 476.2204718773801, tolerance: 0.17439884425925928\n",
      "  tol, rng, random, positive)\n",
      "/Users/michaellaccavole/opt/anaconda3/lib/python3.7/site-packages/sklearn/linear_model/_coordinate_descent.py:472: ConvergenceWarning: Objective did not converge. You might want to increase the number of iterations. Duality gap: 467.17154009394216, tolerance: 0.17439884425925928\n",
      "  tol, rng, random, positive)\n",
      "/Users/michaellaccavole/opt/anaconda3/lib/python3.7/site-packages/sklearn/linear_model/_coordinate_descent.py:472: ConvergenceWarning: Objective did not converge. You might want to increase the number of iterations. Duality gap: 457.5411740811201, tolerance: 0.17439884425925928\n",
      "  tol, rng, random, positive)\n",
      "/Users/michaellaccavole/opt/anaconda3/lib/python3.7/site-packages/sklearn/linear_model/_coordinate_descent.py:472: ConvergenceWarning: Objective did not converge. You might want to increase the number of iterations. Duality gap: 447.652731234111, tolerance: 0.17439884425925928\n",
      "  tol, rng, random, positive)\n",
      "/Users/michaellaccavole/opt/anaconda3/lib/python3.7/site-packages/sklearn/linear_model/_coordinate_descent.py:472: ConvergenceWarning: Objective did not converge. You might want to increase the number of iterations. Duality gap: 437.5580687802044, tolerance: 0.17439884425925928\n",
      "  tol, rng, random, positive)\n",
      "/Users/michaellaccavole/opt/anaconda3/lib/python3.7/site-packages/sklearn/linear_model/_coordinate_descent.py:472: ConvergenceWarning: Objective did not converge. You might want to increase the number of iterations. Duality gap: 427.5743857159165, tolerance: 0.17439884425925928\n",
      "  tol, rng, random, positive)\n",
      "/Users/michaellaccavole/opt/anaconda3/lib/python3.7/site-packages/sklearn/linear_model/_coordinate_descent.py:472: ConvergenceWarning: Objective did not converge. You might want to increase the number of iterations. Duality gap: 417.9214381839804, tolerance: 0.17439884425925928\n",
      "  tol, rng, random, positive)\n",
      "/Users/michaellaccavole/opt/anaconda3/lib/python3.7/site-packages/sklearn/linear_model/_coordinate_descent.py:472: ConvergenceWarning: Objective did not converge. You might want to increase the number of iterations. Duality gap: 408.7610384035774, tolerance: 0.17439884425925928\n",
      "  tol, rng, random, positive)\n",
      "/Users/michaellaccavole/opt/anaconda3/lib/python3.7/site-packages/sklearn/linear_model/_coordinate_descent.py:472: ConvergenceWarning: Objective did not converge. You might want to increase the number of iterations. Duality gap: 400.1250271067177, tolerance: 0.17439884425925928\n",
      "  tol, rng, random, positive)\n",
      "/Users/michaellaccavole/opt/anaconda3/lib/python3.7/site-packages/sklearn/linear_model/_coordinate_descent.py:472: ConvergenceWarning: Objective did not converge. You might want to increase the number of iterations. Duality gap: 249.85784015380523, tolerance: 0.17546395546249774\n",
      "  tol, rng, random, positive)\n"
     ]
    },
    {
     "name": "stderr",
     "output_type": "stream",
     "text": [
      "/Users/michaellaccavole/opt/anaconda3/lib/python3.7/site-packages/sklearn/linear_model/_coordinate_descent.py:472: ConvergenceWarning: Objective did not converge. You might want to increase the number of iterations. Duality gap: 202.75373352161512, tolerance: 0.17546395546249774\n",
      "  tol, rng, random, positive)\n",
      "/Users/michaellaccavole/opt/anaconda3/lib/python3.7/site-packages/sklearn/linear_model/_coordinate_descent.py:472: ConvergenceWarning: Objective did not converge. You might want to increase the number of iterations. Duality gap: 131.93109166175407, tolerance: 0.17546395546249774\n",
      "  tol, rng, random, positive)\n",
      "/Users/michaellaccavole/opt/anaconda3/lib/python3.7/site-packages/sklearn/linear_model/_coordinate_descent.py:472: ConvergenceWarning: Objective did not converge. You might want to increase the number of iterations. Duality gap: 78.10531987094942, tolerance: 0.17546395546249774\n",
      "  tol, rng, random, positive)\n",
      "/Users/michaellaccavole/opt/anaconda3/lib/python3.7/site-packages/sklearn/linear_model/_coordinate_descent.py:472: ConvergenceWarning: Objective did not converge. You might want to increase the number of iterations. Duality gap: 77.94796642806591, tolerance: 0.17546395546249774\n",
      "  tol, rng, random, positive)\n",
      "/Users/michaellaccavole/opt/anaconda3/lib/python3.7/site-packages/sklearn/linear_model/_coordinate_descent.py:472: ConvergenceWarning: Objective did not converge. You might want to increase the number of iterations. Duality gap: 76.72089712286868, tolerance: 0.17546395546249774\n",
      "  tol, rng, random, positive)\n",
      "/Users/michaellaccavole/opt/anaconda3/lib/python3.7/site-packages/sklearn/linear_model/_coordinate_descent.py:472: ConvergenceWarning: Objective did not converge. You might want to increase the number of iterations. Duality gap: 74.83982611887768, tolerance: 0.17546395546249774\n",
      "  tol, rng, random, positive)\n",
      "/Users/michaellaccavole/opt/anaconda3/lib/python3.7/site-packages/sklearn/linear_model/_coordinate_descent.py:472: ConvergenceWarning: Objective did not converge. You might want to increase the number of iterations. Duality gap: 72.86575945502432, tolerance: 0.17546395546249774\n",
      "  tol, rng, random, positive)\n",
      "/Users/michaellaccavole/opt/anaconda3/lib/python3.7/site-packages/sklearn/linear_model/_coordinate_descent.py:472: ConvergenceWarning: Objective did not converge. You might want to increase the number of iterations. Duality gap: 342.62625372923145, tolerance: 0.17546395546249774\n",
      "  tol, rng, random, positive)\n",
      "/Users/michaellaccavole/opt/anaconda3/lib/python3.7/site-packages/sklearn/linear_model/_coordinate_descent.py:472: ConvergenceWarning: Objective did not converge. You might want to increase the number of iterations. Duality gap: 410.38718594802384, tolerance: 0.17546395546249774\n",
      "  tol, rng, random, positive)\n",
      "/Users/michaellaccavole/opt/anaconda3/lib/python3.7/site-packages/sklearn/linear_model/_coordinate_descent.py:472: ConvergenceWarning: Objective did not converge. You might want to increase the number of iterations. Duality gap: 451.27502441773464, tolerance: 0.17546395546249774\n",
      "  tol, rng, random, positive)\n",
      "/Users/michaellaccavole/opt/anaconda3/lib/python3.7/site-packages/sklearn/linear_model/_coordinate_descent.py:472: ConvergenceWarning: Objective did not converge. You might want to increase the number of iterations. Duality gap: 476.9260420354436, tolerance: 0.17546395546249774\n",
      "  tol, rng, random, positive)\n",
      "/Users/michaellaccavole/opt/anaconda3/lib/python3.7/site-packages/sklearn/linear_model/_coordinate_descent.py:472: ConvergenceWarning: Objective did not converge. You might want to increase the number of iterations. Duality gap: 493.43330814872616, tolerance: 0.17546395546249774\n",
      "  tol, rng, random, positive)\n",
      "/Users/michaellaccavole/opt/anaconda3/lib/python3.7/site-packages/sklearn/linear_model/_coordinate_descent.py:472: ConvergenceWarning: Objective did not converge. You might want to increase the number of iterations. Duality gap: 504.2143180550132, tolerance: 0.17546395546249774\n",
      "  tol, rng, random, positive)\n",
      "/Users/michaellaccavole/opt/anaconda3/lib/python3.7/site-packages/sklearn/linear_model/_coordinate_descent.py:472: ConvergenceWarning: Objective did not converge. You might want to increase the number of iterations. Duality gap: 511.8348033878369, tolerance: 0.17546395546249774\n",
      "  tol, rng, random, positive)\n",
      "/Users/michaellaccavole/opt/anaconda3/lib/python3.7/site-packages/sklearn/linear_model/_coordinate_descent.py:472: ConvergenceWarning: Objective did not converge. You might want to increase the number of iterations. Duality gap: 517.2789249878762, tolerance: 0.17546395546249774\n",
      "  tol, rng, random, positive)\n",
      "/Users/michaellaccavole/opt/anaconda3/lib/python3.7/site-packages/sklearn/linear_model/_coordinate_descent.py:472: ConvergenceWarning: Objective did not converge. You might want to increase the number of iterations. Duality gap: 519.5687094418009, tolerance: 0.17546395546249774\n",
      "  tol, rng, random, positive)\n",
      "/Users/michaellaccavole/opt/anaconda3/lib/python3.7/site-packages/sklearn/linear_model/_coordinate_descent.py:472: ConvergenceWarning: Objective did not converge. You might want to increase the number of iterations. Duality gap: 520.0912203521038, tolerance: 0.17546395546249774\n",
      "  tol, rng, random, positive)\n",
      "/Users/michaellaccavole/opt/anaconda3/lib/python3.7/site-packages/sklearn/linear_model/_coordinate_descent.py:472: ConvergenceWarning: Objective did not converge. You might want to increase the number of iterations. Duality gap: 518.7425457350045, tolerance: 0.17546395546249774\n",
      "  tol, rng, random, positive)\n",
      "/Users/michaellaccavole/opt/anaconda3/lib/python3.7/site-packages/sklearn/linear_model/_coordinate_descent.py:472: ConvergenceWarning: Objective did not converge. You might want to increase the number of iterations. Duality gap: 515.5894643829268, tolerance: 0.17546395546249774\n",
      "  tol, rng, random, positive)\n",
      "/Users/michaellaccavole/opt/anaconda3/lib/python3.7/site-packages/sklearn/linear_model/_coordinate_descent.py:472: ConvergenceWarning: Objective did not converge. You might want to increase the number of iterations. Duality gap: 511.0219534088752, tolerance: 0.17546395546249774\n",
      "  tol, rng, random, positive)\n",
      "/Users/michaellaccavole/opt/anaconda3/lib/python3.7/site-packages/sklearn/linear_model/_coordinate_descent.py:472: ConvergenceWarning: Objective did not converge. You might want to increase the number of iterations. Duality gap: 505.0913317898521, tolerance: 0.17546395546249774\n",
      "  tol, rng, random, positive)\n",
      "/Users/michaellaccavole/opt/anaconda3/lib/python3.7/site-packages/sklearn/linear_model/_coordinate_descent.py:472: ConvergenceWarning: Objective did not converge. You might want to increase the number of iterations. Duality gap: 498.1971727245181, tolerance: 0.17546395546249774\n",
      "  tol, rng, random, positive)\n",
      "/Users/michaellaccavole/opt/anaconda3/lib/python3.7/site-packages/sklearn/linear_model/_coordinate_descent.py:472: ConvergenceWarning: Objective did not converge. You might want to increase the number of iterations. Duality gap: 490.24752969168946, tolerance: 0.17546395546249774\n",
      "  tol, rng, random, positive)\n",
      "/Users/michaellaccavole/opt/anaconda3/lib/python3.7/site-packages/sklearn/linear_model/_coordinate_descent.py:472: ConvergenceWarning: Objective did not converge. You might want to increase the number of iterations. Duality gap: 481.53796570936066, tolerance: 0.17546395546249774\n",
      "  tol, rng, random, positive)\n",
      "/Users/michaellaccavole/opt/anaconda3/lib/python3.7/site-packages/sklearn/linear_model/_coordinate_descent.py:472: ConvergenceWarning: Objective did not converge. You might want to increase the number of iterations. Duality gap: 472.3887954627166, tolerance: 0.17546395546249774\n",
      "  tol, rng, random, positive)\n",
      "/Users/michaellaccavole/opt/anaconda3/lib/python3.7/site-packages/sklearn/linear_model/_coordinate_descent.py:472: ConvergenceWarning: Objective did not converge. You might want to increase the number of iterations. Duality gap: 462.75037564989884, tolerance: 0.17546395546249774\n",
      "  tol, rng, random, positive)\n",
      "/Users/michaellaccavole/opt/anaconda3/lib/python3.7/site-packages/sklearn/linear_model/_coordinate_descent.py:472: ConvergenceWarning: Objective did not converge. You might want to increase the number of iterations. Duality gap: 452.7405553960126, tolerance: 0.17546395546249774\n",
      "  tol, rng, random, positive)\n",
      "/Users/michaellaccavole/opt/anaconda3/lib/python3.7/site-packages/sklearn/linear_model/_coordinate_descent.py:472: ConvergenceWarning: Objective did not converge. You might want to increase the number of iterations. Duality gap: 442.6948212961305, tolerance: 0.17546395546249774\n",
      "  tol, rng, random, positive)\n",
      "/Users/michaellaccavole/opt/anaconda3/lib/python3.7/site-packages/sklearn/linear_model/_coordinate_descent.py:472: ConvergenceWarning: Objective did not converge. You might want to increase the number of iterations. Duality gap: 432.7200071918286, tolerance: 0.17546395546249774\n",
      "  tol, rng, random, positive)\n",
      "/Users/michaellaccavole/opt/anaconda3/lib/python3.7/site-packages/sklearn/linear_model/_coordinate_descent.py:472: ConvergenceWarning: Objective did not converge. You might want to increase the number of iterations. Duality gap: 423.09215631256495, tolerance: 0.17546395546249774\n",
      "  tol, rng, random, positive)\n",
      "/Users/michaellaccavole/opt/anaconda3/lib/python3.7/site-packages/sklearn/linear_model/_coordinate_descent.py:472: ConvergenceWarning: Objective did not converge. You might want to increase the number of iterations. Duality gap: 413.8128027797051, tolerance: 0.17546395546249774\n",
      "  tol, rng, random, positive)\n",
      "/Users/michaellaccavole/opt/anaconda3/lib/python3.7/site-packages/sklearn/linear_model/_coordinate_descent.py:472: ConvergenceWarning: Objective did not converge. You might want to increase the number of iterations. Duality gap: 405.1417131789922, tolerance: 0.17546395546249774\n",
      "  tol, rng, random, positive)\n",
      "/Users/michaellaccavole/opt/anaconda3/lib/python3.7/site-packages/sklearn/linear_model/_coordinate_descent.py:472: ConvergenceWarning: Objective did not converge. You might want to increase the number of iterations. Duality gap: 229.97506751928006, tolerance: 0.17448049803107837\n",
      "  tol, rng, random, positive)\n",
      "/Users/michaellaccavole/opt/anaconda3/lib/python3.7/site-packages/sklearn/linear_model/_coordinate_descent.py:472: ConvergenceWarning: Objective did not converge. You might want to increase the number of iterations. Duality gap: 169.72652711523529, tolerance: 0.17448049803107837\n",
      "  tol, rng, random, positive)\n",
      "/Users/michaellaccavole/opt/anaconda3/lib/python3.7/site-packages/sklearn/linear_model/_coordinate_descent.py:472: ConvergenceWarning: Objective did not converge. You might want to increase the number of iterations. Duality gap: 80.42988640938779, tolerance: 0.17448049803107837\n",
      "  tol, rng, random, positive)\n",
      "/Users/michaellaccavole/opt/anaconda3/lib/python3.7/site-packages/sklearn/linear_model/_coordinate_descent.py:472: ConvergenceWarning: Objective did not converge. You might want to increase the number of iterations. Duality gap: 75.42769305836578, tolerance: 0.17448049803107837\n",
      "  tol, rng, random, positive)\n",
      "/Users/michaellaccavole/opt/anaconda3/lib/python3.7/site-packages/sklearn/linear_model/_coordinate_descent.py:472: ConvergenceWarning: Objective did not converge. You might want to increase the number of iterations. Duality gap: 75.17356064734884, tolerance: 0.17448049803107837\n",
      "  tol, rng, random, positive)\n",
      "/Users/michaellaccavole/opt/anaconda3/lib/python3.7/site-packages/sklearn/linear_model/_coordinate_descent.py:472: ConvergenceWarning: Objective did not converge. You might want to increase the number of iterations. Duality gap: 73.86356174572711, tolerance: 0.17448049803107837\n",
      "  tol, rng, random, positive)\n",
      "/Users/michaellaccavole/opt/anaconda3/lib/python3.7/site-packages/sklearn/linear_model/_coordinate_descent.py:472: ConvergenceWarning: Objective did not converge. You might want to increase the number of iterations. Duality gap: 71.90596939356055, tolerance: 0.17448049803107837\n",
      "  tol, rng, random, positive)\n",
      "/Users/michaellaccavole/opt/anaconda3/lib/python3.7/site-packages/sklearn/linear_model/_coordinate_descent.py:472: ConvergenceWarning: Objective did not converge. You might want to increase the number of iterations. Duality gap: 194.60188460002541, tolerance: 0.17448049803107837\n",
      "  tol, rng, random, positive)\n",
      "/Users/michaellaccavole/opt/anaconda3/lib/python3.7/site-packages/sklearn/linear_model/_coordinate_descent.py:472: ConvergenceWarning: Objective did not converge. You might want to increase the number of iterations. Duality gap: 337.72372054033576, tolerance: 0.17448049803107837\n",
      "  tol, rng, random, positive)\n",
      "/Users/michaellaccavole/opt/anaconda3/lib/python3.7/site-packages/sklearn/linear_model/_coordinate_descent.py:472: ConvergenceWarning: Objective did not converge. You might want to increase the number of iterations. Duality gap: 440.5854465589937, tolerance: 0.17448049803107837\n",
      "  tol, rng, random, positive)\n",
      "/Users/michaellaccavole/opt/anaconda3/lib/python3.7/site-packages/sklearn/linear_model/_coordinate_descent.py:472: ConvergenceWarning: Objective did not converge. You might want to increase the number of iterations. Duality gap: 470.6447998344669, tolerance: 0.17448049803107837\n",
      "  tol, rng, random, positive)\n",
      "/Users/michaellaccavole/opt/anaconda3/lib/python3.7/site-packages/sklearn/linear_model/_coordinate_descent.py:472: ConvergenceWarning: Objective did not converge. You might want to increase the number of iterations. Duality gap: 489.1309825246755, tolerance: 0.17448049803107837\n",
      "  tol, rng, random, positive)\n",
      "/Users/michaellaccavole/opt/anaconda3/lib/python3.7/site-packages/sklearn/linear_model/_coordinate_descent.py:472: ConvergenceWarning: Objective did not converge. You might want to increase the number of iterations. Duality gap: 500.64507335015594, tolerance: 0.17448049803107837\n",
      "  tol, rng, random, positive)\n",
      "/Users/michaellaccavole/opt/anaconda3/lib/python3.7/site-packages/sklearn/linear_model/_coordinate_descent.py:472: ConvergenceWarning: Objective did not converge. You might want to increase the number of iterations. Duality gap: 507.8028168779029, tolerance: 0.17448049803107837\n",
      "  tol, rng, random, positive)\n",
      "/Users/michaellaccavole/opt/anaconda3/lib/python3.7/site-packages/sklearn/linear_model/_coordinate_descent.py:472: ConvergenceWarning: Objective did not converge. You might want to increase the number of iterations. Duality gap: 512.2612072043925, tolerance: 0.17448049803107837\n",
      "  tol, rng, random, positive)\n",
      "/Users/michaellaccavole/opt/anaconda3/lib/python3.7/site-packages/sklearn/linear_model/_coordinate_descent.py:472: ConvergenceWarning: Objective did not converge. You might want to increase the number of iterations. Duality gap: 514.3836837876632, tolerance: 0.17448049803107837\n",
      "  tol, rng, random, positive)\n",
      "/Users/michaellaccavole/opt/anaconda3/lib/python3.7/site-packages/sklearn/linear_model/_coordinate_descent.py:472: ConvergenceWarning: Objective did not converge. You might want to increase the number of iterations. Duality gap: 514.9378371098711, tolerance: 0.17448049803107837\n",
      "  tol, rng, random, positive)\n",
      "/Users/michaellaccavole/opt/anaconda3/lib/python3.7/site-packages/sklearn/linear_model/_coordinate_descent.py:472: ConvergenceWarning: Objective did not converge. You might want to increase the number of iterations. Duality gap: 513.7500846926164, tolerance: 0.17448049803107837\n",
      "  tol, rng, random, positive)\n",
      "/Users/michaellaccavole/opt/anaconda3/lib/python3.7/site-packages/sklearn/linear_model/_coordinate_descent.py:472: ConvergenceWarning: Objective did not converge. You might want to increase the number of iterations. Duality gap: 511.2014590324738, tolerance: 0.17448049803107837\n",
      "  tol, rng, random, positive)\n",
      "/Users/michaellaccavole/opt/anaconda3/lib/python3.7/site-packages/sklearn/linear_model/_coordinate_descent.py:472: ConvergenceWarning: Objective did not converge. You might want to increase the number of iterations. Duality gap: 507.394750408157, tolerance: 0.17448049803107837\n",
      "  tol, rng, random, positive)\n",
      "/Users/michaellaccavole/opt/anaconda3/lib/python3.7/site-packages/sklearn/linear_model/_coordinate_descent.py:472: ConvergenceWarning: Objective did not converge. You might want to increase the number of iterations. Duality gap: 502.42093666569565, tolerance: 0.17448049803107837\n",
      "  tol, rng, random, positive)\n",
      "/Users/michaellaccavole/opt/anaconda3/lib/python3.7/site-packages/sklearn/linear_model/_coordinate_descent.py:472: ConvergenceWarning: Objective did not converge. You might want to increase the number of iterations. Duality gap: 496.08149694049706, tolerance: 0.17448049803107837\n",
      "  tol, rng, random, positive)\n",
      "/Users/michaellaccavole/opt/anaconda3/lib/python3.7/site-packages/sklearn/linear_model/_coordinate_descent.py:472: ConvergenceWarning: Objective did not converge. You might want to increase the number of iterations. Duality gap: 488.8115586843535, tolerance: 0.17448049803107837\n",
      "  tol, rng, random, positive)\n"
     ]
    },
    {
     "name": "stderr",
     "output_type": "stream",
     "text": [
      "/Users/michaellaccavole/opt/anaconda3/lib/python3.7/site-packages/sklearn/linear_model/_coordinate_descent.py:472: ConvergenceWarning: Objective did not converge. You might want to increase the number of iterations. Duality gap: 480.79049009877, tolerance: 0.17448049803107837\n",
      "  tol, rng, random, positive)\n",
      "/Users/michaellaccavole/opt/anaconda3/lib/python3.7/site-packages/sklearn/linear_model/_coordinate_descent.py:472: ConvergenceWarning: Objective did not converge. You might want to increase the number of iterations. Duality gap: 472.14316204204783, tolerance: 0.17448049803107837\n",
      "  tol, rng, random, positive)\n",
      "/Users/michaellaccavole/opt/anaconda3/lib/python3.7/site-packages/sklearn/linear_model/_coordinate_descent.py:472: ConvergenceWarning: Objective did not converge. You might want to increase the number of iterations. Duality gap: 463.0236838550852, tolerance: 0.17448049803107837\n",
      "  tol, rng, random, positive)\n",
      "/Users/michaellaccavole/opt/anaconda3/lib/python3.7/site-packages/sklearn/linear_model/_coordinate_descent.py:472: ConvergenceWarning: Objective did not converge. You might want to increase the number of iterations. Duality gap: 453.4256599464125, tolerance: 0.17448049803107837\n",
      "  tol, rng, random, positive)\n",
      "/Users/michaellaccavole/opt/anaconda3/lib/python3.7/site-packages/sklearn/linear_model/_coordinate_descent.py:472: ConvergenceWarning: Objective did not converge. You might want to increase the number of iterations. Duality gap: 443.3449604831725, tolerance: 0.17448049803107837\n",
      "  tol, rng, random, positive)\n",
      "/Users/michaellaccavole/opt/anaconda3/lib/python3.7/site-packages/sklearn/linear_model/_coordinate_descent.py:472: ConvergenceWarning: Objective did not converge. You might want to increase the number of iterations. Duality gap: 433.2497559487863, tolerance: 0.17448049803107837\n",
      "  tol, rng, random, positive)\n",
      "/Users/michaellaccavole/opt/anaconda3/lib/python3.7/site-packages/sklearn/linear_model/_coordinate_descent.py:472: ConvergenceWarning: Objective did not converge. You might want to increase the number of iterations. Duality gap: 423.22946155508146, tolerance: 0.17448049803107837\n",
      "  tol, rng, random, positive)\n",
      "/Users/michaellaccavole/opt/anaconda3/lib/python3.7/site-packages/sklearn/linear_model/_coordinate_descent.py:472: ConvergenceWarning: Objective did not converge. You might want to increase the number of iterations. Duality gap: 413.5672233287455, tolerance: 0.17448049803107837\n",
      "  tol, rng, random, positive)\n",
      "/Users/michaellaccavole/opt/anaconda3/lib/python3.7/site-packages/sklearn/linear_model/_coordinate_descent.py:472: ConvergenceWarning: Objective did not converge. You might want to increase the number of iterations. Duality gap: 404.266772338134, tolerance: 0.17448049803107837\n",
      "  tol, rng, random, positive)\n",
      "/Users/michaellaccavole/opt/anaconda3/lib/python3.7/site-packages/sklearn/linear_model/_coordinate_descent.py:472: ConvergenceWarning: Objective did not converge. You might want to increase the number of iterations. Duality gap: 395.54717215051994, tolerance: 0.17448049803107837\n",
      "  tol, rng, random, positive)\n",
      "/Users/michaellaccavole/opt/anaconda3/lib/python3.7/site-packages/sklearn/linear_model/_coordinate_descent.py:472: ConvergenceWarning: Objective did not converge. You might want to increase the number of iterations. Duality gap: 253.16952312818182, tolerance: 0.17548631558388375\n",
      "  tol, rng, random, positive)\n",
      "/Users/michaellaccavole/opt/anaconda3/lib/python3.7/site-packages/sklearn/linear_model/_coordinate_descent.py:472: ConvergenceWarning: Objective did not converge. You might want to increase the number of iterations. Duality gap: 217.41492362057988, tolerance: 0.17548631558388375\n",
      "  tol, rng, random, positive)\n",
      "/Users/michaellaccavole/opt/anaconda3/lib/python3.7/site-packages/sklearn/linear_model/_coordinate_descent.py:472: ConvergenceWarning: Objective did not converge. You might want to increase the number of iterations. Duality gap: 163.92302904516805, tolerance: 0.17548631558388375\n",
      "  tol, rng, random, positive)\n",
      "/Users/michaellaccavole/opt/anaconda3/lib/python3.7/site-packages/sklearn/linear_model/_coordinate_descent.py:472: ConvergenceWarning: Objective did not converge. You might want to increase the number of iterations. Duality gap: 90.59321611498922, tolerance: 0.17548631558388375\n",
      "  tol, rng, random, positive)\n",
      "/Users/michaellaccavole/opt/anaconda3/lib/python3.7/site-packages/sklearn/linear_model/_coordinate_descent.py:472: ConvergenceWarning: Objective did not converge. You might want to increase the number of iterations. Duality gap: 74.71530623610033, tolerance: 0.17548631558388375\n",
      "  tol, rng, random, positive)\n",
      "/Users/michaellaccavole/opt/anaconda3/lib/python3.7/site-packages/sklearn/linear_model/_coordinate_descent.py:472: ConvergenceWarning: Objective did not converge. You might want to increase the number of iterations. Duality gap: 73.36859564695646, tolerance: 0.17548631558388375\n",
      "  tol, rng, random, positive)\n",
      "/Users/michaellaccavole/opt/anaconda3/lib/python3.7/site-packages/sklearn/linear_model/_coordinate_descent.py:472: ConvergenceWarning: Objective did not converge. You might want to increase the number of iterations. Duality gap: 71.39269577480525, tolerance: 0.17548631558388375\n",
      "  tol, rng, random, positive)\n",
      "/Users/michaellaccavole/opt/anaconda3/lib/python3.7/site-packages/sklearn/linear_model/_coordinate_descent.py:472: ConvergenceWarning: Objective did not converge. You might want to increase the number of iterations. Duality gap: 97.85898200050121, tolerance: 0.17548631558388375\n",
      "  tol, rng, random, positive)\n",
      "/Users/michaellaccavole/opt/anaconda3/lib/python3.7/site-packages/sklearn/linear_model/_coordinate_descent.py:472: ConvergenceWarning: Objective did not converge. You might want to increase the number of iterations. Duality gap: 252.20394068213267, tolerance: 0.17548631558388375\n",
      "  tol, rng, random, positive)\n",
      "/Users/michaellaccavole/opt/anaconda3/lib/python3.7/site-packages/sklearn/linear_model/_coordinate_descent.py:472: ConvergenceWarning: Objective did not converge. You might want to increase the number of iterations. Duality gap: 345.55086182453806, tolerance: 0.17548631558388375\n",
      "  tol, rng, random, positive)\n",
      "/Users/michaellaccavole/opt/anaconda3/lib/python3.7/site-packages/sklearn/linear_model/_coordinate_descent.py:472: ConvergenceWarning: Objective did not converge. You might want to increase the number of iterations. Duality gap: 402.1955548857664, tolerance: 0.17548631558388375\n",
      "  tol, rng, random, positive)\n",
      "/Users/michaellaccavole/opt/anaconda3/lib/python3.7/site-packages/sklearn/linear_model/_coordinate_descent.py:472: ConvergenceWarning: Objective did not converge. You might want to increase the number of iterations. Duality gap: 438.0006486483862, tolerance: 0.17548631558388375\n",
      "  tol, rng, random, positive)\n",
      "/Users/michaellaccavole/opt/anaconda3/lib/python3.7/site-packages/sklearn/linear_model/_coordinate_descent.py:472: ConvergenceWarning: Objective did not converge. You might want to increase the number of iterations. Duality gap: 461.38906404203647, tolerance: 0.17548631558388375\n",
      "  tol, rng, random, positive)\n",
      "/Users/michaellaccavole/opt/anaconda3/lib/python3.7/site-packages/sklearn/linear_model/_coordinate_descent.py:472: ConvergenceWarning: Objective did not converge. You might want to increase the number of iterations. Duality gap: 477.0335021971305, tolerance: 0.17548631558388375\n",
      "  tol, rng, random, positive)\n",
      "/Users/michaellaccavole/opt/anaconda3/lib/python3.7/site-packages/sklearn/linear_model/_coordinate_descent.py:472: ConvergenceWarning: Objective did not converge. You might want to increase the number of iterations. Duality gap: 488.1828933469315, tolerance: 0.17548631558388375\n",
      "  tol, rng, random, positive)\n",
      "/Users/michaellaccavole/opt/anaconda3/lib/python3.7/site-packages/sklearn/linear_model/_coordinate_descent.py:472: ConvergenceWarning: Objective did not converge. You might want to increase the number of iterations. Duality gap: 495.57275552422857, tolerance: 0.17548631558388375\n",
      "  tol, rng, random, positive)\n",
      "/Users/michaellaccavole/opt/anaconda3/lib/python3.7/site-packages/sklearn/linear_model/_coordinate_descent.py:472: ConvergenceWarning: Objective did not converge. You might want to increase the number of iterations. Duality gap: 500.3174019788061, tolerance: 0.17548631558388375\n",
      "  tol, rng, random, positive)\n",
      "/Users/michaellaccavole/opt/anaconda3/lib/python3.7/site-packages/sklearn/linear_model/_coordinate_descent.py:472: ConvergenceWarning: Objective did not converge. You might want to increase the number of iterations. Duality gap: 502.4148513562045, tolerance: 0.17548631558388375\n",
      "  tol, rng, random, positive)\n",
      "/Users/michaellaccavole/opt/anaconda3/lib/python3.7/site-packages/sklearn/linear_model/_coordinate_descent.py:472: ConvergenceWarning: Objective did not converge. You might want to increase the number of iterations. Duality gap: 502.510977356695, tolerance: 0.17548631558388375\n",
      "  tol, rng, random, positive)\n",
      "/Users/michaellaccavole/opt/anaconda3/lib/python3.7/site-packages/sklearn/linear_model/_coordinate_descent.py:472: ConvergenceWarning: Objective did not converge. You might want to increase the number of iterations. Duality gap: 500.59852098033974, tolerance: 0.17548631558388375\n",
      "  tol, rng, random, positive)\n",
      "/Users/michaellaccavole/opt/anaconda3/lib/python3.7/site-packages/sklearn/linear_model/_coordinate_descent.py:472: ConvergenceWarning: Objective did not converge. You might want to increase the number of iterations. Duality gap: 497.1234320673163, tolerance: 0.17548631558388375\n",
      "  tol, rng, random, positive)\n",
      "/Users/michaellaccavole/opt/anaconda3/lib/python3.7/site-packages/sklearn/linear_model/_coordinate_descent.py:472: ConvergenceWarning: Objective did not converge. You might want to increase the number of iterations. Duality gap: 492.15483768529526, tolerance: 0.17548631558388375\n",
      "  tol, rng, random, positive)\n",
      "/Users/michaellaccavole/opt/anaconda3/lib/python3.7/site-packages/sklearn/linear_model/_coordinate_descent.py:472: ConvergenceWarning: Objective did not converge. You might want to increase the number of iterations. Duality gap: 486.0755993844009, tolerance: 0.17548631558388375\n",
      "  tol, rng, random, positive)\n",
      "/Users/michaellaccavole/opt/anaconda3/lib/python3.7/site-packages/sklearn/linear_model/_coordinate_descent.py:472: ConvergenceWarning: Objective did not converge. You might want to increase the number of iterations. Duality gap: 479.25371224420905, tolerance: 0.17548631558388375\n",
      "  tol, rng, random, positive)\n",
      "/Users/michaellaccavole/opt/anaconda3/lib/python3.7/site-packages/sklearn/linear_model/_coordinate_descent.py:472: ConvergenceWarning: Objective did not converge. You might want to increase the number of iterations. Duality gap: 471.60710078387893, tolerance: 0.17548631558388375\n",
      "  tol, rng, random, positive)\n",
      "/Users/michaellaccavole/opt/anaconda3/lib/python3.7/site-packages/sklearn/linear_model/_coordinate_descent.py:472: ConvergenceWarning: Objective did not converge. You might want to increase the number of iterations. Duality gap: 463.36934744395575, tolerance: 0.17548631558388375\n",
      "  tol, rng, random, positive)\n",
      "/Users/michaellaccavole/opt/anaconda3/lib/python3.7/site-packages/sklearn/linear_model/_coordinate_descent.py:472: ConvergenceWarning: Objective did not converge. You might want to increase the number of iterations. Duality gap: 454.66811386950803, tolerance: 0.17548631558388375\n",
      "  tol, rng, random, positive)\n",
      "/Users/michaellaccavole/opt/anaconda3/lib/python3.7/site-packages/sklearn/linear_model/_coordinate_descent.py:472: ConvergenceWarning: Objective did not converge. You might want to increase the number of iterations. Duality gap: 445.4921095504705, tolerance: 0.17548631558388375\n",
      "  tol, rng, random, positive)\n"
     ]
    },
    {
     "name": "stderr",
     "output_type": "stream",
     "text": [
      "/Users/michaellaccavole/opt/anaconda3/lib/python3.7/site-packages/sklearn/linear_model/_coordinate_descent.py:472: ConvergenceWarning: Objective did not converge. You might want to increase the number of iterations. Duality gap: 436.16596175451366, tolerance: 0.17548631558388375\n",
      "  tol, rng, random, positive)\n",
      "/Users/michaellaccavole/opt/anaconda3/lib/python3.7/site-packages/sklearn/linear_model/_coordinate_descent.py:472: ConvergenceWarning: Objective did not converge. You might want to increase the number of iterations. Duality gap: 426.7434374039745, tolerance: 0.17548631558388375\n",
      "  tol, rng, random, positive)\n",
      "/Users/michaellaccavole/opt/anaconda3/lib/python3.7/site-packages/sklearn/linear_model/_coordinate_descent.py:472: ConvergenceWarning: Objective did not converge. You might want to increase the number of iterations. Duality gap: 417.6127856875258, tolerance: 0.17548631558388375\n",
      "  tol, rng, random, positive)\n",
      "/Users/michaellaccavole/opt/anaconda3/lib/python3.7/site-packages/sklearn/linear_model/_coordinate_descent.py:472: ConvergenceWarning: Objective did not converge. You might want to increase the number of iterations. Duality gap: 408.8891316313368, tolerance: 0.17548631558388375\n",
      "  tol, rng, random, positive)\n",
      "/Users/michaellaccavole/opt/anaconda3/lib/python3.7/site-packages/sklearn/linear_model/_coordinate_descent.py:472: ConvergenceWarning: Objective did not converge. You might want to increase the number of iterations. Duality gap: 400.6122429338895, tolerance: 0.17548631558388375\n",
      "  tol, rng, random, positive)\n",
      "/Users/michaellaccavole/opt/anaconda3/lib/python3.7/site-packages/sklearn/linear_model/_coordinate_descent.py:476: ConvergenceWarning: Objective did not converge. You might want to increase the number of iterations. Duality gap: 501.8375149461226, tolerance: 0.21914958823196604\n",
      "  positive)\n"
     ]
    },
    {
     "data": {
      "text/plain": [
       "LassoCV(alphas=array([1.00000000e-03, 1.14975700e-03, 1.32194115e-03, 1.51991108e-03,\n",
       "       1.74752840e-03, 2.00923300e-03, 2.31012970e-03, 2.65608778e-03,\n",
       "       3.05385551e-03, 3.51119173e-03, 4.03701726e-03, 4.64158883e-03,\n",
       "       5.33669923e-03, 6.13590727e-03, 7.05480231e-03, 8.11130831e-03,\n",
       "       9.32603347e-03, 1.07226722e-02, 1.23284674e-02, 1.41747416e-02,\n",
       "       1.62975083e-02, 1.87381742e-0...\n",
       "       2.15443469e+02, 2.47707636e+02, 2.84803587e+02, 3.27454916e+02,\n",
       "       3.76493581e+02, 4.32876128e+02, 4.97702356e+02, 5.72236766e+02,\n",
       "       6.57933225e+02, 7.56463328e+02, 8.69749003e+02, 1.00000000e+03]),\n",
       "        copy_X=True, cv=5, eps=0.001, fit_intercept=True, max_iter=1000,\n",
       "        n_alphas=100, n_jobs=None, normalize=False, positive=False,\n",
       "        precompute='auto', random_state=None, selection='cyclic', tol=0.0001,\n",
       "        verbose=False)"
      ]
     },
     "execution_count": 76,
     "metadata": {},
     "output_type": "execute_result"
    }
   ],
   "source": [
    "# Set up alpha paramters to check\n",
    "l_alphas = np.logspace(-3, 3, 100)\n",
    "\n",
    "# Cross-validate over our range of alphas\n",
    "lasso_cv = LassoCV(\n",
    "        alphas = l_alphas,\n",
    "        cv=5)\n",
    "\n",
    "# Fit LASSO model using best alpha parameter\n",
    "lasso_cv.fit(X_train, y_train)"
   ]
  },
  {
   "cell_type": "code",
   "execution_count": 77,
   "metadata": {},
   "outputs": [
    {
     "data": {
      "text/plain": [
       "0.001"
      ]
     },
     "execution_count": 77,
     "metadata": {},
     "output_type": "execute_result"
    }
   ],
   "source": [
    "# Which alpha value was used?\n",
    "lasso_cv.alpha_"
   ]
  },
  {
   "cell_type": "code",
   "execution_count": 78,
   "metadata": {},
   "outputs": [
    {
     "data": {
      "text/plain": [
       "array([-3.51194328e-08, -1.48654966e-08,  3.39475528e-08, -6.99786166e-08,\n",
       "       -1.43450359e-08,  9.17271836e-09, -8.67986474e-08,  2.40523268e-06,\n",
       "        5.65868948e-02,  4.62678860e-01, -4.03519235e-02,  5.57811032e-02,\n",
       "       -2.58979966e-02,  4.44743858e-02,  2.77061060e-02,  0.00000000e+00,\n",
       "        1.37372212e-01,  8.45426927e-02, -1.63969894e-01, -1.20556387e-01,\n",
       "       -2.74099513e-01, -1.39723933e-01, -9.79965569e-02,  1.87742832e-02,\n",
       "       -1.33360483e-02,  2.45519068e-02,  3.25598552e-01, -3.00393215e-01,\n",
       "       -7.25416398e-02,  2.63897506e-02, -0.00000000e+00, -1.38629281e-01,\n",
       "       -9.00975554e-02,  0.00000000e+00,  0.00000000e+00, -1.68444631e-01,\n",
       "       -7.36679392e-02,  2.47069198e-01,  1.46517416e-01,  5.90076706e-03,\n",
       "        1.94761518e-02,  1.54037927e-01, -1.31207862e-01, -1.11979319e-02,\n",
       "        0.00000000e+00, -3.83253492e-02,  7.01648362e-02, -9.25258206e-02,\n",
       "       -1.41410016e-01,  1.52845733e-01, -0.00000000e+00,  3.37350088e-01,\n",
       "        0.00000000e+00, -0.00000000e+00, -1.73530207e-01,  0.00000000e+00,\n",
       "        0.00000000e+00,  0.00000000e+00,  2.81479332e-02, -0.00000000e+00,\n",
       "       -0.00000000e+00, -9.03684983e-02,  1.10030178e-01, -5.96575447e-02,\n",
       "       -1.29629537e-01, -9.14502351e-02,  4.62628774e-02,  0.00000000e+00,\n",
       "       -6.75169641e-02, -2.04448019e-02,  5.46786062e-02,  1.66672471e-01,\n",
       "        1.67958233e-01])"
      ]
     },
     "execution_count": 78,
     "metadata": {},
     "output_type": "execute_result"
    }
   ],
   "source": [
    "# What do the coefficients look like?\n",
    "lasso_cv.coef_"
   ]
  },
  {
   "cell_type": "code",
   "execution_count": 80,
   "metadata": {},
   "outputs": [
    {
     "name": "stderr",
     "output_type": "stream",
     "text": [
      "/Users/michaellaccavole/opt/anaconda3/lib/python3.7/site-packages/sklearn/linear_model/_coordinate_descent.py:472: ConvergenceWarning: Objective did not converge. You might want to increase the number of iterations. Duality gap: 210.634635522699, tolerance: 0.14096675104118192\n",
      "  tol, rng, random, positive)\n",
      "/Users/michaellaccavole/opt/anaconda3/lib/python3.7/site-packages/sklearn/linear_model/_coordinate_descent.py:472: ConvergenceWarning: Objective did not converge. You might want to increase the number of iterations. Duality gap: 170.0982772577434, tolerance: 0.14096675104118192\n",
      "  tol, rng, random, positive)\n",
      "/Users/michaellaccavole/opt/anaconda3/lib/python3.7/site-packages/sklearn/linear_model/_coordinate_descent.py:472: ConvergenceWarning: Objective did not converge. You might want to increase the number of iterations. Duality gap: 108.72285828451493, tolerance: 0.14096675104118192\n",
      "  tol, rng, random, positive)\n",
      "/Users/michaellaccavole/opt/anaconda3/lib/python3.7/site-packages/sklearn/linear_model/_coordinate_descent.py:472: ConvergenceWarning: Objective did not converge. You might want to increase the number of iterations. Duality gap: 62.18796672789779, tolerance: 0.14096675104118192\n",
      "  tol, rng, random, positive)\n",
      "/Users/michaellaccavole/opt/anaconda3/lib/python3.7/site-packages/sklearn/linear_model/_coordinate_descent.py:472: ConvergenceWarning: Objective did not converge. You might want to increase the number of iterations. Duality gap: 61.949718138366734, tolerance: 0.14096675104118192\n",
      "  tol, rng, random, positive)\n",
      "/Users/michaellaccavole/opt/anaconda3/lib/python3.7/site-packages/sklearn/linear_model/_coordinate_descent.py:472: ConvergenceWarning: Objective did not converge. You might want to increase the number of iterations. Duality gap: 60.867462338783184, tolerance: 0.14096675104118192\n",
      "  tol, rng, random, positive)\n",
      "/Users/michaellaccavole/opt/anaconda3/lib/python3.7/site-packages/sklearn/linear_model/_coordinate_descent.py:472: ConvergenceWarning: Objective did not converge. You might want to increase the number of iterations. Duality gap: 78.08060773940906, tolerance: 0.14096675104118192\n",
      "  tol, rng, random, positive)\n",
      "/Users/michaellaccavole/opt/anaconda3/lib/python3.7/site-packages/sklearn/linear_model/_coordinate_descent.py:472: ConvergenceWarning: Objective did not converge. You might want to increase the number of iterations. Duality gap: 187.7497766638631, tolerance: 0.14096675104118192\n",
      "  tol, rng, random, positive)\n",
      "/Users/michaellaccavole/opt/anaconda3/lib/python3.7/site-packages/sklearn/linear_model/_coordinate_descent.py:472: ConvergenceWarning: Objective did not converge. You might want to increase the number of iterations. Duality gap: 285.38275253296837, tolerance: 0.14096675104118192\n",
      "  tol, rng, random, positive)\n",
      "/Users/michaellaccavole/opt/anaconda3/lib/python3.7/site-packages/sklearn/linear_model/_coordinate_descent.py:472: ConvergenceWarning: Objective did not converge. You might want to increase the number of iterations. Duality gap: 339.0146196214429, tolerance: 0.14096675104118192\n",
      "  tol, rng, random, positive)\n",
      "/Users/michaellaccavole/opt/anaconda3/lib/python3.7/site-packages/sklearn/linear_model/_coordinate_descent.py:472: ConvergenceWarning: Objective did not converge. You might want to increase the number of iterations. Duality gap: 370.3465601626484, tolerance: 0.14096675104118192\n",
      "  tol, rng, random, positive)\n",
      "/Users/michaellaccavole/opt/anaconda3/lib/python3.7/site-packages/sklearn/linear_model/_coordinate_descent.py:472: ConvergenceWarning: Objective did not converge. You might want to increase the number of iterations. Duality gap: 389.45930923651156, tolerance: 0.14096675104118192\n",
      "  tol, rng, random, positive)\n",
      "/Users/michaellaccavole/opt/anaconda3/lib/python3.7/site-packages/sklearn/linear_model/_coordinate_descent.py:472: ConvergenceWarning: Objective did not converge. You might want to increase the number of iterations. Duality gap: 401.4165855126802, tolerance: 0.14096675104118192\n",
      "  tol, rng, random, positive)\n",
      "/Users/michaellaccavole/opt/anaconda3/lib/python3.7/site-packages/sklearn/linear_model/_coordinate_descent.py:472: ConvergenceWarning: Objective did not converge. You might want to increase the number of iterations. Duality gap: 409.19327756025183, tolerance: 0.14096675104118192\n",
      "  tol, rng, random, positive)\n",
      "/Users/michaellaccavole/opt/anaconda3/lib/python3.7/site-packages/sklearn/linear_model/_coordinate_descent.py:472: ConvergenceWarning: Objective did not converge. You might want to increase the number of iterations. Duality gap: 414.1041340817547, tolerance: 0.14096675104118192\n",
      "  tol, rng, random, positive)\n",
      "/Users/michaellaccavole/opt/anaconda3/lib/python3.7/site-packages/sklearn/linear_model/_coordinate_descent.py:472: ConvergenceWarning: Objective did not converge. You might want to increase the number of iterations. Duality gap: 416.5321468064578, tolerance: 0.14096675104118192\n",
      "  tol, rng, random, positive)\n",
      "/Users/michaellaccavole/opt/anaconda3/lib/python3.7/site-packages/sklearn/linear_model/_coordinate_descent.py:472: ConvergenceWarning: Objective did not converge. You might want to increase the number of iterations. Duality gap: 417.06872259790896, tolerance: 0.14096675104118192\n",
      "  tol, rng, random, positive)\n",
      "/Users/michaellaccavole/opt/anaconda3/lib/python3.7/site-packages/sklearn/linear_model/_coordinate_descent.py:472: ConvergenceWarning: Objective did not converge. You might want to increase the number of iterations. Duality gap: 416.33349301518365, tolerance: 0.14096675104118192\n",
      "  tol, rng, random, positive)\n",
      "/Users/michaellaccavole/opt/anaconda3/lib/python3.7/site-packages/sklearn/linear_model/_coordinate_descent.py:472: ConvergenceWarning: Objective did not converge. You might want to increase the number of iterations. Duality gap: 414.40506379142806, tolerance: 0.14096675104118192\n",
      "  tol, rng, random, positive)\n",
      "/Users/michaellaccavole/opt/anaconda3/lib/python3.7/site-packages/sklearn/linear_model/_coordinate_descent.py:472: ConvergenceWarning: Objective did not converge. You might want to increase the number of iterations. Duality gap: 411.2473714402717, tolerance: 0.14096675104118192\n",
      "  tol, rng, random, positive)\n",
      "/Users/michaellaccavole/opt/anaconda3/lib/python3.7/site-packages/sklearn/linear_model/_coordinate_descent.py:472: ConvergenceWarning: Objective did not converge. You might want to increase the number of iterations. Duality gap: 407.0850920242629, tolerance: 0.14096675104118192\n",
      "  tol, rng, random, positive)\n",
      "/Users/michaellaccavole/opt/anaconda3/lib/python3.7/site-packages/sklearn/linear_model/_coordinate_descent.py:472: ConvergenceWarning: Objective did not converge. You might want to increase the number of iterations. Duality gap: 402.0964729803574, tolerance: 0.14096675104118192\n",
      "  tol, rng, random, positive)\n",
      "/Users/michaellaccavole/opt/anaconda3/lib/python3.7/site-packages/sklearn/linear_model/_coordinate_descent.py:472: ConvergenceWarning: Objective did not converge. You might want to increase the number of iterations. Duality gap: 396.2784341448904, tolerance: 0.14096675104118192\n",
      "  tol, rng, random, positive)\n",
      "/Users/michaellaccavole/opt/anaconda3/lib/python3.7/site-packages/sklearn/linear_model/_coordinate_descent.py:472: ConvergenceWarning: Objective did not converge. You might want to increase the number of iterations. Duality gap: 389.9502868394133, tolerance: 0.14096675104118192\n",
      "  tol, rng, random, positive)\n",
      "/Users/michaellaccavole/opt/anaconda3/lib/python3.7/site-packages/sklearn/linear_model/_coordinate_descent.py:472: ConvergenceWarning: Objective did not converge. You might want to increase the number of iterations. Duality gap: 383.16656178917367, tolerance: 0.14096675104118192\n",
      "  tol, rng, random, positive)\n",
      "/Users/michaellaccavole/opt/anaconda3/lib/python3.7/site-packages/sklearn/linear_model/_coordinate_descent.py:472: ConvergenceWarning: Objective did not converge. You might want to increase the number of iterations. Duality gap: 376.019649327525, tolerance: 0.14096675104118192\n",
      "  tol, rng, random, positive)\n",
      "/Users/michaellaccavole/opt/anaconda3/lib/python3.7/site-packages/sklearn/linear_model/_coordinate_descent.py:472: ConvergenceWarning: Objective did not converge. You might want to increase the number of iterations. Duality gap: 368.52088609901597, tolerance: 0.14096675104118192\n",
      "  tol, rng, random, positive)\n",
      "/Users/michaellaccavole/opt/anaconda3/lib/python3.7/site-packages/sklearn/linear_model/_coordinate_descent.py:472: ConvergenceWarning: Objective did not converge. You might want to increase the number of iterations. Duality gap: 360.77810775305556, tolerance: 0.14096675104118192\n",
      "  tol, rng, random, positive)\n",
      "/Users/michaellaccavole/opt/anaconda3/lib/python3.7/site-packages/sklearn/linear_model/_coordinate_descent.py:472: ConvergenceWarning: Objective did not converge. You might want to increase the number of iterations. Duality gap: 352.8025361633149, tolerance: 0.14096675104118192\n",
      "  tol, rng, random, positive)\n",
      "/Users/michaellaccavole/opt/anaconda3/lib/python3.7/site-packages/sklearn/linear_model/_coordinate_descent.py:472: ConvergenceWarning: Objective did not converge. You might want to increase the number of iterations. Duality gap: 344.9208511179478, tolerance: 0.14096675104118192\n",
      "  tol, rng, random, positive)\n",
      "/Users/michaellaccavole/opt/anaconda3/lib/python3.7/site-packages/sklearn/linear_model/_coordinate_descent.py:472: ConvergenceWarning: Objective did not converge. You might want to increase the number of iterations. Duality gap: 337.28910011130773, tolerance: 0.14096675104118192\n",
      "  tol, rng, random, positive)\n",
      "/Users/michaellaccavole/opt/anaconda3/lib/python3.7/site-packages/sklearn/linear_model/_coordinate_descent.py:472: ConvergenceWarning: Objective did not converge. You might want to increase the number of iterations. Duality gap: 330.0737737764315, tolerance: 0.14096675104118192\n",
      "  tol, rng, random, positive)\n",
      "/Users/michaellaccavole/opt/anaconda3/lib/python3.7/site-packages/sklearn/linear_model/_coordinate_descent.py:472: ConvergenceWarning: Objective did not converge. You might want to increase the number of iterations. Duality gap: 323.2159746055988, tolerance: 0.14096675104118192\n",
      "  tol, rng, random, positive)\n",
      "/Users/michaellaccavole/opt/anaconda3/lib/python3.7/site-packages/sklearn/linear_model/_coordinate_descent.py:472: ConvergenceWarning: Objective did not converge. You might want to increase the number of iterations. Duality gap: 219.33306376960292, tolerance: 0.14204877903687335\n",
      "  tol, rng, random, positive)\n",
      "/Users/michaellaccavole/opt/anaconda3/lib/python3.7/site-packages/sklearn/linear_model/_coordinate_descent.py:472: ConvergenceWarning: Objective did not converge. You might want to increase the number of iterations. Duality gap: 194.94538883005578, tolerance: 0.14204877903687335\n",
      "  tol, rng, random, positive)\n",
      "/Users/michaellaccavole/opt/anaconda3/lib/python3.7/site-packages/sklearn/linear_model/_coordinate_descent.py:472: ConvergenceWarning: Objective did not converge. You might want to increase the number of iterations. Duality gap: 157.8741616476717, tolerance: 0.14204877903687335\n",
      "  tol, rng, random, positive)\n",
      "/Users/michaellaccavole/opt/anaconda3/lib/python3.7/site-packages/sklearn/linear_model/_coordinate_descent.py:472: ConvergenceWarning: Objective did not converge. You might want to increase the number of iterations. Duality gap: 106.32276210381394, tolerance: 0.14204877903687335\n",
      "  tol, rng, random, positive)\n",
      "/Users/michaellaccavole/opt/anaconda3/lib/python3.7/site-packages/sklearn/linear_model/_coordinate_descent.py:472: ConvergenceWarning: Objective did not converge. You might want to increase the number of iterations. Duality gap: 61.30774104007958, tolerance: 0.14204877903687335\n",
      "  tol, rng, random, positive)\n",
      "/Users/michaellaccavole/opt/anaconda3/lib/python3.7/site-packages/sklearn/linear_model/_coordinate_descent.py:472: ConvergenceWarning: Objective did not converge. You might want to increase the number of iterations. Duality gap: 60.325050435467006, tolerance: 0.14204877903687335\n",
      "  tol, rng, random, positive)\n",
      "/Users/michaellaccavole/opt/anaconda3/lib/python3.7/site-packages/sklearn/linear_model/_coordinate_descent.py:472: ConvergenceWarning: Objective did not converge. You might want to increase the number of iterations. Duality gap: 58.82539220541014, tolerance: 0.14204877903687335\n",
      "  tol, rng, random, positive)\n",
      "/Users/michaellaccavole/opt/anaconda3/lib/python3.7/site-packages/sklearn/linear_model/_coordinate_descent.py:472: ConvergenceWarning: Objective did not converge. You might want to increase the number of iterations. Duality gap: 64.96547682752885, tolerance: 0.14204877903687335\n",
      "  tol, rng, random, positive)\n",
      "/Users/michaellaccavole/opt/anaconda3/lib/python3.7/site-packages/sklearn/linear_model/_coordinate_descent.py:472: ConvergenceWarning: Objective did not converge. You might want to increase the number of iterations. Duality gap: 159.03782700702436, tolerance: 0.14204877903687335\n",
      "  tol, rng, random, positive)\n",
      "/Users/michaellaccavole/opt/anaconda3/lib/python3.7/site-packages/sklearn/linear_model/_coordinate_descent.py:472: ConvergenceWarning: Objective did not converge. You might want to increase the number of iterations. Duality gap: 255.65134626181867, tolerance: 0.14204877903687335\n",
      "  tol, rng, random, positive)\n",
      "/Users/michaellaccavole/opt/anaconda3/lib/python3.7/site-packages/sklearn/linear_model/_coordinate_descent.py:472: ConvergenceWarning: Objective did not converge. You might want to increase the number of iterations. Duality gap: 312.8565853415231, tolerance: 0.14204877903687335\n",
      "  tol, rng, random, positive)\n",
      "/Users/michaellaccavole/opt/anaconda3/lib/python3.7/site-packages/sklearn/linear_model/_coordinate_descent.py:472: ConvergenceWarning: Objective did not converge. You might want to increase the number of iterations. Duality gap: 348.28325780073357, tolerance: 0.14204877903687335\n",
      "  tol, rng, random, positive)\n",
      "/Users/michaellaccavole/opt/anaconda3/lib/python3.7/site-packages/sklearn/linear_model/_coordinate_descent.py:472: ConvergenceWarning: Objective did not converge. You might want to increase the number of iterations. Duality gap: 371.14757187927177, tolerance: 0.14204877903687335\n",
      "  tol, rng, random, positive)\n",
      "/Users/michaellaccavole/opt/anaconda3/lib/python3.7/site-packages/sklearn/linear_model/_coordinate_descent.py:472: ConvergenceWarning: Objective did not converge. You might want to increase the number of iterations. Duality gap: 386.36462437416196, tolerance: 0.14204877903687335\n",
      "  tol, rng, random, positive)\n",
      "/Users/michaellaccavole/opt/anaconda3/lib/python3.7/site-packages/sklearn/linear_model/_coordinate_descent.py:472: ConvergenceWarning: Objective did not converge. You might want to increase the number of iterations. Duality gap: 398.06554338698686, tolerance: 0.14204877903687335\n",
      "  tol, rng, random, positive)\n",
      "/Users/michaellaccavole/opt/anaconda3/lib/python3.7/site-packages/sklearn/linear_model/_coordinate_descent.py:472: ConvergenceWarning: Objective did not converge. You might want to increase the number of iterations. Duality gap: 406.117916202052, tolerance: 0.14204877903687335\n",
      "  tol, rng, random, positive)\n",
      "/Users/michaellaccavole/opt/anaconda3/lib/python3.7/site-packages/sklearn/linear_model/_coordinate_descent.py:472: ConvergenceWarning: Objective did not converge. You might want to increase the number of iterations. Duality gap: 410.8953916067145, tolerance: 0.14204877903687335\n",
      "  tol, rng, random, positive)\n",
      "/Users/michaellaccavole/opt/anaconda3/lib/python3.7/site-packages/sklearn/linear_model/_coordinate_descent.py:472: ConvergenceWarning: Objective did not converge. You might want to increase the number of iterations. Duality gap: 413.2977698751862, tolerance: 0.14204877903687335\n",
      "  tol, rng, random, positive)\n",
      "/Users/michaellaccavole/opt/anaconda3/lib/python3.7/site-packages/sklearn/linear_model/_coordinate_descent.py:472: ConvergenceWarning: Objective did not converge. You might want to increase the number of iterations. Duality gap: 413.54111939977133, tolerance: 0.14204877903687335\n",
      "  tol, rng, random, positive)\n",
      "/Users/michaellaccavole/opt/anaconda3/lib/python3.7/site-packages/sklearn/linear_model/_coordinate_descent.py:472: ConvergenceWarning: Objective did not converge. You might want to increase the number of iterations. Duality gap: 411.857914341095, tolerance: 0.14204877903687335\n",
      "  tol, rng, random, positive)\n",
      "/Users/michaellaccavole/opt/anaconda3/lib/python3.7/site-packages/sklearn/linear_model/_coordinate_descent.py:472: ConvergenceWarning: Objective did not converge. You might want to increase the number of iterations. Duality gap: 408.90390862086156, tolerance: 0.14204877903687335\n",
      "  tol, rng, random, positive)\n"
     ]
    },
    {
     "name": "stderr",
     "output_type": "stream",
     "text": [
      "/Users/michaellaccavole/opt/anaconda3/lib/python3.7/site-packages/sklearn/linear_model/_coordinate_descent.py:472: ConvergenceWarning: Objective did not converge. You might want to increase the number of iterations. Duality gap: 404.68567028512257, tolerance: 0.14204877903687335\n",
      "  tol, rng, random, positive)\n",
      "/Users/michaellaccavole/opt/anaconda3/lib/python3.7/site-packages/sklearn/linear_model/_coordinate_descent.py:472: ConvergenceWarning: Objective did not converge. You might want to increase the number of iterations. Duality gap: 399.46850989351526, tolerance: 0.14204877903687335\n",
      "  tol, rng, random, positive)\n",
      "/Users/michaellaccavole/opt/anaconda3/lib/python3.7/site-packages/sklearn/linear_model/_coordinate_descent.py:472: ConvergenceWarning: Objective did not converge. You might want to increase the number of iterations. Duality gap: 393.3314592661822, tolerance: 0.14204877903687335\n",
      "  tol, rng, random, positive)\n",
      "/Users/michaellaccavole/opt/anaconda3/lib/python3.7/site-packages/sklearn/linear_model/_coordinate_descent.py:472: ConvergenceWarning: Objective did not converge. You might want to increase the number of iterations. Duality gap: 386.67503156168686, tolerance: 0.14204877903687335\n",
      "  tol, rng, random, positive)\n",
      "/Users/michaellaccavole/opt/anaconda3/lib/python3.7/site-packages/sklearn/linear_model/_coordinate_descent.py:472: ConvergenceWarning: Objective did not converge. You might want to increase the number of iterations. Duality gap: 379.6391140200952, tolerance: 0.14204877903687335\n",
      "  tol, rng, random, positive)\n",
      "/Users/michaellaccavole/opt/anaconda3/lib/python3.7/site-packages/sklearn/linear_model/_coordinate_descent.py:472: ConvergenceWarning: Objective did not converge. You might want to increase the number of iterations. Duality gap: 372.1961715897089, tolerance: 0.14204877903687335\n",
      "  tol, rng, random, positive)\n",
      "/Users/michaellaccavole/opt/anaconda3/lib/python3.7/site-packages/sklearn/linear_model/_coordinate_descent.py:472: ConvergenceWarning: Objective did not converge. You might want to increase the number of iterations. Duality gap: 364.5143504507485, tolerance: 0.14204877903687335\n",
      "  tol, rng, random, positive)\n",
      "/Users/michaellaccavole/opt/anaconda3/lib/python3.7/site-packages/sklearn/linear_model/_coordinate_descent.py:472: ConvergenceWarning: Objective did not converge. You might want to increase the number of iterations. Duality gap: 356.543644714315, tolerance: 0.14204877903687335\n",
      "  tol, rng, random, positive)\n",
      "/Users/michaellaccavole/opt/anaconda3/lib/python3.7/site-packages/sklearn/linear_model/_coordinate_descent.py:472: ConvergenceWarning: Objective did not converge. You might want to increase the number of iterations. Duality gap: 348.6579326026632, tolerance: 0.14204877903687335\n",
      "  tol, rng, random, positive)\n",
      "/Users/michaellaccavole/opt/anaconda3/lib/python3.7/site-packages/sklearn/linear_model/_coordinate_descent.py:472: ConvergenceWarning: Objective did not converge. You might want to increase the number of iterations. Duality gap: 341.0434155376709, tolerance: 0.14204877903687335\n",
      "  tol, rng, random, positive)\n",
      "/Users/michaellaccavole/opt/anaconda3/lib/python3.7/site-packages/sklearn/linear_model/_coordinate_descent.py:472: ConvergenceWarning: Objective did not converge. You might want to increase the number of iterations. Duality gap: 333.7203484719488, tolerance: 0.14204877903687335\n",
      "  tol, rng, random, positive)\n",
      "/Users/michaellaccavole/opt/anaconda3/lib/python3.7/site-packages/sklearn/linear_model/_coordinate_descent.py:472: ConvergenceWarning: Objective did not converge. You might want to increase the number of iterations. Duality gap: 326.8262274284818, tolerance: 0.14204877903687335\n",
      "  tol, rng, random, positive)\n",
      "/Users/michaellaccavole/opt/anaconda3/lib/python3.7/site-packages/sklearn/linear_model/_coordinate_descent.py:472: ConvergenceWarning: Objective did not converge. You might want to increase the number of iterations. Duality gap: 224.5214848362558, tolerance: 0.14051860772595082\n",
      "  tol, rng, random, positive)\n",
      "/Users/michaellaccavole/opt/anaconda3/lib/python3.7/site-packages/sklearn/linear_model/_coordinate_descent.py:472: ConvergenceWarning: Objective did not converge. You might want to increase the number of iterations. Duality gap: 195.17690963838646, tolerance: 0.14051860772595082\n",
      "  tol, rng, random, positive)\n",
      "/Users/michaellaccavole/opt/anaconda3/lib/python3.7/site-packages/sklearn/linear_model/_coordinate_descent.py:472: ConvergenceWarning: Objective did not converge. You might want to increase the number of iterations. Duality gap: 150.59473971106434, tolerance: 0.14051860772595082\n",
      "  tol, rng, random, positive)\n",
      "/Users/michaellaccavole/opt/anaconda3/lib/python3.7/site-packages/sklearn/linear_model/_coordinate_descent.py:472: ConvergenceWarning: Objective did not converge. You might want to increase the number of iterations. Duality gap: 87.74310785041132, tolerance: 0.14051860772595082\n",
      "  tol, rng, random, positive)\n",
      "/Users/michaellaccavole/opt/anaconda3/lib/python3.7/site-packages/sklearn/linear_model/_coordinate_descent.py:472: ConvergenceWarning: Objective did not converge. You might want to increase the number of iterations. Duality gap: 63.293787233434045, tolerance: 0.14051860772595082\n",
      "  tol, rng, random, positive)\n",
      "/Users/michaellaccavole/opt/anaconda3/lib/python3.7/site-packages/sklearn/linear_model/_coordinate_descent.py:472: ConvergenceWarning: Objective did not converge. You might want to increase the number of iterations. Duality gap: 62.27523244980773, tolerance: 0.14051860772595082\n",
      "  tol, rng, random, positive)\n",
      "/Users/michaellaccavole/opt/anaconda3/lib/python3.7/site-packages/sklearn/linear_model/_coordinate_descent.py:472: ConvergenceWarning: Objective did not converge. You might want to increase the number of iterations. Duality gap: 60.73726890788885, tolerance: 0.14051860772595082\n",
      "  tol, rng, random, positive)\n",
      "/Users/michaellaccavole/opt/anaconda3/lib/python3.7/site-packages/sklearn/linear_model/_coordinate_descent.py:472: ConvergenceWarning: Objective did not converge. You might want to increase the number of iterations. Duality gap: 106.49501009746808, tolerance: 0.14051860772595082\n",
      "  tol, rng, random, positive)\n",
      "/Users/michaellaccavole/opt/anaconda3/lib/python3.7/site-packages/sklearn/linear_model/_coordinate_descent.py:472: ConvergenceWarning: Objective did not converge. You might want to increase the number of iterations. Duality gap: 233.32727965221653, tolerance: 0.14051860772595082\n",
      "  tol, rng, random, positive)\n",
      "/Users/michaellaccavole/opt/anaconda3/lib/python3.7/site-packages/sklearn/linear_model/_coordinate_descent.py:472: ConvergenceWarning: Objective did not converge. You might want to increase the number of iterations. Duality gap: 304.2206402150791, tolerance: 0.14051860772595082\n",
      "  tol, rng, random, positive)\n",
      "/Users/michaellaccavole/opt/anaconda3/lib/python3.7/site-packages/sklearn/linear_model/_coordinate_descent.py:472: ConvergenceWarning: Objective did not converge. You might want to increase the number of iterations. Duality gap: 345.61020682818537, tolerance: 0.14051860772595082\n",
      "  tol, rng, random, positive)\n",
      "/Users/michaellaccavole/opt/anaconda3/lib/python3.7/site-packages/sklearn/linear_model/_coordinate_descent.py:472: ConvergenceWarning: Objective did not converge. You might want to increase the number of iterations. Duality gap: 371.02162170030965, tolerance: 0.14051860772595082\n",
      "  tol, rng, random, positive)\n",
      "/Users/michaellaccavole/opt/anaconda3/lib/python3.7/site-packages/sklearn/linear_model/_coordinate_descent.py:472: ConvergenceWarning: Objective did not converge. You might want to increase the number of iterations. Duality gap: 387.17803884800253, tolerance: 0.14051860772595082\n",
      "  tol, rng, random, positive)\n",
      "/Users/michaellaccavole/opt/anaconda3/lib/python3.7/site-packages/sklearn/linear_model/_coordinate_descent.py:472: ConvergenceWarning: Objective did not converge. You might want to increase the number of iterations. Duality gap: 397.68194689848826, tolerance: 0.14051860772595082\n",
      "  tol, rng, random, positive)\n",
      "/Users/michaellaccavole/opt/anaconda3/lib/python3.7/site-packages/sklearn/linear_model/_coordinate_descent.py:472: ConvergenceWarning: Objective did not converge. You might want to increase the number of iterations. Duality gap: 404.9545702623054, tolerance: 0.14051860772595082\n",
      "  tol, rng, random, positive)\n",
      "/Users/michaellaccavole/opt/anaconda3/lib/python3.7/site-packages/sklearn/linear_model/_coordinate_descent.py:472: ConvergenceWarning: Objective did not converge. You might want to increase the number of iterations. Duality gap: 409.6155034972906, tolerance: 0.14051860772595082\n",
      "  tol, rng, random, positive)\n",
      "/Users/michaellaccavole/opt/anaconda3/lib/python3.7/site-packages/sklearn/linear_model/_coordinate_descent.py:472: ConvergenceWarning: Objective did not converge. You might want to increase the number of iterations. Duality gap: 411.68457332761574, tolerance: 0.14051860772595082\n",
      "  tol, rng, random, positive)\n",
      "/Users/michaellaccavole/opt/anaconda3/lib/python3.7/site-packages/sklearn/linear_model/_coordinate_descent.py:472: ConvergenceWarning: Objective did not converge. You might want to increase the number of iterations. Duality gap: 412.41536937230245, tolerance: 0.14051860772595082\n",
      "  tol, rng, random, positive)\n",
      "/Users/michaellaccavole/opt/anaconda3/lib/python3.7/site-packages/sklearn/linear_model/_coordinate_descent.py:472: ConvergenceWarning: Objective did not converge. You might want to increase the number of iterations. Duality gap: 411.586129653177, tolerance: 0.14051860772595082\n",
      "  tol, rng, random, positive)\n",
      "/Users/michaellaccavole/opt/anaconda3/lib/python3.7/site-packages/sklearn/linear_model/_coordinate_descent.py:472: ConvergenceWarning: Objective did not converge. You might want to increase the number of iterations. Duality gap: 409.22856667168526, tolerance: 0.14051860772595082\n",
      "  tol, rng, random, positive)\n",
      "/Users/michaellaccavole/opt/anaconda3/lib/python3.7/site-packages/sklearn/linear_model/_coordinate_descent.py:472: ConvergenceWarning: Objective did not converge. You might want to increase the number of iterations. Duality gap: 405.7076011556453, tolerance: 0.14051860772595082\n",
      "  tol, rng, random, positive)\n",
      "/Users/michaellaccavole/opt/anaconda3/lib/python3.7/site-packages/sklearn/linear_model/_coordinate_descent.py:472: ConvergenceWarning: Objective did not converge. You might want to increase the number of iterations. Duality gap: 401.0880715962524, tolerance: 0.14051860772595082\n",
      "  tol, rng, random, positive)\n",
      "/Users/michaellaccavole/opt/anaconda3/lib/python3.7/site-packages/sklearn/linear_model/_coordinate_descent.py:472: ConvergenceWarning: Objective did not converge. You might want to increase the number of iterations. Duality gap: 395.5804777532542, tolerance: 0.14051860772595082\n",
      "  tol, rng, random, positive)\n",
      "/Users/michaellaccavole/opt/anaconda3/lib/python3.7/site-packages/sklearn/linear_model/_coordinate_descent.py:472: ConvergenceWarning: Objective did not converge. You might want to increase the number of iterations. Duality gap: 389.24249792369426, tolerance: 0.14051860772595082\n",
      "  tol, rng, random, positive)\n",
      "/Users/michaellaccavole/opt/anaconda3/lib/python3.7/site-packages/sklearn/linear_model/_coordinate_descent.py:472: ConvergenceWarning: Objective did not converge. You might want to increase the number of iterations. Duality gap: 382.46681161894514, tolerance: 0.14051860772595082\n",
      "  tol, rng, random, positive)\n"
     ]
    },
    {
     "name": "stderr",
     "output_type": "stream",
     "text": [
      "/Users/michaellaccavole/opt/anaconda3/lib/python3.7/site-packages/sklearn/linear_model/_coordinate_descent.py:472: ConvergenceWarning: Objective did not converge. You might want to increase the number of iterations. Duality gap: 375.3479934570518, tolerance: 0.14051860772595082\n",
      "  tol, rng, random, positive)\n",
      "/Users/michaellaccavole/opt/anaconda3/lib/python3.7/site-packages/sklearn/linear_model/_coordinate_descent.py:472: ConvergenceWarning: Objective did not converge. You might want to increase the number of iterations. Duality gap: 367.777290330326, tolerance: 0.14051860772595082\n",
      "  tol, rng, random, positive)\n",
      "/Users/michaellaccavole/opt/anaconda3/lib/python3.7/site-packages/sklearn/linear_model/_coordinate_descent.py:472: ConvergenceWarning: Objective did not converge. You might want to increase the number of iterations. Duality gap: 359.88675577531035, tolerance: 0.14051860772595082\n",
      "  tol, rng, random, positive)\n",
      "/Users/michaellaccavole/opt/anaconda3/lib/python3.7/site-packages/sklearn/linear_model/_coordinate_descent.py:472: ConvergenceWarning: Objective did not converge. You might want to increase the number of iterations. Duality gap: 351.73554857531207, tolerance: 0.14051860772595082\n",
      "  tol, rng, random, positive)\n",
      "/Users/michaellaccavole/opt/anaconda3/lib/python3.7/site-packages/sklearn/linear_model/_coordinate_descent.py:472: ConvergenceWarning: Objective did not converge. You might want to increase the number of iterations. Duality gap: 343.7023858653945, tolerance: 0.14051860772595082\n",
      "  tol, rng, random, positive)\n",
      "/Users/michaellaccavole/opt/anaconda3/lib/python3.7/site-packages/sklearn/linear_model/_coordinate_descent.py:472: ConvergenceWarning: Objective did not converge. You might want to increase the number of iterations. Duality gap: 335.95617653424085, tolerance: 0.14051860772595082\n",
      "  tol, rng, random, positive)\n",
      "/Users/michaellaccavole/opt/anaconda3/lib/python3.7/site-packages/sklearn/linear_model/_coordinate_descent.py:472: ConvergenceWarning: Objective did not converge. You might want to increase the number of iterations. Duality gap: 328.5429358628081, tolerance: 0.14051860772595082\n",
      "  tol, rng, random, positive)\n",
      "/Users/michaellaccavole/opt/anaconda3/lib/python3.7/site-packages/sklearn/linear_model/_coordinate_descent.py:472: ConvergenceWarning: Objective did not converge. You might want to increase the number of iterations. Duality gap: 321.53978359831956, tolerance: 0.14051860772595082\n",
      "  tol, rng, random, positive)\n",
      "/Users/michaellaccavole/opt/anaconda3/lib/python3.7/site-packages/sklearn/linear_model/_coordinate_descent.py:472: ConvergenceWarning: Objective did not converge. You might want to increase the number of iterations. Duality gap: 104.15638584355565, tolerance: 0.1412785908549495\n",
      "  tol, rng, random, positive)\n",
      "/Users/michaellaccavole/opt/anaconda3/lib/python3.7/site-packages/sklearn/linear_model/_coordinate_descent.py:472: ConvergenceWarning: Objective did not converge. You might want to increase the number of iterations. Duality gap: 57.58125733703196, tolerance: 0.1412785908549495\n",
      "  tol, rng, random, positive)\n",
      "/Users/michaellaccavole/opt/anaconda3/lib/python3.7/site-packages/sklearn/linear_model/_coordinate_descent.py:472: ConvergenceWarning: Objective did not converge. You might want to increase the number of iterations. Duality gap: 60.48975978441979, tolerance: 0.1412785908549495\n",
      "  tol, rng, random, positive)\n",
      "/Users/michaellaccavole/opt/anaconda3/lib/python3.7/site-packages/sklearn/linear_model/_coordinate_descent.py:472: ConvergenceWarning: Objective did not converge. You might want to increase the number of iterations. Duality gap: 61.47900641168337, tolerance: 0.1412785908549495\n",
      "  tol, rng, random, positive)\n",
      "/Users/michaellaccavole/opt/anaconda3/lib/python3.7/site-packages/sklearn/linear_model/_coordinate_descent.py:472: ConvergenceWarning: Objective did not converge. You might want to increase the number of iterations. Duality gap: 61.176190786082884, tolerance: 0.1412785908549495\n",
      "  tol, rng, random, positive)\n",
      "/Users/michaellaccavole/opt/anaconda3/lib/python3.7/site-packages/sklearn/linear_model/_coordinate_descent.py:472: ConvergenceWarning: Objective did not converge. You might want to increase the number of iterations. Duality gap: 60.03525616329557, tolerance: 0.1412785908549495\n",
      "  tol, rng, random, positive)\n",
      "/Users/michaellaccavole/opt/anaconda3/lib/python3.7/site-packages/sklearn/linear_model/_coordinate_descent.py:472: ConvergenceWarning: Objective did not converge. You might want to increase the number of iterations. Duality gap: 58.38181247751345, tolerance: 0.1412785908549495\n",
      "  tol, rng, random, positive)\n",
      "/Users/michaellaccavole/opt/anaconda3/lib/python3.7/site-packages/sklearn/linear_model/_coordinate_descent.py:472: ConvergenceWarning: Objective did not converge. You might want to increase the number of iterations. Duality gap: 266.69901126210596, tolerance: 0.1412785908549495\n",
      "  tol, rng, random, positive)\n",
      "/Users/michaellaccavole/opt/anaconda3/lib/python3.7/site-packages/sklearn/linear_model/_coordinate_descent.py:472: ConvergenceWarning: Objective did not converge. You might want to increase the number of iterations. Duality gap: 324.4215404906362, tolerance: 0.1412785908549495\n",
      "  tol, rng, random, positive)\n",
      "/Users/michaellaccavole/opt/anaconda3/lib/python3.7/site-packages/sklearn/linear_model/_coordinate_descent.py:472: ConvergenceWarning: Objective did not converge. You might want to increase the number of iterations. Duality gap: 359.26438497008013, tolerance: 0.1412785908549495\n",
      "  tol, rng, random, positive)\n",
      "/Users/michaellaccavole/opt/anaconda3/lib/python3.7/site-packages/sklearn/linear_model/_coordinate_descent.py:472: ConvergenceWarning: Objective did not converge. You might want to increase the number of iterations. Duality gap: 380.9960103114247, tolerance: 0.1412785908549495\n",
      "  tol, rng, random, positive)\n",
      "/Users/michaellaccavole/opt/anaconda3/lib/python3.7/site-packages/sklearn/linear_model/_coordinate_descent.py:472: ConvergenceWarning: Objective did not converge. You might want to increase the number of iterations. Duality gap: 394.8251499467494, tolerance: 0.1412785908549495\n",
      "  tol, rng, random, positive)\n",
      "/Users/michaellaccavole/opt/anaconda3/lib/python3.7/site-packages/sklearn/linear_model/_coordinate_descent.py:472: ConvergenceWarning: Objective did not converge. You might want to increase the number of iterations. Duality gap: 403.7027863698581, tolerance: 0.1412785908549495\n",
      "  tol, rng, random, positive)\n",
      "/Users/michaellaccavole/opt/anaconda3/lib/python3.7/site-packages/sklearn/linear_model/_coordinate_descent.py:472: ConvergenceWarning: Objective did not converge. You might want to increase the number of iterations. Duality gap: 409.3913406394136, tolerance: 0.1412785908549495\n",
      "  tol, rng, random, positive)\n",
      "/Users/michaellaccavole/opt/anaconda3/lib/python3.7/site-packages/sklearn/linear_model/_coordinate_descent.py:472: ConvergenceWarning: Objective did not converge. You might want to increase the number of iterations. Duality gap: 412.5876955401958, tolerance: 0.1412785908549495\n",
      "  tol, rng, random, positive)\n",
      "/Users/michaellaccavole/opt/anaconda3/lib/python3.7/site-packages/sklearn/linear_model/_coordinate_descent.py:472: ConvergenceWarning: Objective did not converge. You might want to increase the number of iterations. Duality gap: 413.8138555309912, tolerance: 0.1412785908549495\n",
      "  tol, rng, random, positive)\n",
      "/Users/michaellaccavole/opt/anaconda3/lib/python3.7/site-packages/sklearn/linear_model/_coordinate_descent.py:472: ConvergenceWarning: Objective did not converge. You might want to increase the number of iterations. Duality gap: 413.85843177012976, tolerance: 0.1412785908549495\n",
      "  tol, rng, random, positive)\n",
      "/Users/michaellaccavole/opt/anaconda3/lib/python3.7/site-packages/sklearn/linear_model/_coordinate_descent.py:472: ConvergenceWarning: Objective did not converge. You might want to increase the number of iterations. Duality gap: 412.8052739415527, tolerance: 0.1412785908549495\n",
      "  tol, rng, random, positive)\n",
      "/Users/michaellaccavole/opt/anaconda3/lib/python3.7/site-packages/sklearn/linear_model/_coordinate_descent.py:472: ConvergenceWarning: Objective did not converge. You might want to increase the number of iterations. Duality gap: 410.98464535329737, tolerance: 0.1412785908549495\n",
      "  tol, rng, random, positive)\n",
      "/Users/michaellaccavole/opt/anaconda3/lib/python3.7/site-packages/sklearn/linear_model/_coordinate_descent.py:472: ConvergenceWarning: Objective did not converge. You might want to increase the number of iterations. Duality gap: 408.12739165562493, tolerance: 0.1412785908549495\n",
      "  tol, rng, random, positive)\n",
      "/Users/michaellaccavole/opt/anaconda3/lib/python3.7/site-packages/sklearn/linear_model/_coordinate_descent.py:472: ConvergenceWarning: Objective did not converge. You might want to increase the number of iterations. Duality gap: 404.2340871886437, tolerance: 0.1412785908549495\n",
      "  tol, rng, random, positive)\n",
      "/Users/michaellaccavole/opt/anaconda3/lib/python3.7/site-packages/sklearn/linear_model/_coordinate_descent.py:472: ConvergenceWarning: Objective did not converge. You might want to increase the number of iterations. Duality gap: 399.28806291064654, tolerance: 0.1412785908549495\n",
      "  tol, rng, random, positive)\n",
      "/Users/michaellaccavole/opt/anaconda3/lib/python3.7/site-packages/sklearn/linear_model/_coordinate_descent.py:472: ConvergenceWarning: Objective did not converge. You might want to increase the number of iterations. Duality gap: 393.5234135362581, tolerance: 0.1412785908549495\n",
      "  tol, rng, random, positive)\n",
      "/Users/michaellaccavole/opt/anaconda3/lib/python3.7/site-packages/sklearn/linear_model/_coordinate_descent.py:472: ConvergenceWarning: Objective did not converge. You might want to increase the number of iterations. Duality gap: 387.1545557360688, tolerance: 0.1412785908549495\n",
      "  tol, rng, random, positive)\n",
      "/Users/michaellaccavole/opt/anaconda3/lib/python3.7/site-packages/sklearn/linear_model/_coordinate_descent.py:472: ConvergenceWarning: Objective did not converge. You might want to increase the number of iterations. Duality gap: 380.25330344103975, tolerance: 0.1412785908549495\n",
      "  tol, rng, random, positive)\n",
      "/Users/michaellaccavole/opt/anaconda3/lib/python3.7/site-packages/sklearn/linear_model/_coordinate_descent.py:472: ConvergenceWarning: Objective did not converge. You might want to increase the number of iterations. Duality gap: 373.03939798779675, tolerance: 0.1412785908549495\n",
      "  tol, rng, random, positive)\n",
      "/Users/michaellaccavole/opt/anaconda3/lib/python3.7/site-packages/sklearn/linear_model/_coordinate_descent.py:472: ConvergenceWarning: Objective did not converge. You might want to increase the number of iterations. Duality gap: 365.4360336609262, tolerance: 0.1412785908549495\n",
      "  tol, rng, random, positive)\n",
      "/Users/michaellaccavole/opt/anaconda3/lib/python3.7/site-packages/sklearn/linear_model/_coordinate_descent.py:472: ConvergenceWarning: Objective did not converge. You might want to increase the number of iterations. Duality gap: 357.60714418762484, tolerance: 0.1412785908549495\n",
      "  tol, rng, random, positive)\n",
      "/Users/michaellaccavole/opt/anaconda3/lib/python3.7/site-packages/sklearn/linear_model/_coordinate_descent.py:472: ConvergenceWarning: Objective did not converge. You might want to increase the number of iterations. Duality gap: 349.46177289012985, tolerance: 0.1412785908549495\n",
      "  tol, rng, random, positive)\n",
      "/Users/michaellaccavole/opt/anaconda3/lib/python3.7/site-packages/sklearn/linear_model/_coordinate_descent.py:472: ConvergenceWarning: Objective did not converge. You might want to increase the number of iterations. Duality gap: 341.41496889238306, tolerance: 0.1412785908549495\n",
      "  tol, rng, random, positive)\n",
      "/Users/michaellaccavole/opt/anaconda3/lib/python3.7/site-packages/sklearn/linear_model/_coordinate_descent.py:472: ConvergenceWarning: Objective did not converge. You might want to increase the number of iterations. Duality gap: 333.6451405711366, tolerance: 0.1412785908549495\n",
      "  tol, rng, random, positive)\n",
      "/Users/michaellaccavole/opt/anaconda3/lib/python3.7/site-packages/sklearn/linear_model/_coordinate_descent.py:472: ConvergenceWarning: Objective did not converge. You might want to increase the number of iterations. Duality gap: 326.1514530130578, tolerance: 0.1412785908549495\n",
      "  tol, rng, random, positive)\n",
      "/Users/michaellaccavole/opt/anaconda3/lib/python3.7/site-packages/sklearn/linear_model/_coordinate_descent.py:472: ConvergenceWarning: Objective did not converge. You might want to increase the number of iterations. Duality gap: 319.16069233000417, tolerance: 0.1412785908549495\n",
      "  tol, rng, random, positive)\n"
     ]
    },
    {
     "name": "stderr",
     "output_type": "stream",
     "text": [
      "/Users/michaellaccavole/opt/anaconda3/lib/python3.7/site-packages/sklearn/linear_model/_coordinate_descent.py:472: ConvergenceWarning: Objective did not converge. You might want to increase the number of iterations. Duality gap: 256.5416188763552, tolerance: 0.14223619269279986\n",
      "  tol, rng, random, positive)\n",
      "/Users/michaellaccavole/opt/anaconda3/lib/python3.7/site-packages/sklearn/linear_model/_coordinate_descent.py:472: ConvergenceWarning: Objective did not converge. You might want to increase the number of iterations. Duality gap: 236.2100219003234, tolerance: 0.14223619269279986\n",
      "  tol, rng, random, positive)\n",
      "/Users/michaellaccavole/opt/anaconda3/lib/python3.7/site-packages/sklearn/linear_model/_coordinate_descent.py:472: ConvergenceWarning: Objective did not converge. You might want to increase the number of iterations. Duality gap: 205.05060897389023, tolerance: 0.14223619269279986\n",
      "  tol, rng, random, positive)\n",
      "/Users/michaellaccavole/opt/anaconda3/lib/python3.7/site-packages/sklearn/linear_model/_coordinate_descent.py:472: ConvergenceWarning: Objective did not converge. You might want to increase the number of iterations. Duality gap: 161.56887767055463, tolerance: 0.14223619269279986\n",
      "  tol, rng, random, positive)\n",
      "/Users/michaellaccavole/opt/anaconda3/lib/python3.7/site-packages/sklearn/linear_model/_coordinate_descent.py:472: ConvergenceWarning: Objective did not converge. You might want to increase the number of iterations. Duality gap: 102.62565259825647, tolerance: 0.14223619269279986\n",
      "  tol, rng, random, positive)\n",
      "/Users/michaellaccavole/opt/anaconda3/lib/python3.7/site-packages/sklearn/linear_model/_coordinate_descent.py:472: ConvergenceWarning: Objective did not converge. You might want to increase the number of iterations. Duality gap: 60.378667803154485, tolerance: 0.14223619269279986\n",
      "  tol, rng, random, positive)\n",
      "/Users/michaellaccavole/opt/anaconda3/lib/python3.7/site-packages/sklearn/linear_model/_coordinate_descent.py:472: ConvergenceWarning: Objective did not converge. You might want to increase the number of iterations. Duality gap: 58.794539429236465, tolerance: 0.14223619269279986\n",
      "  tol, rng, random, positive)\n",
      "/Users/michaellaccavole/opt/anaconda3/lib/python3.7/site-packages/sklearn/linear_model/_coordinate_descent.py:472: ConvergenceWarning: Objective did not converge. You might want to increase the number of iterations. Duality gap: 58.54625123522237, tolerance: 0.14223619269279986\n",
      "  tol, rng, random, positive)\n",
      "/Users/michaellaccavole/opt/anaconda3/lib/python3.7/site-packages/sklearn/linear_model/_coordinate_descent.py:472: ConvergenceWarning: Objective did not converge. You might want to increase the number of iterations. Duality gap: 140.6493691092062, tolerance: 0.14223619269279986\n",
      "  tol, rng, random, positive)\n",
      "/Users/michaellaccavole/opt/anaconda3/lib/python3.7/site-packages/sklearn/linear_model/_coordinate_descent.py:472: ConvergenceWarning: Objective did not converge. You might want to increase the number of iterations. Duality gap: 248.52902813086928, tolerance: 0.14223619269279986\n",
      "  tol, rng, random, positive)\n",
      "/Users/michaellaccavole/opt/anaconda3/lib/python3.7/site-packages/sklearn/linear_model/_coordinate_descent.py:472: ConvergenceWarning: Objective did not converge. You might want to increase the number of iterations. Duality gap: 309.6193478913498, tolerance: 0.14223619269279986\n",
      "  tol, rng, random, positive)\n",
      "/Users/michaellaccavole/opt/anaconda3/lib/python3.7/site-packages/sklearn/linear_model/_coordinate_descent.py:472: ConvergenceWarning: Objective did not converge. You might want to increase the number of iterations. Duality gap: 346.11074668814865, tolerance: 0.14223619269279986\n",
      "  tol, rng, random, positive)\n",
      "/Users/michaellaccavole/opt/anaconda3/lib/python3.7/site-packages/sklearn/linear_model/_coordinate_descent.py:472: ConvergenceWarning: Objective did not converge. You might want to increase the number of iterations. Duality gap: 368.98690329112054, tolerance: 0.14223619269279986\n",
      "  tol, rng, random, positive)\n",
      "/Users/michaellaccavole/opt/anaconda3/lib/python3.7/site-packages/sklearn/linear_model/_coordinate_descent.py:472: ConvergenceWarning: Objective did not converge. You might want to increase the number of iterations. Duality gap: 383.8259958351734, tolerance: 0.14223619269279986\n",
      "  tol, rng, random, positive)\n",
      "/Users/michaellaccavole/opt/anaconda3/lib/python3.7/site-packages/sklearn/linear_model/_coordinate_descent.py:472: ConvergenceWarning: Objective did not converge. You might want to increase the number of iterations. Duality gap: 394.426537553304, tolerance: 0.14223619269279986\n",
      "  tol, rng, random, positive)\n",
      "/Users/michaellaccavole/opt/anaconda3/lib/python3.7/site-packages/sklearn/linear_model/_coordinate_descent.py:472: ConvergenceWarning: Objective did not converge. You might want to increase the number of iterations. Duality gap: 401.00547258264794, tolerance: 0.14223619269279986\n",
      "  tol, rng, random, positive)\n",
      "/Users/michaellaccavole/opt/anaconda3/lib/python3.7/site-packages/sklearn/linear_model/_coordinate_descent.py:472: ConvergenceWarning: Objective did not converge. You might want to increase the number of iterations. Duality gap: 405.29686201442087, tolerance: 0.14223619269279986\n",
      "  tol, rng, random, positive)\n",
      "/Users/michaellaccavole/opt/anaconda3/lib/python3.7/site-packages/sklearn/linear_model/_coordinate_descent.py:472: ConvergenceWarning: Objective did not converge. You might want to increase the number of iterations. Duality gap: 407.2324682191175, tolerance: 0.14223619269279986\n",
      "  tol, rng, random, positive)\n",
      "/Users/michaellaccavole/opt/anaconda3/lib/python3.7/site-packages/sklearn/linear_model/_coordinate_descent.py:472: ConvergenceWarning: Objective did not converge. You might want to increase the number of iterations. Duality gap: 407.30969979081476, tolerance: 0.14223619269279986\n",
      "  tol, rng, random, positive)\n",
      "/Users/michaellaccavole/opt/anaconda3/lib/python3.7/site-packages/sklearn/linear_model/_coordinate_descent.py:472: ConvergenceWarning: Objective did not converge. You might want to increase the number of iterations. Duality gap: 405.67034129200965, tolerance: 0.14223619269279986\n",
      "  tol, rng, random, positive)\n",
      "/Users/michaellaccavole/opt/anaconda3/lib/python3.7/site-packages/sklearn/linear_model/_coordinate_descent.py:472: ConvergenceWarning: Objective did not converge. You might want to increase the number of iterations. Duality gap: 402.83278092772997, tolerance: 0.14223619269279986\n",
      "  tol, rng, random, positive)\n",
      "/Users/michaellaccavole/opt/anaconda3/lib/python3.7/site-packages/sklearn/linear_model/_coordinate_descent.py:472: ConvergenceWarning: Objective did not converge. You might want to increase the number of iterations. Duality gap: 398.8246054600037, tolerance: 0.14223619269279986\n",
      "  tol, rng, random, positive)\n",
      "/Users/michaellaccavole/opt/anaconda3/lib/python3.7/site-packages/sklearn/linear_model/_coordinate_descent.py:472: ConvergenceWarning: Objective did not converge. You might want to increase the number of iterations. Duality gap: 393.90489932609984, tolerance: 0.14223619269279986\n",
      "  tol, rng, random, positive)\n",
      "/Users/michaellaccavole/opt/anaconda3/lib/python3.7/site-packages/sklearn/linear_model/_coordinate_descent.py:472: ConvergenceWarning: Objective did not converge. You might want to increase the number of iterations. Duality gap: 388.2529127809544, tolerance: 0.14223619269279986\n",
      "  tol, rng, random, positive)\n",
      "/Users/michaellaccavole/opt/anaconda3/lib/python3.7/site-packages/sklearn/linear_model/_coordinate_descent.py:472: ConvergenceWarning: Objective did not converge. You might want to increase the number of iterations. Duality gap: 382.0437425893533, tolerance: 0.14223619269279986\n",
      "  tol, rng, random, positive)\n",
      "/Users/michaellaccavole/opt/anaconda3/lib/python3.7/site-packages/sklearn/linear_model/_coordinate_descent.py:472: ConvergenceWarning: Objective did not converge. You might want to increase the number of iterations. Duality gap: 375.5217317182089, tolerance: 0.14223619269279986\n",
      "  tol, rng, random, positive)\n",
      "/Users/michaellaccavole/opt/anaconda3/lib/python3.7/site-packages/sklearn/linear_model/_coordinate_descent.py:472: ConvergenceWarning: Objective did not converge. You might want to increase the number of iterations. Duality gap: 368.61654825953167, tolerance: 0.14223619269279986\n",
      "  tol, rng, random, positive)\n",
      "/Users/michaellaccavole/opt/anaconda3/lib/python3.7/site-packages/sklearn/linear_model/_coordinate_descent.py:472: ConvergenceWarning: Objective did not converge. You might want to increase the number of iterations. Duality gap: 361.5200730456662, tolerance: 0.14223619269279986\n",
      "  tol, rng, random, positive)\n",
      "/Users/michaellaccavole/opt/anaconda3/lib/python3.7/site-packages/sklearn/linear_model/_coordinate_descent.py:472: ConvergenceWarning: Objective did not converge. You might want to increase the number of iterations. Duality gap: 353.9749902322191, tolerance: 0.14223619269279986\n",
      "  tol, rng, random, positive)\n",
      "/Users/michaellaccavole/opt/anaconda3/lib/python3.7/site-packages/sklearn/linear_model/_coordinate_descent.py:472: ConvergenceWarning: Objective did not converge. You might want to increase the number of iterations. Duality gap: 346.5091324849991, tolerance: 0.14223619269279986\n",
      "  tol, rng, random, positive)\n",
      "/Users/michaellaccavole/opt/anaconda3/lib/python3.7/site-packages/sklearn/linear_model/_coordinate_descent.py:472: ConvergenceWarning: Objective did not converge. You might want to increase the number of iterations. Duality gap: 339.25746064048184, tolerance: 0.14223619269279986\n",
      "  tol, rng, random, positive)\n",
      "/Users/michaellaccavole/opt/anaconda3/lib/python3.7/site-packages/sklearn/linear_model/_coordinate_descent.py:472: ConvergenceWarning: Objective did not converge. You might want to increase the number of iterations. Duality gap: 332.2206432674836, tolerance: 0.14223619269279986\n",
      "  tol, rng, random, positive)\n"
     ]
    },
    {
     "name": "stderr",
     "output_type": "stream",
     "text": [
      "/Users/michaellaccavole/opt/anaconda3/lib/python3.7/site-packages/sklearn/linear_model/_coordinate_descent.py:472: ConvergenceWarning: Objective did not converge. You might want to increase the number of iterations. Duality gap: 325.571031145776, tolerance: 0.14223619269279986\n",
      "  tol, rng, random, positive)\n",
      "/Users/michaellaccavole/opt/anaconda3/lib/python3.7/site-packages/sklearn/linear_model/_coordinate_descent.py:476: ConvergenceWarning: Objective did not converge. You might want to increase the number of iterations. Duality gap: 404.46158527130893, tolerance: 0.17676387954680814\n",
      "  positive)\n",
      "/Users/michaellaccavole/opt/anaconda3/lib/python3.7/site-packages/sklearn/linear_model/_coordinate_descent.py:472: ConvergenceWarning: Objective did not converge. You might want to increase the number of iterations. Duality gap: 200.9224672327514, tolerance: 0.13959714242438345\n",
      "  tol, rng, random, positive)\n",
      "/Users/michaellaccavole/opt/anaconda3/lib/python3.7/site-packages/sklearn/linear_model/_coordinate_descent.py:472: ConvergenceWarning: Objective did not converge. You might want to increase the number of iterations. Duality gap: 59.778846038107986, tolerance: 0.13959714242438345\n",
      "  tol, rng, random, positive)\n",
      "/Users/michaellaccavole/opt/anaconda3/lib/python3.7/site-packages/sklearn/linear_model/_coordinate_descent.py:472: ConvergenceWarning: Objective did not converge. You might want to increase the number of iterations. Duality gap: 128.43655750683433, tolerance: 0.13959714242438345\n",
      "  tol, rng, random, positive)\n",
      "/Users/michaellaccavole/opt/anaconda3/lib/python3.7/site-packages/sklearn/linear_model/_coordinate_descent.py:472: ConvergenceWarning: Objective did not converge. You might want to increase the number of iterations. Duality gap: 190.17428960694713, tolerance: 0.13959714242438345\n",
      "  tol, rng, random, positive)\n",
      "/Users/michaellaccavole/opt/anaconda3/lib/python3.7/site-packages/sklearn/linear_model/_coordinate_descent.py:472: ConvergenceWarning: Objective did not converge. You might want to increase the number of iterations. Duality gap: 240.6903178820686, tolerance: 0.13959714242438345\n",
      "  tol, rng, random, positive)\n",
      "/Users/michaellaccavole/opt/anaconda3/lib/python3.7/site-packages/sklearn/linear_model/_coordinate_descent.py:472: ConvergenceWarning: Objective did not converge. You might want to increase the number of iterations. Duality gap: 329.8231108582875, tolerance: 0.13959714242438345\n",
      "  tol, rng, random, positive)\n",
      "/Users/michaellaccavole/opt/anaconda3/lib/python3.7/site-packages/sklearn/linear_model/_coordinate_descent.py:472: ConvergenceWarning: Objective did not converge. You might want to increase the number of iterations. Duality gap: 348.0196422138372, tolerance: 0.13959714242438345\n",
      "  tol, rng, random, positive)\n",
      "/Users/michaellaccavole/opt/anaconda3/lib/python3.7/site-packages/sklearn/linear_model/_coordinate_descent.py:472: ConvergenceWarning: Objective did not converge. You might want to increase the number of iterations. Duality gap: 363.0806772783999, tolerance: 0.13959714242438345\n",
      "  tol, rng, random, positive)\n",
      "/Users/michaellaccavole/opt/anaconda3/lib/python3.7/site-packages/sklearn/linear_model/_coordinate_descent.py:472: ConvergenceWarning: Objective did not converge. You might want to increase the number of iterations. Duality gap: 381.74027347039424, tolerance: 0.13959714242438345\n",
      "  tol, rng, random, positive)\n",
      "/Users/michaellaccavole/opt/anaconda3/lib/python3.7/site-packages/sklearn/linear_model/_coordinate_descent.py:472: ConvergenceWarning: Objective did not converge. You might want to increase the number of iterations. Duality gap: 394.5092694197438, tolerance: 0.13959714242438345\n",
      "  tol, rng, random, positive)\n",
      "/Users/michaellaccavole/opt/anaconda3/lib/python3.7/site-packages/sklearn/linear_model/_coordinate_descent.py:472: ConvergenceWarning: Objective did not converge. You might want to increase the number of iterations. Duality gap: 403.1937096724469, tolerance: 0.13959714242438345\n",
      "  tol, rng, random, positive)\n",
      "/Users/michaellaccavole/opt/anaconda3/lib/python3.7/site-packages/sklearn/linear_model/_coordinate_descent.py:472: ConvergenceWarning: Objective did not converge. You might want to increase the number of iterations. Duality gap: 409.034004566483, tolerance: 0.13959714242438345\n",
      "  tol, rng, random, positive)\n",
      "/Users/michaellaccavole/opt/anaconda3/lib/python3.7/site-packages/sklearn/linear_model/_coordinate_descent.py:472: ConvergenceWarning: Objective did not converge. You might want to increase the number of iterations. Duality gap: 412.88978912954065, tolerance: 0.13959714242438345\n",
      "  tol, rng, random, positive)\n",
      "/Users/michaellaccavole/opt/anaconda3/lib/python3.7/site-packages/sklearn/linear_model/_coordinate_descent.py:472: ConvergenceWarning: Objective did not converge. You might want to increase the number of iterations. Duality gap: 415.42638522380764, tolerance: 0.13959714242438345\n",
      "  tol, rng, random, positive)\n",
      "/Users/michaellaccavole/opt/anaconda3/lib/python3.7/site-packages/sklearn/linear_model/_coordinate_descent.py:472: ConvergenceWarning: Objective did not converge. You might want to increase the number of iterations. Duality gap: 417.06455446599733, tolerance: 0.13959714242438345\n",
      "  tol, rng, random, positive)\n",
      "/Users/michaellaccavole/opt/anaconda3/lib/python3.7/site-packages/sklearn/linear_model/_coordinate_descent.py:472: ConvergenceWarning: Objective did not converge. You might want to increase the number of iterations. Duality gap: 417.52357221824377, tolerance: 0.13959714242438345\n",
      "  tol, rng, random, positive)\n",
      "/Users/michaellaccavole/opt/anaconda3/lib/python3.7/site-packages/sklearn/linear_model/_coordinate_descent.py:472: ConvergenceWarning: Objective did not converge. You might want to increase the number of iterations. Duality gap: 416.8792958879048, tolerance: 0.13959714242438345\n",
      "  tol, rng, random, positive)\n",
      "/Users/michaellaccavole/opt/anaconda3/lib/python3.7/site-packages/sklearn/linear_model/_coordinate_descent.py:472: ConvergenceWarning: Objective did not converge. You might want to increase the number of iterations. Duality gap: 415.34357997457187, tolerance: 0.13959714242438345\n",
      "  tol, rng, random, positive)\n",
      "/Users/michaellaccavole/opt/anaconda3/lib/python3.7/site-packages/sklearn/linear_model/_coordinate_descent.py:472: ConvergenceWarning: Objective did not converge. You might want to increase the number of iterations. Duality gap: 412.89306384970723, tolerance: 0.13959714242438345\n",
      "  tol, rng, random, positive)\n",
      "/Users/michaellaccavole/opt/anaconda3/lib/python3.7/site-packages/sklearn/linear_model/_coordinate_descent.py:472: ConvergenceWarning: Objective did not converge. You might want to increase the number of iterations. Duality gap: 409.4320815731381, tolerance: 0.13959714242438345\n",
      "  tol, rng, random, positive)\n",
      "/Users/michaellaccavole/opt/anaconda3/lib/python3.7/site-packages/sklearn/linear_model/_coordinate_descent.py:472: ConvergenceWarning: Objective did not converge. You might want to increase the number of iterations. Duality gap: 405.1481472218817, tolerance: 0.13959714242438345\n",
      "  tol, rng, random, positive)\n",
      "/Users/michaellaccavole/opt/anaconda3/lib/python3.7/site-packages/sklearn/linear_model/_coordinate_descent.py:472: ConvergenceWarning: Objective did not converge. You might want to increase the number of iterations. Duality gap: 400.138520173543, tolerance: 0.13959714242438345\n",
      "  tol, rng, random, positive)\n",
      "/Users/michaellaccavole/opt/anaconda3/lib/python3.7/site-packages/sklearn/linear_model/_coordinate_descent.py:472: ConvergenceWarning: Objective did not converge. You might want to increase the number of iterations. Duality gap: 394.40316064702415, tolerance: 0.13959714242438345\n",
      "  tol, rng, random, positive)\n",
      "/Users/michaellaccavole/opt/anaconda3/lib/python3.7/site-packages/sklearn/linear_model/_coordinate_descent.py:472: ConvergenceWarning: Objective did not converge. You might want to increase the number of iterations. Duality gap: 388.182326473527, tolerance: 0.13959714242438345\n",
      "  tol, rng, random, positive)\n",
      "/Users/michaellaccavole/opt/anaconda3/lib/python3.7/site-packages/sklearn/linear_model/_coordinate_descent.py:472: ConvergenceWarning: Objective did not converge. You might want to increase the number of iterations. Duality gap: 381.48900166499686, tolerance: 0.13959714242438345\n",
      "  tol, rng, random, positive)\n",
      "/Users/michaellaccavole/opt/anaconda3/lib/python3.7/site-packages/sklearn/linear_model/_coordinate_descent.py:472: ConvergenceWarning: Objective did not converge. You might want to increase the number of iterations. Duality gap: 374.46102405644115, tolerance: 0.13959714242438345\n",
      "  tol, rng, random, positive)\n",
      "/Users/michaellaccavole/opt/anaconda3/lib/python3.7/site-packages/sklearn/linear_model/_coordinate_descent.py:472: ConvergenceWarning: Objective did not converge. You might want to increase the number of iterations. Duality gap: 367.0166710888177, tolerance: 0.13959714242438345\n",
      "  tol, rng, random, positive)\n",
      "/Users/michaellaccavole/opt/anaconda3/lib/python3.7/site-packages/sklearn/linear_model/_coordinate_descent.py:472: ConvergenceWarning: Objective did not converge. You might want to increase the number of iterations. Duality gap: 359.37803032105444, tolerance: 0.13959714242438345\n",
      "  tol, rng, random, positive)\n",
      "/Users/michaellaccavole/opt/anaconda3/lib/python3.7/site-packages/sklearn/linear_model/_coordinate_descent.py:472: ConvergenceWarning: Objective did not converge. You might want to increase the number of iterations. Duality gap: 351.53447210429914, tolerance: 0.13959714242438345\n",
      "  tol, rng, random, positive)\n",
      "/Users/michaellaccavole/opt/anaconda3/lib/python3.7/site-packages/sklearn/linear_model/_coordinate_descent.py:472: ConvergenceWarning: Objective did not converge. You might want to increase the number of iterations. Duality gap: 343.74181432351617, tolerance: 0.13959714242438345\n",
      "  tol, rng, random, positive)\n",
      "/Users/michaellaccavole/opt/anaconda3/lib/python3.7/site-packages/sklearn/linear_model/_coordinate_descent.py:472: ConvergenceWarning: Objective did not converge. You might want to increase the number of iterations. Duality gap: 336.1836918044713, tolerance: 0.13959714242438345\n",
      "  tol, rng, random, positive)\n",
      "/Users/michaellaccavole/opt/anaconda3/lib/python3.7/site-packages/sklearn/linear_model/_coordinate_descent.py:472: ConvergenceWarning: Objective did not converge. You might want to increase the number of iterations. Duality gap: 328.97005543988814, tolerance: 0.13959714242438345\n",
      "  tol, rng, random, positive)\n"
     ]
    },
    {
     "name": "stderr",
     "output_type": "stream",
     "text": [
      "/Users/michaellaccavole/opt/anaconda3/lib/python3.7/site-packages/sklearn/linear_model/_coordinate_descent.py:472: ConvergenceWarning: Objective did not converge. You might want to increase the number of iterations. Duality gap: 322.118429672699, tolerance: 0.13959714242438345\n",
      "  tol, rng, random, positive)\n",
      "/Users/michaellaccavole/opt/anaconda3/lib/python3.7/site-packages/sklearn/linear_model/_coordinate_descent.py:472: ConvergenceWarning: Objective did not converge. You might want to increase the number of iterations. Duality gap: 223.6359182894322, tolerance: 0.1410550550331511\n",
      "  tol, rng, random, positive)\n",
      "/Users/michaellaccavole/opt/anaconda3/lib/python3.7/site-packages/sklearn/linear_model/_coordinate_descent.py:472: ConvergenceWarning: Objective did not converge. You might want to increase the number of iterations. Duality gap: 186.47305987321016, tolerance: 0.1410550550331511\n",
      "  tol, rng, random, positive)\n",
      "/Users/michaellaccavole/opt/anaconda3/lib/python3.7/site-packages/sklearn/linear_model/_coordinate_descent.py:472: ConvergenceWarning: Objective did not converge. You might want to increase the number of iterations. Duality gap: 129.66169897399777, tolerance: 0.1410550550331511\n",
      "  tol, rng, random, positive)\n",
      "/Users/michaellaccavole/opt/anaconda3/lib/python3.7/site-packages/sklearn/linear_model/_coordinate_descent.py:472: ConvergenceWarning: Objective did not converge. You might want to increase the number of iterations. Duality gap: 60.52819312078691, tolerance: 0.1410550550331511\n",
      "  tol, rng, random, positive)\n",
      "/Users/michaellaccavole/opt/anaconda3/lib/python3.7/site-packages/sklearn/linear_model/_coordinate_descent.py:472: ConvergenceWarning: Objective did not converge. You might want to increase the number of iterations. Duality gap: 60.35851052535804, tolerance: 0.1410550550331511\n",
      "  tol, rng, random, positive)\n",
      "/Users/michaellaccavole/opt/anaconda3/lib/python3.7/site-packages/sklearn/linear_model/_coordinate_descent.py:472: ConvergenceWarning: Objective did not converge. You might want to increase the number of iterations. Duality gap: 59.34422191351155, tolerance: 0.1410550550331511\n",
      "  tol, rng, random, positive)\n",
      "/Users/michaellaccavole/opt/anaconda3/lib/python3.7/site-packages/sklearn/linear_model/_coordinate_descent.py:472: ConvergenceWarning: Objective did not converge. You might want to increase the number of iterations. Duality gap: 73.5443197042946, tolerance: 0.1410550550331511\n",
      "  tol, rng, random, positive)\n",
      "/Users/michaellaccavole/opt/anaconda3/lib/python3.7/site-packages/sklearn/linear_model/_coordinate_descent.py:472: ConvergenceWarning: Objective did not converge. You might want to increase the number of iterations. Duality gap: 161.35227804943236, tolerance: 0.1410550550331511\n",
      "  tol, rng, random, positive)\n",
      "/Users/michaellaccavole/opt/anaconda3/lib/python3.7/site-packages/sklearn/linear_model/_coordinate_descent.py:472: ConvergenceWarning: Objective did not converge. You might want to increase the number of iterations. Duality gap: 267.33610640356716, tolerance: 0.1410550550331511\n",
      "  tol, rng, random, positive)\n",
      "/Users/michaellaccavole/opt/anaconda3/lib/python3.7/site-packages/sklearn/linear_model/_coordinate_descent.py:472: ConvergenceWarning: Objective did not converge. You might want to increase the number of iterations. Duality gap: 327.6994564572349, tolerance: 0.1410550550331511\n",
      "  tol, rng, random, positive)\n",
      "/Users/michaellaccavole/opt/anaconda3/lib/python3.7/site-packages/sklearn/linear_model/_coordinate_descent.py:472: ConvergenceWarning: Objective did not converge. You might want to increase the number of iterations. Duality gap: 362.95006032036184, tolerance: 0.1410550550331511\n",
      "  tol, rng, random, positive)\n",
      "/Users/michaellaccavole/opt/anaconda3/lib/python3.7/site-packages/sklearn/linear_model/_coordinate_descent.py:472: ConvergenceWarning: Objective did not converge. You might want to increase the number of iterations. Duality gap: 384.54067822407933, tolerance: 0.1410550550331511\n",
      "  tol, rng, random, positive)\n",
      "/Users/michaellaccavole/opt/anaconda3/lib/python3.7/site-packages/sklearn/linear_model/_coordinate_descent.py:472: ConvergenceWarning: Objective did not converge. You might want to increase the number of iterations. Duality gap: 398.17229381504745, tolerance: 0.1410550550331511\n",
      "  tol, rng, random, positive)\n",
      "/Users/michaellaccavole/opt/anaconda3/lib/python3.7/site-packages/sklearn/linear_model/_coordinate_descent.py:472: ConvergenceWarning: Objective did not converge. You might want to increase the number of iterations. Duality gap: 406.92683158923876, tolerance: 0.1410550550331511\n",
      "  tol, rng, random, positive)\n",
      "/Users/michaellaccavole/opt/anaconda3/lib/python3.7/site-packages/sklearn/linear_model/_coordinate_descent.py:472: ConvergenceWarning: Objective did not converge. You might want to increase the number of iterations. Duality gap: 413.54702391507936, tolerance: 0.1410550550331511\n",
      "  tol, rng, random, positive)\n",
      "/Users/michaellaccavole/opt/anaconda3/lib/python3.7/site-packages/sklearn/linear_model/_coordinate_descent.py:472: ConvergenceWarning: Objective did not converge. You might want to increase the number of iterations. Duality gap: 417.62778867406627, tolerance: 0.1410550550331511\n",
      "  tol, rng, random, positive)\n",
      "/Users/michaellaccavole/opt/anaconda3/lib/python3.7/site-packages/sklearn/linear_model/_coordinate_descent.py:472: ConvergenceWarning: Objective did not converge. You might want to increase the number of iterations. Duality gap: 419.26160683160913, tolerance: 0.1410550550331511\n",
      "  tol, rng, random, positive)\n",
      "/Users/michaellaccavole/opt/anaconda3/lib/python3.7/site-packages/sklearn/linear_model/_coordinate_descent.py:472: ConvergenceWarning: Objective did not converge. You might want to increase the number of iterations. Duality gap: 419.28492981196814, tolerance: 0.1410550550331511\n",
      "  tol, rng, random, positive)\n",
      "/Users/michaellaccavole/opt/anaconda3/lib/python3.7/site-packages/sklearn/linear_model/_coordinate_descent.py:472: ConvergenceWarning: Objective did not converge. You might want to increase the number of iterations. Duality gap: 417.7197546001257, tolerance: 0.1410550550331511\n",
      "  tol, rng, random, positive)\n",
      "/Users/michaellaccavole/opt/anaconda3/lib/python3.7/site-packages/sklearn/linear_model/_coordinate_descent.py:472: ConvergenceWarning: Objective did not converge. You might want to increase the number of iterations. Duality gap: 414.6957619674616, tolerance: 0.1410550550331511\n",
      "  tol, rng, random, positive)\n",
      "/Users/michaellaccavole/opt/anaconda3/lib/python3.7/site-packages/sklearn/linear_model/_coordinate_descent.py:472: ConvergenceWarning: Objective did not converge. You might want to increase the number of iterations. Duality gap: 410.65955340701055, tolerance: 0.1410550550331511\n",
      "  tol, rng, random, positive)\n",
      "/Users/michaellaccavole/opt/anaconda3/lib/python3.7/site-packages/sklearn/linear_model/_coordinate_descent.py:472: ConvergenceWarning: Objective did not converge. You might want to increase the number of iterations. Duality gap: 405.5550009403734, tolerance: 0.1410550550331511\n",
      "  tol, rng, random, positive)\n",
      "/Users/michaellaccavole/opt/anaconda3/lib/python3.7/site-packages/sklearn/linear_model/_coordinate_descent.py:472: ConvergenceWarning: Objective did not converge. You might want to increase the number of iterations. Duality gap: 399.71528183806254, tolerance: 0.1410550550331511\n",
      "  tol, rng, random, positive)\n",
      "/Users/michaellaccavole/opt/anaconda3/lib/python3.7/site-packages/sklearn/linear_model/_coordinate_descent.py:472: ConvergenceWarning: Objective did not converge. You might want to increase the number of iterations. Duality gap: 393.1683288765465, tolerance: 0.1410550550331511\n",
      "  tol, rng, random, positive)\n",
      "/Users/michaellaccavole/opt/anaconda3/lib/python3.7/site-packages/sklearn/linear_model/_coordinate_descent.py:472: ConvergenceWarning: Objective did not converge. You might want to increase the number of iterations. Duality gap: 385.97583295988204, tolerance: 0.1410550550331511\n",
      "  tol, rng, random, positive)\n",
      "/Users/michaellaccavole/opt/anaconda3/lib/python3.7/site-packages/sklearn/linear_model/_coordinate_descent.py:472: ConvergenceWarning: Objective did not converge. You might want to increase the number of iterations. Duality gap: 378.44008413576313, tolerance: 0.1410550550331511\n",
      "  tol, rng, random, positive)\n",
      "/Users/michaellaccavole/opt/anaconda3/lib/python3.7/site-packages/sklearn/linear_model/_coordinate_descent.py:472: ConvergenceWarning: Objective did not converge. You might want to increase the number of iterations. Duality gap: 370.45184546995205, tolerance: 0.1410550550331511\n",
      "  tol, rng, random, positive)\n",
      "/Users/michaellaccavole/opt/anaconda3/lib/python3.7/site-packages/sklearn/linear_model/_coordinate_descent.py:472: ConvergenceWarning: Objective did not converge. You might want to increase the number of iterations. Duality gap: 362.175824328899, tolerance: 0.1410550550331511\n",
      "  tol, rng, random, positive)\n",
      "/Users/michaellaccavole/opt/anaconda3/lib/python3.7/site-packages/sklearn/linear_model/_coordinate_descent.py:472: ConvergenceWarning: Objective did not converge. You might want to increase the number of iterations. Duality gap: 353.96345581993836, tolerance: 0.1410550550331511\n",
      "  tol, rng, random, positive)\n",
      "/Users/michaellaccavole/opt/anaconda3/lib/python3.7/site-packages/sklearn/linear_model/_coordinate_descent.py:472: ConvergenceWarning: Objective did not converge. You might want to increase the number of iterations. Duality gap: 345.82896831293675, tolerance: 0.1410550550331511\n",
      "  tol, rng, random, positive)\n",
      "/Users/michaellaccavole/opt/anaconda3/lib/python3.7/site-packages/sklearn/linear_model/_coordinate_descent.py:472: ConvergenceWarning: Objective did not converge. You might want to increase the number of iterations. Duality gap: 337.9990576141859, tolerance: 0.1410550550331511\n",
      "  tol, rng, random, positive)\n",
      "/Users/michaellaccavole/opt/anaconda3/lib/python3.7/site-packages/sklearn/linear_model/_coordinate_descent.py:472: ConvergenceWarning: Objective did not converge. You might want to increase the number of iterations. Duality gap: 330.59118180936946, tolerance: 0.1410550550331511\n",
      "  tol, rng, random, positive)\n",
      "/Users/michaellaccavole/opt/anaconda3/lib/python3.7/site-packages/sklearn/linear_model/_coordinate_descent.py:472: ConvergenceWarning: Objective did not converge. You might want to increase the number of iterations. Duality gap: 323.642726428409, tolerance: 0.1410550550331511\n",
      "  tol, rng, random, positive)\n"
     ]
    },
    {
     "name": "stderr",
     "output_type": "stream",
     "text": [
      "/Users/michaellaccavole/opt/anaconda3/lib/python3.7/site-packages/sklearn/linear_model/_coordinate_descent.py:472: ConvergenceWarning: Objective did not converge. You might want to increase the number of iterations. Duality gap: 219.97193769479725, tolerance: 0.13815655673141783\n",
      "  tol, rng, random, positive)\n",
      "/Users/michaellaccavole/opt/anaconda3/lib/python3.7/site-packages/sklearn/linear_model/_coordinate_descent.py:472: ConvergenceWarning: Objective did not converge. You might want to increase the number of iterations. Duality gap: 180.79483497655974, tolerance: 0.13815655673141783\n",
      "  tol, rng, random, positive)\n",
      "/Users/michaellaccavole/opt/anaconda3/lib/python3.7/site-packages/sklearn/linear_model/_coordinate_descent.py:472: ConvergenceWarning: Objective did not converge. You might want to increase the number of iterations. Duality gap: 120.41342908320757, tolerance: 0.13815655673141783\n",
      "  tol, rng, random, positive)\n",
      "/Users/michaellaccavole/opt/anaconda3/lib/python3.7/site-packages/sklearn/linear_model/_coordinate_descent.py:472: ConvergenceWarning: Objective did not converge. You might want to increase the number of iterations. Duality gap: 61.355553145514705, tolerance: 0.13815655673141783\n",
      "  tol, rng, random, positive)\n",
      "/Users/michaellaccavole/opt/anaconda3/lib/python3.7/site-packages/sklearn/linear_model/_coordinate_descent.py:472: ConvergenceWarning: Objective did not converge. You might want to increase the number of iterations. Duality gap: 61.222068944418425, tolerance: 0.13815655673141783\n",
      "  tol, rng, random, positive)\n",
      "/Users/michaellaccavole/opt/anaconda3/lib/python3.7/site-packages/sklearn/linear_model/_coordinate_descent.py:472: ConvergenceWarning: Objective did not converge. You might want to increase the number of iterations. Duality gap: 60.230753787715344, tolerance: 0.13815655673141783\n",
      "  tol, rng, random, positive)\n",
      "/Users/michaellaccavole/opt/anaconda3/lib/python3.7/site-packages/sklearn/linear_model/_coordinate_descent.py:472: ConvergenceWarning: Objective did not converge. You might want to increase the number of iterations. Duality gap: 77.43023133988083, tolerance: 0.13815655673141783\n",
      "  tol, rng, random, positive)\n",
      "/Users/michaellaccavole/opt/anaconda3/lib/python3.7/site-packages/sklearn/linear_model/_coordinate_descent.py:472: ConvergenceWarning: Objective did not converge. You might want to increase the number of iterations. Duality gap: 192.93765939236306, tolerance: 0.13815655673141783\n",
      "  tol, rng, random, positive)\n",
      "/Users/michaellaccavole/opt/anaconda3/lib/python3.7/site-packages/sklearn/linear_model/_coordinate_descent.py:472: ConvergenceWarning: Objective did not converge. You might want to increase the number of iterations. Duality gap: 286.66991576922953, tolerance: 0.13815655673141783\n",
      "  tol, rng, random, positive)\n",
      "/Users/michaellaccavole/opt/anaconda3/lib/python3.7/site-packages/sklearn/linear_model/_coordinate_descent.py:472: ConvergenceWarning: Objective did not converge. You might want to increase the number of iterations. Duality gap: 337.9770049734073, tolerance: 0.13815655673141783\n",
      "  tol, rng, random, positive)\n",
      "/Users/michaellaccavole/opt/anaconda3/lib/python3.7/site-packages/sklearn/linear_model/_coordinate_descent.py:472: ConvergenceWarning: Objective did not converge. You might want to increase the number of iterations. Duality gap: 367.87860756199404, tolerance: 0.13815655673141783\n",
      "  tol, rng, random, positive)\n",
      "/Users/michaellaccavole/opt/anaconda3/lib/python3.7/site-packages/sklearn/linear_model/_coordinate_descent.py:472: ConvergenceWarning: Objective did not converge. You might want to increase the number of iterations. Duality gap: 386.06286021730625, tolerance: 0.13815655673141783\n",
      "  tol, rng, random, positive)\n",
      "/Users/michaellaccavole/opt/anaconda3/lib/python3.7/site-packages/sklearn/linear_model/_coordinate_descent.py:472: ConvergenceWarning: Objective did not converge. You might want to increase the number of iterations. Duality gap: 397.3904013982686, tolerance: 0.13815655673141783\n",
      "  tol, rng, random, positive)\n",
      "/Users/michaellaccavole/opt/anaconda3/lib/python3.7/site-packages/sklearn/linear_model/_coordinate_descent.py:472: ConvergenceWarning: Objective did not converge. You might want to increase the number of iterations. Duality gap: 404.5128687928318, tolerance: 0.13815655673141783\n",
      "  tol, rng, random, positive)\n",
      "/Users/michaellaccavole/opt/anaconda3/lib/python3.7/site-packages/sklearn/linear_model/_coordinate_descent.py:472: ConvergenceWarning: Objective did not converge. You might want to increase the number of iterations. Duality gap: 409.3098688982896, tolerance: 0.13815655673141783\n",
      "  tol, rng, random, positive)\n",
      "/Users/michaellaccavole/opt/anaconda3/lib/python3.7/site-packages/sklearn/linear_model/_coordinate_descent.py:472: ConvergenceWarning: Objective did not converge. You might want to increase the number of iterations. Duality gap: 412.11110905892315, tolerance: 0.13815655673141783\n",
      "  tol, rng, random, positive)\n",
      "/Users/michaellaccavole/opt/anaconda3/lib/python3.7/site-packages/sklearn/linear_model/_coordinate_descent.py:472: ConvergenceWarning: Objective did not converge. You might want to increase the number of iterations. Duality gap: 412.9021805002081, tolerance: 0.13815655673141783\n",
      "  tol, rng, random, positive)\n",
      "/Users/michaellaccavole/opt/anaconda3/lib/python3.7/site-packages/sklearn/linear_model/_coordinate_descent.py:472: ConvergenceWarning: Objective did not converge. You might want to increase the number of iterations. Duality gap: 414.84136507305425, tolerance: 0.13815655673141783\n",
      "  tol, rng, random, positive)\n",
      "/Users/michaellaccavole/opt/anaconda3/lib/python3.7/site-packages/sklearn/linear_model/_coordinate_descent.py:472: ConvergenceWarning: Objective did not converge. You might want to increase the number of iterations. Duality gap: 412.18769645338983, tolerance: 0.13815655673141783\n",
      "  tol, rng, random, positive)\n",
      "/Users/michaellaccavole/opt/anaconda3/lib/python3.7/site-packages/sklearn/linear_model/_coordinate_descent.py:472: ConvergenceWarning: Objective did not converge. You might want to increase the number of iterations. Duality gap: 408.5955510772195, tolerance: 0.13815655673141783\n",
      "  tol, rng, random, positive)\n",
      "/Users/michaellaccavole/opt/anaconda3/lib/python3.7/site-packages/sklearn/linear_model/_coordinate_descent.py:472: ConvergenceWarning: Objective did not converge. You might want to increase the number of iterations. Duality gap: 404.14522948982204, tolerance: 0.13815655673141783\n",
      "  tol, rng, random, positive)\n",
      "/Users/michaellaccavole/opt/anaconda3/lib/python3.7/site-packages/sklearn/linear_model/_coordinate_descent.py:472: ConvergenceWarning: Objective did not converge. You might want to increase the number of iterations. Duality gap: 398.8846296888705, tolerance: 0.13815655673141783\n",
      "  tol, rng, random, positive)\n",
      "/Users/michaellaccavole/opt/anaconda3/lib/python3.7/site-packages/sklearn/linear_model/_coordinate_descent.py:472: ConvergenceWarning: Objective did not converge. You might want to increase the number of iterations. Duality gap: 392.93767720468423, tolerance: 0.13815655673141783\n",
      "  tol, rng, random, positive)\n",
      "/Users/michaellaccavole/opt/anaconda3/lib/python3.7/site-packages/sklearn/linear_model/_coordinate_descent.py:472: ConvergenceWarning: Objective did not converge. You might want to increase the number of iterations. Duality gap: 386.45650634353353, tolerance: 0.13815655673141783\n",
      "  tol, rng, random, positive)\n",
      "/Users/michaellaccavole/opt/anaconda3/lib/python3.7/site-packages/sklearn/linear_model/_coordinate_descent.py:472: ConvergenceWarning: Objective did not converge. You might want to increase the number of iterations. Duality gap: 379.475408658464, tolerance: 0.13815655673141783\n",
      "  tol, rng, random, positive)\n",
      "/Users/michaellaccavole/opt/anaconda3/lib/python3.7/site-packages/sklearn/linear_model/_coordinate_descent.py:472: ConvergenceWarning: Objective did not converge. You might want to increase the number of iterations. Duality gap: 372.0427056765189, tolerance: 0.13815655673141783\n",
      "  tol, rng, random, positive)\n",
      "/Users/michaellaccavole/opt/anaconda3/lib/python3.7/site-packages/sklearn/linear_model/_coordinate_descent.py:472: ConvergenceWarning: Objective did not converge. You might want to increase the number of iterations. Duality gap: 364.1147313596638, tolerance: 0.13815655673141783\n",
      "  tol, rng, random, positive)\n",
      "/Users/michaellaccavole/opt/anaconda3/lib/python3.7/site-packages/sklearn/linear_model/_coordinate_descent.py:472: ConvergenceWarning: Objective did not converge. You might want to increase the number of iterations. Duality gap: 355.9241281535989, tolerance: 0.13815655673141783\n",
      "  tol, rng, random, positive)\n",
      "/Users/michaellaccavole/opt/anaconda3/lib/python3.7/site-packages/sklearn/linear_model/_coordinate_descent.py:472: ConvergenceWarning: Objective did not converge. You might want to increase the number of iterations. Duality gap: 347.58442388626423, tolerance: 0.13815655673141783\n",
      "  tol, rng, random, positive)\n",
      "/Users/michaellaccavole/opt/anaconda3/lib/python3.7/site-packages/sklearn/linear_model/_coordinate_descent.py:472: ConvergenceWarning: Objective did not converge. You might want to increase the number of iterations. Duality gap: 339.380730425738, tolerance: 0.13815655673141783\n",
      "  tol, rng, random, positive)\n",
      "/Users/michaellaccavole/opt/anaconda3/lib/python3.7/site-packages/sklearn/linear_model/_coordinate_descent.py:472: ConvergenceWarning: Objective did not converge. You might want to increase the number of iterations. Duality gap: 331.47029723198824, tolerance: 0.13815655673141783\n",
      "  tol, rng, random, positive)\n",
      "/Users/michaellaccavole/opt/anaconda3/lib/python3.7/site-packages/sklearn/linear_model/_coordinate_descent.py:472: ConvergenceWarning: Objective did not converge. You might want to increase the number of iterations. Duality gap: 323.98961808773277, tolerance: 0.13815655673141783\n",
      "  tol, rng, random, positive)\n",
      "/Users/michaellaccavole/opt/anaconda3/lib/python3.7/site-packages/sklearn/linear_model/_coordinate_descent.py:472: ConvergenceWarning: Objective did not converge. You might want to increase the number of iterations. Duality gap: 316.9994360131885, tolerance: 0.13815655673141783\n",
      "  tol, rng, random, positive)\n"
     ]
    },
    {
     "name": "stderr",
     "output_type": "stream",
     "text": [
      "/Users/michaellaccavole/opt/anaconda3/lib/python3.7/site-packages/sklearn/linear_model/_coordinate_descent.py:472: ConvergenceWarning: Objective did not converge. You might want to increase the number of iterations. Duality gap: 98.6599281193096, tolerance: 0.13890319762475287\n",
      "  tol, rng, random, positive)\n",
      "/Users/michaellaccavole/opt/anaconda3/lib/python3.7/site-packages/sklearn/linear_model/_coordinate_descent.py:472: ConvergenceWarning: Objective did not converge. You might want to increase the number of iterations. Duality gap: 55.49307851250023, tolerance: 0.13890319762475287\n",
      "  tol, rng, random, positive)\n",
      "/Users/michaellaccavole/opt/anaconda3/lib/python3.7/site-packages/sklearn/linear_model/_coordinate_descent.py:472: ConvergenceWarning: Objective did not converge. You might want to increase the number of iterations. Duality gap: 58.43128398107717, tolerance: 0.13890319762475287\n",
      "  tol, rng, random, positive)\n",
      "/Users/michaellaccavole/opt/anaconda3/lib/python3.7/site-packages/sklearn/linear_model/_coordinate_descent.py:472: ConvergenceWarning: Objective did not converge. You might want to increase the number of iterations. Duality gap: 59.45364921824171, tolerance: 0.13890319762475287\n",
      "  tol, rng, random, positive)\n",
      "/Users/michaellaccavole/opt/anaconda3/lib/python3.7/site-packages/sklearn/linear_model/_coordinate_descent.py:472: ConvergenceWarning: Objective did not converge. You might want to increase the number of iterations. Duality gap: 59.182704540137934, tolerance: 0.13890319762475287\n",
      "  tol, rng, random, positive)\n",
      "/Users/michaellaccavole/opt/anaconda3/lib/python3.7/site-packages/sklearn/linear_model/_coordinate_descent.py:472: ConvergenceWarning: Objective did not converge. You might want to increase the number of iterations. Duality gap: 58.06900889917313, tolerance: 0.13890319762475287\n",
      "  tol, rng, random, positive)\n",
      "/Users/michaellaccavole/opt/anaconda3/lib/python3.7/site-packages/sklearn/linear_model/_coordinate_descent.py:472: ConvergenceWarning: Objective did not converge. You might want to increase the number of iterations. Duality gap: 252.39861591090946, tolerance: 0.13890319762475287\n",
      "  tol, rng, random, positive)\n",
      "/Users/michaellaccavole/opt/anaconda3/lib/python3.7/site-packages/sklearn/linear_model/_coordinate_descent.py:472: ConvergenceWarning: Objective did not converge. You might want to increase the number of iterations. Duality gap: 305.4647937209711, tolerance: 0.13890319762475287\n",
      "  tol, rng, random, positive)\n",
      "/Users/michaellaccavole/opt/anaconda3/lib/python3.7/site-packages/sklearn/linear_model/_coordinate_descent.py:472: ConvergenceWarning: Objective did not converge. You might want to increase the number of iterations. Duality gap: 350.16353330418235, tolerance: 0.13890319762475287\n",
      "  tol, rng, random, positive)\n",
      "/Users/michaellaccavole/opt/anaconda3/lib/python3.7/site-packages/sklearn/linear_model/_coordinate_descent.py:472: ConvergenceWarning: Objective did not converge. You might want to increase the number of iterations. Duality gap: 376.8605393345358, tolerance: 0.13890319762475287\n",
      "  tol, rng, random, positive)\n",
      "/Users/michaellaccavole/opt/anaconda3/lib/python3.7/site-packages/sklearn/linear_model/_coordinate_descent.py:472: ConvergenceWarning: Objective did not converge. You might want to increase the number of iterations. Duality gap: 393.1255909095641, tolerance: 0.13890319762475287\n",
      "  tol, rng, random, positive)\n",
      "/Users/michaellaccavole/opt/anaconda3/lib/python3.7/site-packages/sklearn/linear_model/_coordinate_descent.py:472: ConvergenceWarning: Objective did not converge. You might want to increase the number of iterations. Duality gap: 403.12350146264436, tolerance: 0.13890319762475287\n",
      "  tol, rng, random, positive)\n",
      "/Users/michaellaccavole/opt/anaconda3/lib/python3.7/site-packages/sklearn/linear_model/_coordinate_descent.py:472: ConvergenceWarning: Objective did not converge. You might want to increase the number of iterations. Duality gap: 409.21994806574673, tolerance: 0.13890319762475287\n",
      "  tol, rng, random, positive)\n",
      "/Users/michaellaccavole/opt/anaconda3/lib/python3.7/site-packages/sklearn/linear_model/_coordinate_descent.py:472: ConvergenceWarning: Objective did not converge. You might want to increase the number of iterations. Duality gap: 412.83170571219085, tolerance: 0.13890319762475287\n",
      "  tol, rng, random, positive)\n",
      "/Users/michaellaccavole/opt/anaconda3/lib/python3.7/site-packages/sklearn/linear_model/_coordinate_descent.py:472: ConvergenceWarning: Objective did not converge. You might want to increase the number of iterations. Duality gap: 414.813895825453, tolerance: 0.13890319762475287\n",
      "  tol, rng, random, positive)\n",
      "/Users/michaellaccavole/opt/anaconda3/lib/python3.7/site-packages/sklearn/linear_model/_coordinate_descent.py:472: ConvergenceWarning: Objective did not converge. You might want to increase the number of iterations. Duality gap: 415.0994854166362, tolerance: 0.13890319762475287\n",
      "  tol, rng, random, positive)\n",
      "/Users/michaellaccavole/opt/anaconda3/lib/python3.7/site-packages/sklearn/linear_model/_coordinate_descent.py:472: ConvergenceWarning: Objective did not converge. You might want to increase the number of iterations. Duality gap: 414.35669776500004, tolerance: 0.13890319762475287\n",
      "  tol, rng, random, positive)\n",
      "/Users/michaellaccavole/opt/anaconda3/lib/python3.7/site-packages/sklearn/linear_model/_coordinate_descent.py:472: ConvergenceWarning: Objective did not converge. You might want to increase the number of iterations. Duality gap: 412.54086492870556, tolerance: 0.13890319762475287\n",
      "  tol, rng, random, positive)\n",
      "/Users/michaellaccavole/opt/anaconda3/lib/python3.7/site-packages/sklearn/linear_model/_coordinate_descent.py:472: ConvergenceWarning: Objective did not converge. You might want to increase the number of iterations. Duality gap: 409.9228658014259, tolerance: 0.13890319762475287\n",
      "  tol, rng, random, positive)\n",
      "/Users/michaellaccavole/opt/anaconda3/lib/python3.7/site-packages/sklearn/linear_model/_coordinate_descent.py:472: ConvergenceWarning: Objective did not converge. You might want to increase the number of iterations. Duality gap: 406.36704877040273, tolerance: 0.13890319762475287\n",
      "  tol, rng, random, positive)\n",
      "/Users/michaellaccavole/opt/anaconda3/lib/python3.7/site-packages/sklearn/linear_model/_coordinate_descent.py:472: ConvergenceWarning: Objective did not converge. You might want to increase the number of iterations. Duality gap: 401.9161882626714, tolerance: 0.13890319762475287\n",
      "  tol, rng, random, positive)\n",
      "/Users/michaellaccavole/opt/anaconda3/lib/python3.7/site-packages/sklearn/linear_model/_coordinate_descent.py:472: ConvergenceWarning: Objective did not converge. You might want to increase the number of iterations. Duality gap: 396.5945974753182, tolerance: 0.13890319762475287\n",
      "  tol, rng, random, positive)\n",
      "/Users/michaellaccavole/opt/anaconda3/lib/python3.7/site-packages/sklearn/linear_model/_coordinate_descent.py:472: ConvergenceWarning: Objective did not converge. You might want to increase the number of iterations. Duality gap: 390.6282950584489, tolerance: 0.13890319762475287\n",
      "  tol, rng, random, positive)\n",
      "/Users/michaellaccavole/opt/anaconda3/lib/python3.7/site-packages/sklearn/linear_model/_coordinate_descent.py:472: ConvergenceWarning: Objective did not converge. You might want to increase the number of iterations. Duality gap: 384.1340727849662, tolerance: 0.13890319762475287\n",
      "  tol, rng, random, positive)\n",
      "/Users/michaellaccavole/opt/anaconda3/lib/python3.7/site-packages/sklearn/linear_model/_coordinate_descent.py:472: ConvergenceWarning: Objective did not converge. You might want to increase the number of iterations. Duality gap: 377.06630892803213, tolerance: 0.13890319762475287\n",
      "  tol, rng, random, positive)\n",
      "/Users/michaellaccavole/opt/anaconda3/lib/python3.7/site-packages/sklearn/linear_model/_coordinate_descent.py:472: ConvergenceWarning: Objective did not converge. You might want to increase the number of iterations. Duality gap: 369.67179918748644, tolerance: 0.13890319762475287\n",
      "  tol, rng, random, positive)\n",
      "/Users/michaellaccavole/opt/anaconda3/lib/python3.7/site-packages/sklearn/linear_model/_coordinate_descent.py:472: ConvergenceWarning: Objective did not converge. You might want to increase the number of iterations. Duality gap: 361.8595172728852, tolerance: 0.13890319762475287\n",
      "  tol, rng, random, positive)\n",
      "/Users/michaellaccavole/opt/anaconda3/lib/python3.7/site-packages/sklearn/linear_model/_coordinate_descent.py:472: ConvergenceWarning: Objective did not converge. You might want to increase the number of iterations. Duality gap: 353.72114277342007, tolerance: 0.13890319762475287\n",
      "  tol, rng, random, positive)\n",
      "/Users/michaellaccavole/opt/anaconda3/lib/python3.7/site-packages/sklearn/linear_model/_coordinate_descent.py:472: ConvergenceWarning: Objective did not converge. You might want to increase the number of iterations. Duality gap: 345.57993272285876, tolerance: 0.13890319762475287\n",
      "  tol, rng, random, positive)\n",
      "/Users/michaellaccavole/opt/anaconda3/lib/python3.7/site-packages/sklearn/linear_model/_coordinate_descent.py:472: ConvergenceWarning: Objective did not converge. You might want to increase the number of iterations. Duality gap: 337.4529569379935, tolerance: 0.13890319762475287\n",
      "  tol, rng, random, positive)\n",
      "/Users/michaellaccavole/opt/anaconda3/lib/python3.7/site-packages/sklearn/linear_model/_coordinate_descent.py:472: ConvergenceWarning: Objective did not converge. You might want to increase the number of iterations. Duality gap: 329.60149794535477, tolerance: 0.13890319762475287\n",
      "  tol, rng, random, positive)\n",
      "/Users/michaellaccavole/opt/anaconda3/lib/python3.7/site-packages/sklearn/linear_model/_coordinate_descent.py:472: ConvergenceWarning: Objective did not converge. You might want to increase the number of iterations. Duality gap: 322.13759631683706, tolerance: 0.13890319762475287\n",
      "  tol, rng, random, positive)\n",
      "/Users/michaellaccavole/opt/anaconda3/lib/python3.7/site-packages/sklearn/linear_model/_coordinate_descent.py:472: ConvergenceWarning: Objective did not converge. You might want to increase the number of iterations. Duality gap: 315.0801179941298, tolerance: 0.13890319762475287\n",
      "  tol, rng, random, positive)\n",
      "/Users/michaellaccavole/opt/anaconda3/lib/python3.7/site-packages/sklearn/linear_model/_coordinate_descent.py:472: ConvergenceWarning: Objective did not converge. You might want to increase the number of iterations. Duality gap: 249.97448766540282, tolerance: 0.1398757057880656\n",
      "  tol, rng, random, positive)\n",
      "/Users/michaellaccavole/opt/anaconda3/lib/python3.7/site-packages/sklearn/linear_model/_coordinate_descent.py:472: ConvergenceWarning: Objective did not converge. You might want to increase the number of iterations. Duality gap: 220.7098311611361, tolerance: 0.1398757057880656\n",
      "  tol, rng, random, positive)\n",
      "/Users/michaellaccavole/opt/anaconda3/lib/python3.7/site-packages/sklearn/linear_model/_coordinate_descent.py:472: ConvergenceWarning: Objective did not converge. You might want to increase the number of iterations. Duality gap: 175.86700626583718, tolerance: 0.1398757057880656\n",
      "  tol, rng, random, positive)\n",
      "/Users/michaellaccavole/opt/anaconda3/lib/python3.7/site-packages/sklearn/linear_model/_coordinate_descent.py:472: ConvergenceWarning: Objective did not converge. You might want to increase the number of iterations. Duality gap: 111.00622513418693, tolerance: 0.1398757057880656\n",
      "  tol, rng, random, positive)\n",
      "/Users/michaellaccavole/opt/anaconda3/lib/python3.7/site-packages/sklearn/linear_model/_coordinate_descent.py:472: ConvergenceWarning: Objective did not converge. You might want to increase the number of iterations. Duality gap: 59.48311395357291, tolerance: 0.1398757057880656\n",
      "  tol, rng, random, positive)\n",
      "/Users/michaellaccavole/opt/anaconda3/lib/python3.7/site-packages/sklearn/linear_model/_coordinate_descent.py:472: ConvergenceWarning: Objective did not converge. You might want to increase the number of iterations. Duality gap: 58.422255639373816, tolerance: 0.1398757057880656\n",
      "  tol, rng, random, positive)\n",
      "/Users/michaellaccavole/opt/anaconda3/lib/python3.7/site-packages/sklearn/linear_model/_coordinate_descent.py:472: ConvergenceWarning: Objective did not converge. You might want to increase the number of iterations. Duality gap: 56.85793671948454, tolerance: 0.1398757057880656\n",
      "  tol, rng, random, positive)\n",
      "/Users/michaellaccavole/opt/anaconda3/lib/python3.7/site-packages/sklearn/linear_model/_coordinate_descent.py:472: ConvergenceWarning: Objective did not converge. You might want to increase the number of iterations. Duality gap: 349.05341523407265, tolerance: 0.1398757057880656\n",
      "  tol, rng, random, positive)\n",
      "/Users/michaellaccavole/opt/anaconda3/lib/python3.7/site-packages/sklearn/linear_model/_coordinate_descent.py:472: ConvergenceWarning: Objective did not converge. You might want to increase the number of iterations. Duality gap: 371.21716226774345, tolerance: 0.1398757057880656\n",
      "  tol, rng, random, positive)\n",
      "/Users/michaellaccavole/opt/anaconda3/lib/python3.7/site-packages/sklearn/linear_model/_coordinate_descent.py:472: ConvergenceWarning: Objective did not converge. You might want to increase the number of iterations. Duality gap: 386.169756424794, tolerance: 0.1398757057880656\n",
      "  tol, rng, random, positive)\n",
      "/Users/michaellaccavole/opt/anaconda3/lib/python3.7/site-packages/sklearn/linear_model/_coordinate_descent.py:472: ConvergenceWarning: Objective did not converge. You might want to increase the number of iterations. Duality gap: 396.23200572249675, tolerance: 0.1398757057880656\n",
      "  tol, rng, random, positive)\n",
      "/Users/michaellaccavole/opt/anaconda3/lib/python3.7/site-packages/sklearn/linear_model/_coordinate_descent.py:472: ConvergenceWarning: Objective did not converge. You might want to increase the number of iterations. Duality gap: 402.94838741944045, tolerance: 0.1398757057880656\n",
      "  tol, rng, random, positive)\n",
      "/Users/michaellaccavole/opt/anaconda3/lib/python3.7/site-packages/sklearn/linear_model/_coordinate_descent.py:472: ConvergenceWarning: Objective did not converge. You might want to increase the number of iterations. Duality gap: 407.36231170243883, tolerance: 0.1398757057880656\n",
      "  tol, rng, random, positive)\n",
      "/Users/michaellaccavole/opt/anaconda3/lib/python3.7/site-packages/sklearn/linear_model/_coordinate_descent.py:472: ConvergenceWarning: Objective did not converge. You might want to increase the number of iterations. Duality gap: 410.1878531054258, tolerance: 0.1398757057880656\n",
      "  tol, rng, random, positive)\n",
      "/Users/michaellaccavole/opt/anaconda3/lib/python3.7/site-packages/sklearn/linear_model/_coordinate_descent.py:472: ConvergenceWarning: Objective did not converge. You might want to increase the number of iterations. Duality gap: 412.2771241323191, tolerance: 0.1398757057880656\n",
      "  tol, rng, random, positive)\n",
      "/Users/michaellaccavole/opt/anaconda3/lib/python3.7/site-packages/sklearn/linear_model/_coordinate_descent.py:472: ConvergenceWarning: Objective did not converge. You might want to increase the number of iterations. Duality gap: 413.27843878770545, tolerance: 0.1398757057880656\n",
      "  tol, rng, random, positive)\n"
     ]
    },
    {
     "name": "stderr",
     "output_type": "stream",
     "text": [
      "/Users/michaellaccavole/opt/anaconda3/lib/python3.7/site-packages/sklearn/linear_model/_coordinate_descent.py:472: ConvergenceWarning: Objective did not converge. You might want to increase the number of iterations. Duality gap: 413.3393498804169, tolerance: 0.1398757057880656\n",
      "  tol, rng, random, positive)\n",
      "/Users/michaellaccavole/opt/anaconda3/lib/python3.7/site-packages/sklearn/linear_model/_coordinate_descent.py:472: ConvergenceWarning: Objective did not converge. You might want to increase the number of iterations. Duality gap: 412.127810015822, tolerance: 0.1398757057880656\n",
      "  tol, rng, random, positive)\n",
      "/Users/michaellaccavole/opt/anaconda3/lib/python3.7/site-packages/sklearn/linear_model/_coordinate_descent.py:472: ConvergenceWarning: Objective did not converge. You might want to increase the number of iterations. Duality gap: 409.9179295523421, tolerance: 0.1398757057880656\n",
      "  tol, rng, random, positive)\n",
      "/Users/michaellaccavole/opt/anaconda3/lib/python3.7/site-packages/sklearn/linear_model/_coordinate_descent.py:472: ConvergenceWarning: Objective did not converge. You might want to increase the number of iterations. Duality gap: 406.5996811412389, tolerance: 0.1398757057880656\n",
      "  tol, rng, random, positive)\n",
      "/Users/michaellaccavole/opt/anaconda3/lib/python3.7/site-packages/sklearn/linear_model/_coordinate_descent.py:472: ConvergenceWarning: Objective did not converge. You might want to increase the number of iterations. Duality gap: 402.4839114150067, tolerance: 0.1398757057880656\n",
      "  tol, rng, random, positive)\n",
      "/Users/michaellaccavole/opt/anaconda3/lib/python3.7/site-packages/sklearn/linear_model/_coordinate_descent.py:472: ConvergenceWarning: Objective did not converge. You might want to increase the number of iterations. Duality gap: 397.5573700333815, tolerance: 0.1398757057880656\n",
      "  tol, rng, random, positive)\n",
      "/Users/michaellaccavole/opt/anaconda3/lib/python3.7/site-packages/sklearn/linear_model/_coordinate_descent.py:472: ConvergenceWarning: Objective did not converge. You might want to increase the number of iterations. Duality gap: 391.9675871125552, tolerance: 0.1398757057880656\n",
      "  tol, rng, random, positive)\n",
      "/Users/michaellaccavole/opt/anaconda3/lib/python3.7/site-packages/sklearn/linear_model/_coordinate_descent.py:472: ConvergenceWarning: Objective did not converge. You might want to increase the number of iterations. Duality gap: 385.8989141971107, tolerance: 0.1398757057880656\n",
      "  tol, rng, random, positive)\n",
      "/Users/michaellaccavole/opt/anaconda3/lib/python3.7/site-packages/sklearn/linear_model/_coordinate_descent.py:472: ConvergenceWarning: Objective did not converge. You might want to increase the number of iterations. Duality gap: 379.41988847857715, tolerance: 0.1398757057880656\n",
      "  tol, rng, random, positive)\n",
      "/Users/michaellaccavole/opt/anaconda3/lib/python3.7/site-packages/sklearn/linear_model/_coordinate_descent.py:472: ConvergenceWarning: Objective did not converge. You might want to increase the number of iterations. Duality gap: 372.57027247570005, tolerance: 0.1398757057880656\n",
      "  tol, rng, random, positive)\n",
      "/Users/michaellaccavole/opt/anaconda3/lib/python3.7/site-packages/sklearn/linear_model/_coordinate_descent.py:472: ConvergenceWarning: Objective did not converge. You might want to increase the number of iterations. Duality gap: 365.2969469396378, tolerance: 0.1398757057880656\n",
      "  tol, rng, random, positive)\n",
      "/Users/michaellaccavole/opt/anaconda3/lib/python3.7/site-packages/sklearn/linear_model/_coordinate_descent.py:472: ConvergenceWarning: Objective did not converge. You might want to increase the number of iterations. Duality gap: 357.7336054002664, tolerance: 0.1398757057880656\n",
      "  tol, rng, random, positive)\n",
      "/Users/michaellaccavole/opt/anaconda3/lib/python3.7/site-packages/sklearn/linear_model/_coordinate_descent.py:472: ConvergenceWarning: Objective did not converge. You might want to increase the number of iterations. Duality gap: 350.0548300696607, tolerance: 0.1398757057880656\n",
      "  tol, rng, random, positive)\n",
      "/Users/michaellaccavole/opt/anaconda3/lib/python3.7/site-packages/sklearn/linear_model/_coordinate_descent.py:472: ConvergenceWarning: Objective did not converge. You might want to increase the number of iterations. Duality gap: 342.30471004554323, tolerance: 0.1398757057880656\n",
      "  tol, rng, random, positive)\n",
      "/Users/michaellaccavole/opt/anaconda3/lib/python3.7/site-packages/sklearn/linear_model/_coordinate_descent.py:472: ConvergenceWarning: Objective did not converge. You might want to increase the number of iterations. Duality gap: 334.7947838629359, tolerance: 0.1398757057880656\n",
      "  tol, rng, random, positive)\n",
      "/Users/michaellaccavole/opt/anaconda3/lib/python3.7/site-packages/sklearn/linear_model/_coordinate_descent.py:472: ConvergenceWarning: Objective did not converge. You might want to increase the number of iterations. Duality gap: 327.6654675262726, tolerance: 0.1398757057880656\n",
      "  tol, rng, random, positive)\n",
      "/Users/michaellaccavole/opt/anaconda3/lib/python3.7/site-packages/sklearn/linear_model/_coordinate_descent.py:472: ConvergenceWarning: Objective did not converge. You might want to increase the number of iterations. Duality gap: 320.943473010695, tolerance: 0.1398757057880656\n",
      "  tol, rng, random, positive)\n",
      "/Users/michaellaccavole/opt/anaconda3/lib/python3.7/site-packages/sklearn/linear_model/_coordinate_descent.py:476: ConvergenceWarning: Objective did not converge. You might want to increase the number of iterations. Duality gap: 400.055466587585, tolerance: 0.1743988442592593\n",
      "  positive)\n",
      "/Users/michaellaccavole/opt/anaconda3/lib/python3.7/site-packages/sklearn/linear_model/_coordinate_descent.py:472: ConvergenceWarning: Objective did not converge. You might want to increase the number of iterations. Duality gap: 196.42568106276224, tolerance: 0.14065794808166576\n",
      "  tol, rng, random, positive)\n",
      "/Users/michaellaccavole/opt/anaconda3/lib/python3.7/site-packages/sklearn/linear_model/_coordinate_descent.py:472: ConvergenceWarning: Objective did not converge. You might want to increase the number of iterations. Duality gap: 164.5270584584656, tolerance: 0.14065794808166576\n",
      "  tol, rng, random, positive)\n",
      "/Users/michaellaccavole/opt/anaconda3/lib/python3.7/site-packages/sklearn/linear_model/_coordinate_descent.py:472: ConvergenceWarning: Objective did not converge. You might want to increase the number of iterations. Duality gap: 116.71411054689258, tolerance: 0.14065794808166576\n",
      "  tol, rng, random, positive)\n",
      "/Users/michaellaccavole/opt/anaconda3/lib/python3.7/site-packages/sklearn/linear_model/_coordinate_descent.py:472: ConvergenceWarning: Objective did not converge. You might want to increase the number of iterations. Duality gap: 63.73732213908727, tolerance: 0.14065794808166576\n",
      "  tol, rng, random, positive)\n",
      "/Users/michaellaccavole/opt/anaconda3/lib/python3.7/site-packages/sklearn/linear_model/_coordinate_descent.py:472: ConvergenceWarning: Objective did not converge. You might want to increase the number of iterations. Duality gap: 63.652471618959225, tolerance: 0.14065794808166576\n",
      "  tol, rng, random, positive)\n",
      "/Users/michaellaccavole/opt/anaconda3/lib/python3.7/site-packages/sklearn/linear_model/_coordinate_descent.py:472: ConvergenceWarning: Objective did not converge. You might want to increase the number of iterations. Duality gap: 62.70314466241098, tolerance: 0.14065794808166576\n",
      "  tol, rng, random, positive)\n",
      "/Users/michaellaccavole/opt/anaconda3/lib/python3.7/site-packages/sklearn/linear_model/_coordinate_descent.py:472: ConvergenceWarning: Objective did not converge. You might want to increase the number of iterations. Duality gap: 61.22596014257033, tolerance: 0.14065794808166576\n",
      "  tol, rng, random, positive)\n",
      "/Users/michaellaccavole/opt/anaconda3/lib/python3.7/site-packages/sklearn/linear_model/_coordinate_descent.py:472: ConvergenceWarning: Objective did not converge. You might want to increase the number of iterations. Duality gap: 59.71828213571155, tolerance: 0.14065794808166576\n",
      "  tol, rng, random, positive)\n",
      "/Users/michaellaccavole/opt/anaconda3/lib/python3.7/site-packages/sklearn/linear_model/_coordinate_descent.py:472: ConvergenceWarning: Objective did not converge. You might want to increase the number of iterations. Duality gap: 239.65011560644714, tolerance: 0.14065794808166576\n",
      "  tol, rng, random, positive)\n",
      "/Users/michaellaccavole/opt/anaconda3/lib/python3.7/site-packages/sklearn/linear_model/_coordinate_descent.py:472: ConvergenceWarning: Objective did not converge. You might want to increase the number of iterations. Duality gap: 305.33371032114513, tolerance: 0.14065794808166576\n",
      "  tol, rng, random, positive)\n",
      "/Users/michaellaccavole/opt/anaconda3/lib/python3.7/site-packages/sklearn/linear_model/_coordinate_descent.py:472: ConvergenceWarning: Objective did not converge. You might want to increase the number of iterations. Duality gap: 345.12770578793896, tolerance: 0.14065794808166576\n",
      "  tol, rng, random, positive)\n",
      "/Users/michaellaccavole/opt/anaconda3/lib/python3.7/site-packages/sklearn/linear_model/_coordinate_descent.py:472: ConvergenceWarning: Objective did not converge. You might want to increase the number of iterations. Duality gap: 370.27086027788937, tolerance: 0.14065794808166576\n",
      "  tol, rng, random, positive)\n",
      "/Users/michaellaccavole/opt/anaconda3/lib/python3.7/site-packages/sklearn/linear_model/_coordinate_descent.py:472: ConvergenceWarning: Objective did not converge. You might want to increase the number of iterations. Duality gap: 386.6531657103753, tolerance: 0.14065794808166576\n",
      "  tol, rng, random, positive)\n",
      "/Users/michaellaccavole/opt/anaconda3/lib/python3.7/site-packages/sklearn/linear_model/_coordinate_descent.py:472: ConvergenceWarning: Objective did not converge. You might want to increase the number of iterations. Duality gap: 397.5538815800021, tolerance: 0.14065794808166576\n",
      "  tol, rng, random, positive)\n",
      "/Users/michaellaccavole/opt/anaconda3/lib/python3.7/site-packages/sklearn/linear_model/_coordinate_descent.py:472: ConvergenceWarning: Objective did not converge. You might want to increase the number of iterations. Duality gap: 405.63375359487287, tolerance: 0.14065794808166576\n",
      "  tol, rng, random, positive)\n",
      "/Users/michaellaccavole/opt/anaconda3/lib/python3.7/site-packages/sklearn/linear_model/_coordinate_descent.py:472: ConvergenceWarning: Objective did not converge. You might want to increase the number of iterations. Duality gap: 411.4216109957915, tolerance: 0.14065794808166576\n",
      "  tol, rng, random, positive)\n",
      "/Users/michaellaccavole/opt/anaconda3/lib/python3.7/site-packages/sklearn/linear_model/_coordinate_descent.py:472: ConvergenceWarning: Objective did not converge. You might want to increase the number of iterations. Duality gap: 414.13826147510144, tolerance: 0.14065794808166576\n",
      "  tol, rng, random, positive)\n",
      "/Users/michaellaccavole/opt/anaconda3/lib/python3.7/site-packages/sklearn/linear_model/_coordinate_descent.py:472: ConvergenceWarning: Objective did not converge. You might want to increase the number of iterations. Duality gap: 415.25679880939117, tolerance: 0.14065794808166576\n",
      "  tol, rng, random, positive)\n",
      "/Users/michaellaccavole/opt/anaconda3/lib/python3.7/site-packages/sklearn/linear_model/_coordinate_descent.py:472: ConvergenceWarning: Objective did not converge. You might want to increase the number of iterations. Duality gap: 414.70698022782824, tolerance: 0.14065794808166576\n",
      "  tol, rng, random, positive)\n",
      "/Users/michaellaccavole/opt/anaconda3/lib/python3.7/site-packages/sklearn/linear_model/_coordinate_descent.py:472: ConvergenceWarning: Objective did not converge. You might want to increase the number of iterations. Duality gap: 412.52530904475753, tolerance: 0.14065794808166576\n",
      "  tol, rng, random, positive)\n",
      "/Users/michaellaccavole/opt/anaconda3/lib/python3.7/site-packages/sklearn/linear_model/_coordinate_descent.py:472: ConvergenceWarning: Objective did not converge. You might want to increase the number of iterations. Duality gap: 409.1926665606182, tolerance: 0.14065794808166576\n",
      "  tol, rng, random, positive)\n",
      "/Users/michaellaccavole/opt/anaconda3/lib/python3.7/site-packages/sklearn/linear_model/_coordinate_descent.py:472: ConvergenceWarning: Objective did not converge. You might want to increase the number of iterations. Duality gap: 404.82837005795415, tolerance: 0.14065794808166576\n",
      "  tol, rng, random, positive)\n",
      "/Users/michaellaccavole/opt/anaconda3/lib/python3.7/site-packages/sklearn/linear_model/_coordinate_descent.py:472: ConvergenceWarning: Objective did not converge. You might want to increase the number of iterations. Duality gap: 399.49480879319987, tolerance: 0.14065794808166576\n",
      "  tol, rng, random, positive)\n",
      "/Users/michaellaccavole/opt/anaconda3/lib/python3.7/site-packages/sklearn/linear_model/_coordinate_descent.py:472: ConvergenceWarning: Objective did not converge. You might want to increase the number of iterations. Duality gap: 393.29211011610886, tolerance: 0.14065794808166576\n",
      "  tol, rng, random, positive)\n",
      "/Users/michaellaccavole/opt/anaconda3/lib/python3.7/site-packages/sklearn/linear_model/_coordinate_descent.py:472: ConvergenceWarning: Objective did not converge. You might want to increase the number of iterations. Duality gap: 386.5569167038084, tolerance: 0.14065794808166576\n",
      "  tol, rng, random, positive)\n",
      "/Users/michaellaccavole/opt/anaconda3/lib/python3.7/site-packages/sklearn/linear_model/_coordinate_descent.py:472: ConvergenceWarning: Objective did not converge. You might want to increase the number of iterations. Duality gap: 379.5019730055304, tolerance: 0.14065794808166576\n",
      "  tol, rng, random, positive)\n",
      "/Users/michaellaccavole/opt/anaconda3/lib/python3.7/site-packages/sklearn/linear_model/_coordinate_descent.py:472: ConvergenceWarning: Objective did not converge. You might want to increase the number of iterations. Duality gap: 372.0479378539925, tolerance: 0.14065794808166576\n",
      "  tol, rng, random, positive)\n",
      "/Users/michaellaccavole/opt/anaconda3/lib/python3.7/site-packages/sklearn/linear_model/_coordinate_descent.py:472: ConvergenceWarning: Objective did not converge. You might want to increase the number of iterations. Duality gap: 364.2820993521281, tolerance: 0.14065794808166576\n",
      "  tol, rng, random, positive)\n",
      "/Users/michaellaccavole/opt/anaconda3/lib/python3.7/site-packages/sklearn/linear_model/_coordinate_descent.py:472: ConvergenceWarning: Objective did not converge. You might want to increase the number of iterations. Duality gap: 356.49723371166493, tolerance: 0.14065794808166576\n",
      "  tol, rng, random, positive)\n",
      "/Users/michaellaccavole/opt/anaconda3/lib/python3.7/site-packages/sklearn/linear_model/_coordinate_descent.py:472: ConvergenceWarning: Objective did not converge. You might want to increase the number of iterations. Duality gap: 348.6431158581466, tolerance: 0.14065794808166576\n",
      "  tol, rng, random, positive)\n",
      "/Users/michaellaccavole/opt/anaconda3/lib/python3.7/site-packages/sklearn/linear_model/_coordinate_descent.py:472: ConvergenceWarning: Objective did not converge. You might want to increase the number of iterations. Duality gap: 340.92078151531945, tolerance: 0.14065794808166576\n",
      "  tol, rng, random, positive)\n",
      "/Users/michaellaccavole/opt/anaconda3/lib/python3.7/site-packages/sklearn/linear_model/_coordinate_descent.py:472: ConvergenceWarning: Objective did not converge. You might want to increase the number of iterations. Duality gap: 333.5593079474556, tolerance: 0.14065794808166576\n",
      "  tol, rng, random, positive)\n",
      "/Users/michaellaccavole/opt/anaconda3/lib/python3.7/site-packages/sklearn/linear_model/_coordinate_descent.py:472: ConvergenceWarning: Objective did not converge. You might want to increase the number of iterations. Duality gap: 326.6968745761, tolerance: 0.14065794808166576\n",
      "  tol, rng, random, positive)\n"
     ]
    },
    {
     "name": "stderr",
     "output_type": "stream",
     "text": [
      "/Users/michaellaccavole/opt/anaconda3/lib/python3.7/site-packages/sklearn/linear_model/_coordinate_descent.py:472: ConvergenceWarning: Objective did not converge. You might want to increase the number of iterations. Duality gap: 209.99003008496925, tolerance: 0.1408762411887868\n",
      "  tol, rng, random, positive)\n",
      "/Users/michaellaccavole/opt/anaconda3/lib/python3.7/site-packages/sklearn/linear_model/_coordinate_descent.py:472: ConvergenceWarning: Objective did not converge. You might want to increase the number of iterations. Duality gap: 166.44040212954098, tolerance: 0.1408762411887868\n",
      "  tol, rng, random, positive)\n",
      "/Users/michaellaccavole/opt/anaconda3/lib/python3.7/site-packages/sklearn/linear_model/_coordinate_descent.py:472: ConvergenceWarning: Objective did not converge. You might want to increase the number of iterations. Duality gap: 100.19242815867426, tolerance: 0.1408762411887868\n",
      "  tol, rng, random, positive)\n",
      "/Users/michaellaccavole/opt/anaconda3/lib/python3.7/site-packages/sklearn/linear_model/_coordinate_descent.py:472: ConvergenceWarning: Objective did not converge. You might want to increase the number of iterations. Duality gap: 62.36900201406843, tolerance: 0.1408762411887868\n",
      "  tol, rng, random, positive)\n",
      "/Users/michaellaccavole/opt/anaconda3/lib/python3.7/site-packages/sklearn/linear_model/_coordinate_descent.py:472: ConvergenceWarning: Objective did not converge. You might want to increase the number of iterations. Duality gap: 62.212209851787975, tolerance: 0.1408762411887868\n",
      "  tol, rng, random, positive)\n",
      "/Users/michaellaccavole/opt/anaconda3/lib/python3.7/site-packages/sklearn/linear_model/_coordinate_descent.py:472: ConvergenceWarning: Objective did not converge. You might want to increase the number of iterations. Duality gap: 61.20550860339699, tolerance: 0.1408762411887868\n",
      "  tol, rng, random, positive)\n",
      "/Users/michaellaccavole/opt/anaconda3/lib/python3.7/site-packages/sklearn/linear_model/_coordinate_descent.py:472: ConvergenceWarning: Objective did not converge. You might want to increase the number of iterations. Duality gap: 59.67981030437204, tolerance: 0.1408762411887868\n",
      "  tol, rng, random, positive)\n",
      "/Users/michaellaccavole/opt/anaconda3/lib/python3.7/site-packages/sklearn/linear_model/_coordinate_descent.py:472: ConvergenceWarning: Objective did not converge. You might want to increase the number of iterations. Duality gap: 218.9537839133368, tolerance: 0.1408762411887868\n",
      "  tol, rng, random, positive)\n",
      "/Users/michaellaccavole/opt/anaconda3/lib/python3.7/site-packages/sklearn/linear_model/_coordinate_descent.py:472: ConvergenceWarning: Objective did not converge. You might want to increase the number of iterations. Duality gap: 302.8662272432641, tolerance: 0.1408762411887868\n",
      "  tol, rng, random, positive)\n",
      "/Users/michaellaccavole/opt/anaconda3/lib/python3.7/site-packages/sklearn/linear_model/_coordinate_descent.py:472: ConvergenceWarning: Objective did not converge. You might want to increase the number of iterations. Duality gap: 350.02831342165564, tolerance: 0.1408762411887868\n",
      "  tol, rng, random, positive)\n",
      "/Users/michaellaccavole/opt/anaconda3/lib/python3.7/site-packages/sklearn/linear_model/_coordinate_descent.py:472: ConvergenceWarning: Objective did not converge. You might want to increase the number of iterations. Duality gap: 378.0455041176491, tolerance: 0.1408762411887868\n",
      "  tol, rng, random, positive)\n",
      "/Users/michaellaccavole/opt/anaconda3/lib/python3.7/site-packages/sklearn/linear_model/_coordinate_descent.py:472: ConvergenceWarning: Objective did not converge. You might want to increase the number of iterations. Duality gap: 395.31262493548996, tolerance: 0.1408762411887868\n",
      "  tol, rng, random, positive)\n",
      "/Users/michaellaccavole/opt/anaconda3/lib/python3.7/site-packages/sklearn/linear_model/_coordinate_descent.py:472: ConvergenceWarning: Objective did not converge. You might want to increase the number of iterations. Duality gap: 406.1741396000629, tolerance: 0.1408762411887868\n",
      "  tol, rng, random, positive)\n",
      "/Users/michaellaccavole/opt/anaconda3/lib/python3.7/site-packages/sklearn/linear_model/_coordinate_descent.py:472: ConvergenceWarning: Objective did not converge. You might want to increase the number of iterations. Duality gap: 413.0554825218791, tolerance: 0.1408762411887868\n",
      "  tol, rng, random, positive)\n",
      "/Users/michaellaccavole/opt/anaconda3/lib/python3.7/site-packages/sklearn/linear_model/_coordinate_descent.py:472: ConvergenceWarning: Objective did not converge. You might want to increase the number of iterations. Duality gap: 418.3734528580352, tolerance: 0.1408762411887868\n",
      "  tol, rng, random, positive)\n",
      "/Users/michaellaccavole/opt/anaconda3/lib/python3.7/site-packages/sklearn/linear_model/_coordinate_descent.py:472: ConvergenceWarning: Objective did not converge. You might want to increase the number of iterations. Duality gap: 421.1514985062778, tolerance: 0.1408762411887868\n",
      "  tol, rng, random, positive)\n",
      "/Users/michaellaccavole/opt/anaconda3/lib/python3.7/site-packages/sklearn/linear_model/_coordinate_descent.py:472: ConvergenceWarning: Objective did not converge. You might want to increase the number of iterations. Duality gap: 421.6219574679107, tolerance: 0.1408762411887868\n",
      "  tol, rng, random, positive)\n",
      "/Users/michaellaccavole/opt/anaconda3/lib/python3.7/site-packages/sklearn/linear_model/_coordinate_descent.py:472: ConvergenceWarning: Objective did not converge. You might want to increase the number of iterations. Duality gap: 420.9163035872286, tolerance: 0.1408762411887868\n",
      "  tol, rng, random, positive)\n",
      "/Users/michaellaccavole/opt/anaconda3/lib/python3.7/site-packages/sklearn/linear_model/_coordinate_descent.py:472: ConvergenceWarning: Objective did not converge. You might want to increase the number of iterations. Duality gap: 418.9526966561486, tolerance: 0.1408762411887868\n",
      "  tol, rng, random, positive)\n",
      "/Users/michaellaccavole/opt/anaconda3/lib/python3.7/site-packages/sklearn/linear_model/_coordinate_descent.py:472: ConvergenceWarning: Objective did not converge. You might want to increase the number of iterations. Duality gap: 415.6668620137794, tolerance: 0.1408762411887868\n",
      "  tol, rng, random, positive)\n",
      "/Users/michaellaccavole/opt/anaconda3/lib/python3.7/site-packages/sklearn/linear_model/_coordinate_descent.py:472: ConvergenceWarning: Objective did not converge. You might want to increase the number of iterations. Duality gap: 411.3682337979977, tolerance: 0.1408762411887868\n",
      "  tol, rng, random, positive)\n",
      "/Users/michaellaccavole/opt/anaconda3/lib/python3.7/site-packages/sklearn/linear_model/_coordinate_descent.py:472: ConvergenceWarning: Objective did not converge. You might want to increase the number of iterations. Duality gap: 406.13320531549954, tolerance: 0.1408762411887868\n",
      "  tol, rng, random, positive)\n",
      "/Users/michaellaccavole/opt/anaconda3/lib/python3.7/site-packages/sklearn/linear_model/_coordinate_descent.py:472: ConvergenceWarning: Objective did not converge. You might want to increase the number of iterations. Duality gap: 400.1800125309064, tolerance: 0.1408762411887868\n",
      "  tol, rng, random, positive)\n",
      "/Users/michaellaccavole/opt/anaconda3/lib/python3.7/site-packages/sklearn/linear_model/_coordinate_descent.py:472: ConvergenceWarning: Objective did not converge. You might want to increase the number of iterations. Duality gap: 393.4778983981919, tolerance: 0.1408762411887868\n",
      "  tol, rng, random, positive)\n",
      "/Users/michaellaccavole/opt/anaconda3/lib/python3.7/site-packages/sklearn/linear_model/_coordinate_descent.py:472: ConvergenceWarning: Objective did not converge. You might want to increase the number of iterations. Duality gap: 386.1852103100657, tolerance: 0.1408762411887868\n",
      "  tol, rng, random, positive)\n",
      "/Users/michaellaccavole/opt/anaconda3/lib/python3.7/site-packages/sklearn/linear_model/_coordinate_descent.py:472: ConvergenceWarning: Objective did not converge. You might want to increase the number of iterations. Duality gap: 378.58671871187386, tolerance: 0.1408762411887868\n",
      "  tol, rng, random, positive)\n",
      "/Users/michaellaccavole/opt/anaconda3/lib/python3.7/site-packages/sklearn/linear_model/_coordinate_descent.py:472: ConvergenceWarning: Objective did not converge. You might want to increase the number of iterations. Duality gap: 370.5777690123047, tolerance: 0.1408762411887868\n",
      "  tol, rng, random, positive)\n",
      "/Users/michaellaccavole/opt/anaconda3/lib/python3.7/site-packages/sklearn/linear_model/_coordinate_descent.py:472: ConvergenceWarning: Objective did not converge. You might want to increase the number of iterations. Duality gap: 362.2349282076915, tolerance: 0.1408762411887868\n",
      "  tol, rng, random, positive)\n",
      "/Users/michaellaccavole/opt/anaconda3/lib/python3.7/site-packages/sklearn/linear_model/_coordinate_descent.py:472: ConvergenceWarning: Objective did not converge. You might want to increase the number of iterations. Duality gap: 353.91001481004855, tolerance: 0.1408762411887868\n",
      "  tol, rng, random, positive)\n",
      "/Users/michaellaccavole/opt/anaconda3/lib/python3.7/site-packages/sklearn/linear_model/_coordinate_descent.py:472: ConvergenceWarning: Objective did not converge. You might want to increase the number of iterations. Duality gap: 345.700837625335, tolerance: 0.1408762411887868\n",
      "  tol, rng, random, positive)\n",
      "/Users/michaellaccavole/opt/anaconda3/lib/python3.7/site-packages/sklearn/linear_model/_coordinate_descent.py:472: ConvergenceWarning: Objective did not converge. You might want to increase the number of iterations. Duality gap: 337.80450170448813, tolerance: 0.1408762411887868\n",
      "  tol, rng, random, positive)\n",
      "/Users/michaellaccavole/opt/anaconda3/lib/python3.7/site-packages/sklearn/linear_model/_coordinate_descent.py:472: ConvergenceWarning: Objective did not converge. You might want to increase the number of iterations. Duality gap: 330.2255465008206, tolerance: 0.1408762411887868\n",
      "  tol, rng, random, positive)\n",
      "/Users/michaellaccavole/opt/anaconda3/lib/python3.7/site-packages/sklearn/linear_model/_coordinate_descent.py:472: ConvergenceWarning: Objective did not converge. You might want to increase the number of iterations. Duality gap: 323.1489478905363, tolerance: 0.1408762411887868\n",
      "  tol, rng, random, positive)\n"
     ]
    },
    {
     "name": "stderr",
     "output_type": "stream",
     "text": [
      "/Users/michaellaccavole/opt/anaconda3/lib/python3.7/site-packages/sklearn/linear_model/_coordinate_descent.py:472: ConvergenceWarning: Objective did not converge. You might want to increase the number of iterations. Duality gap: 228.1552082117529, tolerance: 0.1393986021146911\n",
      "  tol, rng, random, positive)\n",
      "/Users/michaellaccavole/opt/anaconda3/lib/python3.7/site-packages/sklearn/linear_model/_coordinate_descent.py:472: ConvergenceWarning: Objective did not converge. You might want to increase the number of iterations. Duality gap: 199.54060485810948, tolerance: 0.1393986021146911\n",
      "  tol, rng, random, positive)\n",
      "/Users/michaellaccavole/opt/anaconda3/lib/python3.7/site-packages/sklearn/linear_model/_coordinate_descent.py:472: ConvergenceWarning: Objective did not converge. You might want to increase the number of iterations. Duality gap: 155.58733219452915, tolerance: 0.1393986021146911\n",
      "  tol, rng, random, positive)\n",
      "/Users/michaellaccavole/opt/anaconda3/lib/python3.7/site-packages/sklearn/linear_model/_coordinate_descent.py:472: ConvergenceWarning: Objective did not converge. You might want to increase the number of iterations. Duality gap: 92.96817760579438, tolerance: 0.1393986021146911\n",
      "  tol, rng, random, positive)\n",
      "/Users/michaellaccavole/opt/anaconda3/lib/python3.7/site-packages/sklearn/linear_model/_coordinate_descent.py:472: ConvergenceWarning: Objective did not converge. You might want to increase the number of iterations. Duality gap: 62.04760010401719, tolerance: 0.1393986021146911\n",
      "  tol, rng, random, positive)\n",
      "/Users/michaellaccavole/opt/anaconda3/lib/python3.7/site-packages/sklearn/linear_model/_coordinate_descent.py:472: ConvergenceWarning: Objective did not converge. You might want to increase the number of iterations. Duality gap: 61.124154360477405, tolerance: 0.1393986021146911\n",
      "  tol, rng, random, positive)\n",
      "/Users/michaellaccavole/opt/anaconda3/lib/python3.7/site-packages/sklearn/linear_model/_coordinate_descent.py:472: ConvergenceWarning: Objective did not converge. You might want to increase the number of iterations. Duality gap: 59.66719905594232, tolerance: 0.1393986021146911\n",
      "  tol, rng, random, positive)\n",
      "/Users/michaellaccavole/opt/anaconda3/lib/python3.7/site-packages/sklearn/linear_model/_coordinate_descent.py:472: ConvergenceWarning: Objective did not converge. You might want to increase the number of iterations. Duality gap: 58.06631448969779, tolerance: 0.1393986021146911\n",
      "  tol, rng, random, positive)\n",
      "/Users/michaellaccavole/opt/anaconda3/lib/python3.7/site-packages/sklearn/linear_model/_coordinate_descent.py:472: ConvergenceWarning: Objective did not converge. You might want to increase the number of iterations. Duality gap: 130.9068145224403, tolerance: 0.1393986021146911\n",
      "  tol, rng, random, positive)\n",
      "/Users/michaellaccavole/opt/anaconda3/lib/python3.7/site-packages/sklearn/linear_model/_coordinate_descent.py:472: ConvergenceWarning: Objective did not converge. You might want to increase the number of iterations. Duality gap: 297.6223724686032, tolerance: 0.1393986021146911\n",
      "  tol, rng, random, positive)\n",
      "/Users/michaellaccavole/opt/anaconda3/lib/python3.7/site-packages/sklearn/linear_model/_coordinate_descent.py:472: ConvergenceWarning: Objective did not converge. You might want to increase the number of iterations. Duality gap: 340.63250413920525, tolerance: 0.1393986021146911\n",
      "  tol, rng, random, positive)\n",
      "/Users/michaellaccavole/opt/anaconda3/lib/python3.7/site-packages/sklearn/linear_model/_coordinate_descent.py:472: ConvergenceWarning: Objective did not converge. You might want to increase the number of iterations. Duality gap: 367.16509781234544, tolerance: 0.1393986021146911\n",
      "  tol, rng, random, positive)\n",
      "/Users/michaellaccavole/opt/anaconda3/lib/python3.7/site-packages/sklearn/linear_model/_coordinate_descent.py:472: ConvergenceWarning: Objective did not converge. You might want to increase the number of iterations. Duality gap: 384.1365937155108, tolerance: 0.1393986021146911\n",
      "  tol, rng, random, positive)\n",
      "/Users/michaellaccavole/opt/anaconda3/lib/python3.7/site-packages/sklearn/linear_model/_coordinate_descent.py:472: ConvergenceWarning: Objective did not converge. You might want to increase the number of iterations. Duality gap: 395.2570448857405, tolerance: 0.1393986021146911\n",
      "  tol, rng, random, positive)\n",
      "/Users/michaellaccavole/opt/anaconda3/lib/python3.7/site-packages/sklearn/linear_model/_coordinate_descent.py:472: ConvergenceWarning: Objective did not converge. You might want to increase the number of iterations. Duality gap: 402.9945229791805, tolerance: 0.1393986021146911\n",
      "  tol, rng, random, positive)\n",
      "/Users/michaellaccavole/opt/anaconda3/lib/python3.7/site-packages/sklearn/linear_model/_coordinate_descent.py:472: ConvergenceWarning: Objective did not converge. You might want to increase the number of iterations. Duality gap: 409.093638732008, tolerance: 0.1393986021146911\n",
      "  tol, rng, random, positive)\n",
      "/Users/michaellaccavole/opt/anaconda3/lib/python3.7/site-packages/sklearn/linear_model/_coordinate_descent.py:472: ConvergenceWarning: Objective did not converge. You might want to increase the number of iterations. Duality gap: 412.3672679744957, tolerance: 0.1393986021146911\n",
      "  tol, rng, random, positive)\n",
      "/Users/michaellaccavole/opt/anaconda3/lib/python3.7/site-packages/sklearn/linear_model/_coordinate_descent.py:472: ConvergenceWarning: Objective did not converge. You might want to increase the number of iterations. Duality gap: 413.8163032931365, tolerance: 0.1393986021146911\n",
      "  tol, rng, random, positive)\n",
      "/Users/michaellaccavole/opt/anaconda3/lib/python3.7/site-packages/sklearn/linear_model/_coordinate_descent.py:472: ConvergenceWarning: Objective did not converge. You might want to increase the number of iterations. Duality gap: 413.3681621098027, tolerance: 0.1393986021146911\n",
      "  tol, rng, random, positive)\n",
      "/Users/michaellaccavole/opt/anaconda3/lib/python3.7/site-packages/sklearn/linear_model/_coordinate_descent.py:472: ConvergenceWarning: Objective did not converge. You might want to increase the number of iterations. Duality gap: 411.2729424423593, tolerance: 0.1393986021146911\n",
      "  tol, rng, random, positive)\n",
      "/Users/michaellaccavole/opt/anaconda3/lib/python3.7/site-packages/sklearn/linear_model/_coordinate_descent.py:472: ConvergenceWarning: Objective did not converge. You might want to increase the number of iterations. Duality gap: 407.9580648578931, tolerance: 0.1393986021146911\n",
      "  tol, rng, random, positive)\n",
      "/Users/michaellaccavole/opt/anaconda3/lib/python3.7/site-packages/sklearn/linear_model/_coordinate_descent.py:472: ConvergenceWarning: Objective did not converge. You might want to increase the number of iterations. Duality gap: 403.3628794653514, tolerance: 0.1393986021146911\n",
      "  tol, rng, random, positive)\n",
      "/Users/michaellaccavole/opt/anaconda3/lib/python3.7/site-packages/sklearn/linear_model/_coordinate_descent.py:472: ConvergenceWarning: Objective did not converge. You might want to increase the number of iterations. Duality gap: 397.8771943983192, tolerance: 0.1393986021146911\n",
      "  tol, rng, random, positive)\n",
      "/Users/michaellaccavole/opt/anaconda3/lib/python3.7/site-packages/sklearn/linear_model/_coordinate_descent.py:472: ConvergenceWarning: Objective did not converge. You might want to increase the number of iterations. Duality gap: 391.54800272186543, tolerance: 0.1393986021146911\n",
      "  tol, rng, random, positive)\n",
      "/Users/michaellaccavole/opt/anaconda3/lib/python3.7/site-packages/sklearn/linear_model/_coordinate_descent.py:472: ConvergenceWarning: Objective did not converge. You might want to increase the number of iterations. Duality gap: 384.60032275497525, tolerance: 0.1393986021146911\n",
      "  tol, rng, random, positive)\n",
      "/Users/michaellaccavole/opt/anaconda3/lib/python3.7/site-packages/sklearn/linear_model/_coordinate_descent.py:472: ConvergenceWarning: Objective did not converge. You might want to increase the number of iterations. Duality gap: 377.0800546444588, tolerance: 0.1393986021146911\n",
      "  tol, rng, random, positive)\n",
      "/Users/michaellaccavole/opt/anaconda3/lib/python3.7/site-packages/sklearn/linear_model/_coordinate_descent.py:472: ConvergenceWarning: Objective did not converge. You might want to increase the number of iterations. Duality gap: 369.17474662922206, tolerance: 0.1393986021146911\n",
      "  tol, rng, random, positive)\n",
      "/Users/michaellaccavole/opt/anaconda3/lib/python3.7/site-packages/sklearn/linear_model/_coordinate_descent.py:472: ConvergenceWarning: Objective did not converge. You might want to increase the number of iterations. Duality gap: 361.0385107041318, tolerance: 0.1393986021146911\n",
      "  tol, rng, random, positive)\n",
      "/Users/michaellaccavole/opt/anaconda3/lib/python3.7/site-packages/sklearn/linear_model/_coordinate_descent.py:472: ConvergenceWarning: Objective did not converge. You might want to increase the number of iterations. Duality gap: 352.9152802744084, tolerance: 0.1393986021146911\n",
      "  tol, rng, random, positive)\n",
      "/Users/michaellaccavole/opt/anaconda3/lib/python3.7/site-packages/sklearn/linear_model/_coordinate_descent.py:472: ConvergenceWarning: Objective did not converge. You might want to increase the number of iterations. Duality gap: 344.85650879176535, tolerance: 0.1393986021146911\n",
      "  tol, rng, random, positive)\n",
      "/Users/michaellaccavole/opt/anaconda3/lib/python3.7/site-packages/sklearn/linear_model/_coordinate_descent.py:472: ConvergenceWarning: Objective did not converge. You might want to increase the number of iterations. Duality gap: 337.0828854513742, tolerance: 0.1393986021146911\n",
      "  tol, rng, random, positive)\n",
      "/Users/michaellaccavole/opt/anaconda3/lib/python3.7/site-packages/sklearn/linear_model/_coordinate_descent.py:472: ConvergenceWarning: Objective did not converge. You might want to increase the number of iterations. Duality gap: 329.71107196691185, tolerance: 0.1393986021146911\n",
      "  tol, rng, random, positive)\n",
      "/Users/michaellaccavole/opt/anaconda3/lib/python3.7/site-packages/sklearn/linear_model/_coordinate_descent.py:472: ConvergenceWarning: Objective did not converge. You might want to increase the number of iterations. Duality gap: 322.80397775208564, tolerance: 0.1393986021146911\n",
      "  tol, rng, random, positive)\n"
     ]
    },
    {
     "name": "stderr",
     "output_type": "stream",
     "text": [
      "/Users/michaellaccavole/opt/anaconda3/lib/python3.7/site-packages/sklearn/linear_model/_coordinate_descent.py:472: ConvergenceWarning: Objective did not converge. You might want to increase the number of iterations. Duality gap: 91.24070346506596, tolerance: 0.1399804782994067\n",
      "  tol, rng, random, positive)\n",
      "/Users/michaellaccavole/opt/anaconda3/lib/python3.7/site-packages/sklearn/linear_model/_coordinate_descent.py:472: ConvergenceWarning: Objective did not converge. You might want to increase the number of iterations. Duality gap: 57.76475618428594, tolerance: 0.1399804782994067\n",
      "  tol, rng, random, positive)\n",
      "/Users/michaellaccavole/opt/anaconda3/lib/python3.7/site-packages/sklearn/linear_model/_coordinate_descent.py:472: ConvergenceWarning: Objective did not converge. You might want to increase the number of iterations. Duality gap: 60.85709729155758, tolerance: 0.1399804782994067\n",
      "  tol, rng, random, positive)\n",
      "/Users/michaellaccavole/opt/anaconda3/lib/python3.7/site-packages/sklearn/linear_model/_coordinate_descent.py:472: ConvergenceWarning: Objective did not converge. You might want to increase the number of iterations. Duality gap: 61.99373567116936, tolerance: 0.1399804782994067\n",
      "  tol, rng, random, positive)\n",
      "/Users/michaellaccavole/opt/anaconda3/lib/python3.7/site-packages/sklearn/linear_model/_coordinate_descent.py:472: ConvergenceWarning: Objective did not converge. You might want to increase the number of iterations. Duality gap: 61.81131176797544, tolerance: 0.1399804782994067\n",
      "  tol, rng, random, positive)\n",
      "/Users/michaellaccavole/opt/anaconda3/lib/python3.7/site-packages/sklearn/linear_model/_coordinate_descent.py:472: ConvergenceWarning: Objective did not converge. You might want to increase the number of iterations. Duality gap: 60.77108218999399, tolerance: 0.1399804782994067\n",
      "  tol, rng, random, positive)\n",
      "/Users/michaellaccavole/opt/anaconda3/lib/python3.7/site-packages/sklearn/linear_model/_coordinate_descent.py:472: ConvergenceWarning: Objective did not converge. You might want to increase the number of iterations. Duality gap: 116.021159601877, tolerance: 0.1399804782994067\n",
      "  tol, rng, random, positive)\n",
      "/Users/michaellaccavole/opt/anaconda3/lib/python3.7/site-packages/sklearn/linear_model/_coordinate_descent.py:472: ConvergenceWarning: Objective did not converge. You might want to increase the number of iterations. Duality gap: 237.9305619919649, tolerance: 0.1399804782994067\n",
      "  tol, rng, random, positive)\n",
      "/Users/michaellaccavole/opt/anaconda3/lib/python3.7/site-packages/sklearn/linear_model/_coordinate_descent.py:472: ConvergenceWarning: Objective did not converge. You might want to increase the number of iterations. Duality gap: 310.9728367918008, tolerance: 0.1399804782994067\n",
      "  tol, rng, random, positive)\n",
      "/Users/michaellaccavole/opt/anaconda3/lib/python3.7/site-packages/sklearn/linear_model/_coordinate_descent.py:472: ConvergenceWarning: Objective did not converge. You might want to increase the number of iterations. Duality gap: 371.14815960846425, tolerance: 0.1399804782994067\n",
      "  tol, rng, random, positive)\n",
      "/Users/michaellaccavole/opt/anaconda3/lib/python3.7/site-packages/sklearn/linear_model/_coordinate_descent.py:472: ConvergenceWarning: Objective did not converge. You might want to increase the number of iterations. Duality gap: 389.3036036893984, tolerance: 0.1399804782994067\n",
      "  tol, rng, random, positive)\n",
      "/Users/michaellaccavole/opt/anaconda3/lib/python3.7/site-packages/sklearn/linear_model/_coordinate_descent.py:472: ConvergenceWarning: Objective did not converge. You might want to increase the number of iterations. Duality gap: 400.8711249614204, tolerance: 0.1399804782994067\n",
      "  tol, rng, random, positive)\n",
      "/Users/michaellaccavole/opt/anaconda3/lib/python3.7/site-packages/sklearn/linear_model/_coordinate_descent.py:472: ConvergenceWarning: Objective did not converge. You might want to increase the number of iterations. Duality gap: 408.25389746165746, tolerance: 0.1399804782994067\n",
      "  tol, rng, random, positive)\n",
      "/Users/michaellaccavole/opt/anaconda3/lib/python3.7/site-packages/sklearn/linear_model/_coordinate_descent.py:472: ConvergenceWarning: Objective did not converge. You might want to increase the number of iterations. Duality gap: 412.91854051981755, tolerance: 0.1399804782994067\n",
      "  tol, rng, random, positive)\n",
      "/Users/michaellaccavole/opt/anaconda3/lib/python3.7/site-packages/sklearn/linear_model/_coordinate_descent.py:472: ConvergenceWarning: Objective did not converge. You might want to increase the number of iterations. Duality gap: 415.9790201839465, tolerance: 0.1399804782994067\n",
      "  tol, rng, random, positive)\n",
      "/Users/michaellaccavole/opt/anaconda3/lib/python3.7/site-packages/sklearn/linear_model/_coordinate_descent.py:472: ConvergenceWarning: Objective did not converge. You might want to increase the number of iterations. Duality gap: 417.5199146244194, tolerance: 0.1399804782994067\n",
      "  tol, rng, random, positive)\n",
      "/Users/michaellaccavole/opt/anaconda3/lib/python3.7/site-packages/sklearn/linear_model/_coordinate_descent.py:472: ConvergenceWarning: Objective did not converge. You might want to increase the number of iterations. Duality gap: 417.50743227630613, tolerance: 0.1399804782994067\n",
      "  tol, rng, random, positive)\n",
      "/Users/michaellaccavole/opt/anaconda3/lib/python3.7/site-packages/sklearn/linear_model/_coordinate_descent.py:472: ConvergenceWarning: Objective did not converge. You might want to increase the number of iterations. Duality gap: 416.54544254080037, tolerance: 0.1399804782994067\n",
      "  tol, rng, random, positive)\n",
      "/Users/michaellaccavole/opt/anaconda3/lib/python3.7/site-packages/sklearn/linear_model/_coordinate_descent.py:472: ConvergenceWarning: Objective did not converge. You might want to increase the number of iterations. Duality gap: 414.58438033922874, tolerance: 0.1399804782994067\n",
      "  tol, rng, random, positive)\n",
      "/Users/michaellaccavole/opt/anaconda3/lib/python3.7/site-packages/sklearn/linear_model/_coordinate_descent.py:472: ConvergenceWarning: Objective did not converge. You might want to increase the number of iterations. Duality gap: 411.6009125166003, tolerance: 0.1399804782994067\n",
      "  tol, rng, random, positive)\n",
      "/Users/michaellaccavole/opt/anaconda3/lib/python3.7/site-packages/sklearn/linear_model/_coordinate_descent.py:472: ConvergenceWarning: Objective did not converge. You might want to increase the number of iterations. Duality gap: 407.58786445009133, tolerance: 0.1399804782994067\n",
      "  tol, rng, random, positive)\n",
      "/Users/michaellaccavole/opt/anaconda3/lib/python3.7/site-packages/sklearn/linear_model/_coordinate_descent.py:472: ConvergenceWarning: Objective did not converge. You might want to increase the number of iterations. Duality gap: 402.5490027396669, tolerance: 0.1399804782994067\n",
      "  tol, rng, random, positive)\n",
      "/Users/michaellaccavole/opt/anaconda3/lib/python3.7/site-packages/sklearn/linear_model/_coordinate_descent.py:472: ConvergenceWarning: Objective did not converge. You might want to increase the number of iterations. Duality gap: 396.7513081457282, tolerance: 0.1399804782994067\n",
      "  tol, rng, random, positive)\n",
      "/Users/michaellaccavole/opt/anaconda3/lib/python3.7/site-packages/sklearn/linear_model/_coordinate_descent.py:472: ConvergenceWarning: Objective did not converge. You might want to increase the number of iterations. Duality gap: 390.16050441835887, tolerance: 0.1399804782994067\n",
      "  tol, rng, random, positive)\n",
      "/Users/michaellaccavole/opt/anaconda3/lib/python3.7/site-packages/sklearn/linear_model/_coordinate_descent.py:472: ConvergenceWarning: Objective did not converge. You might want to increase the number of iterations. Duality gap: 382.9215223797806, tolerance: 0.1399804782994067\n",
      "  tol, rng, random, positive)\n",
      "/Users/michaellaccavole/opt/anaconda3/lib/python3.7/site-packages/sklearn/linear_model/_coordinate_descent.py:472: ConvergenceWarning: Objective did not converge. You might want to increase the number of iterations. Duality gap: 375.28924304700973, tolerance: 0.1399804782994067\n",
      "  tol, rng, random, positive)\n",
      "/Users/michaellaccavole/opt/anaconda3/lib/python3.7/site-packages/sklearn/linear_model/_coordinate_descent.py:472: ConvergenceWarning: Objective did not converge. You might want to increase the number of iterations. Duality gap: 367.38322747392147, tolerance: 0.1399804782994067\n",
      "  tol, rng, random, positive)\n",
      "/Users/michaellaccavole/opt/anaconda3/lib/python3.7/site-packages/sklearn/linear_model/_coordinate_descent.py:472: ConvergenceWarning: Objective did not converge. You might want to increase the number of iterations. Duality gap: 359.1593598142485, tolerance: 0.1399804782994067\n",
      "  tol, rng, random, positive)\n",
      "/Users/michaellaccavole/opt/anaconda3/lib/python3.7/site-packages/sklearn/linear_model/_coordinate_descent.py:472: ConvergenceWarning: Objective did not converge. You might want to increase the number of iterations. Duality gap: 350.7894590293872, tolerance: 0.1399804782994067\n",
      "  tol, rng, random, positive)\n",
      "/Users/michaellaccavole/opt/anaconda3/lib/python3.7/site-packages/sklearn/linear_model/_coordinate_descent.py:472: ConvergenceWarning: Objective did not converge. You might want to increase the number of iterations. Duality gap: 342.61365640766775, tolerance: 0.1399804782994067\n",
      "  tol, rng, random, positive)\n",
      "/Users/michaellaccavole/opt/anaconda3/lib/python3.7/site-packages/sklearn/linear_model/_coordinate_descent.py:472: ConvergenceWarning: Objective did not converge. You might want to increase the number of iterations. Duality gap: 334.62684535376144, tolerance: 0.1399804782994067\n",
      "  tol, rng, random, positive)\n",
      "/Users/michaellaccavole/opt/anaconda3/lib/python3.7/site-packages/sklearn/linear_model/_coordinate_descent.py:472: ConvergenceWarning: Objective did not converge. You might want to increase the number of iterations. Duality gap: 327.0705859617756, tolerance: 0.1399804782994067\n",
      "  tol, rng, random, positive)\n",
      "/Users/michaellaccavole/opt/anaconda3/lib/python3.7/site-packages/sklearn/linear_model/_coordinate_descent.py:472: ConvergenceWarning: Objective did not converge. You might want to increase the number of iterations. Duality gap: 320.0246861488828, tolerance: 0.1399804782994067\n",
      "  tol, rng, random, positive)\n",
      "/Users/michaellaccavole/opt/anaconda3/lib/python3.7/site-packages/sklearn/linear_model/_coordinate_descent.py:472: ConvergenceWarning: Objective did not converge. You might want to increase the number of iterations. Duality gap: 247.57621846577894, tolerance: 0.14093510303594287\n",
      "  tol, rng, random, positive)\n",
      "/Users/michaellaccavole/opt/anaconda3/lib/python3.7/site-packages/sklearn/linear_model/_coordinate_descent.py:472: ConvergenceWarning: Objective did not converge. You might want to increase the number of iterations. Duality gap: 223.2643393962905, tolerance: 0.14093510303594287\n",
      "  tol, rng, random, positive)\n",
      "/Users/michaellaccavole/opt/anaconda3/lib/python3.7/site-packages/sklearn/linear_model/_coordinate_descent.py:472: ConvergenceWarning: Objective did not converge. You might want to increase the number of iterations. Duality gap: 186.0075899401818, tolerance: 0.14093510303594287\n",
      "  tol, rng, random, positive)\n",
      "/Users/michaellaccavole/opt/anaconda3/lib/python3.7/site-packages/sklearn/linear_model/_coordinate_descent.py:472: ConvergenceWarning: Objective did not converge. You might want to increase the number of iterations. Duality gap: 133.16176778250008, tolerance: 0.14093510303594287\n",
      "  tol, rng, random, positive)\n",
      "/Users/michaellaccavole/opt/anaconda3/lib/python3.7/site-packages/sklearn/linear_model/_coordinate_descent.py:472: ConvergenceWarning: Objective did not converge. You might want to increase the number of iterations. Duality gap: 62.067360035573074, tolerance: 0.14093510303594287\n",
      "  tol, rng, random, positive)\n",
      "/Users/michaellaccavole/opt/anaconda3/lib/python3.7/site-packages/sklearn/linear_model/_coordinate_descent.py:472: ConvergenceWarning: Objective did not converge. You might want to increase the number of iterations. Duality gap: 61.07901776574374, tolerance: 0.14093510303594287\n",
      "  tol, rng, random, positive)\n",
      "/Users/michaellaccavole/opt/anaconda3/lib/python3.7/site-packages/sklearn/linear_model/_coordinate_descent.py:472: ConvergenceWarning: Objective did not converge. You might want to increase the number of iterations. Duality gap: 59.588413543524666, tolerance: 0.14093510303594287\n",
      "  tol, rng, random, positive)\n"
     ]
    },
    {
     "name": "stderr",
     "output_type": "stream",
     "text": [
      "/Users/michaellaccavole/opt/anaconda3/lib/python3.7/site-packages/sklearn/linear_model/_coordinate_descent.py:472: ConvergenceWarning: Objective did not converge. You might want to increase the number of iterations. Duality gap: 58.10789161020432, tolerance: 0.14093510303594287\n",
      "  tol, rng, random, positive)\n",
      "/Users/michaellaccavole/opt/anaconda3/lib/python3.7/site-packages/sklearn/linear_model/_coordinate_descent.py:472: ConvergenceWarning: Objective did not converge. You might want to increase the number of iterations. Duality gap: 200.9151251853367, tolerance: 0.14093510303594287\n",
      "  tol, rng, random, positive)\n",
      "/Users/michaellaccavole/opt/anaconda3/lib/python3.7/site-packages/sklearn/linear_model/_coordinate_descent.py:472: ConvergenceWarning: Objective did not converge. You might want to increase the number of iterations. Duality gap: 283.14775362636027, tolerance: 0.14093510303594287\n",
      "  tol, rng, random, positive)\n",
      "/Users/michaellaccavole/opt/anaconda3/lib/python3.7/site-packages/sklearn/linear_model/_coordinate_descent.py:472: ConvergenceWarning: Objective did not converge. You might want to increase the number of iterations. Duality gap: 330.9414613353272, tolerance: 0.14093510303594287\n",
      "  tol, rng, random, positive)\n",
      "/Users/michaellaccavole/opt/anaconda3/lib/python3.7/site-packages/sklearn/linear_model/_coordinate_descent.py:472: ConvergenceWarning: Objective did not converge. You might want to increase the number of iterations. Duality gap: 360.205148816674, tolerance: 0.14093510303594287\n",
      "  tol, rng, random, positive)\n",
      "/Users/michaellaccavole/opt/anaconda3/lib/python3.7/site-packages/sklearn/linear_model/_coordinate_descent.py:472: ConvergenceWarning: Objective did not converge. You might want to increase the number of iterations. Duality gap: 378.83944996912163, tolerance: 0.14093510303594287\n",
      "  tol, rng, random, positive)\n",
      "/Users/michaellaccavole/opt/anaconda3/lib/python3.7/site-packages/sklearn/linear_model/_coordinate_descent.py:472: ConvergenceWarning: Objective did not converge. You might want to increase the number of iterations. Duality gap: 391.02590240339146, tolerance: 0.14093510303594287\n",
      "  tol, rng, random, positive)\n",
      "/Users/michaellaccavole/opt/anaconda3/lib/python3.7/site-packages/sklearn/linear_model/_coordinate_descent.py:472: ConvergenceWarning: Objective did not converge. You might want to increase the number of iterations. Duality gap: 399.6586537875297, tolerance: 0.14093510303594287\n",
      "  tol, rng, random, positive)\n",
      "/Users/michaellaccavole/opt/anaconda3/lib/python3.7/site-packages/sklearn/linear_model/_coordinate_descent.py:472: ConvergenceWarning: Objective did not converge. You might want to increase the number of iterations. Duality gap: 406.1308552997441, tolerance: 0.14093510303594287\n",
      "  tol, rng, random, positive)\n",
      "/Users/michaellaccavole/opt/anaconda3/lib/python3.7/site-packages/sklearn/linear_model/_coordinate_descent.py:472: ConvergenceWarning: Objective did not converge. You might want to increase the number of iterations. Duality gap: 410.0041911824696, tolerance: 0.14093510303594287\n",
      "  tol, rng, random, positive)\n",
      "/Users/michaellaccavole/opt/anaconda3/lib/python3.7/site-packages/sklearn/linear_model/_coordinate_descent.py:472: ConvergenceWarning: Objective did not converge. You might want to increase the number of iterations. Duality gap: 411.7430800817976, tolerance: 0.14093510303594287\n",
      "  tol, rng, random, positive)\n",
      "/Users/michaellaccavole/opt/anaconda3/lib/python3.7/site-packages/sklearn/linear_model/_coordinate_descent.py:472: ConvergenceWarning: Objective did not converge. You might want to increase the number of iterations. Duality gap: 411.54008390033425, tolerance: 0.14093510303594287\n",
      "  tol, rng, random, positive)\n",
      "/Users/michaellaccavole/opt/anaconda3/lib/python3.7/site-packages/sklearn/linear_model/_coordinate_descent.py:472: ConvergenceWarning: Objective did not converge. You might want to increase the number of iterations. Duality gap: 409.73764756924686, tolerance: 0.14093510303594287\n",
      "  tol, rng, random, positive)\n",
      "/Users/michaellaccavole/opt/anaconda3/lib/python3.7/site-packages/sklearn/linear_model/_coordinate_descent.py:472: ConvergenceWarning: Objective did not converge. You might want to increase the number of iterations. Duality gap: 406.601130902607, tolerance: 0.14093510303594287\n",
      "  tol, rng, random, positive)\n",
      "/Users/michaellaccavole/opt/anaconda3/lib/python3.7/site-packages/sklearn/linear_model/_coordinate_descent.py:472: ConvergenceWarning: Objective did not converge. You might want to increase the number of iterations. Duality gap: 402.3435905736586, tolerance: 0.14093510303594287\n",
      "  tol, rng, random, positive)\n",
      "/Users/michaellaccavole/opt/anaconda3/lib/python3.7/site-packages/sklearn/linear_model/_coordinate_descent.py:472: ConvergenceWarning: Objective did not converge. You might want to increase the number of iterations. Duality gap: 397.2443251940356, tolerance: 0.14093510303594287\n",
      "  tol, rng, random, positive)\n",
      "/Users/michaellaccavole/opt/anaconda3/lib/python3.7/site-packages/sklearn/linear_model/_coordinate_descent.py:472: ConvergenceWarning: Objective did not converge. You might want to increase the number of iterations. Duality gap: 391.33921903301143, tolerance: 0.14093510303594287\n",
      "  tol, rng, random, positive)\n",
      "/Users/michaellaccavole/opt/anaconda3/lib/python3.7/site-packages/sklearn/linear_model/_coordinate_descent.py:472: ConvergenceWarning: Objective did not converge. You might want to increase the number of iterations. Duality gap: 384.7794855149635, tolerance: 0.14093510303594287\n",
      "  tol, rng, random, positive)\n",
      "/Users/michaellaccavole/opt/anaconda3/lib/python3.7/site-packages/sklearn/linear_model/_coordinate_descent.py:472: ConvergenceWarning: Objective did not converge. You might want to increase the number of iterations. Duality gap: 377.8204124933127, tolerance: 0.14093510303594287\n",
      "  tol, rng, random, positive)\n",
      "/Users/michaellaccavole/opt/anaconda3/lib/python3.7/site-packages/sklearn/linear_model/_coordinate_descent.py:472: ConvergenceWarning: Objective did not converge. You might want to increase the number of iterations. Duality gap: 370.49651011857827, tolerance: 0.14093510303594287\n",
      "  tol, rng, random, positive)\n",
      "/Users/michaellaccavole/opt/anaconda3/lib/python3.7/site-packages/sklearn/linear_model/_coordinate_descent.py:472: ConvergenceWarning: Objective did not converge. You might want to increase the number of iterations. Duality gap: 362.90511620741046, tolerance: 0.14093510303594287\n",
      "  tol, rng, random, positive)\n",
      "/Users/michaellaccavole/opt/anaconda3/lib/python3.7/site-packages/sklearn/linear_model/_coordinate_descent.py:472: ConvergenceWarning: Objective did not converge. You might want to increase the number of iterations. Duality gap: 355.1805180823062, tolerance: 0.14093510303594287\n",
      "  tol, rng, random, positive)\n",
      "/Users/michaellaccavole/opt/anaconda3/lib/python3.7/site-packages/sklearn/linear_model/_coordinate_descent.py:472: ConvergenceWarning: Objective did not converge. You might want to increase the number of iterations. Duality gap: 347.61049840365956, tolerance: 0.14093510303594287\n",
      "  tol, rng, random, positive)\n",
      "/Users/michaellaccavole/opt/anaconda3/lib/python3.7/site-packages/sklearn/linear_model/_coordinate_descent.py:472: ConvergenceWarning: Objective did not converge. You might want to increase the number of iterations. Duality gap: 340.14732201246676, tolerance: 0.14093510303594287\n",
      "  tol, rng, random, positive)\n",
      "/Users/michaellaccavole/opt/anaconda3/lib/python3.7/site-packages/sklearn/linear_model/_coordinate_descent.py:472: ConvergenceWarning: Objective did not converge. You might want to increase the number of iterations. Duality gap: 332.96097211790624, tolerance: 0.14093510303594287\n",
      "  tol, rng, random, positive)\n",
      "/Users/michaellaccavole/opt/anaconda3/lib/python3.7/site-packages/sklearn/linear_model/_coordinate_descent.py:472: ConvergenceWarning: Objective did not converge. You might want to increase the number of iterations. Duality gap: 326.23733554146173, tolerance: 0.14093510303594287\n",
      "  tol, rng, random, positive)\n",
      "/Users/michaellaccavole/opt/anaconda3/lib/python3.7/site-packages/sklearn/linear_model/_coordinate_descent.py:476: ConvergenceWarning: Objective did not converge. You might want to increase the number of iterations. Duality gap: 405.0952795793604, tolerance: 0.17546395546249768\n",
      "  positive)\n",
      "/Users/michaellaccavole/opt/anaconda3/lib/python3.7/site-packages/sklearn/linear_model/_coordinate_descent.py:472: ConvergenceWarning: Objective did not converge. You might want to increase the number of iterations. Duality gap: 176.94196185904786, tolerance: 0.13967693137606152\n",
      "  tol, rng, random, positive)\n",
      "/Users/michaellaccavole/opt/anaconda3/lib/python3.7/site-packages/sklearn/linear_model/_coordinate_descent.py:472: ConvergenceWarning: Objective did not converge. You might want to increase the number of iterations. Duality gap: 132.38537838964407, tolerance: 0.13967693137606152\n",
      "  tol, rng, random, positive)\n",
      "/Users/michaellaccavole/opt/anaconda3/lib/python3.7/site-packages/sklearn/linear_model/_coordinate_descent.py:472: ConvergenceWarning: Objective did not converge. You might want to increase the number of iterations. Duality gap: 66.96287534351859, tolerance: 0.13967693137606152\n",
      "  tol, rng, random, positive)\n",
      "/Users/michaellaccavole/opt/anaconda3/lib/python3.7/site-packages/sklearn/linear_model/_coordinate_descent.py:472: ConvergenceWarning: Objective did not converge. You might want to increase the number of iterations. Duality gap: 60.99986766628774, tolerance: 0.13967693137606152\n",
      "  tol, rng, random, positive)\n",
      "/Users/michaellaccavole/opt/anaconda3/lib/python3.7/site-packages/sklearn/linear_model/_coordinate_descent.py:472: ConvergenceWarning: Objective did not converge. You might want to increase the number of iterations. Duality gap: 60.81617751756028, tolerance: 0.13967693137606152\n",
      "  tol, rng, random, positive)\n",
      "/Users/michaellaccavole/opt/anaconda3/lib/python3.7/site-packages/sklearn/linear_model/_coordinate_descent.py:472: ConvergenceWarning: Objective did not converge. You might want to increase the number of iterations. Duality gap: 59.78239899196183, tolerance: 0.13967693137606152\n",
      "  tol, rng, random, positive)\n",
      "/Users/michaellaccavole/opt/anaconda3/lib/python3.7/site-packages/sklearn/linear_model/_coordinate_descent.py:472: ConvergenceWarning: Objective did not converge. You might want to increase the number of iterations. Duality gap: 58.227481965382594, tolerance: 0.13967693137606152\n",
      "  tol, rng, random, positive)\n",
      "/Users/michaellaccavole/opt/anaconda3/lib/python3.7/site-packages/sklearn/linear_model/_coordinate_descent.py:472: ConvergenceWarning: Objective did not converge. You might want to increase the number of iterations. Duality gap: 122.69539354563688, tolerance: 0.13967693137606152\n",
      "  tol, rng, random, positive)\n",
      "/Users/michaellaccavole/opt/anaconda3/lib/python3.7/site-packages/sklearn/linear_model/_coordinate_descent.py:472: ConvergenceWarning: Objective did not converge. You might want to increase the number of iterations. Duality gap: 250.61583458556112, tolerance: 0.13967693137606152\n",
      "  tol, rng, random, positive)\n",
      "/Users/michaellaccavole/opt/anaconda3/lib/python3.7/site-packages/sklearn/linear_model/_coordinate_descent.py:472: ConvergenceWarning: Objective did not converge. You might want to increase the number of iterations. Duality gap: 343.42748632646664, tolerance: 0.13967693137606152\n",
      "  tol, rng, random, positive)\n",
      "/Users/michaellaccavole/opt/anaconda3/lib/python3.7/site-packages/sklearn/linear_model/_coordinate_descent.py:472: ConvergenceWarning: Objective did not converge. You might want to increase the number of iterations. Duality gap: 370.06049411481354, tolerance: 0.13967693137606152\n",
      "  tol, rng, random, positive)\n",
      "/Users/michaellaccavole/opt/anaconda3/lib/python3.7/site-packages/sklearn/linear_model/_coordinate_descent.py:472: ConvergenceWarning: Objective did not converge. You might want to increase the number of iterations. Duality gap: 386.56540041916577, tolerance: 0.13967693137606152\n",
      "  tol, rng, random, positive)\n",
      "/Users/michaellaccavole/opt/anaconda3/lib/python3.7/site-packages/sklearn/linear_model/_coordinate_descent.py:472: ConvergenceWarning: Objective did not converge. You might want to increase the number of iterations. Duality gap: 396.97316095604407, tolerance: 0.13967693137606152\n",
      "  tol, rng, random, positive)\n",
      "/Users/michaellaccavole/opt/anaconda3/lib/python3.7/site-packages/sklearn/linear_model/_coordinate_descent.py:472: ConvergenceWarning: Objective did not converge. You might want to increase the number of iterations. Duality gap: 403.56630362954365, tolerance: 0.13967693137606152\n",
      "  tol, rng, random, positive)\n",
      "/Users/michaellaccavole/opt/anaconda3/lib/python3.7/site-packages/sklearn/linear_model/_coordinate_descent.py:472: ConvergenceWarning: Objective did not converge. You might want to increase the number of iterations. Duality gap: 407.46864884343955, tolerance: 0.13967693137606152\n",
      "  tol, rng, random, positive)\n",
      "/Users/michaellaccavole/opt/anaconda3/lib/python3.7/site-packages/sklearn/linear_model/_coordinate_descent.py:472: ConvergenceWarning: Objective did not converge. You might want to increase the number of iterations. Duality gap: 409.37647293578516, tolerance: 0.13967693137606152\n",
      "  tol, rng, random, positive)\n",
      "/Users/michaellaccavole/opt/anaconda3/lib/python3.7/site-packages/sklearn/linear_model/_coordinate_descent.py:472: ConvergenceWarning: Objective did not converge. You might want to increase the number of iterations. Duality gap: 410.06733178333667, tolerance: 0.13967693137606152\n",
      "  tol, rng, random, positive)\n",
      "/Users/michaellaccavole/opt/anaconda3/lib/python3.7/site-packages/sklearn/linear_model/_coordinate_descent.py:472: ConvergenceWarning: Objective did not converge. You might want to increase the number of iterations. Duality gap: 409.36653375007313, tolerance: 0.13967693137606152\n",
      "  tol, rng, random, positive)\n",
      "/Users/michaellaccavole/opt/anaconda3/lib/python3.7/site-packages/sklearn/linear_model/_coordinate_descent.py:472: ConvergenceWarning: Objective did not converge. You might want to increase the number of iterations. Duality gap: 407.53199777310175, tolerance: 0.13967693137606152\n",
      "  tol, rng, random, positive)\n",
      "/Users/michaellaccavole/opt/anaconda3/lib/python3.7/site-packages/sklearn/linear_model/_coordinate_descent.py:472: ConvergenceWarning: Objective did not converge. You might want to increase the number of iterations. Duality gap: 404.72180100993654, tolerance: 0.13967693137606152\n",
      "  tol, rng, random, positive)\n",
      "/Users/michaellaccavole/opt/anaconda3/lib/python3.7/site-packages/sklearn/linear_model/_coordinate_descent.py:472: ConvergenceWarning: Objective did not converge. You might want to increase the number of iterations. Duality gap: 400.9508435961768, tolerance: 0.13967693137606152\n",
      "  tol, rng, random, positive)\n",
      "/Users/michaellaccavole/opt/anaconda3/lib/python3.7/site-packages/sklearn/linear_model/_coordinate_descent.py:472: ConvergenceWarning: Objective did not converge. You might want to increase the number of iterations. Duality gap: 396.11372146357246, tolerance: 0.13967693137606152\n",
      "  tol, rng, random, positive)\n",
      "/Users/michaellaccavole/opt/anaconda3/lib/python3.7/site-packages/sklearn/linear_model/_coordinate_descent.py:472: ConvergenceWarning: Objective did not converge. You might want to increase the number of iterations. Duality gap: 390.5035256647269, tolerance: 0.13967693137606152\n",
      "  tol, rng, random, positive)\n",
      "/Users/michaellaccavole/opt/anaconda3/lib/python3.7/site-packages/sklearn/linear_model/_coordinate_descent.py:472: ConvergenceWarning: Objective did not converge. You might want to increase the number of iterations. Duality gap: 384.16948431579186, tolerance: 0.13967693137606152\n",
      "  tol, rng, random, positive)\n",
      "/Users/michaellaccavole/opt/anaconda3/lib/python3.7/site-packages/sklearn/linear_model/_coordinate_descent.py:472: ConvergenceWarning: Objective did not converge. You might want to increase the number of iterations. Duality gap: 377.40556656824776, tolerance: 0.13967693137606152\n",
      "  tol, rng, random, positive)\n",
      "/Users/michaellaccavole/opt/anaconda3/lib/python3.7/site-packages/sklearn/linear_model/_coordinate_descent.py:472: ConvergenceWarning: Objective did not converge. You might want to increase the number of iterations. Duality gap: 370.32390195950944, tolerance: 0.13967693137606152\n",
      "  tol, rng, random, positive)\n",
      "/Users/michaellaccavole/opt/anaconda3/lib/python3.7/site-packages/sklearn/linear_model/_coordinate_descent.py:472: ConvergenceWarning: Objective did not converge. You might want to increase the number of iterations. Duality gap: 362.8691143375695, tolerance: 0.13967693137606152\n",
      "  tol, rng, random, positive)\n",
      "/Users/michaellaccavole/opt/anaconda3/lib/python3.7/site-packages/sklearn/linear_model/_coordinate_descent.py:472: ConvergenceWarning: Objective did not converge. You might want to increase the number of iterations. Duality gap: 355.03757170751874, tolerance: 0.13967693137606152\n",
      "  tol, rng, random, positive)\n",
      "/Users/michaellaccavole/opt/anaconda3/lib/python3.7/site-packages/sklearn/linear_model/_coordinate_descent.py:472: ConvergenceWarning: Objective did not converge. You might want to increase the number of iterations. Duality gap: 347.15732340987876, tolerance: 0.13967693137606152\n",
      "  tol, rng, random, positive)\n",
      "/Users/michaellaccavole/opt/anaconda3/lib/python3.7/site-packages/sklearn/linear_model/_coordinate_descent.py:472: ConvergenceWarning: Objective did not converge. You might want to increase the number of iterations. Duality gap: 339.28157966578453, tolerance: 0.13967693137606152\n",
      "  tol, rng, random, positive)\n",
      "/Users/michaellaccavole/opt/anaconda3/lib/python3.7/site-packages/sklearn/linear_model/_coordinate_descent.py:472: ConvergenceWarning: Objective did not converge. You might want to increase the number of iterations. Duality gap: 331.5720896151171, tolerance: 0.13967693137606152\n",
      "  tol, rng, random, positive)\n",
      "/Users/michaellaccavole/opt/anaconda3/lib/python3.7/site-packages/sklearn/linear_model/_coordinate_descent.py:472: ConvergenceWarning: Objective did not converge. You might want to increase the number of iterations. Duality gap: 324.15460823664205, tolerance: 0.13967693137606152\n",
      "  tol, rng, random, positive)\n",
      "/Users/michaellaccavole/opt/anaconda3/lib/python3.7/site-packages/sklearn/linear_model/_coordinate_descent.py:472: ConvergenceWarning: Objective did not converge. You might want to increase the number of iterations. Duality gap: 317.22993815871206, tolerance: 0.13967693137606152\n",
      "  tol, rng, random, positive)\n"
     ]
    },
    {
     "name": "stderr",
     "output_type": "stream",
     "text": [
      "/Users/michaellaccavole/opt/anaconda3/lib/python3.7/site-packages/sklearn/linear_model/_coordinate_descent.py:472: ConvergenceWarning: Objective did not converge. You might want to increase the number of iterations. Duality gap: 188.78822318043427, tolerance: 0.13982300870303593\n",
      "  tol, rng, random, positive)\n",
      "/Users/michaellaccavole/opt/anaconda3/lib/python3.7/site-packages/sklearn/linear_model/_coordinate_descent.py:472: ConvergenceWarning: Objective did not converge. You might want to increase the number of iterations. Duality gap: 131.0054095033189, tolerance: 0.13982300870303593\n",
      "  tol, rng, random, positive)\n",
      "/Users/michaellaccavole/opt/anaconda3/lib/python3.7/site-packages/sklearn/linear_model/_coordinate_descent.py:472: ConvergenceWarning: Objective did not converge. You might want to increase the number of iterations. Duality gap: 58.66995678430453, tolerance: 0.13982300870303593\n",
      "  tol, rng, random, positive)\n",
      "/Users/michaellaccavole/opt/anaconda3/lib/python3.7/site-packages/sklearn/linear_model/_coordinate_descent.py:472: ConvergenceWarning: Objective did not converge. You might want to increase the number of iterations. Duality gap: 59.70782754882532, tolerance: 0.13982300870303593\n",
      "  tol, rng, random, positive)\n",
      "/Users/michaellaccavole/opt/anaconda3/lib/python3.7/site-packages/sklearn/linear_model/_coordinate_descent.py:472: ConvergenceWarning: Objective did not converge. You might want to increase the number of iterations. Duality gap: 59.45837249419071, tolerance: 0.13982300870303593\n",
      "  tol, rng, random, positive)\n",
      "/Users/michaellaccavole/opt/anaconda3/lib/python3.7/site-packages/sklearn/linear_model/_coordinate_descent.py:472: ConvergenceWarning: Objective did not converge. You might want to increase the number of iterations. Duality gap: 58.37246648723249, tolerance: 0.13982300870303593\n",
      "  tol, rng, random, positive)\n",
      "/Users/michaellaccavole/opt/anaconda3/lib/python3.7/site-packages/sklearn/linear_model/_coordinate_descent.py:472: ConvergenceWarning: Objective did not converge. You might want to increase the number of iterations. Duality gap: 79.03226033620012, tolerance: 0.13982300870303593\n",
      "  tol, rng, random, positive)\n",
      "/Users/michaellaccavole/opt/anaconda3/lib/python3.7/site-packages/sklearn/linear_model/_coordinate_descent.py:472: ConvergenceWarning: Objective did not converge. You might want to increase the number of iterations. Duality gap: 214.57194884626915, tolerance: 0.13982300870303593\n",
      "  tol, rng, random, positive)\n",
      "/Users/michaellaccavole/opt/anaconda3/lib/python3.7/site-packages/sklearn/linear_model/_coordinate_descent.py:472: ConvergenceWarning: Objective did not converge. You might want to increase the number of iterations. Duality gap: 338.17189806886137, tolerance: 0.13982300870303593\n",
      "  tol, rng, random, positive)\n",
      "/Users/michaellaccavole/opt/anaconda3/lib/python3.7/site-packages/sklearn/linear_model/_coordinate_descent.py:472: ConvergenceWarning: Objective did not converge. You might want to increase the number of iterations. Duality gap: 371.52950392322055, tolerance: 0.13982300870303593\n",
      "  tol, rng, random, positive)\n",
      "/Users/michaellaccavole/opt/anaconda3/lib/python3.7/site-packages/sklearn/linear_model/_coordinate_descent.py:472: ConvergenceWarning: Objective did not converge. You might want to increase the number of iterations. Duality gap: 391.02806902571353, tolerance: 0.13982300870303593\n",
      "  tol, rng, random, positive)\n",
      "/Users/michaellaccavole/opt/anaconda3/lib/python3.7/site-packages/sklearn/linear_model/_coordinate_descent.py:472: ConvergenceWarning: Objective did not converge. You might want to increase the number of iterations. Duality gap: 402.65881844355164, tolerance: 0.13982300870303593\n",
      "  tol, rng, random, positive)\n",
      "/Users/michaellaccavole/opt/anaconda3/lib/python3.7/site-packages/sklearn/linear_model/_coordinate_descent.py:472: ConvergenceWarning: Objective did not converge. You might want to increase the number of iterations. Duality gap: 409.58649087001714, tolerance: 0.13982300870303593\n",
      "  tol, rng, random, positive)\n",
      "/Users/michaellaccavole/opt/anaconda3/lib/python3.7/site-packages/sklearn/linear_model/_coordinate_descent.py:472: ConvergenceWarning: Objective did not converge. You might want to increase the number of iterations. Duality gap: 413.6119671851438, tolerance: 0.13982300870303593\n",
      "  tol, rng, random, positive)\n",
      "/Users/michaellaccavole/opt/anaconda3/lib/python3.7/site-packages/sklearn/linear_model/_coordinate_descent.py:472: ConvergenceWarning: Objective did not converge. You might want to increase the number of iterations. Duality gap: 415.78820221681406, tolerance: 0.13982300870303593\n",
      "  tol, rng, random, positive)\n",
      "/Users/michaellaccavole/opt/anaconda3/lib/python3.7/site-packages/sklearn/linear_model/_coordinate_descent.py:472: ConvergenceWarning: Objective did not converge. You might want to increase the number of iterations. Duality gap: 416.1417790028338, tolerance: 0.13982300870303593\n",
      "  tol, rng, random, positive)\n",
      "/Users/michaellaccavole/opt/anaconda3/lib/python3.7/site-packages/sklearn/linear_model/_coordinate_descent.py:472: ConvergenceWarning: Objective did not converge. You might want to increase the number of iterations. Duality gap: 415.37628278776634, tolerance: 0.13982300870303593\n",
      "  tol, rng, random, positive)\n",
      "/Users/michaellaccavole/opt/anaconda3/lib/python3.7/site-packages/sklearn/linear_model/_coordinate_descent.py:472: ConvergenceWarning: Objective did not converge. You might want to increase the number of iterations. Duality gap: 413.379868376405, tolerance: 0.13982300870303593\n",
      "  tol, rng, random, positive)\n",
      "/Users/michaellaccavole/opt/anaconda3/lib/python3.7/site-packages/sklearn/linear_model/_coordinate_descent.py:472: ConvergenceWarning: Objective did not converge. You might want to increase the number of iterations. Duality gap: 410.49862069814714, tolerance: 0.13982300870303593\n",
      "  tol, rng, random, positive)\n",
      "/Users/michaellaccavole/opt/anaconda3/lib/python3.7/site-packages/sklearn/linear_model/_coordinate_descent.py:472: ConvergenceWarning: Objective did not converge. You might want to increase the number of iterations. Duality gap: 406.7199127939697, tolerance: 0.13982300870303593\n",
      "  tol, rng, random, positive)\n",
      "/Users/michaellaccavole/opt/anaconda3/lib/python3.7/site-packages/sklearn/linear_model/_coordinate_descent.py:472: ConvergenceWarning: Objective did not converge. You might want to increase the number of iterations. Duality gap: 402.0719905319848, tolerance: 0.13982300870303593\n",
      "  tol, rng, random, positive)\n",
      "/Users/michaellaccavole/opt/anaconda3/lib/python3.7/site-packages/sklearn/linear_model/_coordinate_descent.py:472: ConvergenceWarning: Objective did not converge. You might want to increase the number of iterations. Duality gap: 396.57880179698725, tolerance: 0.13982300870303593\n",
      "  tol, rng, random, positive)\n",
      "/Users/michaellaccavole/opt/anaconda3/lib/python3.7/site-packages/sklearn/linear_model/_coordinate_descent.py:472: ConvergenceWarning: Objective did not converge. You might want to increase the number of iterations. Duality gap: 390.40475654990985, tolerance: 0.13982300870303593\n",
      "  tol, rng, random, positive)\n",
      "/Users/michaellaccavole/opt/anaconda3/lib/python3.7/site-packages/sklearn/linear_model/_coordinate_descent.py:472: ConvergenceWarning: Objective did not converge. You might want to increase the number of iterations. Duality gap: 383.6599542604442, tolerance: 0.13982300870303593\n",
      "  tol, rng, random, positive)\n",
      "/Users/michaellaccavole/opt/anaconda3/lib/python3.7/site-packages/sklearn/linear_model/_coordinate_descent.py:472: ConvergenceWarning: Objective did not converge. You might want to increase the number of iterations. Duality gap: 376.5179087202145, tolerance: 0.13982300870303593\n",
      "  tol, rng, random, positive)\n",
      "/Users/michaellaccavole/opt/anaconda3/lib/python3.7/site-packages/sklearn/linear_model/_coordinate_descent.py:472: ConvergenceWarning: Objective did not converge. You might want to increase the number of iterations. Duality gap: 368.984758701717, tolerance: 0.13982300870303593\n",
      "  tol, rng, random, positive)\n",
      "/Users/michaellaccavole/opt/anaconda3/lib/python3.7/site-packages/sklearn/linear_model/_coordinate_descent.py:472: ConvergenceWarning: Objective did not converge. You might want to increase the number of iterations. Duality gap: 360.95626701750746, tolerance: 0.13982300870303593\n",
      "  tol, rng, random, positive)\n",
      "/Users/michaellaccavole/opt/anaconda3/lib/python3.7/site-packages/sklearn/linear_model/_coordinate_descent.py:472: ConvergenceWarning: Objective did not converge. You might want to increase the number of iterations. Duality gap: 352.615104191121, tolerance: 0.13982300870303593\n",
      "  tol, rng, random, positive)\n",
      "/Users/michaellaccavole/opt/anaconda3/lib/python3.7/site-packages/sklearn/linear_model/_coordinate_descent.py:472: ConvergenceWarning: Objective did not converge. You might want to increase the number of iterations. Duality gap: 344.2597813880946, tolerance: 0.13982300870303593\n",
      "  tol, rng, random, positive)\n",
      "/Users/michaellaccavole/opt/anaconda3/lib/python3.7/site-packages/sklearn/linear_model/_coordinate_descent.py:472: ConvergenceWarning: Objective did not converge. You might want to increase the number of iterations. Duality gap: 335.99922246844926, tolerance: 0.13982300870303593\n",
      "  tol, rng, random, positive)\n",
      "/Users/michaellaccavole/opt/anaconda3/lib/python3.7/site-packages/sklearn/linear_model/_coordinate_descent.py:472: ConvergenceWarning: Objective did not converge. You might want to increase the number of iterations. Duality gap: 328.08140213393415, tolerance: 0.13982300870303593\n",
      "  tol, rng, random, positive)\n",
      "/Users/michaellaccavole/opt/anaconda3/lib/python3.7/site-packages/sklearn/linear_model/_coordinate_descent.py:472: ConvergenceWarning: Objective did not converge. You might want to increase the number of iterations. Duality gap: 320.4829286497774, tolerance: 0.13982300870303593\n",
      "  tol, rng, random, positive)\n",
      "/Users/michaellaccavole/opt/anaconda3/lib/python3.7/site-packages/sklearn/linear_model/_coordinate_descent.py:472: ConvergenceWarning: Objective did not converge. You might want to increase the number of iterations. Duality gap: 313.3516979955091, tolerance: 0.13982300870303593\n",
      "  tol, rng, random, positive)\n",
      "/Users/michaellaccavole/opt/anaconda3/lib/python3.7/site-packages/sklearn/linear_model/_coordinate_descent.py:472: ConvergenceWarning: Objective did not converge. You might want to increase the number of iterations. Duality gap: 183.49016228527114, tolerance: 0.14034416900790878\n",
      "  tol, rng, random, positive)\n",
      "/Users/michaellaccavole/opt/anaconda3/lib/python3.7/site-packages/sklearn/linear_model/_coordinate_descent.py:472: ConvergenceWarning: Objective did not converge. You might want to increase the number of iterations. Duality gap: 139.60470435838567, tolerance: 0.14034416900790878\n",
      "  tol, rng, random, positive)\n",
      "/Users/michaellaccavole/opt/anaconda3/lib/python3.7/site-packages/sklearn/linear_model/_coordinate_descent.py:472: ConvergenceWarning: Objective did not converge. You might want to increase the number of iterations. Duality gap: 74.56916442332351, tolerance: 0.14034416900790878\n",
      "  tol, rng, random, positive)\n",
      "/Users/michaellaccavole/opt/anaconda3/lib/python3.7/site-packages/sklearn/linear_model/_coordinate_descent.py:472: ConvergenceWarning: Objective did not converge. You might want to increase the number of iterations. Duality gap: 61.43730338412945, tolerance: 0.14034416900790878\n",
      "  tol, rng, random, positive)\n",
      "/Users/michaellaccavole/opt/anaconda3/lib/python3.7/site-packages/sklearn/linear_model/_coordinate_descent.py:472: ConvergenceWarning: Objective did not converge. You might want to increase the number of iterations. Duality gap: 61.28032930461052, tolerance: 0.14034416900790878\n",
      "  tol, rng, random, positive)\n",
      "/Users/michaellaccavole/opt/anaconda3/lib/python3.7/site-packages/sklearn/linear_model/_coordinate_descent.py:472: ConvergenceWarning: Objective did not converge. You might want to increase the number of iterations. Duality gap: 60.265793896391074, tolerance: 0.14034416900790878\n",
      "  tol, rng, random, positive)\n",
      "/Users/michaellaccavole/opt/anaconda3/lib/python3.7/site-packages/sklearn/linear_model/_coordinate_descent.py:472: ConvergenceWarning: Objective did not converge. You might want to increase the number of iterations. Duality gap: 58.72436936715337, tolerance: 0.14034416900790878\n",
      "  tol, rng, random, positive)\n",
      "/Users/michaellaccavole/opt/anaconda3/lib/python3.7/site-packages/sklearn/linear_model/_coordinate_descent.py:472: ConvergenceWarning: Objective did not converge. You might want to increase the number of iterations. Duality gap: 93.47363998738467, tolerance: 0.14034416900790878\n",
      "  tol, rng, random, positive)\n",
      "/Users/michaellaccavole/opt/anaconda3/lib/python3.7/site-packages/sklearn/linear_model/_coordinate_descent.py:472: ConvergenceWarning: Objective did not converge. You might want to increase the number of iterations. Duality gap: 234.3281221250731, tolerance: 0.14034416900790878\n",
      "  tol, rng, random, positive)\n",
      "/Users/michaellaccavole/opt/anaconda3/lib/python3.7/site-packages/sklearn/linear_model/_coordinate_descent.py:472: ConvergenceWarning: Objective did not converge. You might want to increase the number of iterations. Duality gap: 308.87837725057454, tolerance: 0.14034416900790878\n",
      "  tol, rng, random, positive)\n",
      "/Users/michaellaccavole/opt/anaconda3/lib/python3.7/site-packages/sklearn/linear_model/_coordinate_descent.py:472: ConvergenceWarning: Objective did not converge. You might want to increase the number of iterations. Duality gap: 350.6531998496364, tolerance: 0.14034416900790878\n",
      "  tol, rng, random, positive)\n",
      "/Users/michaellaccavole/opt/anaconda3/lib/python3.7/site-packages/sklearn/linear_model/_coordinate_descent.py:472: ConvergenceWarning: Objective did not converge. You might want to increase the number of iterations. Duality gap: 385.7078230665784, tolerance: 0.14034416900790878\n",
      "  tol, rng, random, positive)\n",
      "/Users/michaellaccavole/opt/anaconda3/lib/python3.7/site-packages/sklearn/linear_model/_coordinate_descent.py:472: ConvergenceWarning: Objective did not converge. You might want to increase the number of iterations. Duality gap: 397.38742978696416, tolerance: 0.14034416900790878\n",
      "  tol, rng, random, positive)\n",
      "/Users/michaellaccavole/opt/anaconda3/lib/python3.7/site-packages/sklearn/linear_model/_coordinate_descent.py:472: ConvergenceWarning: Objective did not converge. You might want to increase the number of iterations. Duality gap: 404.91999898462484, tolerance: 0.14034416900790878\n",
      "  tol, rng, random, positive)\n",
      "/Users/michaellaccavole/opt/anaconda3/lib/python3.7/site-packages/sklearn/linear_model/_coordinate_descent.py:472: ConvergenceWarning: Objective did not converge. You might want to increase the number of iterations. Duality gap: 410.08760749844663, tolerance: 0.14034416900790878\n",
      "  tol, rng, random, positive)\n",
      "/Users/michaellaccavole/opt/anaconda3/lib/python3.7/site-packages/sklearn/linear_model/_coordinate_descent.py:472: ConvergenceWarning: Objective did not converge. You might want to increase the number of iterations. Duality gap: 413.5463846090923, tolerance: 0.14034416900790878\n",
      "  tol, rng, random, positive)\n",
      "/Users/michaellaccavole/opt/anaconda3/lib/python3.7/site-packages/sklearn/linear_model/_coordinate_descent.py:472: ConvergenceWarning: Objective did not converge. You might want to increase the number of iterations. Duality gap: 415.3574350179463, tolerance: 0.14034416900790878\n",
      "  tol, rng, random, positive)\n",
      "/Users/michaellaccavole/opt/anaconda3/lib/python3.7/site-packages/sklearn/linear_model/_coordinate_descent.py:472: ConvergenceWarning: Objective did not converge. You might want to increase the number of iterations. Duality gap: 415.3013264922699, tolerance: 0.14034416900790878\n",
      "  tol, rng, random, positive)\n"
     ]
    },
    {
     "name": "stderr",
     "output_type": "stream",
     "text": [
      "/Users/michaellaccavole/opt/anaconda3/lib/python3.7/site-packages/sklearn/linear_model/_coordinate_descent.py:472: ConvergenceWarning: Objective did not converge. You might want to increase the number of iterations. Duality gap: 413.8963244886064, tolerance: 0.14034416900790878\n",
      "  tol, rng, random, positive)\n",
      "/Users/michaellaccavole/opt/anaconda3/lib/python3.7/site-packages/sklearn/linear_model/_coordinate_descent.py:472: ConvergenceWarning: Objective did not converge. You might want to increase the number of iterations. Duality gap: 411.03008787696047, tolerance: 0.14034416900790878\n",
      "  tol, rng, random, positive)\n",
      "/Users/michaellaccavole/opt/anaconda3/lib/python3.7/site-packages/sklearn/linear_model/_coordinate_descent.py:472: ConvergenceWarning: Objective did not converge. You might want to increase the number of iterations. Duality gap: 407.178448634372, tolerance: 0.14034416900790878\n",
      "  tol, rng, random, positive)\n",
      "/Users/michaellaccavole/opt/anaconda3/lib/python3.7/site-packages/sklearn/linear_model/_coordinate_descent.py:472: ConvergenceWarning: Objective did not converge. You might want to increase the number of iterations. Duality gap: 402.08295575850076, tolerance: 0.14034416900790878\n",
      "  tol, rng, random, positive)\n",
      "/Users/michaellaccavole/opt/anaconda3/lib/python3.7/site-packages/sklearn/linear_model/_coordinate_descent.py:472: ConvergenceWarning: Objective did not converge. You might want to increase the number of iterations. Duality gap: 396.2106789864669, tolerance: 0.14034416900790878\n",
      "  tol, rng, random, positive)\n",
      "/Users/michaellaccavole/opt/anaconda3/lib/python3.7/site-packages/sklearn/linear_model/_coordinate_descent.py:472: ConvergenceWarning: Objective did not converge. You might want to increase the number of iterations. Duality gap: 389.7218768660497, tolerance: 0.14034416900790878\n",
      "  tol, rng, random, positive)\n",
      "/Users/michaellaccavole/opt/anaconda3/lib/python3.7/site-packages/sklearn/linear_model/_coordinate_descent.py:472: ConvergenceWarning: Objective did not converge. You might want to increase the number of iterations. Duality gap: 382.61557421513044, tolerance: 0.14034416900790878\n",
      "  tol, rng, random, positive)\n",
      "/Users/michaellaccavole/opt/anaconda3/lib/python3.7/site-packages/sklearn/linear_model/_coordinate_descent.py:472: ConvergenceWarning: Objective did not converge. You might want to increase the number of iterations. Duality gap: 375.0084201787957, tolerance: 0.14034416900790878\n",
      "  tol, rng, random, positive)\n",
      "/Users/michaellaccavole/opt/anaconda3/lib/python3.7/site-packages/sklearn/linear_model/_coordinate_descent.py:472: ConvergenceWarning: Objective did not converge. You might want to increase the number of iterations. Duality gap: 367.0557968645859, tolerance: 0.14034416900790878\n",
      "  tol, rng, random, positive)\n",
      "/Users/michaellaccavole/opt/anaconda3/lib/python3.7/site-packages/sklearn/linear_model/_coordinate_descent.py:472: ConvergenceWarning: Objective did not converge. You might want to increase the number of iterations. Duality gap: 358.8762758379991, tolerance: 0.14034416900790878\n",
      "  tol, rng, random, positive)\n",
      "/Users/michaellaccavole/opt/anaconda3/lib/python3.7/site-packages/sklearn/linear_model/_coordinate_descent.py:472: ConvergenceWarning: Objective did not converge. You might want to increase the number of iterations. Duality gap: 350.7076572278301, tolerance: 0.14034416900790878\n",
      "  tol, rng, random, positive)\n",
      "/Users/michaellaccavole/opt/anaconda3/lib/python3.7/site-packages/sklearn/linear_model/_coordinate_descent.py:472: ConvergenceWarning: Objective did not converge. You might want to increase the number of iterations. Duality gap: 342.58634838292636, tolerance: 0.14034416900790878\n",
      "  tol, rng, random, positive)\n",
      "/Users/michaellaccavole/opt/anaconda3/lib/python3.7/site-packages/sklearn/linear_model/_coordinate_descent.py:472: ConvergenceWarning: Objective did not converge. You might want to increase the number of iterations. Duality gap: 334.7699157788906, tolerance: 0.14034416900790878\n",
      "  tol, rng, random, positive)\n",
      "/Users/michaellaccavole/opt/anaconda3/lib/python3.7/site-packages/sklearn/linear_model/_coordinate_descent.py:472: ConvergenceWarning: Objective did not converge. You might want to increase the number of iterations. Duality gap: 327.37562218957277, tolerance: 0.14034416900790878\n",
      "  tol, rng, random, positive)\n",
      "/Users/michaellaccavole/opt/anaconda3/lib/python3.7/site-packages/sklearn/linear_model/_coordinate_descent.py:472: ConvergenceWarning: Objective did not converge. You might want to increase the number of iterations. Duality gap: 320.39449715581196, tolerance: 0.14034416900790878\n",
      "  tol, rng, random, positive)\n",
      "/Users/michaellaccavole/opt/anaconda3/lib/python3.7/site-packages/sklearn/linear_model/_coordinate_descent.py:472: ConvergenceWarning: Objective did not converge. You might want to increase the number of iterations. Duality gap: 130.1328090083049, tolerance: 0.13811775007210977\n",
      "  tol, rng, random, positive)\n",
      "/Users/michaellaccavole/opt/anaconda3/lib/python3.7/site-packages/sklearn/linear_model/_coordinate_descent.py:472: ConvergenceWarning: Objective did not converge. You might want to increase the number of iterations. Duality gap: 67.41587685237107, tolerance: 0.13811775007210977\n",
      "  tol, rng, random, positive)\n",
      "/Users/michaellaccavole/opt/anaconda3/lib/python3.7/site-packages/sklearn/linear_model/_coordinate_descent.py:472: ConvergenceWarning: Objective did not converge. You might want to increase the number of iterations. Duality gap: 58.85949004625127, tolerance: 0.13811775007210977\n",
      "  tol, rng, random, positive)\n",
      "/Users/michaellaccavole/opt/anaconda3/lib/python3.7/site-packages/sklearn/linear_model/_coordinate_descent.py:472: ConvergenceWarning: Objective did not converge. You might want to increase the number of iterations. Duality gap: 59.992021134794186, tolerance: 0.13811775007210977\n",
      "  tol, rng, random, positive)\n",
      "/Users/michaellaccavole/opt/anaconda3/lib/python3.7/site-packages/sklearn/linear_model/_coordinate_descent.py:472: ConvergenceWarning: Objective did not converge. You might want to increase the number of iterations. Duality gap: 59.81413074061675, tolerance: 0.13811775007210977\n",
      "  tol, rng, random, positive)\n",
      "/Users/michaellaccavole/opt/anaconda3/lib/python3.7/site-packages/sklearn/linear_model/_coordinate_descent.py:472: ConvergenceWarning: Objective did not converge. You might want to increase the number of iterations. Duality gap: 58.782140829546165, tolerance: 0.13811775007210977\n",
      "  tol, rng, random, positive)\n",
      "/Users/michaellaccavole/opt/anaconda3/lib/python3.7/site-packages/sklearn/linear_model/_coordinate_descent.py:472: ConvergenceWarning: Objective did not converge. You might want to increase the number of iterations. Duality gap: 97.65369805851378, tolerance: 0.13811775007210977\n",
      "  tol, rng, random, positive)\n",
      "/Users/michaellaccavole/opt/anaconda3/lib/python3.7/site-packages/sklearn/linear_model/_coordinate_descent.py:472: ConvergenceWarning: Objective did not converge. You might want to increase the number of iterations. Duality gap: 233.71504517142318, tolerance: 0.13811775007210977\n",
      "  tol, rng, random, positive)\n",
      "/Users/michaellaccavole/opt/anaconda3/lib/python3.7/site-packages/sklearn/linear_model/_coordinate_descent.py:472: ConvergenceWarning: Objective did not converge. You might want to increase the number of iterations. Duality gap: 309.41098331760395, tolerance: 0.13811775007210977\n",
      "  tol, rng, random, positive)\n",
      "/Users/michaellaccavole/opt/anaconda3/lib/python3.7/site-packages/sklearn/linear_model/_coordinate_descent.py:472: ConvergenceWarning: Objective did not converge. You might want to increase the number of iterations. Duality gap: 368.17809681179637, tolerance: 0.13811775007210977\n",
      "  tol, rng, random, positive)\n",
      "/Users/michaellaccavole/opt/anaconda3/lib/python3.7/site-packages/sklearn/linear_model/_coordinate_descent.py:472: ConvergenceWarning: Objective did not converge. You might want to increase the number of iterations. Duality gap: 385.990952448358, tolerance: 0.13811775007210977\n",
      "  tol, rng, random, positive)\n",
      "/Users/michaellaccavole/opt/anaconda3/lib/python3.7/site-packages/sklearn/linear_model/_coordinate_descent.py:472: ConvergenceWarning: Objective did not converge. You might want to increase the number of iterations. Duality gap: 397.0218659904677, tolerance: 0.13811775007210977\n",
      "  tol, rng, random, positive)\n",
      "/Users/michaellaccavole/opt/anaconda3/lib/python3.7/site-packages/sklearn/linear_model/_coordinate_descent.py:472: ConvergenceWarning: Objective did not converge. You might want to increase the number of iterations. Duality gap: 403.83867514940584, tolerance: 0.13811775007210977\n",
      "  tol, rng, random, positive)\n",
      "/Users/michaellaccavole/opt/anaconda3/lib/python3.7/site-packages/sklearn/linear_model/_coordinate_descent.py:472: ConvergenceWarning: Objective did not converge. You might want to increase the number of iterations. Duality gap: 407.9706299452382, tolerance: 0.13811775007210977\n",
      "  tol, rng, random, positive)\n",
      "/Users/michaellaccavole/opt/anaconda3/lib/python3.7/site-packages/sklearn/linear_model/_coordinate_descent.py:472: ConvergenceWarning: Objective did not converge. You might want to increase the number of iterations. Duality gap: 410.2722303992165, tolerance: 0.13811775007210977\n",
      "  tol, rng, random, positive)\n",
      "/Users/michaellaccavole/opt/anaconda3/lib/python3.7/site-packages/sklearn/linear_model/_coordinate_descent.py:472: ConvergenceWarning: Objective did not converge. You might want to increase the number of iterations. Duality gap: 411.03951132691213, tolerance: 0.13811775007210977\n",
      "  tol, rng, random, positive)\n",
      "/Users/michaellaccavole/opt/anaconda3/lib/python3.7/site-packages/sklearn/linear_model/_coordinate_descent.py:472: ConvergenceWarning: Objective did not converge. You might want to increase the number of iterations. Duality gap: 410.5524467555254, tolerance: 0.13811775007210977\n",
      "  tol, rng, random, positive)\n",
      "/Users/michaellaccavole/opt/anaconda3/lib/python3.7/site-packages/sklearn/linear_model/_coordinate_descent.py:472: ConvergenceWarning: Objective did not converge. You might want to increase the number of iterations. Duality gap: 409.22077610449935, tolerance: 0.13811775007210977\n",
      "  tol, rng, random, positive)\n",
      "/Users/michaellaccavole/opt/anaconda3/lib/python3.7/site-packages/sklearn/linear_model/_coordinate_descent.py:472: ConvergenceWarning: Objective did not converge. You might want to increase the number of iterations. Duality gap: 406.9667195798155, tolerance: 0.13811775007210977\n",
      "  tol, rng, random, positive)\n",
      "/Users/michaellaccavole/opt/anaconda3/lib/python3.7/site-packages/sklearn/linear_model/_coordinate_descent.py:472: ConvergenceWarning: Objective did not converge. You might want to increase the number of iterations. Duality gap: 404.0099369695344, tolerance: 0.13811775007210977\n",
      "  tol, rng, random, positive)\n",
      "/Users/michaellaccavole/opt/anaconda3/lib/python3.7/site-packages/sklearn/linear_model/_coordinate_descent.py:472: ConvergenceWarning: Objective did not converge. You might want to increase the number of iterations. Duality gap: 400.0539728767273, tolerance: 0.13811775007210977\n",
      "  tol, rng, random, positive)\n",
      "/Users/michaellaccavole/opt/anaconda3/lib/python3.7/site-packages/sklearn/linear_model/_coordinate_descent.py:472: ConvergenceWarning: Objective did not converge. You might want to increase the number of iterations. Duality gap: 395.0098083179056, tolerance: 0.13811775007210977\n",
      "  tol, rng, random, positive)\n",
      "/Users/michaellaccavole/opt/anaconda3/lib/python3.7/site-packages/sklearn/linear_model/_coordinate_descent.py:472: ConvergenceWarning: Objective did not converge. You might want to increase the number of iterations. Duality gap: 389.244870661012, tolerance: 0.13811775007210977\n",
      "  tol, rng, random, positive)\n",
      "/Users/michaellaccavole/opt/anaconda3/lib/python3.7/site-packages/sklearn/linear_model/_coordinate_descent.py:472: ConvergenceWarning: Objective did not converge. You might want to increase the number of iterations. Duality gap: 382.7262392749298, tolerance: 0.13811775007210977\n",
      "  tol, rng, random, positive)\n",
      "/Users/michaellaccavole/opt/anaconda3/lib/python3.7/site-packages/sklearn/linear_model/_coordinate_descent.py:472: ConvergenceWarning: Objective did not converge. You might want to increase the number of iterations. Duality gap: 375.66461767885534, tolerance: 0.13811775007210977\n",
      "  tol, rng, random, positive)\n",
      "/Users/michaellaccavole/opt/anaconda3/lib/python3.7/site-packages/sklearn/linear_model/_coordinate_descent.py:472: ConvergenceWarning: Objective did not converge. You might want to increase the number of iterations. Duality gap: 368.1846376910594, tolerance: 0.13811775007210977\n",
      "  tol, rng, random, positive)\n",
      "/Users/michaellaccavole/opt/anaconda3/lib/python3.7/site-packages/sklearn/linear_model/_coordinate_descent.py:472: ConvergenceWarning: Objective did not converge. You might want to increase the number of iterations. Duality gap: 360.299533052449, tolerance: 0.13811775007210977\n",
      "  tol, rng, random, positive)\n",
      "/Users/michaellaccavole/opt/anaconda3/lib/python3.7/site-packages/sklearn/linear_model/_coordinate_descent.py:472: ConvergenceWarning: Objective did not converge. You might want to increase the number of iterations. Duality gap: 352.0604418538295, tolerance: 0.13811775007210977\n",
      "  tol, rng, random, positive)\n",
      "/Users/michaellaccavole/opt/anaconda3/lib/python3.7/site-packages/sklearn/linear_model/_coordinate_descent.py:472: ConvergenceWarning: Objective did not converge. You might want to increase the number of iterations. Duality gap: 343.7876475579632, tolerance: 0.13811775007210977\n",
      "  tol, rng, random, positive)\n",
      "/Users/michaellaccavole/opt/anaconda3/lib/python3.7/site-packages/sklearn/linear_model/_coordinate_descent.py:472: ConvergenceWarning: Objective did not converge. You might want to increase the number of iterations. Duality gap: 335.57931678052, tolerance: 0.13811775007210977\n",
      "  tol, rng, random, positive)\n",
      "/Users/michaellaccavole/opt/anaconda3/lib/python3.7/site-packages/sklearn/linear_model/_coordinate_descent.py:472: ConvergenceWarning: Objective did not converge. You might want to increase the number of iterations. Duality gap: 327.6805871521547, tolerance: 0.13811775007210977\n",
      "  tol, rng, random, positive)\n",
      "/Users/michaellaccavole/opt/anaconda3/lib/python3.7/site-packages/sklearn/linear_model/_coordinate_descent.py:472: ConvergenceWarning: Objective did not converge. You might want to increase the number of iterations. Duality gap: 320.09101275344824, tolerance: 0.13811775007210977\n",
      "  tol, rng, random, positive)\n",
      "/Users/michaellaccavole/opt/anaconda3/lib/python3.7/site-packages/sklearn/linear_model/_coordinate_descent.py:472: ConvergenceWarning: Objective did not converge. You might want to increase the number of iterations. Duality gap: 313.010348798552, tolerance: 0.13811775007210977\n",
      "  tol, rng, random, positive)\n"
     ]
    },
    {
     "name": "stderr",
     "output_type": "stream",
     "text": [
      "/Users/michaellaccavole/opt/anaconda3/lib/python3.7/site-packages/sklearn/linear_model/_coordinate_descent.py:472: ConvergenceWarning: Objective did not converge. You might want to increase the number of iterations. Duality gap: 229.6036548772206, tolerance: 0.1399547583903233\n",
      "  tol, rng, random, positive)\n",
      "/Users/michaellaccavole/opt/anaconda3/lib/python3.7/site-packages/sklearn/linear_model/_coordinate_descent.py:472: ConvergenceWarning: Objective did not converge. You might want to increase the number of iterations. Duality gap: 194.91188877382575, tolerance: 0.1399547583903233\n",
      "  tol, rng, random, positive)\n",
      "/Users/michaellaccavole/opt/anaconda3/lib/python3.7/site-packages/sklearn/linear_model/_coordinate_descent.py:472: ConvergenceWarning: Objective did not converge. You might want to increase the number of iterations. Duality gap: 141.87256976760375, tolerance: 0.1399547583903233\n",
      "  tol, rng, random, positive)\n",
      "/Users/michaellaccavole/opt/anaconda3/lib/python3.7/site-packages/sklearn/linear_model/_coordinate_descent.py:472: ConvergenceWarning: Objective did not converge. You might want to increase the number of iterations. Duality gap: 66.09704186715544, tolerance: 0.1399547583903233\n",
      "  tol, rng, random, positive)\n",
      "/Users/michaellaccavole/opt/anaconda3/lib/python3.7/site-packages/sklearn/linear_model/_coordinate_descent.py:472: ConvergenceWarning: Objective did not converge. You might want to increase the number of iterations. Duality gap: 59.35958977408313, tolerance: 0.1399547583903233\n",
      "  tol, rng, random, positive)\n",
      "/Users/michaellaccavole/opt/anaconda3/lib/python3.7/site-packages/sklearn/linear_model/_coordinate_descent.py:472: ConvergenceWarning: Objective did not converge. You might want to increase the number of iterations. Duality gap: 58.287974260526425, tolerance: 0.1399547583903233\n",
      "  tol, rng, random, positive)\n",
      "/Users/michaellaccavole/opt/anaconda3/lib/python3.7/site-packages/sklearn/linear_model/_coordinate_descent.py:472: ConvergenceWarning: Objective did not converge. You might want to increase the number of iterations. Duality gap: 56.71225278913664, tolerance: 0.1399547583903233\n",
      "  tol, rng, random, positive)\n",
      "/Users/michaellaccavole/opt/anaconda3/lib/python3.7/site-packages/sklearn/linear_model/_coordinate_descent.py:472: ConvergenceWarning: Objective did not converge. You might want to increase the number of iterations. Duality gap: 61.71369792693929, tolerance: 0.1399547583903233\n",
      "  tol, rng, random, positive)\n",
      "/Users/michaellaccavole/opt/anaconda3/lib/python3.7/site-packages/sklearn/linear_model/_coordinate_descent.py:472: ConvergenceWarning: Objective did not converge. You might want to increase the number of iterations. Duality gap: 220.4420486668709, tolerance: 0.1399547583903233\n",
      "  tol, rng, random, positive)\n",
      "/Users/michaellaccavole/opt/anaconda3/lib/python3.7/site-packages/sklearn/linear_model/_coordinate_descent.py:472: ConvergenceWarning: Objective did not converge. You might want to increase the number of iterations. Duality gap: 330.84786334401144, tolerance: 0.1399547583903233\n",
      "  tol, rng, random, positive)\n",
      "/Users/michaellaccavole/opt/anaconda3/lib/python3.7/site-packages/sklearn/linear_model/_coordinate_descent.py:472: ConvergenceWarning: Objective did not converge. You might want to increase the number of iterations. Duality gap: 361.30088798912504, tolerance: 0.1399547583903233\n",
      "  tol, rng, random, positive)\n",
      "/Users/michaellaccavole/opt/anaconda3/lib/python3.7/site-packages/sklearn/linear_model/_coordinate_descent.py:472: ConvergenceWarning: Objective did not converge. You might want to increase the number of iterations. Duality gap: 379.75885472928655, tolerance: 0.1399547583903233\n",
      "  tol, rng, random, positive)\n",
      "/Users/michaellaccavole/opt/anaconda3/lib/python3.7/site-packages/sklearn/linear_model/_coordinate_descent.py:472: ConvergenceWarning: Objective did not converge. You might want to increase the number of iterations. Duality gap: 391.2100978008809, tolerance: 0.1399547583903233\n",
      "  tol, rng, random, positive)\n",
      "/Users/michaellaccavole/opt/anaconda3/lib/python3.7/site-packages/sklearn/linear_model/_coordinate_descent.py:472: ConvergenceWarning: Objective did not converge. You might want to increase the number of iterations. Duality gap: 398.3731426928499, tolerance: 0.1399547583903233\n",
      "  tol, rng, random, positive)\n",
      "/Users/michaellaccavole/opt/anaconda3/lib/python3.7/site-packages/sklearn/linear_model/_coordinate_descent.py:472: ConvergenceWarning: Objective did not converge. You might want to increase the number of iterations. Duality gap: 402.9214360428679, tolerance: 0.1399547583903233\n",
      "  tol, rng, random, positive)\n",
      "/Users/michaellaccavole/opt/anaconda3/lib/python3.7/site-packages/sklearn/linear_model/_coordinate_descent.py:472: ConvergenceWarning: Objective did not converge. You might want to increase the number of iterations. Duality gap: 405.35730369435, tolerance: 0.1399547583903233\n",
      "  tol, rng, random, positive)\n",
      "/Users/michaellaccavole/opt/anaconda3/lib/python3.7/site-packages/sklearn/linear_model/_coordinate_descent.py:472: ConvergenceWarning: Objective did not converge. You might want to increase the number of iterations. Duality gap: 406.75992332527085, tolerance: 0.1399547583903233\n",
      "  tol, rng, random, positive)\n",
      "/Users/michaellaccavole/opt/anaconda3/lib/python3.7/site-packages/sklearn/linear_model/_coordinate_descent.py:472: ConvergenceWarning: Objective did not converge. You might want to increase the number of iterations. Duality gap: 406.32773023080574, tolerance: 0.1399547583903233\n",
      "  tol, rng, random, positive)\n",
      "/Users/michaellaccavole/opt/anaconda3/lib/python3.7/site-packages/sklearn/linear_model/_coordinate_descent.py:472: ConvergenceWarning: Objective did not converge. You might want to increase the number of iterations. Duality gap: 404.6418739217841, tolerance: 0.1399547583903233\n",
      "  tol, rng, random, positive)\n",
      "/Users/michaellaccavole/opt/anaconda3/lib/python3.7/site-packages/sklearn/linear_model/_coordinate_descent.py:472: ConvergenceWarning: Objective did not converge. You might want to increase the number of iterations. Duality gap: 401.90942651152466, tolerance: 0.1399547583903233\n",
      "  tol, rng, random, positive)\n",
      "/Users/michaellaccavole/opt/anaconda3/lib/python3.7/site-packages/sklearn/linear_model/_coordinate_descent.py:472: ConvergenceWarning: Objective did not converge. You might want to increase the number of iterations. Duality gap: 398.22719767171753, tolerance: 0.1399547583903233\n",
      "  tol, rng, random, positive)\n",
      "/Users/michaellaccavole/opt/anaconda3/lib/python3.7/site-packages/sklearn/linear_model/_coordinate_descent.py:472: ConvergenceWarning: Objective did not converge. You might want to increase the number of iterations. Duality gap: 393.4899840694883, tolerance: 0.1399547583903233\n",
      "  tol, rng, random, positive)\n",
      "/Users/michaellaccavole/opt/anaconda3/lib/python3.7/site-packages/sklearn/linear_model/_coordinate_descent.py:472: ConvergenceWarning: Objective did not converge. You might want to increase the number of iterations. Duality gap: 387.8996334861581, tolerance: 0.1399547583903233\n",
      "  tol, rng, random, positive)\n",
      "/Users/michaellaccavole/opt/anaconda3/lib/python3.7/site-packages/sklearn/linear_model/_coordinate_descent.py:472: ConvergenceWarning: Objective did not converge. You might want to increase the number of iterations. Duality gap: 381.79037908621, tolerance: 0.1399547583903233\n",
      "  tol, rng, random, positive)\n",
      "/Users/michaellaccavole/opt/anaconda3/lib/python3.7/site-packages/sklearn/linear_model/_coordinate_descent.py:472: ConvergenceWarning: Objective did not converge. You might want to increase the number of iterations. Duality gap: 375.25023713080355, tolerance: 0.1399547583903233\n",
      "  tol, rng, random, positive)\n",
      "/Users/michaellaccavole/opt/anaconda3/lib/python3.7/site-packages/sklearn/linear_model/_coordinate_descent.py:472: ConvergenceWarning: Objective did not converge. You might want to increase the number of iterations. Duality gap: 368.33064918094516, tolerance: 0.1399547583903233\n",
      "  tol, rng, random, positive)\n",
      "/Users/michaellaccavole/opt/anaconda3/lib/python3.7/site-packages/sklearn/linear_model/_coordinate_descent.py:472: ConvergenceWarning: Objective did not converge. You might want to increase the number of iterations. Duality gap: 361.0540103585331, tolerance: 0.1399547583903233\n",
      "  tol, rng, random, positive)\n",
      "/Users/michaellaccavole/opt/anaconda3/lib/python3.7/site-packages/sklearn/linear_model/_coordinate_descent.py:472: ConvergenceWarning: Objective did not converge. You might want to increase the number of iterations. Duality gap: 353.4492771293616, tolerance: 0.1399547583903233\n",
      "  tol, rng, random, positive)\n",
      "/Users/michaellaccavole/opt/anaconda3/lib/python3.7/site-packages/sklearn/linear_model/_coordinate_descent.py:472: ConvergenceWarning: Objective did not converge. You might want to increase the number of iterations. Duality gap: 345.71781653565137, tolerance: 0.1399547583903233\n",
      "  tol, rng, random, positive)\n",
      "/Users/michaellaccavole/opt/anaconda3/lib/python3.7/site-packages/sklearn/linear_model/_coordinate_descent.py:472: ConvergenceWarning: Objective did not converge. You might want to increase the number of iterations. Duality gap: 337.993828550058, tolerance: 0.1399547583903233\n",
      "  tol, rng, random, positive)\n",
      "/Users/michaellaccavole/opt/anaconda3/lib/python3.7/site-packages/sklearn/linear_model/_coordinate_descent.py:472: ConvergenceWarning: Objective did not converge. You might want to increase the number of iterations. Duality gap: 330.50762199164564, tolerance: 0.1399547583903233\n",
      "  tol, rng, random, positive)\n",
      "/Users/michaellaccavole/opt/anaconda3/lib/python3.7/site-packages/sklearn/linear_model/_coordinate_descent.py:472: ConvergenceWarning: Objective did not converge. You might want to increase the number of iterations. Duality gap: 323.2607965937196, tolerance: 0.1399547583903233\n",
      "  tol, rng, random, positive)\n",
      "/Users/michaellaccavole/opt/anaconda3/lib/python3.7/site-packages/sklearn/linear_model/_coordinate_descent.py:472: ConvergenceWarning: Objective did not converge. You might want to increase the number of iterations. Duality gap: 316.49300542453364, tolerance: 0.1399547583903233\n",
      "  tol, rng, random, positive)\n"
     ]
    },
    {
     "name": "stderr",
     "output_type": "stream",
     "text": [
      "/Users/michaellaccavole/opt/anaconda3/lib/python3.7/site-packages/sklearn/linear_model/_coordinate_descent.py:476: ConvergenceWarning: Objective did not converge. You might want to increase the number of iterations. Duality gap: 395.50491404020886, tolerance: 0.17448049803107843\n",
      "  positive)\n",
      "/Users/michaellaccavole/opt/anaconda3/lib/python3.7/site-packages/sklearn/linear_model/_coordinate_descent.py:472: ConvergenceWarning: Objective did not converge. You might want to increase the number of iterations. Duality gap: 200.51663775863068, tolerance: 0.14068437965802022\n",
      "  tol, rng, random, positive)\n",
      "/Users/michaellaccavole/opt/anaconda3/lib/python3.7/site-packages/sklearn/linear_model/_coordinate_descent.py:472: ConvergenceWarning: Objective did not converge. You might want to increase the number of iterations. Duality gap: 180.14991341847042, tolerance: 0.14068437965802022\n",
      "  tol, rng, random, positive)\n",
      "/Users/michaellaccavole/opt/anaconda3/lib/python3.7/site-packages/sklearn/linear_model/_coordinate_descent.py:472: ConvergenceWarning: Objective did not converge. You might want to increase the number of iterations. Duality gap: 149.18763778843834, tolerance: 0.14068437965802022\n",
      "  tol, rng, random, positive)\n",
      "/Users/michaellaccavole/opt/anaconda3/lib/python3.7/site-packages/sklearn/linear_model/_coordinate_descent.py:472: ConvergenceWarning: Objective did not converge. You might want to increase the number of iterations. Duality gap: 128.87724619214157, tolerance: 0.14068437965802022\n",
      "  tol, rng, random, positive)\n",
      "/Users/michaellaccavole/opt/anaconda3/lib/python3.7/site-packages/sklearn/linear_model/_coordinate_descent.py:472: ConvergenceWarning: Objective did not converge. You might want to increase the number of iterations. Duality gap: 170.67748721604642, tolerance: 0.14068437965802022\n",
      "  tol, rng, random, positive)\n",
      "/Users/michaellaccavole/opt/anaconda3/lib/python3.7/site-packages/sklearn/linear_model/_coordinate_descent.py:472: ConvergenceWarning: Objective did not converge. You might want to increase the number of iterations. Duality gap: 282.4413374423563, tolerance: 0.14068437965802022\n",
      "  tol, rng, random, positive)\n",
      "/Users/michaellaccavole/opt/anaconda3/lib/python3.7/site-packages/sklearn/linear_model/_coordinate_descent.py:472: ConvergenceWarning: Objective did not converge. You might want to increase the number of iterations. Duality gap: 299.18616992668797, tolerance: 0.14068437965802022\n",
      "  tol, rng, random, positive)\n",
      "/Users/michaellaccavole/opt/anaconda3/lib/python3.7/site-packages/sklearn/linear_model/_coordinate_descent.py:472: ConvergenceWarning: Objective did not converge. You might want to increase the number of iterations. Duality gap: 323.3088426648568, tolerance: 0.14068437965802022\n",
      "  tol, rng, random, positive)\n",
      "/Users/michaellaccavole/opt/anaconda3/lib/python3.7/site-packages/sklearn/linear_model/_coordinate_descent.py:472: ConvergenceWarning: Objective did not converge. You might want to increase the number of iterations. Duality gap: 343.6378170441458, tolerance: 0.14068437965802022\n",
      "  tol, rng, random, positive)\n",
      "/Users/michaellaccavole/opt/anaconda3/lib/python3.7/site-packages/sklearn/linear_model/_coordinate_descent.py:472: ConvergenceWarning: Objective did not converge. You might want to increase the number of iterations. Duality gap: 359.04133551549364, tolerance: 0.14068437965802022\n",
      "  tol, rng, random, positive)\n",
      "/Users/michaellaccavole/opt/anaconda3/lib/python3.7/site-packages/sklearn/linear_model/_coordinate_descent.py:472: ConvergenceWarning: Objective did not converge. You might want to increase the number of iterations. Duality gap: 370.7146200571318, tolerance: 0.14068437965802022\n",
      "  tol, rng, random, positive)\n",
      "/Users/michaellaccavole/opt/anaconda3/lib/python3.7/site-packages/sklearn/linear_model/_coordinate_descent.py:472: ConvergenceWarning: Objective did not converge. You might want to increase the number of iterations. Duality gap: 379.5714138441047, tolerance: 0.14068437965802022\n",
      "  tol, rng, random, positive)\n",
      "/Users/michaellaccavole/opt/anaconda3/lib/python3.7/site-packages/sklearn/linear_model/_coordinate_descent.py:472: ConvergenceWarning: Objective did not converge. You might want to increase the number of iterations. Duality gap: 386.30332800599734, tolerance: 0.14068437965802022\n",
      "  tol, rng, random, positive)\n",
      "/Users/michaellaccavole/opt/anaconda3/lib/python3.7/site-packages/sklearn/linear_model/_coordinate_descent.py:472: ConvergenceWarning: Objective did not converge. You might want to increase the number of iterations. Duality gap: 391.4314145359374, tolerance: 0.14068437965802022\n",
      "  tol, rng, random, positive)\n",
      "/Users/michaellaccavole/opt/anaconda3/lib/python3.7/site-packages/sklearn/linear_model/_coordinate_descent.py:472: ConvergenceWarning: Objective did not converge. You might want to increase the number of iterations. Duality gap: 395.79093732507386, tolerance: 0.14068437965802022\n",
      "  tol, rng, random, positive)\n",
      "/Users/michaellaccavole/opt/anaconda3/lib/python3.7/site-packages/sklearn/linear_model/_coordinate_descent.py:472: ConvergenceWarning: Objective did not converge. You might want to increase the number of iterations. Duality gap: 398.55654809450505, tolerance: 0.14068437965802022\n",
      "  tol, rng, random, positive)\n",
      "/Users/michaellaccavole/opt/anaconda3/lib/python3.7/site-packages/sklearn/linear_model/_coordinate_descent.py:472: ConvergenceWarning: Objective did not converge. You might want to increase the number of iterations. Duality gap: 400.2552054920257, tolerance: 0.14068437965802022\n",
      "  tol, rng, random, positive)\n",
      "/Users/michaellaccavole/opt/anaconda3/lib/python3.7/site-packages/sklearn/linear_model/_coordinate_descent.py:472: ConvergenceWarning: Objective did not converge. You might want to increase the number of iterations. Duality gap: 400.7580429468503, tolerance: 0.14068437965802022\n",
      "  tol, rng, random, positive)\n",
      "/Users/michaellaccavole/opt/anaconda3/lib/python3.7/site-packages/sklearn/linear_model/_coordinate_descent.py:472: ConvergenceWarning: Objective did not converge. You might want to increase the number of iterations. Duality gap: 400.37693658271394, tolerance: 0.14068437965802022\n",
      "  tol, rng, random, positive)\n",
      "/Users/michaellaccavole/opt/anaconda3/lib/python3.7/site-packages/sklearn/linear_model/_coordinate_descent.py:472: ConvergenceWarning: Objective did not converge. You might want to increase the number of iterations. Duality gap: 398.67723694796086, tolerance: 0.14068437965802022\n",
      "  tol, rng, random, positive)\n",
      "/Users/michaellaccavole/opt/anaconda3/lib/python3.7/site-packages/sklearn/linear_model/_coordinate_descent.py:472: ConvergenceWarning: Objective did not converge. You might want to increase the number of iterations. Duality gap: 395.8647651888224, tolerance: 0.14068437965802022\n",
      "  tol, rng, random, positive)\n",
      "/Users/michaellaccavole/opt/anaconda3/lib/python3.7/site-packages/sklearn/linear_model/_coordinate_descent.py:472: ConvergenceWarning: Objective did not converge. You might want to increase the number of iterations. Duality gap: 392.1100888856961, tolerance: 0.14068437965802022\n",
      "  tol, rng, random, positive)\n",
      "/Users/michaellaccavole/opt/anaconda3/lib/python3.7/site-packages/sklearn/linear_model/_coordinate_descent.py:472: ConvergenceWarning: Objective did not converge. You might want to increase the number of iterations. Duality gap: 387.47997373560986, tolerance: 0.14068437965802022\n",
      "  tol, rng, random, positive)\n",
      "/Users/michaellaccavole/opt/anaconda3/lib/python3.7/site-packages/sklearn/linear_model/_coordinate_descent.py:472: ConvergenceWarning: Objective did not converge. You might want to increase the number of iterations. Duality gap: 382.22296014065256, tolerance: 0.14068437965802022\n",
      "  tol, rng, random, positive)\n",
      "/Users/michaellaccavole/opt/anaconda3/lib/python3.7/site-packages/sklearn/linear_model/_coordinate_descent.py:472: ConvergenceWarning: Objective did not converge. You might want to increase the number of iterations. Duality gap: 376.3655315505816, tolerance: 0.14068437965802022\n",
      "  tol, rng, random, positive)\n",
      "/Users/michaellaccavole/opt/anaconda3/lib/python3.7/site-packages/sklearn/linear_model/_coordinate_descent.py:472: ConvergenceWarning: Objective did not converge. You might want to increase the number of iterations. Duality gap: 370.13742598921, tolerance: 0.14068437965802022\n",
      "  tol, rng, random, positive)\n",
      "/Users/michaellaccavole/opt/anaconda3/lib/python3.7/site-packages/sklearn/linear_model/_coordinate_descent.py:472: ConvergenceWarning: Objective did not converge. You might want to increase the number of iterations. Duality gap: 363.61924710590654, tolerance: 0.14068437965802022\n",
      "  tol, rng, random, positive)\n",
      "/Users/michaellaccavole/opt/anaconda3/lib/python3.7/site-packages/sklearn/linear_model/_coordinate_descent.py:472: ConvergenceWarning: Objective did not converge. You might want to increase the number of iterations. Duality gap: 356.89073151361197, tolerance: 0.14068437965802022\n",
      "  tol, rng, random, positive)\n",
      "/Users/michaellaccavole/opt/anaconda3/lib/python3.7/site-packages/sklearn/linear_model/_coordinate_descent.py:472: ConvergenceWarning: Objective did not converge. You might want to increase the number of iterations. Duality gap: 349.6232013882101, tolerance: 0.14068437965802022\n",
      "  tol, rng, random, positive)\n",
      "/Users/michaellaccavole/opt/anaconda3/lib/python3.7/site-packages/sklearn/linear_model/_coordinate_descent.py:472: ConvergenceWarning: Objective did not converge. You might want to increase the number of iterations. Duality gap: 342.3881678833372, tolerance: 0.14068437965802022\n",
      "  tol, rng, random, positive)\n",
      "/Users/michaellaccavole/opt/anaconda3/lib/python3.7/site-packages/sklearn/linear_model/_coordinate_descent.py:472: ConvergenceWarning: Objective did not converge. You might want to increase the number of iterations. Duality gap: 335.3168683293557, tolerance: 0.14068437965802022\n",
      "  tol, rng, random, positive)\n",
      "/Users/michaellaccavole/opt/anaconda3/lib/python3.7/site-packages/sklearn/linear_model/_coordinate_descent.py:472: ConvergenceWarning: Objective did not converge. You might want to increase the number of iterations. Duality gap: 328.5570964829547, tolerance: 0.14068437965802022\n",
      "  tol, rng, random, positive)\n",
      "/Users/michaellaccavole/opt/anaconda3/lib/python3.7/site-packages/sklearn/linear_model/_coordinate_descent.py:472: ConvergenceWarning: Objective did not converge. You might want to increase the number of iterations. Duality gap: 322.04837387760404, tolerance: 0.14068437965802022\n",
      "  tol, rng, random, positive)\n"
     ]
    },
    {
     "name": "stderr",
     "output_type": "stream",
     "text": [
      "/Users/michaellaccavole/opt/anaconda3/lib/python3.7/site-packages/sklearn/linear_model/_coordinate_descent.py:472: ConvergenceWarning: Objective did not converge. You might want to increase the number of iterations. Duality gap: 212.92204000187638, tolerance: 0.14082917827381627\n",
      "  tol, rng, random, positive)\n",
      "/Users/michaellaccavole/opt/anaconda3/lib/python3.7/site-packages/sklearn/linear_model/_coordinate_descent.py:472: ConvergenceWarning: Objective did not converge. You might want to increase the number of iterations. Duality gap: 180.424438792562, tolerance: 0.14082917827381627\n",
      "  tol, rng, random, positive)\n",
      "/Users/michaellaccavole/opt/anaconda3/lib/python3.7/site-packages/sklearn/linear_model/_coordinate_descent.py:472: ConvergenceWarning: Objective did not converge. You might want to increase the number of iterations. Duality gap: 131.7144411605941, tolerance: 0.14082917827381627\n",
      "  tol, rng, random, positive)\n",
      "/Users/michaellaccavole/opt/anaconda3/lib/python3.7/site-packages/sklearn/linear_model/_coordinate_descent.py:472: ConvergenceWarning: Objective did not converge. You might want to increase the number of iterations. Duality gap: 64.30903259843933, tolerance: 0.14082917827381627\n",
      "  tol, rng, random, positive)\n",
      "/Users/michaellaccavole/opt/anaconda3/lib/python3.7/site-packages/sklearn/linear_model/_coordinate_descent.py:472: ConvergenceWarning: Objective did not converge. You might want to increase the number of iterations. Duality gap: 58.99046603241118, tolerance: 0.14082917827381627\n",
      "  tol, rng, random, positive)\n",
      "/Users/michaellaccavole/opt/anaconda3/lib/python3.7/site-packages/sklearn/linear_model/_coordinate_descent.py:472: ConvergenceWarning: Objective did not converge. You might want to increase the number of iterations. Duality gap: 57.86693949737639, tolerance: 0.14082917827381627\n",
      "  tol, rng, random, positive)\n",
      "/Users/michaellaccavole/opt/anaconda3/lib/python3.7/site-packages/sklearn/linear_model/_coordinate_descent.py:472: ConvergenceWarning: Objective did not converge. You might want to increase the number of iterations. Duality gap: 61.56648028535756, tolerance: 0.14082917827381627\n",
      "  tol, rng, random, positive)\n",
      "/Users/michaellaccavole/opt/anaconda3/lib/python3.7/site-packages/sklearn/linear_model/_coordinate_descent.py:472: ConvergenceWarning: Objective did not converge. You might want to increase the number of iterations. Duality gap: 112.42406325760061, tolerance: 0.14082917827381627\n",
      "  tol, rng, random, positive)\n",
      "/Users/michaellaccavole/opt/anaconda3/lib/python3.7/site-packages/sklearn/linear_model/_coordinate_descent.py:472: ConvergenceWarning: Objective did not converge. You might want to increase the number of iterations. Duality gap: 370.92834535157004, tolerance: 0.14082917827381627\n",
      "  tol, rng, random, positive)\n",
      "/Users/michaellaccavole/opt/anaconda3/lib/python3.7/site-packages/sklearn/linear_model/_coordinate_descent.py:472: ConvergenceWarning: Objective did not converge. You might want to increase the number of iterations. Duality gap: 383.9975315842489, tolerance: 0.14082917827381627\n",
      "  tol, rng, random, positive)\n",
      "/Users/michaellaccavole/opt/anaconda3/lib/python3.7/site-packages/sklearn/linear_model/_coordinate_descent.py:472: ConvergenceWarning: Objective did not converge. You might want to increase the number of iterations. Duality gap: 393.1535905916303, tolerance: 0.14082917827381627\n",
      "  tol, rng, random, positive)\n",
      "/Users/michaellaccavole/opt/anaconda3/lib/python3.7/site-packages/sklearn/linear_model/_coordinate_descent.py:472: ConvergenceWarning: Objective did not converge. You might want to increase the number of iterations. Duality gap: 399.52436847029736, tolerance: 0.14082917827381627\n",
      "  tol, rng, random, positive)\n",
      "/Users/michaellaccavole/opt/anaconda3/lib/python3.7/site-packages/sklearn/linear_model/_coordinate_descent.py:472: ConvergenceWarning: Objective did not converge. You might want to increase the number of iterations. Duality gap: 403.91122324700376, tolerance: 0.14082917827381627\n",
      "  tol, rng, random, positive)\n",
      "/Users/michaellaccavole/opt/anaconda3/lib/python3.7/site-packages/sklearn/linear_model/_coordinate_descent.py:472: ConvergenceWarning: Objective did not converge. You might want to increase the number of iterations. Duality gap: 406.88572536847386, tolerance: 0.14082917827381627\n",
      "  tol, rng, random, positive)\n",
      "/Users/michaellaccavole/opt/anaconda3/lib/python3.7/site-packages/sklearn/linear_model/_coordinate_descent.py:472: ConvergenceWarning: Objective did not converge. You might want to increase the number of iterations. Duality gap: 409.2268693419928, tolerance: 0.14082917827381627\n",
      "  tol, rng, random, positive)\n",
      "/Users/michaellaccavole/opt/anaconda3/lib/python3.7/site-packages/sklearn/linear_model/_coordinate_descent.py:472: ConvergenceWarning: Objective did not converge. You might want to increase the number of iterations. Duality gap: 410.1196870839286, tolerance: 0.14082917827381627\n",
      "  tol, rng, random, positive)\n",
      "/Users/michaellaccavole/opt/anaconda3/lib/python3.7/site-packages/sklearn/linear_model/_coordinate_descent.py:472: ConvergenceWarning: Objective did not converge. You might want to increase the number of iterations. Duality gap: 410.08191343327536, tolerance: 0.14082917827381627\n",
      "  tol, rng, random, positive)\n",
      "/Users/michaellaccavole/opt/anaconda3/lib/python3.7/site-packages/sklearn/linear_model/_coordinate_descent.py:472: ConvergenceWarning: Objective did not converge. You might want to increase the number of iterations. Duality gap: 408.92727688518784, tolerance: 0.14082917827381627\n",
      "  tol, rng, random, positive)\n",
      "/Users/michaellaccavole/opt/anaconda3/lib/python3.7/site-packages/sklearn/linear_model/_coordinate_descent.py:472: ConvergenceWarning: Objective did not converge. You might want to increase the number of iterations. Duality gap: 406.8702709322929, tolerance: 0.14082917827381627\n",
      "  tol, rng, random, positive)\n",
      "/Users/michaellaccavole/opt/anaconda3/lib/python3.7/site-packages/sklearn/linear_model/_coordinate_descent.py:472: ConvergenceWarning: Objective did not converge. You might want to increase the number of iterations. Duality gap: 403.7483244096191, tolerance: 0.14082917827381627\n",
      "  tol, rng, random, positive)\n",
      "/Users/michaellaccavole/opt/anaconda3/lib/python3.7/site-packages/sklearn/linear_model/_coordinate_descent.py:472: ConvergenceWarning: Objective did not converge. You might want to increase the number of iterations. Duality gap: 399.75735104982573, tolerance: 0.14082917827381627\n",
      "  tol, rng, random, positive)\n",
      "/Users/michaellaccavole/opt/anaconda3/lib/python3.7/site-packages/sklearn/linear_model/_coordinate_descent.py:472: ConvergenceWarning: Objective did not converge. You might want to increase the number of iterations. Duality gap: 394.8844527901864, tolerance: 0.14082917827381627\n",
      "  tol, rng, random, positive)\n",
      "/Users/michaellaccavole/opt/anaconda3/lib/python3.7/site-packages/sklearn/linear_model/_coordinate_descent.py:472: ConvergenceWarning: Objective did not converge. You might want to increase the number of iterations. Duality gap: 388.62457271513273, tolerance: 0.14082917827381627\n",
      "  tol, rng, random, positive)\n",
      "/Users/michaellaccavole/opt/anaconda3/lib/python3.7/site-packages/sklearn/linear_model/_coordinate_descent.py:472: ConvergenceWarning: Objective did not converge. You might want to increase the number of iterations. Duality gap: 382.8254210208612, tolerance: 0.14082917827381627\n",
      "  tol, rng, random, positive)\n",
      "/Users/michaellaccavole/opt/anaconda3/lib/python3.7/site-packages/sklearn/linear_model/_coordinate_descent.py:472: ConvergenceWarning: Objective did not converge. You might want to increase the number of iterations. Duality gap: 376.93880532281605, tolerance: 0.14082917827381627\n",
      "  tol, rng, random, positive)\n",
      "/Users/michaellaccavole/opt/anaconda3/lib/python3.7/site-packages/sklearn/linear_model/_coordinate_descent.py:472: ConvergenceWarning: Objective did not converge. You might want to increase the number of iterations. Duality gap: 370.10629272898166, tolerance: 0.14082917827381627\n",
      "  tol, rng, random, positive)\n",
      "/Users/michaellaccavole/opt/anaconda3/lib/python3.7/site-packages/sklearn/linear_model/_coordinate_descent.py:472: ConvergenceWarning: Objective did not converge. You might want to increase the number of iterations. Duality gap: 362.9361044769563, tolerance: 0.14082917827381627\n",
      "  tol, rng, random, positive)\n",
      "/Users/michaellaccavole/opt/anaconda3/lib/python3.7/site-packages/sklearn/linear_model/_coordinate_descent.py:472: ConvergenceWarning: Objective did not converge. You might want to increase the number of iterations. Duality gap: 355.45728475902024, tolerance: 0.14082917827381627\n",
      "  tol, rng, random, positive)\n",
      "/Users/michaellaccavole/opt/anaconda3/lib/python3.7/site-packages/sklearn/linear_model/_coordinate_descent.py:472: ConvergenceWarning: Objective did not converge. You might want to increase the number of iterations. Duality gap: 347.66079547491415, tolerance: 0.14082917827381627\n",
      "  tol, rng, random, positive)\n",
      "/Users/michaellaccavole/opt/anaconda3/lib/python3.7/site-packages/sklearn/linear_model/_coordinate_descent.py:472: ConvergenceWarning: Objective did not converge. You might want to increase the number of iterations. Duality gap: 339.9108979555139, tolerance: 0.14082917827381627\n",
      "  tol, rng, random, positive)\n",
      "/Users/michaellaccavole/opt/anaconda3/lib/python3.7/site-packages/sklearn/linear_model/_coordinate_descent.py:472: ConvergenceWarning: Objective did not converge. You might want to increase the number of iterations. Duality gap: 332.4143250688858, tolerance: 0.14082917827381627\n",
      "  tol, rng, random, positive)\n",
      "/Users/michaellaccavole/opt/anaconda3/lib/python3.7/site-packages/sklearn/linear_model/_coordinate_descent.py:472: ConvergenceWarning: Objective did not converge. You might want to increase the number of iterations. Duality gap: 325.2958906904402, tolerance: 0.14082917827381627\n",
      "  tol, rng, random, positive)\n",
      "/Users/michaellaccavole/opt/anaconda3/lib/python3.7/site-packages/sklearn/linear_model/_coordinate_descent.py:472: ConvergenceWarning: Objective did not converge. You might want to increase the number of iterations. Duality gap: 318.6277235649217, tolerance: 0.14082917827381627\n",
      "  tol, rng, random, positive)\n",
      "/Users/michaellaccavole/opt/anaconda3/lib/python3.7/site-packages/sklearn/linear_model/_coordinate_descent.py:472: ConvergenceWarning: Objective did not converge. You might want to increase the number of iterations. Duality gap: 205.51240920526487, tolerance: 0.14134917660037233\n",
      "  tol, rng, random, positive)\n",
      "/Users/michaellaccavole/opt/anaconda3/lib/python3.7/site-packages/sklearn/linear_model/_coordinate_descent.py:472: ConvergenceWarning: Objective did not converge. You might want to increase the number of iterations. Duality gap: 184.89661795504168, tolerance: 0.14134917660037233\n",
      "  tol, rng, random, positive)\n",
      "/Users/michaellaccavole/opt/anaconda3/lib/python3.7/site-packages/sklearn/linear_model/_coordinate_descent.py:472: ConvergenceWarning: Objective did not converge. You might want to increase the number of iterations. Duality gap: 153.49687429205545, tolerance: 0.14134917660037233\n",
      "  tol, rng, random, positive)\n",
      "/Users/michaellaccavole/opt/anaconda3/lib/python3.7/site-packages/sklearn/linear_model/_coordinate_descent.py:472: ConvergenceWarning: Objective did not converge. You might want to increase the number of iterations. Duality gap: 110.51273308800273, tolerance: 0.14134917660037233\n",
      "  tol, rng, random, positive)\n",
      "/Users/michaellaccavole/opt/anaconda3/lib/python3.7/site-packages/sklearn/linear_model/_coordinate_descent.py:472: ConvergenceWarning: Objective did not converge. You might want to increase the number of iterations. Duality gap: 60.80352929626497, tolerance: 0.14134917660037233\n",
      "  tol, rng, random, positive)\n",
      "/Users/michaellaccavole/opt/anaconda3/lib/python3.7/site-packages/sklearn/linear_model/_coordinate_descent.py:472: ConvergenceWarning: Objective did not converge. You might want to increase the number of iterations. Duality gap: 59.75077006289382, tolerance: 0.14134917660037233\n",
      "  tol, rng, random, positive)\n",
      "/Users/michaellaccavole/opt/anaconda3/lib/python3.7/site-packages/sklearn/linear_model/_coordinate_descent.py:472: ConvergenceWarning: Objective did not converge. You might want to increase the number of iterations. Duality gap: 58.189963003326056, tolerance: 0.14134917660037233\n",
      "  tol, rng, random, positive)\n",
      "/Users/michaellaccavole/opt/anaconda3/lib/python3.7/site-packages/sklearn/linear_model/_coordinate_descent.py:472: ConvergenceWarning: Objective did not converge. You might want to increase the number of iterations. Duality gap: 56.47308309799462, tolerance: 0.14134917660037233\n",
      "  tol, rng, random, positive)\n",
      "/Users/michaellaccavole/opt/anaconda3/lib/python3.7/site-packages/sklearn/linear_model/_coordinate_descent.py:472: ConvergenceWarning: Objective did not converge. You might want to increase the number of iterations. Duality gap: 342.16388295984893, tolerance: 0.14134917660037233\n",
      "  tol, rng, random, positive)\n",
      "/Users/michaellaccavole/opt/anaconda3/lib/python3.7/site-packages/sklearn/linear_model/_coordinate_descent.py:472: ConvergenceWarning: Objective did not converge. You might want to increase the number of iterations. Duality gap: 358.0828028635706, tolerance: 0.14134917660037233\n",
      "  tol, rng, random, positive)\n",
      "/Users/michaellaccavole/opt/anaconda3/lib/python3.7/site-packages/sklearn/linear_model/_coordinate_descent.py:472: ConvergenceWarning: Objective did not converge. You might want to increase the number of iterations. Duality gap: 370.32055673749886, tolerance: 0.14134917660037233\n",
      "  tol, rng, random, positive)\n",
      "/Users/michaellaccavole/opt/anaconda3/lib/python3.7/site-packages/sklearn/linear_model/_coordinate_descent.py:472: ConvergenceWarning: Objective did not converge. You might want to increase the number of iterations. Duality gap: 379.7456407322941, tolerance: 0.14134917660037233\n",
      "  tol, rng, random, positive)\n",
      "/Users/michaellaccavole/opt/anaconda3/lib/python3.7/site-packages/sklearn/linear_model/_coordinate_descent.py:472: ConvergenceWarning: Objective did not converge. You might want to increase the number of iterations. Duality gap: 387.0237475160361, tolerance: 0.14134917660037233\n",
      "  tol, rng, random, positive)\n",
      "/Users/michaellaccavole/opt/anaconda3/lib/python3.7/site-packages/sklearn/linear_model/_coordinate_descent.py:472: ConvergenceWarning: Objective did not converge. You might want to increase the number of iterations. Duality gap: 392.6620738990393, tolerance: 0.14134917660037233\n",
      "  tol, rng, random, positive)\n"
     ]
    },
    {
     "name": "stderr",
     "output_type": "stream",
     "text": [
      "/Users/michaellaccavole/opt/anaconda3/lib/python3.7/site-packages/sklearn/linear_model/_coordinate_descent.py:472: ConvergenceWarning: Objective did not converge. You might want to increase the number of iterations. Duality gap: 397.28552700944886, tolerance: 0.14134917660037233\n",
      "  tol, rng, random, positive)\n",
      "/Users/michaellaccavole/opt/anaconda3/lib/python3.7/site-packages/sklearn/linear_model/_coordinate_descent.py:472: ConvergenceWarning: Objective did not converge. You might want to increase the number of iterations. Duality gap: 401.59517748408473, tolerance: 0.14134917660037233\n",
      "  tol, rng, random, positive)\n",
      "/Users/michaellaccavole/opt/anaconda3/lib/python3.7/site-packages/sklearn/linear_model/_coordinate_descent.py:472: ConvergenceWarning: Objective did not converge. You might want to increase the number of iterations. Duality gap: 404.94647899159446, tolerance: 0.14134917660037233\n",
      "  tol, rng, random, positive)\n",
      "/Users/michaellaccavole/opt/anaconda3/lib/python3.7/site-packages/sklearn/linear_model/_coordinate_descent.py:472: ConvergenceWarning: Objective did not converge. You might want to increase the number of iterations. Duality gap: 406.4662781725177, tolerance: 0.14134917660037233\n",
      "  tol, rng, random, positive)\n",
      "/Users/michaellaccavole/opt/anaconda3/lib/python3.7/site-packages/sklearn/linear_model/_coordinate_descent.py:472: ConvergenceWarning: Objective did not converge. You might want to increase the number of iterations. Duality gap: 406.45634021451775, tolerance: 0.14134917660037233\n",
      "  tol, rng, random, positive)\n",
      "/Users/michaellaccavole/opt/anaconda3/lib/python3.7/site-packages/sklearn/linear_model/_coordinate_descent.py:472: ConvergenceWarning: Objective did not converge. You might want to increase the number of iterations. Duality gap: 404.9037110082482, tolerance: 0.14134917660037233\n",
      "  tol, rng, random, positive)\n",
      "/Users/michaellaccavole/opt/anaconda3/lib/python3.7/site-packages/sklearn/linear_model/_coordinate_descent.py:472: ConvergenceWarning: Objective did not converge. You might want to increase the number of iterations. Duality gap: 402.2357309943305, tolerance: 0.14134917660037233\n",
      "  tol, rng, random, positive)\n",
      "/Users/michaellaccavole/opt/anaconda3/lib/python3.7/site-packages/sklearn/linear_model/_coordinate_descent.py:472: ConvergenceWarning: Objective did not converge. You might want to increase the number of iterations. Duality gap: 398.30099839092, tolerance: 0.14134917660037233\n",
      "  tol, rng, random, positive)\n",
      "/Users/michaellaccavole/opt/anaconda3/lib/python3.7/site-packages/sklearn/linear_model/_coordinate_descent.py:472: ConvergenceWarning: Objective did not converge. You might want to increase the number of iterations. Duality gap: 392.38334931676076, tolerance: 0.14134917660037233\n",
      "  tol, rng, random, positive)\n",
      "/Users/michaellaccavole/opt/anaconda3/lib/python3.7/site-packages/sklearn/linear_model/_coordinate_descent.py:472: ConvergenceWarning: Objective did not converge. You might want to increase the number of iterations. Duality gap: 387.323002941903, tolerance: 0.14134917660037233\n",
      "  tol, rng, random, positive)\n",
      "/Users/michaellaccavole/opt/anaconda3/lib/python3.7/site-packages/sklearn/linear_model/_coordinate_descent.py:472: ConvergenceWarning: Objective did not converge. You might want to increase the number of iterations. Duality gap: 382.07220990221225, tolerance: 0.14134917660037233\n",
      "  tol, rng, random, positive)\n",
      "/Users/michaellaccavole/opt/anaconda3/lib/python3.7/site-packages/sklearn/linear_model/_coordinate_descent.py:472: ConvergenceWarning: Objective did not converge. You might want to increase the number of iterations. Duality gap: 375.34100438982483, tolerance: 0.14134917660037233\n",
      "  tol, rng, random, positive)\n",
      "/Users/michaellaccavole/opt/anaconda3/lib/python3.7/site-packages/sklearn/linear_model/_coordinate_descent.py:472: ConvergenceWarning: Objective did not converge. You might want to increase the number of iterations. Duality gap: 368.26727950881866, tolerance: 0.14134917660037233\n",
      "  tol, rng, random, positive)\n",
      "/Users/michaellaccavole/opt/anaconda3/lib/python3.7/site-packages/sklearn/linear_model/_coordinate_descent.py:472: ConvergenceWarning: Objective did not converge. You might want to increase the number of iterations. Duality gap: 360.8945105800124, tolerance: 0.14134917660037233\n",
      "  tol, rng, random, positive)\n",
      "/Users/michaellaccavole/opt/anaconda3/lib/python3.7/site-packages/sklearn/linear_model/_coordinate_descent.py:472: ConvergenceWarning: Objective did not converge. You might want to increase the number of iterations. Duality gap: 353.5579251064474, tolerance: 0.14134917660037233\n",
      "  tol, rng, random, positive)\n",
      "/Users/michaellaccavole/opt/anaconda3/lib/python3.7/site-packages/sklearn/linear_model/_coordinate_descent.py:472: ConvergenceWarning: Objective did not converge. You might want to increase the number of iterations. Duality gap: 346.0323089792856, tolerance: 0.14134917660037233\n",
      "  tol, rng, random, positive)\n",
      "/Users/michaellaccavole/opt/anaconda3/lib/python3.7/site-packages/sklearn/linear_model/_coordinate_descent.py:472: ConvergenceWarning: Objective did not converge. You might want to increase the number of iterations. Duality gap: 338.7231922251884, tolerance: 0.14134917660037233\n",
      "  tol, rng, random, positive)\n",
      "/Users/michaellaccavole/opt/anaconda3/lib/python3.7/site-packages/sklearn/linear_model/_coordinate_descent.py:472: ConvergenceWarning: Objective did not converge. You might want to increase the number of iterations. Duality gap: 331.76346896101427, tolerance: 0.14134917660037233\n",
      "  tol, rng, random, positive)\n",
      "/Users/michaellaccavole/opt/anaconda3/lib/python3.7/site-packages/sklearn/linear_model/_coordinate_descent.py:472: ConvergenceWarning: Objective did not converge. You might want to increase the number of iterations. Duality gap: 325.23854344591496, tolerance: 0.14134917660037233\n",
      "  tol, rng, random, positive)\n",
      "/Users/michaellaccavole/opt/anaconda3/lib/python3.7/site-packages/sklearn/linear_model/_coordinate_descent.py:472: ConvergenceWarning: Objective did not converge. You might want to increase the number of iterations. Duality gap: 220.5695891600369, tolerance: 0.1390533212107467\n",
      "  tol, rng, random, positive)\n",
      "/Users/michaellaccavole/opt/anaconda3/lib/python3.7/site-packages/sklearn/linear_model/_coordinate_descent.py:472: ConvergenceWarning: Objective did not converge. You might want to increase the number of iterations. Duality gap: 194.47935280276437, tolerance: 0.1390533212107467\n",
      "  tol, rng, random, positive)\n",
      "/Users/michaellaccavole/opt/anaconda3/lib/python3.7/site-packages/sklearn/linear_model/_coordinate_descent.py:472: ConvergenceWarning: Objective did not converge. You might want to increase the number of iterations. Duality gap: 154.83937931296168, tolerance: 0.1390533212107467\n",
      "  tol, rng, random, positive)\n",
      "/Users/michaellaccavole/opt/anaconda3/lib/python3.7/site-packages/sklearn/linear_model/_coordinate_descent.py:472: ConvergenceWarning: Objective did not converge. You might want to increase the number of iterations. Duality gap: 99.28022626616234, tolerance: 0.1390533212107467\n",
      "  tol, rng, random, positive)\n",
      "/Users/michaellaccavole/opt/anaconda3/lib/python3.7/site-packages/sklearn/linear_model/_coordinate_descent.py:472: ConvergenceWarning: Objective did not converge. You might want to increase the number of iterations. Duality gap: 59.535478715555655, tolerance: 0.1390533212107467\n",
      "  tol, rng, random, positive)\n",
      "/Users/michaellaccavole/opt/anaconda3/lib/python3.7/site-packages/sklearn/linear_model/_coordinate_descent.py:472: ConvergenceWarning: Objective did not converge. You might want to increase the number of iterations. Duality gap: 58.47865042362537, tolerance: 0.1390533212107467\n",
      "  tol, rng, random, positive)\n",
      "/Users/michaellaccavole/opt/anaconda3/lib/python3.7/site-packages/sklearn/linear_model/_coordinate_descent.py:472: ConvergenceWarning: Objective did not converge. You might want to increase the number of iterations. Duality gap: 56.90951776660734, tolerance: 0.1390533212107467\n",
      "  tol, rng, random, positive)\n",
      "/Users/michaellaccavole/opt/anaconda3/lib/python3.7/site-packages/sklearn/linear_model/_coordinate_descent.py:472: ConvergenceWarning: Objective did not converge. You might want to increase the number of iterations. Duality gap: 75.50383740076074, tolerance: 0.1390533212107467\n",
      "  tol, rng, random, positive)\n",
      "/Users/michaellaccavole/opt/anaconda3/lib/python3.7/site-packages/sklearn/linear_model/_coordinate_descent.py:472: ConvergenceWarning: Objective did not converge. You might want to increase the number of iterations. Duality gap: 197.59718464197317, tolerance: 0.1390533212107467\n",
      "  tol, rng, random, positive)\n",
      "/Users/michaellaccavole/opt/anaconda3/lib/python3.7/site-packages/sklearn/linear_model/_coordinate_descent.py:472: ConvergenceWarning: Objective did not converge. You might want to increase the number of iterations. Duality gap: 274.865328207061, tolerance: 0.1390533212107467\n",
      "  tol, rng, random, positive)\n",
      "/Users/michaellaccavole/opt/anaconda3/lib/python3.7/site-packages/sklearn/linear_model/_coordinate_descent.py:472: ConvergenceWarning: Objective did not converge. You might want to increase the number of iterations. Duality gap: 320.92213768175736, tolerance: 0.1390533212107467\n",
      "  tol, rng, random, positive)\n",
      "/Users/michaellaccavole/opt/anaconda3/lib/python3.7/site-packages/sklearn/linear_model/_coordinate_descent.py:472: ConvergenceWarning: Objective did not converge. You might want to increase the number of iterations. Duality gap: 349.6387746228336, tolerance: 0.1390533212107467\n",
      "  tol, rng, random, positive)\n",
      "/Users/michaellaccavole/opt/anaconda3/lib/python3.7/site-packages/sklearn/linear_model/_coordinate_descent.py:472: ConvergenceWarning: Objective did not converge. You might want to increase the number of iterations. Duality gap: 368.1875086916615, tolerance: 0.1390533212107467\n",
      "  tol, rng, random, positive)\n",
      "/Users/michaellaccavole/opt/anaconda3/lib/python3.7/site-packages/sklearn/linear_model/_coordinate_descent.py:472: ConvergenceWarning: Objective did not converge. You might want to increase the number of iterations. Duality gap: 380.47004090097306, tolerance: 0.1390533212107467\n",
      "  tol, rng, random, positive)\n",
      "/Users/michaellaccavole/opt/anaconda3/lib/python3.7/site-packages/sklearn/linear_model/_coordinate_descent.py:472: ConvergenceWarning: Objective did not converge. You might want to increase the number of iterations. Duality gap: 389.0685048455316, tolerance: 0.1390533212107467\n",
      "  tol, rng, random, positive)\n",
      "/Users/michaellaccavole/opt/anaconda3/lib/python3.7/site-packages/sklearn/linear_model/_coordinate_descent.py:472: ConvergenceWarning: Objective did not converge. You might want to increase the number of iterations. Duality gap: 394.7627143307385, tolerance: 0.1390533212107467\n",
      "  tol, rng, random, positive)\n",
      "/Users/michaellaccavole/opt/anaconda3/lib/python3.7/site-packages/sklearn/linear_model/_coordinate_descent.py:472: ConvergenceWarning: Objective did not converge. You might want to increase the number of iterations. Duality gap: 398.24182598464597, tolerance: 0.1390533212107467\n",
      "  tol, rng, random, positive)\n"
     ]
    },
    {
     "name": "stderr",
     "output_type": "stream",
     "text": [
      "/Users/michaellaccavole/opt/anaconda3/lib/python3.7/site-packages/sklearn/linear_model/_coordinate_descent.py:472: ConvergenceWarning: Objective did not converge. You might want to increase the number of iterations. Duality gap: 400.00685926962774, tolerance: 0.1390533212107467\n",
      "  tol, rng, random, positive)\n",
      "/Users/michaellaccavole/opt/anaconda3/lib/python3.7/site-packages/sklearn/linear_model/_coordinate_descent.py:472: ConvergenceWarning: Objective did not converge. You might want to increase the number of iterations. Duality gap: 400.1914579673942, tolerance: 0.1390533212107467\n",
      "  tol, rng, random, positive)\n",
      "/Users/michaellaccavole/opt/anaconda3/lib/python3.7/site-packages/sklearn/linear_model/_coordinate_descent.py:472: ConvergenceWarning: Objective did not converge. You might want to increase the number of iterations. Duality gap: 398.8635408181378, tolerance: 0.1390533212107467\n",
      "  tol, rng, random, positive)\n",
      "/Users/michaellaccavole/opt/anaconda3/lib/python3.7/site-packages/sklearn/linear_model/_coordinate_descent.py:472: ConvergenceWarning: Objective did not converge. You might want to increase the number of iterations. Duality gap: 396.19492661211774, tolerance: 0.1390533212107467\n",
      "  tol, rng, random, positive)\n",
      "/Users/michaellaccavole/opt/anaconda3/lib/python3.7/site-packages/sklearn/linear_model/_coordinate_descent.py:472: ConvergenceWarning: Objective did not converge. You might want to increase the number of iterations. Duality gap: 392.3455830647614, tolerance: 0.1390533212107467\n",
      "  tol, rng, random, positive)\n",
      "/Users/michaellaccavole/opt/anaconda3/lib/python3.7/site-packages/sklearn/linear_model/_coordinate_descent.py:472: ConvergenceWarning: Objective did not converge. You might want to increase the number of iterations. Duality gap: 387.5486878463739, tolerance: 0.1390533212107467\n",
      "  tol, rng, random, positive)\n",
      "/Users/michaellaccavole/opt/anaconda3/lib/python3.7/site-packages/sklearn/linear_model/_coordinate_descent.py:472: ConvergenceWarning: Objective did not converge. You might want to increase the number of iterations. Duality gap: 382.0191679429414, tolerance: 0.1390533212107467\n",
      "  tol, rng, random, positive)\n",
      "/Users/michaellaccavole/opt/anaconda3/lib/python3.7/site-packages/sklearn/linear_model/_coordinate_descent.py:472: ConvergenceWarning: Objective did not converge. You might want to increase the number of iterations. Duality gap: 375.8746552009167, tolerance: 0.1390533212107467\n",
      "  tol, rng, random, positive)\n",
      "/Users/michaellaccavole/opt/anaconda3/lib/python3.7/site-packages/sklearn/linear_model/_coordinate_descent.py:472: ConvergenceWarning: Objective did not converge. You might want to increase the number of iterations. Duality gap: 369.1741197945139, tolerance: 0.1390533212107467\n",
      "  tol, rng, random, positive)\n",
      "/Users/michaellaccavole/opt/anaconda3/lib/python3.7/site-packages/sklearn/linear_model/_coordinate_descent.py:472: ConvergenceWarning: Objective did not converge. You might want to increase the number of iterations. Duality gap: 362.01376618734326, tolerance: 0.1390533212107467\n",
      "  tol, rng, random, positive)\n",
      "/Users/michaellaccavole/opt/anaconda3/lib/python3.7/site-packages/sklearn/linear_model/_coordinate_descent.py:472: ConvergenceWarning: Objective did not converge. You might want to increase the number of iterations. Duality gap: 354.5382773562364, tolerance: 0.1390533212107467\n",
      "  tol, rng, random, positive)\n",
      "/Users/michaellaccavole/opt/anaconda3/lib/python3.7/site-packages/sklearn/linear_model/_coordinate_descent.py:472: ConvergenceWarning: Objective did not converge. You might want to increase the number of iterations. Duality gap: 346.9914385543155, tolerance: 0.1390533212107467\n",
      "  tol, rng, random, positive)\n",
      "/Users/michaellaccavole/opt/anaconda3/lib/python3.7/site-packages/sklearn/linear_model/_coordinate_descent.py:472: ConvergenceWarning: Objective did not converge. You might want to increase the number of iterations. Duality gap: 339.37493951984356, tolerance: 0.1390533212107467\n",
      "  tol, rng, random, positive)\n",
      "/Users/michaellaccavole/opt/anaconda3/lib/python3.7/site-packages/sklearn/linear_model/_coordinate_descent.py:472: ConvergenceWarning: Objective did not converge. You might want to increase the number of iterations. Duality gap: 332.01274794525455, tolerance: 0.1390533212107467\n",
      "  tol, rng, random, positive)\n",
      "/Users/michaellaccavole/opt/anaconda3/lib/python3.7/site-packages/sklearn/linear_model/_coordinate_descent.py:472: ConvergenceWarning: Objective did not converge. You might want to increase the number of iterations. Duality gap: 324.9814877619057, tolerance: 0.1390533212107467\n",
      "  tol, rng, random, positive)\n",
      "/Users/michaellaccavole/opt/anaconda3/lib/python3.7/site-packages/sklearn/linear_model/_coordinate_descent.py:472: ConvergenceWarning: Objective did not converge. You might want to increase the number of iterations. Duality gap: 318.2635019766059, tolerance: 0.1390533212107467\n",
      "  tol, rng, random, positive)\n",
      "/Users/michaellaccavole/opt/anaconda3/lib/python3.7/site-packages/sklearn/linear_model/_coordinate_descent.py:472: ConvergenceWarning: Objective did not converge. You might want to increase the number of iterations. Duality gap: 168.96902287765386, tolerance: 0.1400287015689694\n",
      "  tol, rng, random, positive)\n",
      "/Users/michaellaccavole/opt/anaconda3/lib/python3.7/site-packages/sklearn/linear_model/_coordinate_descent.py:472: ConvergenceWarning: Objective did not converge. You might want to increase the number of iterations. Duality gap: 123.27917981885128, tolerance: 0.1400287015689694\n",
      "  tol, rng, random, positive)\n",
      "/Users/michaellaccavole/opt/anaconda3/lib/python3.7/site-packages/sklearn/linear_model/_coordinate_descent.py:472: ConvergenceWarning: Objective did not converge. You might want to increase the number of iterations. Duality gap: 58.44417404488138, tolerance: 0.1400287015689694\n",
      "  tol, rng, random, positive)\n",
      "/Users/michaellaccavole/opt/anaconda3/lib/python3.7/site-packages/sklearn/linear_model/_coordinate_descent.py:472: ConvergenceWarning: Objective did not converge. You might want to increase the number of iterations. Duality gap: 59.44752798119987, tolerance: 0.1400287015689694\n",
      "  tol, rng, random, positive)\n",
      "/Users/michaellaccavole/opt/anaconda3/lib/python3.7/site-packages/sklearn/linear_model/_coordinate_descent.py:472: ConvergenceWarning: Objective did not converge. You might want to increase the number of iterations. Duality gap: 59.183592739077085, tolerance: 0.1400287015689694\n",
      "  tol, rng, random, positive)\n",
      "/Users/michaellaccavole/opt/anaconda3/lib/python3.7/site-packages/sklearn/linear_model/_coordinate_descent.py:472: ConvergenceWarning: Objective did not converge. You might want to increase the number of iterations. Duality gap: 58.099157766473354, tolerance: 0.1400287015689694\n",
      "  tol, rng, random, positive)\n",
      "/Users/michaellaccavole/opt/anaconda3/lib/python3.7/site-packages/sklearn/linear_model/_coordinate_descent.py:472: ConvergenceWarning: Objective did not converge. You might want to increase the number of iterations. Duality gap: 56.51495286013676, tolerance: 0.1400287015689694\n",
      "  tol, rng, random, positive)\n",
      "/Users/michaellaccavole/opt/anaconda3/lib/python3.7/site-packages/sklearn/linear_model/_coordinate_descent.py:472: ConvergenceWarning: Objective did not converge. You might want to increase the number of iterations. Duality gap: 227.04680714976257, tolerance: 0.1400287015689694\n",
      "  tol, rng, random, positive)\n",
      "/Users/michaellaccavole/opt/anaconda3/lib/python3.7/site-packages/sklearn/linear_model/_coordinate_descent.py:472: ConvergenceWarning: Objective did not converge. You might want to increase the number of iterations. Duality gap: 297.95550732776803, tolerance: 0.1400287015689694\n",
      "  tol, rng, random, positive)\n",
      "/Users/michaellaccavole/opt/anaconda3/lib/python3.7/site-packages/sklearn/linear_model/_coordinate_descent.py:472: ConvergenceWarning: Objective did not converge. You might want to increase the number of iterations. Duality gap: 339.6692634009128, tolerance: 0.1400287015689694\n",
      "  tol, rng, random, positive)\n",
      "/Users/michaellaccavole/opt/anaconda3/lib/python3.7/site-packages/sklearn/linear_model/_coordinate_descent.py:472: ConvergenceWarning: Objective did not converge. You might want to increase the number of iterations. Duality gap: 365.2281786118631, tolerance: 0.1400287015689694\n",
      "  tol, rng, random, positive)\n",
      "/Users/michaellaccavole/opt/anaconda3/lib/python3.7/site-packages/sklearn/linear_model/_coordinate_descent.py:472: ConvergenceWarning: Objective did not converge. You might want to increase the number of iterations. Duality gap: 381.3242951937994, tolerance: 0.1400287015689694\n",
      "  tol, rng, random, positive)\n",
      "/Users/michaellaccavole/opt/anaconda3/lib/python3.7/site-packages/sklearn/linear_model/_coordinate_descent.py:472: ConvergenceWarning: Objective did not converge. You might want to increase the number of iterations. Duality gap: 391.61309947473154, tolerance: 0.1400287015689694\n",
      "  tol, rng, random, positive)\n",
      "/Users/michaellaccavole/opt/anaconda3/lib/python3.7/site-packages/sklearn/linear_model/_coordinate_descent.py:472: ConvergenceWarning: Objective did not converge. You might want to increase the number of iterations. Duality gap: 398.21582127669103, tolerance: 0.1400287015689694\n",
      "  tol, rng, random, positive)\n",
      "/Users/michaellaccavole/opt/anaconda3/lib/python3.7/site-packages/sklearn/linear_model/_coordinate_descent.py:472: ConvergenceWarning: Objective did not converge. You might want to increase the number of iterations. Duality gap: 402.4609103418227, tolerance: 0.1400287015689694\n",
      "  tol, rng, random, positive)\n",
      "/Users/michaellaccavole/opt/anaconda3/lib/python3.7/site-packages/sklearn/linear_model/_coordinate_descent.py:472: ConvergenceWarning: Objective did not converge. You might want to increase the number of iterations. Duality gap: 404.7432343010755, tolerance: 0.1400287015689694\n",
      "  tol, rng, random, positive)\n",
      "/Users/michaellaccavole/opt/anaconda3/lib/python3.7/site-packages/sklearn/linear_model/_coordinate_descent.py:472: ConvergenceWarning: Objective did not converge. You might want to increase the number of iterations. Duality gap: 405.79088952387883, tolerance: 0.1400287015689694\n",
      "  tol, rng, random, positive)\n",
      "/Users/michaellaccavole/opt/anaconda3/lib/python3.7/site-packages/sklearn/linear_model/_coordinate_descent.py:472: ConvergenceWarning: Objective did not converge. You might want to increase the number of iterations. Duality gap: 405.24265349425843, tolerance: 0.1400287015689694\n",
      "  tol, rng, random, positive)\n",
      "/Users/michaellaccavole/opt/anaconda3/lib/python3.7/site-packages/sklearn/linear_model/_coordinate_descent.py:472: ConvergenceWarning: Objective did not converge. You might want to increase the number of iterations. Duality gap: 403.59942711468426, tolerance: 0.1400287015689694\n",
      "  tol, rng, random, positive)\n",
      "/Users/michaellaccavole/opt/anaconda3/lib/python3.7/site-packages/sklearn/linear_model/_coordinate_descent.py:472: ConvergenceWarning: Objective did not converge. You might want to increase the number of iterations. Duality gap: 400.9778806613558, tolerance: 0.1400287015689694\n",
      "  tol, rng, random, positive)\n",
      "/Users/michaellaccavole/opt/anaconda3/lib/python3.7/site-packages/sklearn/linear_model/_coordinate_descent.py:472: ConvergenceWarning: Objective did not converge. You might want to increase the number of iterations. Duality gap: 397.3949922489296, tolerance: 0.1400287015689694\n",
      "  tol, rng, random, positive)\n",
      "/Users/michaellaccavole/opt/anaconda3/lib/python3.7/site-packages/sklearn/linear_model/_coordinate_descent.py:472: ConvergenceWarning: Objective did not converge. You might want to increase the number of iterations. Duality gap: 392.74083746811465, tolerance: 0.1400287015689694\n",
      "  tol, rng, random, positive)\n",
      "/Users/michaellaccavole/opt/anaconda3/lib/python3.7/site-packages/sklearn/linear_model/_coordinate_descent.py:472: ConvergenceWarning: Objective did not converge. You might want to increase the number of iterations. Duality gap: 387.2797717107624, tolerance: 0.1400287015689694\n",
      "  tol, rng, random, positive)\n",
      "/Users/michaellaccavole/opt/anaconda3/lib/python3.7/site-packages/sklearn/linear_model/_coordinate_descent.py:472: ConvergenceWarning: Objective did not converge. You might want to increase the number of iterations. Duality gap: 381.3129967894945, tolerance: 0.1400287015689694\n",
      "  tol, rng, random, positive)\n",
      "/Users/michaellaccavole/opt/anaconda3/lib/python3.7/site-packages/sklearn/linear_model/_coordinate_descent.py:472: ConvergenceWarning: Objective did not converge. You might want to increase the number of iterations. Duality gap: 374.8300472500024, tolerance: 0.1400287015689694\n",
      "  tol, rng, random, positive)\n",
      "/Users/michaellaccavole/opt/anaconda3/lib/python3.7/site-packages/sklearn/linear_model/_coordinate_descent.py:472: ConvergenceWarning: Objective did not converge. You might want to increase the number of iterations. Duality gap: 367.90629929614073, tolerance: 0.1400287015689694\n",
      "  tol, rng, random, positive)\n",
      "/Users/michaellaccavole/opt/anaconda3/lib/python3.7/site-packages/sklearn/linear_model/_coordinate_descent.py:472: ConvergenceWarning: Objective did not converge. You might want to increase the number of iterations. Duality gap: 360.66736932931707, tolerance: 0.1400287015689694\n",
      "  tol, rng, random, positive)\n",
      "/Users/michaellaccavole/opt/anaconda3/lib/python3.7/site-packages/sklearn/linear_model/_coordinate_descent.py:472: ConvergenceWarning: Objective did not converge. You might want to increase the number of iterations. Duality gap: 353.172887635615, tolerance: 0.1400287015689694\n",
      "  tol, rng, random, positive)\n",
      "/Users/michaellaccavole/opt/anaconda3/lib/python3.7/site-packages/sklearn/linear_model/_coordinate_descent.py:472: ConvergenceWarning: Objective did not converge. You might want to increase the number of iterations. Duality gap: 345.5067574871206, tolerance: 0.1400287015689694\n",
      "  tol, rng, random, positive)\n",
      "/Users/michaellaccavole/opt/anaconda3/lib/python3.7/site-packages/sklearn/linear_model/_coordinate_descent.py:472: ConvergenceWarning: Objective did not converge. You might want to increase the number of iterations. Duality gap: 337.8005628913162, tolerance: 0.1400287015689694\n",
      "  tol, rng, random, positive)\n"
     ]
    },
    {
     "name": "stderr",
     "output_type": "stream",
     "text": [
      "/Users/michaellaccavole/opt/anaconda3/lib/python3.7/site-packages/sklearn/linear_model/_coordinate_descent.py:472: ConvergenceWarning: Objective did not converge. You might want to increase the number of iterations. Duality gap: 330.32957227591055, tolerance: 0.1400287015689694\n",
      "  tol, rng, random, positive)\n",
      "/Users/michaellaccavole/opt/anaconda3/lib/python3.7/site-packages/sklearn/linear_model/_coordinate_descent.py:472: ConvergenceWarning: Objective did not converge. You might want to increase the number of iterations. Duality gap: 323.1786626253787, tolerance: 0.1400287015689694\n",
      "  tol, rng, random, positive)\n",
      "/Users/michaellaccavole/opt/anaconda3/lib/python3.7/site-packages/sklearn/linear_model/_coordinate_descent.py:472: ConvergenceWarning: Objective did not converge. You might want to increase the number of iterations. Duality gap: 316.42344314494864, tolerance: 0.1400287015689694\n",
      "  tol, rng, random, positive)\n",
      "/Users/michaellaccavole/opt/anaconda3/lib/python3.7/site-packages/sklearn/linear_model/_coordinate_descent.py:476: ConvergenceWarning: Objective did not converge. You might want to increase the number of iterations. Duality gap: 400.54673904382764, tolerance: 0.1754863155838839\n",
      "  positive)\n"
     ]
    },
    {
     "data": {
      "text/plain": [
       "0.6057008980822872"
      ]
     },
     "execution_count": 80,
     "metadata": {},
     "output_type": "execute_result"
    }
   ],
   "source": [
    "# Cross val score\n",
    "# Tons of convergence warnings on this one\n",
    "# Score: 0.6057008980822872\n",
    "cross_val_score(lasso_cv, X_train, y_train, cv=5).mean()"
   ]
  },
  {
   "cell_type": "code",
   "execution_count": 81,
   "metadata": {},
   "outputs": [
    {
     "data": {
      "text/plain": [
       "0.608799202568381"
      ]
     },
     "execution_count": 81,
     "metadata": {},
     "output_type": "execute_result"
    }
   ],
   "source": [
    "# Train score\n",
    "lasso_cv.score(X_train, y_train)"
   ]
  },
  {
   "cell_type": "code",
   "execution_count": 82,
   "metadata": {},
   "outputs": [
    {
     "data": {
      "text/plain": [
       "0.611252338782075"
      ]
     },
     "execution_count": 82,
     "metadata": {},
     "output_type": "execute_result"
    }
   ],
   "source": [
    "# Test score\n",
    "# Better than both train and cross val scores?!\n",
    "lasso_cv.score(X_test, y_test)"
   ]
  },
  {
   "cell_type": "code",
   "execution_count": 83,
   "metadata": {},
   "outputs": [],
   "source": [
    "# Make predictions\n",
    "preds_lasso = lasso_cv.predict(X_test)"
   ]
  },
  {
   "cell_type": "code",
   "execution_count": 84,
   "metadata": {},
   "outputs": [],
   "source": [
    "# Calculate residuals\n",
    "resids_lasso = preds_lasso - y_test"
   ]
  },
  {
   "cell_type": "code",
   "execution_count": 85,
   "metadata": {},
   "outputs": [
    {
     "data": {
      "image/png": "[encoded data removed]",
      "text/plain": [
       "<Figure size 432x288 with 1 Axes>"
      ]
     },
     "metadata": {
      "needs_background": "light"
     },
     "output_type": "display_data"
    }
   ],
   "source": [
    "# Plot residuals\n",
    "plt.hist(resids_lasso);"
   ]
  },
  {
   "cell_type": "markdown",
   "metadata": {},
   "source": [
    "###### 4.04 K Nearest Neighbor Regressor"
   ]
  },
  {
   "cell_type": "code",
   "execution_count": 87,
   "metadata": {},
   "outputs": [],
   "source": [
    "# Make necessary imports\n",
    "from sklearn.neighbors import KNeighborsRegressor\n",
    "from sklearn.pipeline import Pipeline\n",
    "from sklearn.preprocessing import StandardScaler\n",
    "from sklearn.model_selection import GridSearchCV"
   ]
  },
  {
   "cell_type": "code",
   "execution_count": 95,
   "metadata": {},
   "outputs": [
    {
     "name": "stdout",
     "output_type": "stream",
     "text": [
      "Train score is 1.0\n",
      "Test score is 0.871143856864739\n",
      "Best parameters for this KNN model are {'knn__n_neighbors': 5, 'knn__weights': 'distance', 'ss__with_mean': True, 'ss__with_std': True}\n"
     ]
    }
   ],
   "source": [
    "# Create a pipeline with instantiated scaler and transformer\n",
    "knn_reg_pipe = Pipeline([\n",
    "    ('ss', StandardScaler()),\n",
    "    ('knn', KNeighborsRegressor())\n",
    "])\n",
    "\n",
    "# Set up pipeline parameters\n",
    "knn_reg_params = {\n",
    "    'ss__with_mean' : [True, False],\n",
    "    'ss__with_std' : [True, False],\n",
    "    'knn__n_neighbors' : [3, 4, 5, 6],\n",
    "    'knn__weights' : ['uniform', 'distance']\n",
    "\n",
    "}\n",
    "\n",
    "#gs_knn = GridSearchCV(knn_reg_pipe, knn_reg_params, cv=5)\n",
    "\n",
    "# Fit data\n",
    "#gs_knn.fit(X_train, y_train)\n",
    "\n",
    "# Print off train score, test score, cross-val score\n",
    "print(f'Train score is {gs_knn.score(X_train, y_train)}')\n",
    "print(f'Test score is {gs_knn.score(X_test, y_test)}')\n",
    "print(f'Best parameters for this KNN model are {gs_knn.best_params_}')"
   ]
  },
  {
   "cell_type": "markdown",
   "metadata": {},
   "source": [
    "###### 4.05 Random Forest Regressor"
   ]
  },
  {
   "cell_type": "code",
   "execution_count": 92,
   "metadata": {},
   "outputs": [],
   "source": [
    "# Make necessary imports\n",
    "from sklearn.ensemble import RandomForestRegressor"
   ]
  },
  {
   "cell_type": "code",
   "execution_count": 93,
   "metadata": {},
   "outputs": [
    {
     "name": "stdout",
     "output_type": "stream",
     "text": [
      "Best score is 0.8761413518294552\n",
      "Best parameters are {'max_depth': None, 'max_features': None, 'n_estimators': 100}\n",
      "Test score is 0.8937983373256568\n"
     ]
    }
   ],
   "source": [
    "# Instantiate Random Forest Regressor\n",
    "rf = RandomForestRegressor()\n",
    "\n",
    "# Create a parameters for GridSearch\n",
    "rf_params = {\n",
    "    'n_estimators' : [50, 100],\n",
    "    'max_features' : [None, 'auto'],\n",
    "    'max_depth' : [None, 3, 4, 5]\n",
    "}\n",
    "\n",
    "# GridSearch for best-performing model\n",
    "gs_rf = GridSearchCV(rf, rf_params, cv=5)\n",
    "\n",
    "# Fit the best model to the X_train and X_test\n",
    "gs_rf.fit(X_train, y_train)\n",
    "\n",
    "# Print off best score, test score, and best params\n",
    "print(f'Best score is {gs_rf.best_score_}')\n",
    "print(f'Best parameters are {gs_rf.best_params_}')\n",
    "print(f'Test score is {gs_rf.score(X_test, y_test)}')"
   ]
  },
  {
   "cell_type": "markdown",
   "metadata": {},
   "source": [
    "### Step 5: Conclusions"
   ]
  },
  {
   "cell_type": "markdown",
   "metadata": {},
   "source": [
    "1. Being organic is the strongest positive indicator of price\n",
    "2. Total volume is the strongest negative indicator of sales\n",
    "3. Most expensive avocado markets are Hartford/Springfield, San Francisco, and New York\n",
    "4. Avocado prices seem to peak in October after climbing during the summer and early fall\n",
    "5. Linear Regression had the best bias-variance tradeoff of all the models\n",
    "6. Accounting for big differences in the value types of X had little impact on the outcomes (from taking log of y)\n",
    "7. LASSO Regression had little impact on the model's performance\n",
    "8. KNN model is extremely overfit, but has a higher test score than the Linear Regression model\n",
    "9. Random Forest Regressor seems to have the best performance, with a large improvement from the multiple linear regression and LASSO models while not being overfit like the KNN model\n",
    "10. Given more time, I think removing variables and doing more feature engineering would improve the accuracy of the model"
   ]
  },
  {
   "cell_type": "code",
   "execution_count": null,
   "metadata": {},
   "outputs": [],
   "source": []
  }
 ],
 "metadata": {
  "kernelspec": {
   "display_name": "Python 3",
   "language": "python",
   "name": "python3"
  },
  "language_info": {
   "codemirror_mode": {
    "name": "ipython",
    "version": 3
   },
   "file_extension": ".py",
   "mimetype": "text/x-python",
   "name": "python",
   "nbconvert_exporter": "python",
   "pygments_lexer": "ipython3",
   "version": "3.7.6"
  }
 },
 "nbformat": 4,
 "nbformat_minor": 4
}
